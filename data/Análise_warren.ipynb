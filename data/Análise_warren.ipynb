{
 "cells": [
  {
   "cell_type": "markdown",
   "id": "a3106661",
   "metadata": {
    "ExecuteTime": {
     "end_time": "2021-09-03T02:48:25.524350Z",
     "start_time": "2021-09-03T02:48:25.511349Z"
    }
   },
   "source": [
    "# Importando as libs"
   ]
  },
  {
   "cell_type": "code",
   "execution_count": 275,
   "id": "d7e7194a",
   "metadata": {
    "ExecuteTime": {
     "end_time": "2021-09-06T13:18:26.083766Z",
     "start_time": "2021-09-06T13:18:22.585909Z"
    }
   },
   "outputs": [
    {
     "name": "stdout",
     "output_type": "stream",
     "text": [
      "Requirement already satisfied: pandasql in c:\\users\\re041273\\anaconda3\\lib\\site-packages (0.7.3)\n",
      "Requirement already satisfied: pandas in c:\\users\\re041273\\anaconda3\\lib\\site-packages (from pandasql) (1.2.4)\n",
      "Requirement already satisfied: numpy in c:\\users\\re041273\\anaconda3\\lib\\site-packages (from pandasql) (1.20.1)\n",
      "Requirement already satisfied: sqlalchemy in c:\\users\\re041273\\anaconda3\\lib\\site-packages (from pandasql) (1.4.7)\n",
      "Requirement already satisfied: pytz>=2017.3 in c:\\users\\re041273\\anaconda3\\lib\\site-packages (from pandas->pandasql) (2021.1)\n",
      "Requirement already satisfied: python-dateutil>=2.7.3 in c:\\users\\re041273\\anaconda3\\lib\\site-packages (from pandas->pandasql) (2.8.1)\n",
      "Requirement already satisfied: six>=1.5 in c:\\users\\re041273\\anaconda3\\lib\\site-packages (from python-dateutil>=2.7.3->pandas->pandasql) (1.15.0)\n",
      "Requirement already satisfied: greenlet!=0.4.17 in c:\\users\\re041273\\anaconda3\\lib\\site-packages (from sqlalchemy->pandasql) (1.0.0)\n"
     ]
    }
   ],
   "source": [
    "!pip install pandasql"
   ]
  },
  {
   "cell_type": "code",
   "execution_count": 310,
   "id": "fd5755b9",
   "metadata": {
    "ExecuteTime": {
     "end_time": "2021-09-06T13:33:32.504367Z",
     "start_time": "2021-09-06T13:33:32.497382Z"
    }
   },
   "outputs": [],
   "source": [
    "import pandas as pd\n",
    "from pandasql import sqldf\n",
    "from datetime import datetime\n",
    "import seaborn as sns\n",
    "#import matplotlib as plt\n",
    "import matplotlib.pyplot as plt\n",
    "import numpy as np"
   ]
  },
  {
   "cell_type": "markdown",
   "id": "96a61a9b",
   "metadata": {},
   "source": [
    "# Leitura dos arquivos"
   ]
  },
  {
   "cell_type": "code",
   "execution_count": 474,
   "id": "461d7ab8",
   "metadata": {
    "ExecuteTime": {
     "end_time": "2021-09-06T15:57:10.277641Z",
     "start_time": "2021-09-06T15:57:10.243257Z"
    }
   },
   "outputs": [],
   "source": [
    "#Tabela Customers\n",
    "df_customers = pd.read_csv(\"Customers.csv\")\n",
    "\n",
    "#Tabela Events\n",
    "df_events = pd.read_csv(\"Events.csv\")\n",
    "\n",
    "#Tabela Transactions\n",
    "df_transactions = pd.read_csv(\"Transactions.csv\")"
   ]
  },
  {
   "cell_type": "markdown",
   "id": "4cca7f65",
   "metadata": {},
   "source": [
    "# Tabela Customers"
   ]
  },
  {
   "cell_type": "code",
   "execution_count": 312,
   "id": "04ae5cb7",
   "metadata": {
    "ExecuteTime": {
     "end_time": "2021-09-06T13:33:34.706472Z",
     "start_time": "2021-09-06T13:33:34.688482Z"
    },
    "scrolled": true
   },
   "outputs": [
    {
     "data": {
      "text/html": [
       "<div>\n",
       "<style scoped>\n",
       "    .dataframe tbody tr th:only-of-type {\n",
       "        vertical-align: middle;\n",
       "    }\n",
       "\n",
       "    .dataframe tbody tr th {\n",
       "        vertical-align: top;\n",
       "    }\n",
       "\n",
       "    .dataframe thead th {\n",
       "        text-align: right;\n",
       "    }\n",
       "</style>\n",
       "<table border=\"1\" class=\"dataframe\">\n",
       "  <thead>\n",
       "    <tr style=\"text-align: right;\">\n",
       "      <th></th>\n",
       "      <th>CustomerApiid</th>\n",
       "      <th>CustomerId</th>\n",
       "      <th>AUM</th>\n",
       "      <th>RegisterDate</th>\n",
       "      <th>AmountFirstDeposit</th>\n",
       "      <th>TotalDeposits</th>\n",
       "      <th>TotalWithdrawals</th>\n",
       "      <th>MonthlyIncome</th>\n",
       "      <th>FinancialInvestmentsValue</th>\n",
       "      <th>Age</th>\n",
       "      <th>ComputedRiskTolerance</th>\n",
       "    </tr>\n",
       "  </thead>\n",
       "  <tbody>\n",
       "    <tr>\n",
       "      <th>0</th>\n",
       "      <td>60a7d0011363ea0011d0eb80</td>\n",
       "      <td>192260</td>\n",
       "      <td>601.525833</td>\n",
       "      <td>2021-06-10 21:23:31</td>\n",
       "      <td>100.013269</td>\n",
       "      <td>5</td>\n",
       "      <td>0</td>\n",
       "      <td>250.0</td>\n",
       "      <td>3000.0</td>\n",
       "      <td>14</td>\n",
       "      <td>22.22</td>\n",
       "    </tr>\n",
       "    <tr>\n",
       "      <th>1</th>\n",
       "      <td>60c77e1ffdaebd001875353e</td>\n",
       "      <td>192853</td>\n",
       "      <td>1798.831206</td>\n",
       "      <td>2021-06-14 16:13:56</td>\n",
       "      <td>300.048411</td>\n",
       "      <td>2</td>\n",
       "      <td>0</td>\n",
       "      <td>8000.0</td>\n",
       "      <td>180000.0</td>\n",
       "      <td>35</td>\n",
       "      <td>77.78</td>\n",
       "    </tr>\n",
       "    <tr>\n",
       "      <th>2</th>\n",
       "      <td>588f45ae0a760bb65b380afa</td>\n",
       "      <td>11897</td>\n",
       "      <td>1621.043680</td>\n",
       "      <td>2017-09-14 12:08:06</td>\n",
       "      <td>2500.000000</td>\n",
       "      <td>13</td>\n",
       "      <td>2</td>\n",
       "      <td>4500.0</td>\n",
       "      <td>0.0</td>\n",
       "      <td>32</td>\n",
       "      <td>17.00</td>\n",
       "    </tr>\n",
       "    <tr>\n",
       "      <th>3</th>\n",
       "      <td>5915d73623d4b1881694e11e</td>\n",
       "      <td>12583</td>\n",
       "      <td>78643.814178</td>\n",
       "      <td>2017-09-25 15:44:40</td>\n",
       "      <td>2005.000000</td>\n",
       "      <td>37</td>\n",
       "      <td>7</td>\n",
       "      <td>18000.0</td>\n",
       "      <td>120000.0</td>\n",
       "      <td>34</td>\n",
       "      <td>69.17</td>\n",
       "    </tr>\n",
       "    <tr>\n",
       "      <th>4</th>\n",
       "      <td>591f5f3b3daa47c6488bce3f</td>\n",
       "      <td>5564</td>\n",
       "      <td>422.691159</td>\n",
       "      <td>2017-05-22 18:38:05</td>\n",
       "      <td>2000.000000</td>\n",
       "      <td>23</td>\n",
       "      <td>7</td>\n",
       "      <td>2000.0</td>\n",
       "      <td>45000.0</td>\n",
       "      <td>29</td>\n",
       "      <td>0.00</td>\n",
       "    </tr>\n",
       "  </tbody>\n",
       "</table>\n",
       "</div>"
      ],
      "text/plain": [
       "              CustomerApiid  CustomerId           AUM         RegisterDate  \\\n",
       "0  60a7d0011363ea0011d0eb80      192260    601.525833  2021-06-10 21:23:31   \n",
       "1  60c77e1ffdaebd001875353e      192853   1798.831206  2021-06-14 16:13:56   \n",
       "2  588f45ae0a760bb65b380afa       11897   1621.043680  2017-09-14 12:08:06   \n",
       "3  5915d73623d4b1881694e11e       12583  78643.814178  2017-09-25 15:44:40   \n",
       "4  591f5f3b3daa47c6488bce3f        5564    422.691159  2017-05-22 18:38:05   \n",
       "\n",
       "   AmountFirstDeposit  TotalDeposits  TotalWithdrawals  MonthlyIncome  \\\n",
       "0          100.013269              5                 0          250.0   \n",
       "1          300.048411              2                 0         8000.0   \n",
       "2         2500.000000             13                 2         4500.0   \n",
       "3         2005.000000             37                 7        18000.0   \n",
       "4         2000.000000             23                 7         2000.0   \n",
       "\n",
       "   FinancialInvestmentsValue  Age  ComputedRiskTolerance  \n",
       "0                     3000.0   14                  22.22  \n",
       "1                   180000.0   35                  77.78  \n",
       "2                        0.0   32                  17.00  \n",
       "3                   120000.0   34                  69.17  \n",
       "4                    45000.0   29                   0.00  "
      ]
     },
     "execution_count": 312,
     "metadata": {},
     "output_type": "execute_result"
    }
   ],
   "source": [
    "df_customers.head()"
   ]
  },
  {
   "cell_type": "code",
   "execution_count": 675,
   "id": "bc3e7c47",
   "metadata": {
    "ExecuteTime": {
     "end_time": "2021-09-06T21:37:46.849007Z",
     "start_time": "2021-09-06T21:37:46.830047Z"
    }
   },
   "outputs": [
    {
     "data": {
      "text/html": [
       "<div>\n",
       "<style scoped>\n",
       "    .dataframe tbody tr th:only-of-type {\n",
       "        vertical-align: middle;\n",
       "    }\n",
       "\n",
       "    .dataframe tbody tr th {\n",
       "        vertical-align: top;\n",
       "    }\n",
       "\n",
       "    .dataframe thead th {\n",
       "        text-align: right;\n",
       "    }\n",
       "</style>\n",
       "<table border=\"1\" class=\"dataframe\">\n",
       "  <thead>\n",
       "    <tr style=\"text-align: right;\">\n",
       "      <th></th>\n",
       "      <th>CustomerApiid</th>\n",
       "      <th>CustomerId</th>\n",
       "      <th>AUM</th>\n",
       "      <th>RegisterDate</th>\n",
       "      <th>AmountFirstDeposit</th>\n",
       "      <th>TotalDeposits</th>\n",
       "      <th>TotalWithdrawals</th>\n",
       "      <th>MonthlyIncome</th>\n",
       "      <th>FinancialInvestmentsValue</th>\n",
       "      <th>Age</th>\n",
       "      <th>ComputedRiskTolerance</th>\n",
       "    </tr>\n",
       "  </thead>\n",
       "  <tbody>\n",
       "    <tr>\n",
       "      <th>997</th>\n",
       "      <td>5fc5378f7734810010efeaf5</td>\n",
       "      <td>157300</td>\n",
       "      <td>6635.921337</td>\n",
       "      <td>2020-12-01 14:16:51</td>\n",
       "      <td>1004.29</td>\n",
       "      <td>13</td>\n",
       "      <td>1</td>\n",
       "      <td>1398</td>\n",
       "      <td>2800.0</td>\n",
       "      <td>22</td>\n",
       "      <td>14.5</td>\n",
       "    </tr>\n",
       "    <tr>\n",
       "      <th>998</th>\n",
       "      <td>5d13603af71a7c00103c0f32</td>\n",
       "      <td>84593</td>\n",
       "      <td>140.934195</td>\n",
       "      <td>2019-07-05 13:52:24</td>\n",
       "      <td>2400.00</td>\n",
       "      <td>1</td>\n",
       "      <td>1</td>\n",
       "      <td>12000</td>\n",
       "      <td>0.0</td>\n",
       "      <td>33</td>\n",
       "      <td>14.0</td>\n",
       "    </tr>\n",
       "    <tr>\n",
       "      <th>999</th>\n",
       "      <td>5f6a22bed0c1c00011fc91e0</td>\n",
       "      <td>149918</td>\n",
       "      <td>321.246212</td>\n",
       "      <td>2020-09-22 21:55:55</td>\n",
       "      <td>100.00</td>\n",
       "      <td>5</td>\n",
       "      <td>1</td>\n",
       "      <td>600</td>\n",
       "      <td>1182.0</td>\n",
       "      <td>21</td>\n",
       "      <td>16.0</td>\n",
       "    </tr>\n",
       "  </tbody>\n",
       "</table>\n",
       "</div>"
      ],
      "text/plain": [
       "                CustomerApiid  CustomerId          AUM         RegisterDate  \\\n",
       "997  5fc5378f7734810010efeaf5      157300  6635.921337  2020-12-01 14:16:51   \n",
       "998  5d13603af71a7c00103c0f32       84593   140.934195  2019-07-05 13:52:24   \n",
       "999  5f6a22bed0c1c00011fc91e0      149918   321.246212  2020-09-22 21:55:55   \n",
       "\n",
       "     AmountFirstDeposit  TotalDeposits  TotalWithdrawals  MonthlyIncome  \\\n",
       "997             1004.29             13                 1           1398   \n",
       "998             2400.00              1                 1          12000   \n",
       "999              100.00              5                 1            600   \n",
       "\n",
       "     FinancialInvestmentsValue  Age  ComputedRiskTolerance  \n",
       "997                     2800.0   22                   14.5  \n",
       "998                        0.0   33                   14.0  \n",
       "999                     1182.0   21                   16.0  "
      ]
     },
     "execution_count": 675,
     "metadata": {},
     "output_type": "execute_result"
    }
   ],
   "source": [
    "#Dataset Tail\n",
    "df_customers.tail(3)"
   ]
  },
  {
   "cell_type": "code",
   "execution_count": 313,
   "id": "2f3591f4",
   "metadata": {
    "ExecuteTime": {
     "end_time": "2021-09-06T13:33:35.103101Z",
     "start_time": "2021-09-06T13:33:35.088107Z"
    }
   },
   "outputs": [
    {
     "data": {
      "text/plain": [
       "(1000, 11)"
      ]
     },
     "execution_count": 313,
     "metadata": {},
     "output_type": "execute_result"
    }
   ],
   "source": [
    "#Verificando linhas e colunas\n",
    "df_customers.shape"
   ]
  },
  {
   "cell_type": "code",
   "execution_count": 677,
   "id": "4ce8cc45",
   "metadata": {
    "ExecuteTime": {
     "end_time": "2021-09-06T21:38:23.434767Z",
     "start_time": "2021-09-06T21:38:23.427731Z"
    }
   },
   "outputs": [
    {
     "data": {
      "text/plain": [
       "['CustomerApiid',\n",
       " 'CustomerId',\n",
       " 'AUM',\n",
       " 'RegisterDate',\n",
       " 'AmountFirstDeposit',\n",
       " 'TotalDeposits',\n",
       " 'TotalWithdrawals',\n",
       " 'MonthlyIncome',\n",
       " 'FinancialInvestmentsValue',\n",
       " 'Age',\n",
       " 'ComputedRiskTolerance']"
      ]
     },
     "execution_count": 677,
     "metadata": {},
     "output_type": "execute_result"
    }
   ],
   "source": [
    "#Listagem das features\n",
    "list(df_customers)"
   ]
  },
  {
   "cell_type": "code",
   "execution_count": 678,
   "id": "16562431",
   "metadata": {
    "ExecuteTime": {
     "end_time": "2021-09-06T21:39:18.063783Z",
     "start_time": "2021-09-06T21:39:18.034771Z"
    }
   },
   "outputs": [
    {
     "data": {
      "text/html": [
       "<div>\n",
       "<style scoped>\n",
       "    .dataframe tbody tr th:only-of-type {\n",
       "        vertical-align: middle;\n",
       "    }\n",
       "\n",
       "    .dataframe tbody tr th {\n",
       "        vertical-align: top;\n",
       "    }\n",
       "\n",
       "    .dataframe thead th {\n",
       "        text-align: right;\n",
       "    }\n",
       "</style>\n",
       "<table border=\"1\" class=\"dataframe\">\n",
       "  <thead>\n",
       "    <tr style=\"text-align: right;\">\n",
       "      <th></th>\n",
       "      <th>% Missing Data</th>\n",
       "    </tr>\n",
       "  </thead>\n",
       "  <tbody>\n",
       "    <tr>\n",
       "      <th>CustomerApiid</th>\n",
       "      <td>0.0</td>\n",
       "    </tr>\n",
       "    <tr>\n",
       "      <th>CustomerId</th>\n",
       "      <td>0.0</td>\n",
       "    </tr>\n",
       "    <tr>\n",
       "      <th>AUM</th>\n",
       "      <td>0.0</td>\n",
       "    </tr>\n",
       "    <tr>\n",
       "      <th>RegisterDate</th>\n",
       "      <td>0.0</td>\n",
       "    </tr>\n",
       "    <tr>\n",
       "      <th>AmountFirstDeposit</th>\n",
       "      <td>0.0</td>\n",
       "    </tr>\n",
       "  </tbody>\n",
       "</table>\n",
       "</div>"
      ],
      "text/plain": [
       "                    % Missing Data\n",
       "CustomerApiid                  0.0\n",
       "CustomerId                     0.0\n",
       "AUM                            0.0\n",
       "RegisterDate                   0.0\n",
       "AmountFirstDeposit             0.0"
      ]
     },
     "execution_count": 678,
     "metadata": {},
     "output_type": "execute_result"
    }
   ],
   "source": [
    "pd.DataFrame(round(df_customers.isnull().mean().sort_values(ascending=False),3), columns=['% Missing Data']).head()"
   ]
  },
  {
   "cell_type": "code",
   "execution_count": 683,
   "id": "ea16640c",
   "metadata": {
    "ExecuteTime": {
     "end_time": "2021-09-06T21:49:00.648092Z",
     "start_time": "2021-09-06T21:49:00.608792Z"
    }
   },
   "outputs": [
    {
     "data": {
      "text/html": [
       "<div>\n",
       "<style scoped>\n",
       "    .dataframe tbody tr th:only-of-type {\n",
       "        vertical-align: middle;\n",
       "    }\n",
       "\n",
       "    .dataframe tbody tr th {\n",
       "        vertical-align: top;\n",
       "    }\n",
       "\n",
       "    .dataframe thead th {\n",
       "        text-align: right;\n",
       "    }\n",
       "</style>\n",
       "<table border=\"1\" class=\"dataframe\">\n",
       "  <thead>\n",
       "    <tr style=\"text-align: right;\">\n",
       "      <th></th>\n",
       "      <th>count</th>\n",
       "      <th>mean</th>\n",
       "      <th>std</th>\n",
       "      <th>min</th>\n",
       "      <th>25%</th>\n",
       "      <th>50%</th>\n",
       "      <th>75%</th>\n",
       "      <th>max</th>\n",
       "    </tr>\n",
       "  </thead>\n",
       "  <tbody>\n",
       "    <tr>\n",
       "      <th>CustomerId</th>\n",
       "      <td>1000.0</td>\n",
       "      <td>113653.85</td>\n",
       "      <td>55113.27</td>\n",
       "      <td>44.0</td>\n",
       "      <td>69583.00</td>\n",
       "      <td>123887.50</td>\n",
       "      <td>161280.00</td>\n",
       "      <td>197630.00</td>\n",
       "    </tr>\n",
       "    <tr>\n",
       "      <th>AUM</th>\n",
       "      <td>1000.0</td>\n",
       "      <td>91684.64</td>\n",
       "      <td>731956.82</td>\n",
       "      <td>0.0</td>\n",
       "      <td>100.01</td>\n",
       "      <td>3877.40</td>\n",
       "      <td>21399.47</td>\n",
       "      <td>15097244.38</td>\n",
       "    </tr>\n",
       "    <tr>\n",
       "      <th>AmountFirstDeposit</th>\n",
       "      <td>1000.0</td>\n",
       "      <td>25710.74</td>\n",
       "      <td>273690.80</td>\n",
       "      <td>1.0</td>\n",
       "      <td>120.00</td>\n",
       "      <td>847.94</td>\n",
       "      <td>4849.75</td>\n",
       "      <td>8000373.45</td>\n",
       "    </tr>\n",
       "    <tr>\n",
       "      <th>TotalDeposits</th>\n",
       "      <td>1000.0</td>\n",
       "      <td>18.88</td>\n",
       "      <td>24.28</td>\n",
       "      <td>1.0</td>\n",
       "      <td>4.00</td>\n",
       "      <td>11.00</td>\n",
       "      <td>23.25</td>\n",
       "      <td>224.00</td>\n",
       "    </tr>\n",
       "    <tr>\n",
       "      <th>TotalWithdrawals</th>\n",
       "      <td>1000.0</td>\n",
       "      <td>3.74</td>\n",
       "      <td>6.58</td>\n",
       "      <td>0.0</td>\n",
       "      <td>0.00</td>\n",
       "      <td>1.50</td>\n",
       "      <td>5.00</td>\n",
       "      <td>86.00</td>\n",
       "    </tr>\n",
       "    <tr>\n",
       "      <th>MonthlyIncome</th>\n",
       "      <td>1000.0</td>\n",
       "      <td>32588.98</td>\n",
       "      <td>513055.90</td>\n",
       "      <td>0.0</td>\n",
       "      <td>2000.00</td>\n",
       "      <td>4000.00</td>\n",
       "      <td>8000.00</td>\n",
       "      <td>15000000.00</td>\n",
       "    </tr>\n",
       "    <tr>\n",
       "      <th>FinancialInvestmentsValue</th>\n",
       "      <td>1000.0</td>\n",
       "      <td>117110.86</td>\n",
       "      <td>577946.53</td>\n",
       "      <td>0.0</td>\n",
       "      <td>0.00</td>\n",
       "      <td>1000.00</td>\n",
       "      <td>30000.00</td>\n",
       "      <td>11000000.00</td>\n",
       "    </tr>\n",
       "    <tr>\n",
       "      <th>Age</th>\n",
       "      <td>1000.0</td>\n",
       "      <td>33.49</td>\n",
       "      <td>11.30</td>\n",
       "      <td>0.0</td>\n",
       "      <td>26.00</td>\n",
       "      <td>31.00</td>\n",
       "      <td>38.00</td>\n",
       "      <td>90.00</td>\n",
       "    </tr>\n",
       "    <tr>\n",
       "      <th>ComputedRiskTolerance</th>\n",
       "      <td>1000.0</td>\n",
       "      <td>24.07</td>\n",
       "      <td>15.30</td>\n",
       "      <td>0.0</td>\n",
       "      <td>14.00</td>\n",
       "      <td>20.00</td>\n",
       "      <td>27.00</td>\n",
       "      <td>96.30</td>\n",
       "    </tr>\n",
       "  </tbody>\n",
       "</table>\n",
       "</div>"
      ],
      "text/plain": [
       "                            count       mean        std   min       25%  \\\n",
       "CustomerId                 1000.0  113653.85   55113.27  44.0  69583.00   \n",
       "AUM                        1000.0   91684.64  731956.82   0.0    100.01   \n",
       "AmountFirstDeposit         1000.0   25710.74  273690.80   1.0    120.00   \n",
       "TotalDeposits              1000.0      18.88      24.28   1.0      4.00   \n",
       "TotalWithdrawals           1000.0       3.74       6.58   0.0      0.00   \n",
       "MonthlyIncome              1000.0   32588.98  513055.90   0.0   2000.00   \n",
       "FinancialInvestmentsValue  1000.0  117110.86  577946.53   0.0      0.00   \n",
       "Age                        1000.0      33.49      11.30   0.0     26.00   \n",
       "ComputedRiskTolerance      1000.0      24.07      15.30   0.0     14.00   \n",
       "\n",
       "                                 50%        75%          max  \n",
       "CustomerId                 123887.50  161280.00    197630.00  \n",
       "AUM                          3877.40   21399.47  15097244.38  \n",
       "AmountFirstDeposit            847.94    4849.75   8000373.45  \n",
       "TotalDeposits                  11.00      23.25       224.00  \n",
       "TotalWithdrawals                1.50       5.00        86.00  \n",
       "MonthlyIncome                4000.00    8000.00  15000000.00  \n",
       "FinancialInvestmentsValue    1000.00   30000.00  11000000.00  \n",
       "Age                            31.00      38.00        90.00  \n",
       "ComputedRiskTolerance          20.00      27.00        96.30  "
      ]
     },
     "execution_count": 683,
     "metadata": {},
     "output_type": "execute_result"
    }
   ],
   "source": [
    "#Descrição das features numéricas\n",
    "round(df_customers.describe().T, 2)"
   ]
  },
  {
   "cell_type": "markdown",
   "id": "c2a4820d",
   "metadata": {},
   "source": [
    "- Olhando para o resumo de valores, podemos ver que existem pessoas com idade igual a zero e abaixo dos 18 anos. Há ainda, pessoas com renda mensal zerada e declaração de valores investidos zerada ou muito altos. Os outliers serão analisados na próxima sessão\n"
   ]
  },
  {
   "cell_type": "code",
   "execution_count": 684,
   "id": "23909295",
   "metadata": {
    "ExecuteTime": {
     "end_time": "2021-09-06T21:49:17.143025Z",
     "start_time": "2021-09-06T21:49:17.112990Z"
    }
   },
   "outputs": [
    {
     "name": "stdout",
     "output_type": "stream",
     "text": [
      "<class 'pandas.core.frame.DataFrame'>\n",
      "RangeIndex: 1000 entries, 0 to 999\n",
      "Data columns (total 11 columns):\n",
      " #   Column                     Non-Null Count  Dtype  \n",
      "---  ------                     --------------  -----  \n",
      " 0   CustomerApiid              1000 non-null   object \n",
      " 1   CustomerId                 1000 non-null   int64  \n",
      " 2   AUM                        1000 non-null   float64\n",
      " 3   RegisterDate               1000 non-null   object \n",
      " 4   AmountFirstDeposit         1000 non-null   float64\n",
      " 5   TotalDeposits              1000 non-null   int64  \n",
      " 6   TotalWithdrawals           1000 non-null   int64  \n",
      " 7   MonthlyIncome              1000 non-null   int32  \n",
      " 8   FinancialInvestmentsValue  1000 non-null   float64\n",
      " 9   Age                        1000 non-null   int64  \n",
      " 10  ComputedRiskTolerance      1000 non-null   float64\n",
      "dtypes: float64(4), int32(1), int64(4), object(2)\n",
      "memory usage: 82.2+ KB\n"
     ]
    }
   ],
   "source": [
    "df_customers.info()"
   ]
  },
  {
   "cell_type": "code",
   "execution_count": 685,
   "id": "8dc2e73b",
   "metadata": {
    "ExecuteTime": {
     "end_time": "2021-09-06T21:49:21.564543Z",
     "start_time": "2021-09-06T21:49:21.539580Z"
    }
   },
   "outputs": [
    {
     "name": "stdout",
     "output_type": "stream",
     "text": [
      "CustomerApiid                        object\n",
      "CustomerId                            int64\n",
      "AUM                                 float64\n",
      "RegisterDate                 datetime64[ns]\n",
      "AmountFirstDeposit                  float64\n",
      "TotalDeposits                         int64\n",
      "TotalWithdrawals                      int64\n",
      "MonthlyIncome                         int32\n",
      "FinancialInvestmentsValue           float64\n",
      "Age                                   int64\n",
      "ComputedRiskTolerance               float64\n",
      "dtype: object\n"
     ]
    }
   ],
   "source": [
    "#Convertendo a coluna de 'RegisterDate' para datetime\n",
    "\n",
    "df_customers['RegisterDate'] = pd.to_datetime(df_customers['RegisterDate'], format='%Y-%m-%d %H:%M:%S')\n",
    "print(df_customers.dtypes)"
   ]
  },
  {
   "cell_type": "code",
   "execution_count": 686,
   "id": "04002018",
   "metadata": {
    "ExecuteTime": {
     "end_time": "2021-09-06T21:51:28.052314Z",
     "start_time": "2021-09-06T21:51:28.040274Z"
    }
   },
   "outputs": [],
   "source": [
    "#Convertendo a coluna de 'AUM' para int\n",
    "df_customers['AUM'] = df_customers['AUM'].astype(int)"
   ]
  },
  {
   "cell_type": "markdown",
   "id": "aea624b3",
   "metadata": {},
   "source": [
    "# Tabela Events"
   ]
  },
  {
   "cell_type": "code",
   "execution_count": 318,
   "id": "7ad7e21e",
   "metadata": {
    "ExecuteTime": {
     "end_time": "2021-09-06T13:33:38.645161Z",
     "start_time": "2021-09-06T13:33:38.632163Z"
    }
   },
   "outputs": [
    {
     "data": {
      "text/html": [
       "<div>\n",
       "<style scoped>\n",
       "    .dataframe tbody tr th:only-of-type {\n",
       "        vertical-align: middle;\n",
       "    }\n",
       "\n",
       "    .dataframe tbody tr th {\n",
       "        vertical-align: top;\n",
       "    }\n",
       "\n",
       "    .dataframe thead th {\n",
       "        text-align: right;\n",
       "    }\n",
       "</style>\n",
       "<table border=\"1\" class=\"dataframe\">\n",
       "  <thead>\n",
       "    <tr style=\"text-align: right;\">\n",
       "      <th></th>\n",
       "      <th>EventDate</th>\n",
       "      <th>Platform</th>\n",
       "      <th>CustomerApiid</th>\n",
       "    </tr>\n",
       "  </thead>\n",
       "  <tbody>\n",
       "    <tr>\n",
       "      <th>0</th>\n",
       "      <td>20210112</td>\n",
       "      <td>IOS</td>\n",
       "      <td>5eb045b00d281d0010993b19</td>\n",
       "    </tr>\n",
       "    <tr>\n",
       "      <th>1</th>\n",
       "      <td>20210112</td>\n",
       "      <td>IOS</td>\n",
       "      <td>5d54036d7a4e2a00129ac685</td>\n",
       "    </tr>\n",
       "    <tr>\n",
       "      <th>2</th>\n",
       "      <td>20210112</td>\n",
       "      <td>IOS</td>\n",
       "      <td>5f160ad08df61f00175d4a94</td>\n",
       "    </tr>\n",
       "    <tr>\n",
       "      <th>3</th>\n",
       "      <td>20210112</td>\n",
       "      <td>IOS</td>\n",
       "      <td>5e1f7e25a6a96a0010ee1545</td>\n",
       "    </tr>\n",
       "    <tr>\n",
       "      <th>4</th>\n",
       "      <td>20210112</td>\n",
       "      <td>IOS</td>\n",
       "      <td>5e66a9a9e7bbca00119eb5fc</td>\n",
       "    </tr>\n",
       "  </tbody>\n",
       "</table>\n",
       "</div>"
      ],
      "text/plain": [
       "   EventDate Platform             CustomerApiid\n",
       "0   20210112      IOS  5eb045b00d281d0010993b19\n",
       "1   20210112      IOS  5d54036d7a4e2a00129ac685\n",
       "2   20210112      IOS  5f160ad08df61f00175d4a94\n",
       "3   20210112      IOS  5e1f7e25a6a96a0010ee1545\n",
       "4   20210112      IOS  5e66a9a9e7bbca00119eb5fc"
      ]
     },
     "execution_count": 318,
     "metadata": {},
     "output_type": "execute_result"
    }
   ],
   "source": [
    "df_events.head()"
   ]
  },
  {
   "cell_type": "code",
   "execution_count": 319,
   "id": "f04566fe",
   "metadata": {
    "ExecuteTime": {
     "end_time": "2021-09-06T13:33:39.086867Z",
     "start_time": "2021-09-06T13:33:39.077834Z"
    }
   },
   "outputs": [
    {
     "data": {
      "text/plain": [
       "(1000, 3)"
      ]
     },
     "execution_count": 319,
     "metadata": {},
     "output_type": "execute_result"
    }
   ],
   "source": [
    "df_events.shape"
   ]
  },
  {
   "cell_type": "code",
   "execution_count": 320,
   "id": "075f540c",
   "metadata": {
    "ExecuteTime": {
     "end_time": "2021-09-06T13:33:39.495247Z",
     "start_time": "2021-09-06T13:33:39.472189Z"
    }
   },
   "outputs": [
    {
     "name": "stdout",
     "output_type": "stream",
     "text": [
      "<class 'pandas.core.frame.DataFrame'>\n",
      "RangeIndex: 1000 entries, 0 to 999\n",
      "Data columns (total 3 columns):\n",
      " #   Column         Non-Null Count  Dtype \n",
      "---  ------         --------------  ----- \n",
      " 0   EventDate      1000 non-null   int64 \n",
      " 1   Platform       1000 non-null   object\n",
      " 2   CustomerApiid  1000 non-null   object\n",
      "dtypes: int64(1), object(2)\n",
      "memory usage: 23.6+ KB\n"
     ]
    }
   ],
   "source": [
    "df_events.info()"
   ]
  },
  {
   "cell_type": "code",
   "execution_count": 321,
   "id": "696ad436",
   "metadata": {
    "ExecuteTime": {
     "end_time": "2021-09-06T13:33:40.105429Z",
     "start_time": "2021-09-06T13:33:40.088407Z"
    }
   },
   "outputs": [
    {
     "name": "stdout",
     "output_type": "stream",
     "text": [
      "EventDate        datetime64[ns]\n",
      "Platform                 object\n",
      "CustomerApiid            object\n",
      "dtype: object\n"
     ]
    }
   ],
   "source": [
    "#Convertendo a coluna de 'EventDate' para datetime\n",
    "\n",
    "df_events['EventDate'] = pd.to_datetime(df_events['EventDate'], format='%Y%m%d')\n",
    "print(df_events.dtypes)"
   ]
  },
  {
   "cell_type": "markdown",
   "id": "9f23dfc8",
   "metadata": {},
   "source": [
    "# Tabela Transactions"
   ]
  },
  {
   "cell_type": "code",
   "execution_count": 497,
   "id": "29c980d7",
   "metadata": {
    "ExecuteTime": {
     "end_time": "2021-09-06T16:19:49.157507Z",
     "start_time": "2021-09-06T16:19:49.141479Z"
    }
   },
   "outputs": [],
   "source": [
    "df_transactions = pd.read_csv(\"Transactions.csv\")"
   ]
  },
  {
   "cell_type": "code",
   "execution_count": 499,
   "id": "d4082089",
   "metadata": {
    "ExecuteTime": {
     "end_time": "2021-09-06T16:19:52.850931Z",
     "start_time": "2021-09-06T16:19:52.823970Z"
    }
   },
   "outputs": [
    {
     "name": "stdout",
     "output_type": "stream",
     "text": [
      "<class 'pandas.core.frame.DataFrame'>\n",
      "Int64Index: 1000 entries, 260 to 99\n",
      "Data columns (total 5 columns):\n",
      " #   Column      Non-Null Count  Dtype  \n",
      "---  ------      --------------  -----  \n",
      " 0   Id          1000 non-null   int64  \n",
      " 1   Direction   1000 non-null   int64  \n",
      " 2   Amount      1000 non-null   float64\n",
      " 3   CustomerId  1000 non-null   int64  \n",
      " 4   OperatedAt  1000 non-null   object \n",
      "dtypes: float64(1), int64(3), object(1)\n",
      "memory usage: 46.9+ KB\n"
     ]
    }
   ],
   "source": [
    "df_transactions.info()"
   ]
  },
  {
   "cell_type": "code",
   "execution_count": 534,
   "id": "2add3613",
   "metadata": {
    "ExecuteTime": {
     "end_time": "2021-09-06T16:44:38.384617Z",
     "start_time": "2021-09-06T16:44:38.355657Z"
    }
   },
   "outputs": [
    {
     "data": {
      "text/html": [
       "<div>\n",
       "<style scoped>\n",
       "    .dataframe tbody tr th:only-of-type {\n",
       "        vertical-align: middle;\n",
       "    }\n",
       "\n",
       "    .dataframe tbody tr th {\n",
       "        vertical-align: top;\n",
       "    }\n",
       "\n",
       "    .dataframe thead th {\n",
       "        text-align: right;\n",
       "    }\n",
       "</style>\n",
       "<table border=\"1\" class=\"dataframe\">\n",
       "  <thead>\n",
       "    <tr style=\"text-align: right;\">\n",
       "      <th></th>\n",
       "      <th>count</th>\n",
       "      <th>mean</th>\n",
       "      <th>std</th>\n",
       "      <th>min</th>\n",
       "      <th>25%</th>\n",
       "      <th>50%</th>\n",
       "      <th>75%</th>\n",
       "      <th>max</th>\n",
       "    </tr>\n",
       "  </thead>\n",
       "  <tbody>\n",
       "    <tr>\n",
       "      <th>Id</th>\n",
       "      <td>1000.0</td>\n",
       "      <td>1.180722e+06</td>\n",
       "      <td>73083.958545</td>\n",
       "      <td>456538.0</td>\n",
       "      <td>1.192801e+06</td>\n",
       "      <td>1199063.5</td>\n",
       "      <td>1201338.25</td>\n",
       "      <td>1.201975e+06</td>\n",
       "    </tr>\n",
       "    <tr>\n",
       "      <th>Direction</th>\n",
       "      <td>1000.0</td>\n",
       "      <td>1.188000e+01</td>\n",
       "      <td>3.909077</td>\n",
       "      <td>10.0</td>\n",
       "      <td>1.000000e+01</td>\n",
       "      <td>10.0</td>\n",
       "      <td>10.00</td>\n",
       "      <td>2.000000e+01</td>\n",
       "    </tr>\n",
       "    <tr>\n",
       "      <th>Amount</th>\n",
       "      <td>1000.0</td>\n",
       "      <td>2.357222e+03</td>\n",
       "      <td>9808.965386</td>\n",
       "      <td>1.0</td>\n",
       "      <td>1.695555e+02</td>\n",
       "      <td>500.0</td>\n",
       "      <td>1200.00</td>\n",
       "      <td>1.579400e+05</td>\n",
       "    </tr>\n",
       "    <tr>\n",
       "      <th>CustomerId</th>\n",
       "      <td>1000.0</td>\n",
       "      <td>9.357191e+04</td>\n",
       "      <td>48098.081659</td>\n",
       "      <td>22.0</td>\n",
       "      <td>5.196000e+04</td>\n",
       "      <td>101758.5</td>\n",
       "      <td>136931.25</td>\n",
       "      <td>1.614100e+05</td>\n",
       "    </tr>\n",
       "    <tr>\n",
       "      <th>Month</th>\n",
       "      <td>1000.0</td>\n",
       "      <td>1.143000e+00</td>\n",
       "      <td>0.705016</td>\n",
       "      <td>1.0</td>\n",
       "      <td>1.000000e+00</td>\n",
       "      <td>1.0</td>\n",
       "      <td>1.00</td>\n",
       "      <td>7.000000e+00</td>\n",
       "    </tr>\n",
       "    <tr>\n",
       "      <th>Year</th>\n",
       "      <td>1000.0</td>\n",
       "      <td>2.021000e+03</td>\n",
       "      <td>0.000000</td>\n",
       "      <td>2021.0</td>\n",
       "      <td>2.021000e+03</td>\n",
       "      <td>2021.0</td>\n",
       "      <td>2021.00</td>\n",
       "      <td>2.021000e+03</td>\n",
       "    </tr>\n",
       "  </tbody>\n",
       "</table>\n",
       "</div>"
      ],
      "text/plain": [
       "             count          mean           std       min           25%  \\\n",
       "Id          1000.0  1.180722e+06  73083.958545  456538.0  1.192801e+06   \n",
       "Direction   1000.0  1.188000e+01      3.909077      10.0  1.000000e+01   \n",
       "Amount      1000.0  2.357222e+03   9808.965386       1.0  1.695555e+02   \n",
       "CustomerId  1000.0  9.357191e+04  48098.081659      22.0  5.196000e+04   \n",
       "Month       1000.0  1.143000e+00      0.705016       1.0  1.000000e+00   \n",
       "Year        1000.0  2.021000e+03      0.000000    2021.0  2.021000e+03   \n",
       "\n",
       "                  50%         75%           max  \n",
       "Id          1199063.5  1201338.25  1.201975e+06  \n",
       "Direction        10.0       10.00  2.000000e+01  \n",
       "Amount          500.0     1200.00  1.579400e+05  \n",
       "CustomerId   101758.5   136931.25  1.614100e+05  \n",
       "Month             1.0        1.00  7.000000e+00  \n",
       "Year           2021.0     2021.00  2.021000e+03  "
      ]
     },
     "execution_count": 534,
     "metadata": {},
     "output_type": "execute_result"
    }
   ],
   "source": [
    "df_transactions.describe().T"
   ]
  },
  {
   "cell_type": "markdown",
   "id": "635ffb66",
   "metadata": {},
   "source": [
    "#### A trabela Transactions possui registros apenas do ano de 2021 entre os meses de janeiro (01)  a julho (07)"
   ]
  },
  {
   "cell_type": "code",
   "execution_count": 500,
   "id": "73f43043",
   "metadata": {
    "ExecuteTime": {
     "end_time": "2021-09-06T16:20:00.413930Z",
     "start_time": "2021-09-06T16:20:00.400934Z"
    }
   },
   "outputs": [
    {
     "name": "stdout",
     "output_type": "stream",
     "text": [
      "Id                     int64\n",
      "Direction              int64\n",
      "Amount               float64\n",
      "CustomerId             int64\n",
      "OperatedAt    datetime64[ns]\n",
      "dtype: object\n"
     ]
    }
   ],
   "source": [
    "#Convertendo a coluna de 'OperatedAt' para datetime\n",
    "\n",
    "df_transactions['OperatedAt'] = pd.to_datetime(df_transactions['OperatedAt'], format='%Y-%m-%d %H:%M:%S')\n",
    "print(df_transactions.dtypes)"
   ]
  },
  {
   "cell_type": "code",
   "execution_count": 501,
   "id": "4e6d793a",
   "metadata": {
    "ExecuteTime": {
     "end_time": "2021-09-06T16:20:11.220755Z",
     "start_time": "2021-09-06T16:20:11.178758Z"
    }
   },
   "outputs": [
    {
     "data": {
      "text/html": [
       "<div>\n",
       "<style scoped>\n",
       "    .dataframe tbody tr th:only-of-type {\n",
       "        vertical-align: middle;\n",
       "    }\n",
       "\n",
       "    .dataframe tbody tr th {\n",
       "        vertical-align: top;\n",
       "    }\n",
       "\n",
       "    .dataframe thead th {\n",
       "        text-align: right;\n",
       "    }\n",
       "</style>\n",
       "<table border=\"1\" class=\"dataframe\">\n",
       "  <thead>\n",
       "    <tr style=\"text-align: right;\">\n",
       "      <th></th>\n",
       "      <th>Id</th>\n",
       "      <th>Direction</th>\n",
       "      <th>Amount</th>\n",
       "      <th>CustomerId</th>\n",
       "      <th>OperatedAt</th>\n",
       "      <th>Month</th>\n",
       "      <th>Year</th>\n",
       "    </tr>\n",
       "  </thead>\n",
       "  <tbody>\n",
       "    <tr>\n",
       "      <th>260</th>\n",
       "      <td>1193306</td>\n",
       "      <td>10</td>\n",
       "      <td>12800.00</td>\n",
       "      <td>12431</td>\n",
       "      <td>2021-01-01 00:00:30</td>\n",
       "      <td>1</td>\n",
       "      <td>2021</td>\n",
       "    </tr>\n",
       "    <tr>\n",
       "      <th>573</th>\n",
       "      <td>1200034</td>\n",
       "      <td>10</td>\n",
       "      <td>20000.00</td>\n",
       "      <td>117985</td>\n",
       "      <td>2021-01-01 00:01:33</td>\n",
       "      <td>1</td>\n",
       "      <td>2021</td>\n",
       "    </tr>\n",
       "    <tr>\n",
       "      <th>452</th>\n",
       "      <td>1198402</td>\n",
       "      <td>10</td>\n",
       "      <td>50.00</td>\n",
       "      <td>95724</td>\n",
       "      <td>2021-01-01 00:02:08</td>\n",
       "      <td>1</td>\n",
       "      <td>2021</td>\n",
       "    </tr>\n",
       "    <tr>\n",
       "      <th>521</th>\n",
       "      <td>1199295</td>\n",
       "      <td>10</td>\n",
       "      <td>200.00</td>\n",
       "      <td>136323</td>\n",
       "      <td>2021-01-01 00:02:35</td>\n",
       "      <td>1</td>\n",
       "      <td>2021</td>\n",
       "    </tr>\n",
       "    <tr>\n",
       "      <th>486</th>\n",
       "      <td>1198878</td>\n",
       "      <td>10</td>\n",
       "      <td>2000.00</td>\n",
       "      <td>138207</td>\n",
       "      <td>2021-01-01 00:02:58</td>\n",
       "      <td>1</td>\n",
       "      <td>2021</td>\n",
       "    </tr>\n",
       "    <tr>\n",
       "      <th>442</th>\n",
       "      <td>1198295</td>\n",
       "      <td>10</td>\n",
       "      <td>300.00</td>\n",
       "      <td>116255</td>\n",
       "      <td>2021-01-01 00:04:00</td>\n",
       "      <td>1</td>\n",
       "      <td>2021</td>\n",
       "    </tr>\n",
       "    <tr>\n",
       "      <th>346</th>\n",
       "      <td>1195804</td>\n",
       "      <td>10</td>\n",
       "      <td>100.00</td>\n",
       "      <td>16655</td>\n",
       "      <td>2021-01-01 00:04:16</td>\n",
       "      <td>1</td>\n",
       "      <td>2021</td>\n",
       "    </tr>\n",
       "    <tr>\n",
       "      <th>467</th>\n",
       "      <td>1198751</td>\n",
       "      <td>10</td>\n",
       "      <td>600.00</td>\n",
       "      <td>86678</td>\n",
       "      <td>2021-01-01 00:04:44</td>\n",
       "      <td>1</td>\n",
       "      <td>2021</td>\n",
       "    </tr>\n",
       "    <tr>\n",
       "      <th>408</th>\n",
       "      <td>1197389</td>\n",
       "      <td>10</td>\n",
       "      <td>6000.00</td>\n",
       "      <td>39685</td>\n",
       "      <td>2021-01-01 00:05:36</td>\n",
       "      <td>1</td>\n",
       "      <td>2021</td>\n",
       "    </tr>\n",
       "    <tr>\n",
       "      <th>555</th>\n",
       "      <td>1199823</td>\n",
       "      <td>10</td>\n",
       "      <td>50.00</td>\n",
       "      <td>148881</td>\n",
       "      <td>2021-01-01 00:05:41</td>\n",
       "      <td>1</td>\n",
       "      <td>2021</td>\n",
       "    </tr>\n",
       "    <tr>\n",
       "      <th>511</th>\n",
       "      <td>1199242</td>\n",
       "      <td>10</td>\n",
       "      <td>100.00</td>\n",
       "      <td>160459</td>\n",
       "      <td>2021-01-01 00:06:29</td>\n",
       "      <td>1</td>\n",
       "      <td>2021</td>\n",
       "    </tr>\n",
       "    <tr>\n",
       "      <th>418</th>\n",
       "      <td>1197689</td>\n",
       "      <td>10</td>\n",
       "      <td>2000.00</td>\n",
       "      <td>42584</td>\n",
       "      <td>2021-01-01 00:06:35</td>\n",
       "      <td>1</td>\n",
       "      <td>2021</td>\n",
       "    </tr>\n",
       "    <tr>\n",
       "      <th>574</th>\n",
       "      <td>1200035</td>\n",
       "      <td>10</td>\n",
       "      <td>60.00</td>\n",
       "      <td>161264</td>\n",
       "      <td>2021-01-01 00:06:59</td>\n",
       "      <td>1</td>\n",
       "      <td>2021</td>\n",
       "    </tr>\n",
       "    <tr>\n",
       "      <th>410</th>\n",
       "      <td>1197485</td>\n",
       "      <td>10</td>\n",
       "      <td>3000.00</td>\n",
       "      <td>145308</td>\n",
       "      <td>2021-01-01 00:09:08</td>\n",
       "      <td>1</td>\n",
       "      <td>2021</td>\n",
       "    </tr>\n",
       "    <tr>\n",
       "      <th>512</th>\n",
       "      <td>1199251</td>\n",
       "      <td>10</td>\n",
       "      <td>1000.00</td>\n",
       "      <td>143672</td>\n",
       "      <td>2021-01-01 00:10:19</td>\n",
       "      <td>1</td>\n",
       "      <td>2021</td>\n",
       "    </tr>\n",
       "    <tr>\n",
       "      <th>480</th>\n",
       "      <td>1198834</td>\n",
       "      <td>10</td>\n",
       "      <td>4000.00</td>\n",
       "      <td>54389</td>\n",
       "      <td>2021-01-01 00:11:02</td>\n",
       "      <td>1</td>\n",
       "      <td>2021</td>\n",
       "    </tr>\n",
       "    <tr>\n",
       "      <th>275</th>\n",
       "      <td>1193714</td>\n",
       "      <td>10</td>\n",
       "      <td>300.00</td>\n",
       "      <td>112578</td>\n",
       "      <td>2021-01-01 00:11:09</td>\n",
       "      <td>1</td>\n",
       "      <td>2021</td>\n",
       "    </tr>\n",
       "    <tr>\n",
       "      <th>595</th>\n",
       "      <td>1200126</td>\n",
       "      <td>10</td>\n",
       "      <td>2458.72</td>\n",
       "      <td>40100</td>\n",
       "      <td>2021-01-01 00:11:14</td>\n",
       "      <td>1</td>\n",
       "      <td>2021</td>\n",
       "    </tr>\n",
       "    <tr>\n",
       "      <th>597</th>\n",
       "      <td>1200135</td>\n",
       "      <td>10</td>\n",
       "      <td>1000.00</td>\n",
       "      <td>139072</td>\n",
       "      <td>2021-01-01 00:11:36</td>\n",
       "      <td>1</td>\n",
       "      <td>2021</td>\n",
       "    </tr>\n",
       "    <tr>\n",
       "      <th>588</th>\n",
       "      <td>1200096</td>\n",
       "      <td>10</td>\n",
       "      <td>1000.00</td>\n",
       "      <td>148581</td>\n",
       "      <td>2021-01-01 00:11:49</td>\n",
       "      <td>1</td>\n",
       "      <td>2021</td>\n",
       "    </tr>\n",
       "  </tbody>\n",
       "</table>\n",
       "</div>"
      ],
      "text/plain": [
       "          Id  Direction    Amount  CustomerId          OperatedAt  Month  Year\n",
       "260  1193306         10  12800.00       12431 2021-01-01 00:00:30      1  2021\n",
       "573  1200034         10  20000.00      117985 2021-01-01 00:01:33      1  2021\n",
       "452  1198402         10     50.00       95724 2021-01-01 00:02:08      1  2021\n",
       "521  1199295         10    200.00      136323 2021-01-01 00:02:35      1  2021\n",
       "486  1198878         10   2000.00      138207 2021-01-01 00:02:58      1  2021\n",
       "442  1198295         10    300.00      116255 2021-01-01 00:04:00      1  2021\n",
       "346  1195804         10    100.00       16655 2021-01-01 00:04:16      1  2021\n",
       "467  1198751         10    600.00       86678 2021-01-01 00:04:44      1  2021\n",
       "408  1197389         10   6000.00       39685 2021-01-01 00:05:36      1  2021\n",
       "555  1199823         10     50.00      148881 2021-01-01 00:05:41      1  2021\n",
       "511  1199242         10    100.00      160459 2021-01-01 00:06:29      1  2021\n",
       "418  1197689         10   2000.00       42584 2021-01-01 00:06:35      1  2021\n",
       "574  1200035         10     60.00      161264 2021-01-01 00:06:59      1  2021\n",
       "410  1197485         10   3000.00      145308 2021-01-01 00:09:08      1  2021\n",
       "512  1199251         10   1000.00      143672 2021-01-01 00:10:19      1  2021\n",
       "480  1198834         10   4000.00       54389 2021-01-01 00:11:02      1  2021\n",
       "275  1193714         10    300.00      112578 2021-01-01 00:11:09      1  2021\n",
       "595  1200126         10   2458.72       40100 2021-01-01 00:11:14      1  2021\n",
       "597  1200135         10   1000.00      139072 2021-01-01 00:11:36      1  2021\n",
       "588  1200096         10   1000.00      148581 2021-01-01 00:11:49      1  2021"
      ]
     },
     "execution_count": 501,
     "metadata": {},
     "output_type": "execute_result"
    }
   ],
   "source": [
    "#Criando a coluna Month para guardar o registro de mês\n",
    "df_transactions['Month'] = pd.to_datetime(df_transactions['OperatedAt']).dt.month\n",
    "\n",
    "\n",
    "#Criando a coluna Year para guardar o registro de ano\n",
    "df_transactions['Year'] = pd.to_datetime(df_transactions['OperatedAt']).dt.year\n",
    "\n",
    "#Ordenando as transações por data\n",
    "df_transactions.sort_values(by=['Month', 'Year'], inplace=True, ascending=True)\n",
    "df_transactions.head()"
   ]
  },
  {
   "cell_type": "markdown",
   "id": "889f73a1",
   "metadata": {},
   "source": [
    "___"
   ]
  },
  {
   "cell_type": "markdown",
   "id": "3496569f",
   "metadata": {},
   "source": [
    "### Verificando o montante de Saídas"
   ]
  },
  {
   "cell_type": "code",
   "execution_count": 536,
   "id": "7df5d7d0",
   "metadata": {
    "ExecuteTime": {
     "end_time": "2021-09-06T16:47:03.973325Z",
     "start_time": "2021-09-06T16:47:03.955287Z"
    }
   },
   "outputs": [
    {
     "name": "stdout",
     "output_type": "stream",
     "text": [
      "867867.13\n"
     ]
    }
   ],
   "source": [
    "df_out = df_transactions[df_transactions['Direction'] == 20]\n",
    "print(df_out['Amount'].sum().round(2))"
   ]
  },
  {
   "cell_type": "markdown",
   "id": "4e6925e1",
   "metadata": {},
   "source": [
    "###### O montante de saídas em 2021 foi de 867.867,13\n",
    "###### - Esse valor está em real?"
   ]
  },
  {
   "cell_type": "code",
   "execution_count": 525,
   "id": "bdd585ea",
   "metadata": {
    "ExecuteTime": {
     "end_time": "2021-09-06T16:35:58.355468Z",
     "start_time": "2021-09-06T16:35:58.167020Z"
    }
   },
   "outputs": [
    {
     "data": {
      "image/png": "[encoded data removed]",
      "text/plain": [
       "<Figure size 720x720 with 1 Axes>"
      ]
     },
     "metadata": {},
     "output_type": "display_data"
    }
   ],
   "source": [
    "# Criando o ambiente do gráfico \n",
    "sns.set_style(\"white\")\n",
    "plt.figure(figsize=(10, 10))\n",
    "plt.title('Dispersão de Saídas em 2021')\n",
    "\n",
    "# Gráfico de Dispersão\n",
    "g = sns.scatterplot(x=\"Amount\", y=\"Month\", \n",
    "                    data=df_out)\n",
    "plt.show()"
   ]
  },
  {
   "cell_type": "code",
   "execution_count": 546,
   "id": "dd8ba914",
   "metadata": {
    "ExecuteTime": {
     "end_time": "2021-09-06T17:16:36.907646Z",
     "start_time": "2021-09-06T17:16:36.701394Z"
    }
   },
   "outputs": [
    {
     "data": {
      "image/png": "[encoded data removed]",
      "text/plain": [
       "<Figure size 720x360 with 1 Axes>"
      ]
     },
     "metadata": {},
     "output_type": "display_data"
    }
   ],
   "source": [
    "plt.figure(figsize=(10,5))\n",
    "sns.histplot(data=df_out, x='Amount', bins=20, kde=True)\n",
    "plt.title('Volume de Saídas em 2021')\n",
    "plt.show()"
   ]
  },
  {
   "cell_type": "markdown",
   "id": "29572cb2",
   "metadata": {},
   "source": [
    "#### Nota-se que não houve retiradas de grandes volumes no ano de 2021, contudo há registros de saídas com valores acima de 20.000"
   ]
  },
  {
   "cell_type": "markdown",
   "id": "6435ad76",
   "metadata": {},
   "source": [
    "## Montante de Entradas\n"
   ]
  },
  {
   "cell_type": "code",
   "execution_count": 537,
   "id": "5da90d39",
   "metadata": {
    "ExecuteTime": {
     "end_time": "2021-09-06T16:51:29.294282Z",
     "start_time": "2021-09-06T16:51:29.280248Z"
    }
   },
   "outputs": [
    {
     "name": "stdout",
     "output_type": "stream",
     "text": [
      "1489354.96\n"
     ]
    }
   ],
   "source": [
    "df_in = df_transactions[df_transactions['Direction'] == 10]\n",
    "print(df_in['Amount'].sum().round(2))"
   ]
  },
  {
   "cell_type": "markdown",
   "id": "09518385",
   "metadata": {
    "ExecuteTime": {
     "end_time": "2021-09-06T16:51:57.443141Z",
     "start_time": "2021-09-06T16:51:57.432147Z"
    }
   },
   "source": [
    "###### O montante de saídas em 2021 foi de 1.489.354,96\n",
    "###### - Esse valor está em real?"
   ]
  },
  {
   "cell_type": "code",
   "execution_count": 539,
   "id": "1ee01d13",
   "metadata": {
    "ExecuteTime": {
     "end_time": "2021-09-06T16:52:40.863271Z",
     "start_time": "2021-09-06T16:52:40.683639Z"
    }
   },
   "outputs": [
    {
     "data": {
      "image/png": "[encoded data removed]",
      "text/plain": [
       "<Figure size 720x720 with 1 Axes>"
      ]
     },
     "metadata": {},
     "output_type": "display_data"
    }
   ],
   "source": [
    "# Criando o ambiente do gráfico \n",
    "sns.set_style(\"white\")\n",
    "plt.figure(figsize=(10, 10))\n",
    "plt.title('Dispersão de Entradas em 2021')\n",
    "\n",
    "# Gráfico de Dispersão\n",
    "g = sns.scatterplot(x=\"Amount\", y=\"Month\", \n",
    "                    data=df_in)\n",
    "plt.show()"
   ]
  },
  {
   "cell_type": "code",
   "execution_count": 548,
   "id": "a3ad42c3",
   "metadata": {
    "ExecuteTime": {
     "end_time": "2021-09-06T17:16:52.953725Z",
     "start_time": "2021-09-06T17:16:52.758154Z"
    }
   },
   "outputs": [
    {
     "data": {
      "image/png": "[encoded data removed]",
      "text/plain": [
       "<Figure size 720x360 with 1 Axes>"
      ]
     },
     "metadata": {},
     "output_type": "display_data"
    }
   ],
   "source": [
    "plt.figure(figsize=(10,5))\n",
    "sns.histplot(data=df_in, x='Amount', bins=20, kde=True)\n",
    "plt.title('Volume de Saídas em 2021')\n",
    "plt.show()"
   ]
  },
  {
   "cell_type": "markdown",
   "id": "4364724c",
   "metadata": {},
   "source": [
    "___"
   ]
  },
  {
   "cell_type": "code",
   "execution_count": 550,
   "id": "10350e1c",
   "metadata": {
    "ExecuteTime": {
     "end_time": "2021-09-06T17:17:13.735159Z",
     "start_time": "2021-09-06T17:17:13.723125Z"
    }
   },
   "outputs": [
    {
     "data": {
      "text/html": [
       "<div>\n",
       "<style scoped>\n",
       "    .dataframe tbody tr th:only-of-type {\n",
       "        vertical-align: middle;\n",
       "    }\n",
       "\n",
       "    .dataframe tbody tr th {\n",
       "        vertical-align: top;\n",
       "    }\n",
       "\n",
       "    .dataframe thead th {\n",
       "        text-align: right;\n",
       "    }\n",
       "</style>\n",
       "<table border=\"1\" class=\"dataframe\">\n",
       "  <thead>\n",
       "    <tr style=\"text-align: right;\">\n",
       "      <th></th>\n",
       "      <th>Id</th>\n",
       "      <th>Direction</th>\n",
       "      <th>Amount</th>\n",
       "      <th>CustomerId</th>\n",
       "      <th>OperatedAt</th>\n",
       "      <th>Month</th>\n",
       "      <th>Year</th>\n",
       "    </tr>\n",
       "  </thead>\n",
       "  <tbody>\n",
       "    <tr>\n",
       "      <th>260</th>\n",
       "      <td>1193306</td>\n",
       "      <td>10</td>\n",
       "      <td>12800.0</td>\n",
       "      <td>12431</td>\n",
       "      <td>2021-01-01 00:00:30</td>\n",
       "      <td>1</td>\n",
       "      <td>2021</td>\n",
       "    </tr>\n",
       "    <tr>\n",
       "      <th>573</th>\n",
       "      <td>1200034</td>\n",
       "      <td>10</td>\n",
       "      <td>20000.0</td>\n",
       "      <td>117985</td>\n",
       "      <td>2021-01-01 00:01:33</td>\n",
       "      <td>1</td>\n",
       "      <td>2021</td>\n",
       "    </tr>\n",
       "  </tbody>\n",
       "</table>\n",
       "</div>"
      ],
      "text/plain": [
       "          Id  Direction   Amount  CustomerId          OperatedAt  Month  Year\n",
       "260  1193306         10  12800.0       12431 2021-01-01 00:00:30      1  2021\n",
       "573  1200034         10  20000.0      117985 2021-01-01 00:01:33      1  2021"
      ]
     },
     "execution_count": 550,
     "metadata": {},
     "output_type": "execute_result"
    }
   ],
   "source": [
    "df_in.head(2)"
   ]
  },
  {
   "cell_type": "code",
   "execution_count": null,
   "id": "d2302600",
   "metadata": {},
   "outputs": [],
   "source": []
  },
  {
   "cell_type": "markdown",
   "id": "8e1b84aa",
   "metadata": {},
   "source": [
    "___\n"
   ]
  },
  {
   "cell_type": "markdown",
   "id": "94aeba33",
   "metadata": {},
   "source": [
    "# Perfil do Público"
   ]
  },
  {
   "cell_type": "code",
   "execution_count": 688,
   "id": "685f1548",
   "metadata": {
    "ExecuteTime": {
     "end_time": "2021-09-06T21:53:59.453782Z",
     "start_time": "2021-09-06T21:53:59.440786Z"
    }
   },
   "outputs": [
    {
     "data": {
      "text/html": [
       "<div>\n",
       "<style scoped>\n",
       "    .dataframe tbody tr th:only-of-type {\n",
       "        vertical-align: middle;\n",
       "    }\n",
       "\n",
       "    .dataframe tbody tr th {\n",
       "        vertical-align: top;\n",
       "    }\n",
       "\n",
       "    .dataframe thead th {\n",
       "        text-align: right;\n",
       "    }\n",
       "</style>\n",
       "<table border=\"1\" class=\"dataframe\">\n",
       "  <thead>\n",
       "    <tr style=\"text-align: right;\">\n",
       "      <th></th>\n",
       "      <th>CustomerApiid</th>\n",
       "      <th>CustomerId</th>\n",
       "      <th>AUM</th>\n",
       "      <th>RegisterDate</th>\n",
       "      <th>AmountFirstDeposit</th>\n",
       "      <th>TotalDeposits</th>\n",
       "      <th>TotalWithdrawals</th>\n",
       "      <th>MonthlyIncome</th>\n",
       "      <th>FinancialInvestmentsValue</th>\n",
       "      <th>Age</th>\n",
       "      <th>ComputedRiskTolerance</th>\n",
       "    </tr>\n",
       "  </thead>\n",
       "  <tbody>\n",
       "    <tr>\n",
       "      <th>0</th>\n",
       "      <td>60a7d0011363ea0011d0eb80</td>\n",
       "      <td>192260</td>\n",
       "      <td>601</td>\n",
       "      <td>2021-06-10 21:23:31</td>\n",
       "      <td>100.013269</td>\n",
       "      <td>5</td>\n",
       "      <td>0</td>\n",
       "      <td>250</td>\n",
       "      <td>3000.0</td>\n",
       "      <td>14</td>\n",
       "      <td>22.22</td>\n",
       "    </tr>\n",
       "    <tr>\n",
       "      <th>1</th>\n",
       "      <td>60c77e1ffdaebd001875353e</td>\n",
       "      <td>192853</td>\n",
       "      <td>1798</td>\n",
       "      <td>2021-06-14 16:13:56</td>\n",
       "      <td>300.048411</td>\n",
       "      <td>2</td>\n",
       "      <td>0</td>\n",
       "      <td>8000</td>\n",
       "      <td>180000.0</td>\n",
       "      <td>35</td>\n",
       "      <td>77.78</td>\n",
       "    </tr>\n",
       "    <tr>\n",
       "      <th>2</th>\n",
       "      <td>588f45ae0a760bb65b380afa</td>\n",
       "      <td>11897</td>\n",
       "      <td>1621</td>\n",
       "      <td>2017-09-14 12:08:06</td>\n",
       "      <td>2500.000000</td>\n",
       "      <td>13</td>\n",
       "      <td>2</td>\n",
       "      <td>4500</td>\n",
       "      <td>0.0</td>\n",
       "      <td>32</td>\n",
       "      <td>17.00</td>\n",
       "    </tr>\n",
       "    <tr>\n",
       "      <th>3</th>\n",
       "      <td>5915d73623d4b1881694e11e</td>\n",
       "      <td>12583</td>\n",
       "      <td>78643</td>\n",
       "      <td>2017-09-25 15:44:40</td>\n",
       "      <td>2005.000000</td>\n",
       "      <td>37</td>\n",
       "      <td>7</td>\n",
       "      <td>18000</td>\n",
       "      <td>120000.0</td>\n",
       "      <td>34</td>\n",
       "      <td>69.17</td>\n",
       "    </tr>\n",
       "    <tr>\n",
       "      <th>4</th>\n",
       "      <td>591f5f3b3daa47c6488bce3f</td>\n",
       "      <td>5564</td>\n",
       "      <td>422</td>\n",
       "      <td>2017-05-22 18:38:05</td>\n",
       "      <td>2000.000000</td>\n",
       "      <td>23</td>\n",
       "      <td>7</td>\n",
       "      <td>2000</td>\n",
       "      <td>45000.0</td>\n",
       "      <td>29</td>\n",
       "      <td>0.00</td>\n",
       "    </tr>\n",
       "  </tbody>\n",
       "</table>\n",
       "</div>"
      ],
      "text/plain": [
       "              CustomerApiid  CustomerId    AUM        RegisterDate  \\\n",
       "0  60a7d0011363ea0011d0eb80      192260    601 2021-06-10 21:23:31   \n",
       "1  60c77e1ffdaebd001875353e      192853   1798 2021-06-14 16:13:56   \n",
       "2  588f45ae0a760bb65b380afa       11897   1621 2017-09-14 12:08:06   \n",
       "3  5915d73623d4b1881694e11e       12583  78643 2017-09-25 15:44:40   \n",
       "4  591f5f3b3daa47c6488bce3f        5564    422 2017-05-22 18:38:05   \n",
       "\n",
       "   AmountFirstDeposit  TotalDeposits  TotalWithdrawals  MonthlyIncome  \\\n",
       "0          100.013269              5                 0            250   \n",
       "1          300.048411              2                 0           8000   \n",
       "2         2500.000000             13                 2           4500   \n",
       "3         2005.000000             37                 7          18000   \n",
       "4         2000.000000             23                 7           2000   \n",
       "\n",
       "   FinancialInvestmentsValue  Age  ComputedRiskTolerance  \n",
       "0                     3000.0   14                  22.22  \n",
       "1                   180000.0   35                  77.78  \n",
       "2                        0.0   32                  17.00  \n",
       "3                   120000.0   34                  69.17  \n",
       "4                    45000.0   29                   0.00  "
      ]
     },
     "execution_count": 688,
     "metadata": {},
     "output_type": "execute_result"
    }
   ],
   "source": [
    "#Tabela Customers\n",
    "df_customers.head()"
   ]
  },
  {
   "cell_type": "markdown",
   "id": "fd4912eb",
   "metadata": {},
   "source": [
    "### Idade"
   ]
  },
  {
   "cell_type": "code",
   "execution_count": 689,
   "id": "4252cb73",
   "metadata": {
    "ExecuteTime": {
     "end_time": "2021-09-06T21:54:02.245678Z",
     "start_time": "2021-09-06T21:54:02.237716Z"
    }
   },
   "outputs": [
    {
     "data": {
      "text/plain": [
       "30    67\n",
       "25    56\n",
       "33    55\n",
       "29    49\n",
       "28    49\n",
       "      ..\n",
       "69     1\n",
       "17     1\n",
       "6      1\n",
       "15     1\n",
       "90     1\n",
       "Name: Age, Length: 65, dtype: int64"
      ]
     },
     "execution_count": 689,
     "metadata": {},
     "output_type": "execute_result"
    }
   ],
   "source": [
    "df_customers['Age'].value_counts()"
   ]
  },
  {
   "cell_type": "code",
   "execution_count": 690,
   "id": "3e673762",
   "metadata": {
    "ExecuteTime": {
     "end_time": "2021-09-06T21:54:07.992324Z",
     "start_time": "2021-09-06T21:54:07.679780Z"
    }
   },
   "outputs": [
    {
     "data": {
      "image/png": "[encoded data removed]",
      "text/plain": [
       "<Figure size 720x360 with 1 Axes>"
      ]
     },
     "metadata": {},
     "output_type": "display_data"
    }
   ],
   "source": [
    "# Criando o ambiente do gráfico \n",
    "sns.set_style(\"white\")\n",
    "plt.figure(figsize=(10, 5))\n",
    "\n",
    "# Gráfico de Dispersão\n",
    "g = sns.scatterplot(x=\"MonthlyIncome\", y=\"Age\", \n",
    "                    data=df_customers)\n",
    "plt.show()"
   ]
  },
  {
   "cell_type": "code",
   "execution_count": 751,
   "id": "70a05d4c",
   "metadata": {
    "ExecuteTime": {
     "end_time": "2021-09-06T23:03:59.249578Z",
     "start_time": "2021-09-06T23:03:58.932207Z"
    }
   },
   "outputs": [
    {
     "data": {
      "text/plain": [
       "<AxesSubplot:title={'center':'Idades'}, ylabel='Frequency'>"
      ]
     },
     "execution_count": 751,
     "metadata": {},
     "output_type": "execute_result"
    },
    {
     "data": {
      "image/png": "[encoded data removed]",
      "text/plain": [
       "<Figure size 1080x360 with 1 Axes>"
      ]
     },
     "metadata": {},
     "output_type": "display_data"
    }
   ],
   "source": [
    "df_customers[['Age']].plot.hist(bins = 20, title = 'Idades')"
   ]
  },
  {
   "cell_type": "markdown",
   "id": "051e561a",
   "metadata": {
    "ExecuteTime": {
     "end_time": "2021-09-06T22:08:12.019400Z",
     "start_time": "2021-09-06T22:08:12.000407Z"
    }
   },
   "source": [
    "#### Existem registros de pessoas com idade menor do que 18 anos. Optou-se por dropar entendendo que estes dados podem ser considerador outliers uma vez que para ser um investidor no Brasil, a idade mínima é de 18 anos"
   ]
  },
  {
   "cell_type": "code",
   "execution_count": 775,
   "id": "b5b4995a",
   "metadata": {
    "ExecuteTime": {
     "end_time": "2021-09-06T23:14:23.227010Z",
     "start_time": "2021-09-06T23:14:23.217882Z"
    }
   },
   "outputs": [],
   "source": [
    "#Dropando registros de idade menor que 18 anos\n",
    "df_profile = df_customers[df_customers['Age'] > 18]"
   ]
  },
  {
   "cell_type": "code",
   "execution_count": 777,
   "id": "ea27cbdc",
   "metadata": {
    "ExecuteTime": {
     "end_time": "2021-09-06T23:14:42.611694Z",
     "start_time": "2021-09-06T23:14:42.266730Z"
    }
   },
   "outputs": [
    {
     "data": {
      "text/plain": [
       "<AxesSubplot:title={'center':'Idades'}, ylabel='Frequency'>"
      ]
     },
     "execution_count": 777,
     "metadata": {},
     "output_type": "execute_result"
    },
    {
     "data": {
      "image/png": "[encoded data removed]",
      "text/plain": [
       "<Figure size 1080x360 with 1 Axes>"
      ]
     },
     "metadata": {},
     "output_type": "display_data"
    }
   ],
   "source": [
    "df_profile[['Age']].plot.hist(bins = 20, title = 'Idades')"
   ]
  },
  {
   "cell_type": "markdown",
   "id": "41f77cb7",
   "metadata": {},
   "source": [
    "## Renda Mensal"
   ]
  },
  {
   "cell_type": "code",
   "execution_count": 778,
   "id": "5607e83f",
   "metadata": {
    "ExecuteTime": {
     "end_time": "2021-09-06T23:14:47.884753Z",
     "start_time": "2021-09-06T23:14:47.865752Z"
    }
   },
   "outputs": [
    {
     "data": {
      "text/html": [
       "<div>\n",
       "<style scoped>\n",
       "    .dataframe tbody tr th:only-of-type {\n",
       "        vertical-align: middle;\n",
       "    }\n",
       "\n",
       "    .dataframe tbody tr th {\n",
       "        vertical-align: top;\n",
       "    }\n",
       "\n",
       "    .dataframe thead th {\n",
       "        text-align: right;\n",
       "    }\n",
       "</style>\n",
       "<table border=\"1\" class=\"dataframe\">\n",
       "  <thead>\n",
       "    <tr style=\"text-align: right;\">\n",
       "      <th></th>\n",
       "      <th>CustomerApiid</th>\n",
       "      <th>CustomerId</th>\n",
       "      <th>AUM</th>\n",
       "      <th>RegisterDate</th>\n",
       "      <th>AmountFirstDeposit</th>\n",
       "      <th>TotalDeposits</th>\n",
       "      <th>TotalWithdrawals</th>\n",
       "      <th>MonthlyIncome</th>\n",
       "      <th>FinancialInvestmentsValue</th>\n",
       "      <th>Age</th>\n",
       "      <th>ComputedRiskTolerance</th>\n",
       "    </tr>\n",
       "  </thead>\n",
       "  <tbody>\n",
       "    <tr>\n",
       "      <th>1</th>\n",
       "      <td>60c77e1ffdaebd001875353e</td>\n",
       "      <td>192853</td>\n",
       "      <td>1798</td>\n",
       "      <td>2021-06-14 16:13:56</td>\n",
       "      <td>300.048411</td>\n",
       "      <td>2</td>\n",
       "      <td>0</td>\n",
       "      <td>8000</td>\n",
       "      <td>180000.0</td>\n",
       "      <td>35</td>\n",
       "      <td>77.78</td>\n",
       "    </tr>\n",
       "    <tr>\n",
       "      <th>2</th>\n",
       "      <td>588f45ae0a760bb65b380afa</td>\n",
       "      <td>11897</td>\n",
       "      <td>1621</td>\n",
       "      <td>2017-09-14 12:08:06</td>\n",
       "      <td>2500.000000</td>\n",
       "      <td>13</td>\n",
       "      <td>2</td>\n",
       "      <td>4500</td>\n",
       "      <td>0.0</td>\n",
       "      <td>32</td>\n",
       "      <td>17.00</td>\n",
       "    </tr>\n",
       "    <tr>\n",
       "      <th>3</th>\n",
       "      <td>5915d73623d4b1881694e11e</td>\n",
       "      <td>12583</td>\n",
       "      <td>78643</td>\n",
       "      <td>2017-09-25 15:44:40</td>\n",
       "      <td>2005.000000</td>\n",
       "      <td>37</td>\n",
       "      <td>7</td>\n",
       "      <td>18000</td>\n",
       "      <td>120000.0</td>\n",
       "      <td>34</td>\n",
       "      <td>69.17</td>\n",
       "    </tr>\n",
       "    <tr>\n",
       "      <th>4</th>\n",
       "      <td>591f5f3b3daa47c6488bce3f</td>\n",
       "      <td>5564</td>\n",
       "      <td>422</td>\n",
       "      <td>2017-05-22 18:38:05</td>\n",
       "      <td>2000.000000</td>\n",
       "      <td>23</td>\n",
       "      <td>7</td>\n",
       "      <td>2000</td>\n",
       "      <td>45000.0</td>\n",
       "      <td>29</td>\n",
       "      <td>0.00</td>\n",
       "    </tr>\n",
       "    <tr>\n",
       "      <th>5</th>\n",
       "      <td>5966a3dc3d3c271d31a9e17f</td>\n",
       "      <td>7597</td>\n",
       "      <td>1703</td>\n",
       "      <td>2017-07-13 15:11:03</td>\n",
       "      <td>1000.000000</td>\n",
       "      <td>52</td>\n",
       "      <td>30</td>\n",
       "      <td>8800</td>\n",
       "      <td>0.0</td>\n",
       "      <td>31</td>\n",
       "      <td>15.50</td>\n",
       "    </tr>\n",
       "  </tbody>\n",
       "</table>\n",
       "</div>"
      ],
      "text/plain": [
       "              CustomerApiid  CustomerId    AUM        RegisterDate  \\\n",
       "1  60c77e1ffdaebd001875353e      192853   1798 2021-06-14 16:13:56   \n",
       "2  588f45ae0a760bb65b380afa       11897   1621 2017-09-14 12:08:06   \n",
       "3  5915d73623d4b1881694e11e       12583  78643 2017-09-25 15:44:40   \n",
       "4  591f5f3b3daa47c6488bce3f        5564    422 2017-05-22 18:38:05   \n",
       "5  5966a3dc3d3c271d31a9e17f        7597   1703 2017-07-13 15:11:03   \n",
       "\n",
       "   AmountFirstDeposit  TotalDeposits  TotalWithdrawals  MonthlyIncome  \\\n",
       "1          300.048411              2                 0           8000   \n",
       "2         2500.000000             13                 2           4500   \n",
       "3         2005.000000             37                 7          18000   \n",
       "4         2000.000000             23                 7           2000   \n",
       "5         1000.000000             52                30           8800   \n",
       "\n",
       "   FinancialInvestmentsValue  Age  ComputedRiskTolerance  \n",
       "1                   180000.0   35                  77.78  \n",
       "2                        0.0   32                  17.00  \n",
       "3                   120000.0   34                  69.17  \n",
       "4                    45000.0   29                   0.00  \n",
       "5                        0.0   31                  15.50  "
      ]
     },
     "execution_count": 778,
     "metadata": {},
     "output_type": "execute_result"
    }
   ],
   "source": [
    "df_profile.head()"
   ]
  },
  {
   "cell_type": "code",
   "execution_count": 779,
   "id": "065fa347",
   "metadata": {
    "ExecuteTime": {
     "end_time": "2021-09-06T23:14:50.231112Z",
     "start_time": "2021-09-06T23:14:50.223108Z"
    }
   },
   "outputs": [
    {
     "data": {
      "text/plain": [
       "5000     66\n",
       "10000    52\n",
       "3000     51\n",
       "2000     44\n",
       "4000     42\n",
       "         ..\n",
       "26000     1\n",
       "360       1\n",
       "2401      1\n",
       "1520      1\n",
       "17400     1\n",
       "Name: MonthlyIncome, Length: 191, dtype: int64"
      ]
     },
     "execution_count": 779,
     "metadata": {},
     "output_type": "execute_result"
    }
   ],
   "source": [
    "df_profile['MonthlyIncome'].value_counts()"
   ]
  },
  {
   "cell_type": "code",
   "execution_count": 780,
   "id": "1c3d67c0",
   "metadata": {
    "ExecuteTime": {
     "end_time": "2021-09-06T23:14:52.717717Z",
     "start_time": "2021-09-06T23:14:52.387248Z"
    }
   },
   "outputs": [
    {
     "data": {
      "text/plain": [
       "<AxesSubplot:title={'center':'Renda mensal'}, ylabel='Frequency'>"
      ]
     },
     "execution_count": 780,
     "metadata": {},
     "output_type": "execute_result"
    },
    {
     "data": {
      "image/png": "[encoded data removed]",
      "text/plain": [
       "<Figure size 1080x360 with 1 Axes>"
      ]
     },
     "metadata": {},
     "output_type": "display_data"
    }
   ],
   "source": [
    "df_profile[['MonthlyIncome']].plot.hist(bins = 20, title = 'Renda mensal')"
   ]
  },
  {
   "cell_type": "code",
   "execution_count": 781,
   "id": "736c8cd3",
   "metadata": {
    "ExecuteTime": {
     "end_time": "2021-09-06T23:14:56.614734Z",
     "start_time": "2021-09-06T23:14:56.279732Z"
    }
   },
   "outputs": [
    {
     "data": {
      "text/plain": [
       "<AxesSubplot:ylabel='Frequency'>"
      ]
     },
     "execution_count": 781,
     "metadata": {},
     "output_type": "execute_result"
    },
    {
     "data": {
      "image/png": "[encoded data removed]",
      "text/plain": [
       "<Figure size 1080x360 with 1 Axes>"
      ]
     },
     "metadata": {},
     "output_type": "display_data"
    }
   ],
   "source": [
    "#Filtro por renda mensal maior que 0 e menor que R$ 50.000\n",
    "df_profile[(df_profile['MonthlyIncome'] > 0) & (df_profile['MonthlyIncome'] <= 50000)]['MonthlyIncome'].plot(kind='hist', bins=50)"
   ]
  },
  {
   "cell_type": "markdown",
   "id": "6e1aef53",
   "metadata": {},
   "source": [
    "#### Pessoas com renda mensal até 50 mil reais investem no Warren. Contudo, há uma incidência menor para perfis com salários acima de 20 mil reais"
   ]
  },
  {
   "cell_type": "code",
   "execution_count": 791,
   "id": "ef215bd7",
   "metadata": {
    "ExecuteTime": {
     "end_time": "2021-09-06T23:21:15.162584Z",
     "start_time": "2021-09-06T23:21:15.148544Z"
    }
   },
   "outputs": [],
   "source": [
    "#Limpeza da base removendo os outliers para feature de renda mensal\n",
    "df_profile = df_customers[(df_customers['MonthlyIncome'] > 0) & (df_customers['MonthlyIncome'] <= 50000)]"
   ]
  },
  {
   "cell_type": "markdown",
   "id": "c5b19b00",
   "metadata": {},
   "source": [
    "## Valor declarado que o cliente tem investido"
   ]
  },
  {
   "cell_type": "code",
   "execution_count": 799,
   "id": "c8597112",
   "metadata": {
    "ExecuteTime": {
     "end_time": "2021-09-06T23:25:21.760418Z",
     "start_time": "2021-09-06T23:25:21.438374Z"
    }
   },
   "outputs": [
    {
     "data": {
      "text/plain": [
       "<AxesSubplot:title={'center':'Valor Investido'}, ylabel='Frequency'>"
      ]
     },
     "execution_count": 799,
     "metadata": {},
     "output_type": "execute_result"
    },
    {
     "data": {
      "image/png": "[encoded data removed]",
      "text/plain": [
       "<Figure size 1080x360 with 1 Axes>"
      ]
     },
     "metadata": {},
     "output_type": "display_data"
    }
   ],
   "source": [
    "df_profile[['FinancialInvestmentsValue']].plot.hist(bins = 20, title = 'Valor Investido')"
   ]
  },
  {
   "cell_type": "code",
   "execution_count": 797,
   "id": "8ac6dd74",
   "metadata": {
    "ExecuteTime": {
     "end_time": "2021-09-06T23:24:56.602965Z",
     "start_time": "2021-09-06T23:24:56.587968Z"
    }
   },
   "outputs": [],
   "source": [
    "df_profile = df_customers[df_customers['FinancialInvestmentsValue'] > 0]"
   ]
  },
  {
   "cell_type": "code",
   "execution_count": 813,
   "id": "9f9a8218",
   "metadata": {
    "ExecuteTime": {
     "end_time": "2021-09-06T23:28:41.307714Z",
     "start_time": "2021-09-06T23:28:40.955182Z"
    }
   },
   "outputs": [
    {
     "data": {
      "text/plain": [
       "<AxesSubplot:ylabel='Frequency'>"
      ]
     },
     "execution_count": 813,
     "metadata": {},
     "output_type": "execute_result"
    },
    {
     "data": {
      "image/png": "[encoded data removed]",
      "text/plain": [
       "<Figure size 1080x360 with 1 Axes>"
      ]
     },
     "metadata": {},
     "output_type": "display_data"
    }
   ],
   "source": [
    "df_profile[(df_profile['FinancialInvestmentsValue'] > 0) & (df_profile['FinancialInvestmentsValue'] <= 200000)]['FinancialInvestmentsValue'].plot(kind='hist', bins=50)"
   ]
  },
  {
   "cell_type": "markdown",
   "id": "4c62b095",
   "metadata": {},
   "source": [
    "##### Seguindo no perfil das pessoas investidoras, nota-se que a maioria possui menos de 25.000 reais em investimentos"
   ]
  },
  {
   "cell_type": "code",
   "execution_count": 817,
   "id": "48848a59",
   "metadata": {
    "ExecuteTime": {
     "end_time": "2021-09-06T23:32:26.262715Z",
     "start_time": "2021-09-06T23:32:26.256677Z"
    }
   },
   "outputs": [],
   "source": [
    "#Removendo outliers para maior granularidade\n",
    "df_profile = df_profile[(df_profile['FinancialInvestmentsValue'] > 0) & (df_profile['FinancialInvestmentsValue'] <= 200000)]\n"
   ]
  },
  {
   "cell_type": "code",
   "execution_count": 818,
   "id": "f71b19a6",
   "metadata": {
    "ExecuteTime": {
     "end_time": "2021-09-06T23:32:28.547795Z",
     "start_time": "2021-09-06T23:32:28.146489Z"
    }
   },
   "outputs": [
    {
     "data": {
      "text/plain": [
       "<AxesSubplot:title={'center':'Valor Investido'}, ylabel='Frequency'>"
      ]
     },
     "execution_count": 818,
     "metadata": {},
     "output_type": "execute_result"
    },
    {
     "data": {
      "image/png": "[encoded data removed]",
      "text/plain": [
       "<Figure size 1080x360 with 1 Axes>"
      ]
     },
     "metadata": {},
     "output_type": "display_data"
    }
   ],
   "source": [
    "df_profile[['FinancialInvestmentsValue']].plot.hist(bins = 50, title = 'Valor Investido')"
   ]
  },
  {
   "cell_type": "code",
   "execution_count": null,
   "id": "22ed7890",
   "metadata": {},
   "outputs": [],
   "source": []
  },
  {
   "cell_type": "code",
   "execution_count": null,
   "id": "51650df3",
   "metadata": {},
   "outputs": [],
   "source": []
  },
  {
   "cell_type": "code",
   "execution_count": null,
   "id": "2f367132",
   "metadata": {},
   "outputs": [],
   "source": []
  },
  {
   "cell_type": "markdown",
   "id": "3f09b26f",
   "metadata": {},
   "source": [
    "### Cálculo de correlação"
   ]
  },
  {
   "cell_type": "code",
   "execution_count": 826,
   "id": "baaa20f0",
   "metadata": {
    "ExecuteTime": {
     "end_time": "2021-09-06T23:53:17.958269Z",
     "start_time": "2021-09-06T23:53:17.924591Z"
    }
   },
   "outputs": [
    {
     "data": {
      "text/html": [
       "<div>\n",
       "<style scoped>\n",
       "    .dataframe tbody tr th:only-of-type {\n",
       "        vertical-align: middle;\n",
       "    }\n",
       "\n",
       "    .dataframe tbody tr th {\n",
       "        vertical-align: top;\n",
       "    }\n",
       "\n",
       "    .dataframe thead th {\n",
       "        text-align: right;\n",
       "    }\n",
       "</style>\n",
       "<table border=\"1\" class=\"dataframe\">\n",
       "  <thead>\n",
       "    <tr style=\"text-align: right;\">\n",
       "      <th></th>\n",
       "      <th>CustomerId</th>\n",
       "      <th>AUM</th>\n",
       "      <th>AmountFirstDeposit</th>\n",
       "      <th>TotalDeposits</th>\n",
       "      <th>TotalWithdrawals</th>\n",
       "      <th>MonthlyIncome</th>\n",
       "      <th>FinancialInvestmentsValue</th>\n",
       "      <th>Age</th>\n",
       "      <th>ComputedRiskTolerance</th>\n",
       "    </tr>\n",
       "  </thead>\n",
       "  <tbody>\n",
       "    <tr>\n",
       "      <th>CustomerId</th>\n",
       "      <td>1.000</td>\n",
       "      <td>-0.085</td>\n",
       "      <td>0.044</td>\n",
       "      <td>-0.539</td>\n",
       "      <td>-0.341</td>\n",
       "      <td>0.023</td>\n",
       "      <td>-0.050</td>\n",
       "      <td>0.068</td>\n",
       "      <td>0.183</td>\n",
       "    </tr>\n",
       "    <tr>\n",
       "      <th>AUM</th>\n",
       "      <td>-0.085</td>\n",
       "      <td>1.000</td>\n",
       "      <td>0.804</td>\n",
       "      <td>0.371</td>\n",
       "      <td>0.156</td>\n",
       "      <td>-0.012</td>\n",
       "      <td>0.305</td>\n",
       "      <td>0.214</td>\n",
       "      <td>0.041</td>\n",
       "    </tr>\n",
       "    <tr>\n",
       "      <th>AmountFirstDeposit</th>\n",
       "      <td>0.044</td>\n",
       "      <td>0.804</td>\n",
       "      <td>1.000</td>\n",
       "      <td>0.169</td>\n",
       "      <td>0.060</td>\n",
       "      <td>-0.007</td>\n",
       "      <td>0.186</td>\n",
       "      <td>0.237</td>\n",
       "      <td>0.022</td>\n",
       "    </tr>\n",
       "    <tr>\n",
       "      <th>TotalDeposits</th>\n",
       "      <td>-0.539</td>\n",
       "      <td>0.371</td>\n",
       "      <td>0.169</td>\n",
       "      <td>1.000</td>\n",
       "      <td>0.453</td>\n",
       "      <td>0.094</td>\n",
       "      <td>0.178</td>\n",
       "      <td>0.008</td>\n",
       "      <td>0.004</td>\n",
       "    </tr>\n",
       "    <tr>\n",
       "      <th>TotalWithdrawals</th>\n",
       "      <td>-0.341</td>\n",
       "      <td>0.156</td>\n",
       "      <td>0.060</td>\n",
       "      <td>0.453</td>\n",
       "      <td>1.000</td>\n",
       "      <td>0.100</td>\n",
       "      <td>0.011</td>\n",
       "      <td>-0.033</td>\n",
       "      <td>-0.103</td>\n",
       "    </tr>\n",
       "    <tr>\n",
       "      <th>MonthlyIncome</th>\n",
       "      <td>0.023</td>\n",
       "      <td>-0.012</td>\n",
       "      <td>-0.007</td>\n",
       "      <td>0.094</td>\n",
       "      <td>0.100</td>\n",
       "      <td>1.000</td>\n",
       "      <td>0.040</td>\n",
       "      <td>0.020</td>\n",
       "      <td>0.120</td>\n",
       "    </tr>\n",
       "    <tr>\n",
       "      <th>FinancialInvestmentsValue</th>\n",
       "      <td>-0.050</td>\n",
       "      <td>0.305</td>\n",
       "      <td>0.186</td>\n",
       "      <td>0.178</td>\n",
       "      <td>0.011</td>\n",
       "      <td>0.040</td>\n",
       "      <td>1.000</td>\n",
       "      <td>0.303</td>\n",
       "      <td>0.245</td>\n",
       "    </tr>\n",
       "    <tr>\n",
       "      <th>Age</th>\n",
       "      <td>0.068</td>\n",
       "      <td>0.214</td>\n",
       "      <td>0.237</td>\n",
       "      <td>0.008</td>\n",
       "      <td>-0.033</td>\n",
       "      <td>0.020</td>\n",
       "      <td>0.303</td>\n",
       "      <td>1.000</td>\n",
       "      <td>0.035</td>\n",
       "    </tr>\n",
       "    <tr>\n",
       "      <th>ComputedRiskTolerance</th>\n",
       "      <td>0.183</td>\n",
       "      <td>0.041</td>\n",
       "      <td>0.022</td>\n",
       "      <td>0.004</td>\n",
       "      <td>-0.103</td>\n",
       "      <td>0.120</td>\n",
       "      <td>0.245</td>\n",
       "      <td>0.035</td>\n",
       "      <td>1.000</td>\n",
       "    </tr>\n",
       "  </tbody>\n",
       "</table>\n",
       "</div>"
      ],
      "text/plain": [
       "                           CustomerId    AUM  AmountFirstDeposit  \\\n",
       "CustomerId                      1.000 -0.085               0.044   \n",
       "AUM                            -0.085  1.000               0.804   \n",
       "AmountFirstDeposit              0.044  0.804               1.000   \n",
       "TotalDeposits                  -0.539  0.371               0.169   \n",
       "TotalWithdrawals               -0.341  0.156               0.060   \n",
       "MonthlyIncome                   0.023 -0.012              -0.007   \n",
       "FinancialInvestmentsValue      -0.050  0.305               0.186   \n",
       "Age                             0.068  0.214               0.237   \n",
       "ComputedRiskTolerance           0.183  0.041               0.022   \n",
       "\n",
       "                           TotalDeposits  TotalWithdrawals  MonthlyIncome  \\\n",
       "CustomerId                        -0.539            -0.341          0.023   \n",
       "AUM                                0.371             0.156         -0.012   \n",
       "AmountFirstDeposit                 0.169             0.060         -0.007   \n",
       "TotalDeposits                      1.000             0.453          0.094   \n",
       "TotalWithdrawals                   0.453             1.000          0.100   \n",
       "MonthlyIncome                      0.094             0.100          1.000   \n",
       "FinancialInvestmentsValue          0.178             0.011          0.040   \n",
       "Age                                0.008            -0.033          0.020   \n",
       "ComputedRiskTolerance              0.004            -0.103          0.120   \n",
       "\n",
       "                           FinancialInvestmentsValue    Age  \\\n",
       "CustomerId                                    -0.050  0.068   \n",
       "AUM                                            0.305  0.214   \n",
       "AmountFirstDeposit                             0.186  0.237   \n",
       "TotalDeposits                                  0.178  0.008   \n",
       "TotalWithdrawals                               0.011 -0.033   \n",
       "MonthlyIncome                                  0.040  0.020   \n",
       "FinancialInvestmentsValue                      1.000  0.303   \n",
       "Age                                            0.303  1.000   \n",
       "ComputedRiskTolerance                          0.245  0.035   \n",
       "\n",
       "                           ComputedRiskTolerance  \n",
       "CustomerId                                 0.183  \n",
       "AUM                                        0.041  \n",
       "AmountFirstDeposit                         0.022  \n",
       "TotalDeposits                              0.004  \n",
       "TotalWithdrawals                          -0.103  \n",
       "MonthlyIncome                              0.120  \n",
       "FinancialInvestmentsValue                  0.245  \n",
       "Age                                        0.035  \n",
       "ComputedRiskTolerance                      1.000  "
      ]
     },
     "execution_count": 826,
     "metadata": {},
     "output_type": "execute_result"
    }
   ],
   "source": [
    "round(df_profile.corr(), 3)"
   ]
  },
  {
   "cell_type": "code",
   "execution_count": 827,
   "id": "28c154e1",
   "metadata": {
    "ExecuteTime": {
     "end_time": "2021-09-06T23:53:25.731178Z",
     "start_time": "2021-09-06T23:53:24.737515Z"
    }
   },
   "outputs": [
    {
     "data": {
      "text/plain": [
       "<AxesSubplot:>"
      ]
     },
     "execution_count": 827,
     "metadata": {},
     "output_type": "execute_result"
    },
    {
     "data": {
      "image/png": "[encoded data removed]",
      "text/plain": [
       "<Figure size 576x576 with 2 Axes>"
      ]
     },
     "metadata": {},
     "output_type": "display_data"
    }
   ],
   "source": [
    "plt.figure(figsize=(8,8))\n",
    "sns.heatmap(df_profile.corr(), annot=True, square=True)\n",
    "\n",
    "#annot traz os números - annotation\n",
    "#square=True torna o gráfico quadrado\n"
   ]
  },
  {
   "cell_type": "code",
   "execution_count": 723,
   "id": "384b80a8",
   "metadata": {
    "ExecuteTime": {
     "end_time": "2021-09-06T22:16:33.770182Z",
     "start_time": "2021-09-06T22:16:33.762184Z"
    }
   },
   "outputs": [
    {
     "data": {
      "text/plain": [
       "\"#Agrupamento por faixa de idade tendo como referência os relatórios do IBGE\\n\\ndf_profile['Age'] = df_customers['Age'].apply(lambda x: '0-18' if x >= 0 and x <= 18\\n                                                else('20-24' if x <= 24\\n                                                else('25-29' if x <= 29\\n                                                else('30-34' if x <= 34\\n                                                else('35-39' if x <= 39\\n                                                else('40-44' if x <= 44\\n                                                else('45-49' if x <= 49\\n                                                else('50-54' if x <= 54\\n                                                else('55-59' if x <= 59\\n                                                else('60-69' if x <= 69\\n                                                else('70+' if x >= 70\\n                                                else(x))))))))))))\\ndf_profile\""
      ]
     },
     "execution_count": 723,
     "metadata": {},
     "output_type": "execute_result"
    }
   ],
   "source": [
    "'''#Agrupamento por faixa de idade tendo como referência os relatórios do IBGE\n",
    "\n",
    "df_profile['Age'] = df_customers['Age'].apply(lambda x: '0-18' if x >= 0 and x <= 18\n",
    "                                                else('20-24' if x <= 24\n",
    "                                                else('25-29' if x <= 29\n",
    "                                                else('30-34' if x <= 34\n",
    "                                                else('35-39' if x <= 39\n",
    "                                                else('40-44' if x <= 44\n",
    "                                                else('45-49' if x <= 49\n",
    "                                                else('50-54' if x <= 54\n",
    "                                                else('55-59' if x <= 59\n",
    "                                                else('60-69' if x <= 69\n",
    "                                                else('70+' if x >= 70\n",
    "                                                else(x))))))))))))\n",
    "df_profile'''"
   ]
  },
  {
   "cell_type": "code",
   "execution_count": 724,
   "id": "2b40921c",
   "metadata": {
    "ExecuteTime": {
     "end_time": "2021-09-06T22:16:39.284444Z",
     "start_time": "2021-09-06T22:16:39.265402Z"
    }
   },
   "outputs": [
    {
     "data": {
      "text/plain": [
       "\"df_profile.sort_values(by=['Age'], inplace=True, ascending=True)\\ndf_profile.reset_index(inplace=True)\\ndf_profile.head()\""
      ]
     },
     "execution_count": 724,
     "metadata": {},
     "output_type": "execute_result"
    }
   ],
   "source": [
    "'''df_profile.sort_values(by=['Age'], inplace=True, ascending=True)\n",
    "df_profile.reset_index(inplace=True)\n",
    "df_profile.head()'''"
   ]
  },
  {
   "cell_type": "code",
   "execution_count": 627,
   "id": "19f68e6e",
   "metadata": {
    "ExecuteTime": {
     "end_time": "2021-09-06T20:36:21.008668Z",
     "start_time": "2021-09-06T20:36:20.724476Z"
    }
   },
   "outputs": [
    {
     "data": {
      "image/png": "[encoded data removed]",
      "text/plain": [
       "<Figure size 1080x360 with 1 Axes>"
      ]
     },
     "metadata": {},
     "output_type": "display_data"
    }
   ],
   "source": [
    "ax = sns.countplot(x=\"Age\", data=df_profile, palette=\"rocket\")\n",
    "ax.set_xticklabels(ax.get_xticklabels(), rotation=90)\n",
    "display()"
   ]
  },
  {
   "cell_type": "code",
   "execution_count": 655,
   "id": "ad975cdc",
   "metadata": {
    "ExecuteTime": {
     "end_time": "2021-09-06T21:10:05.453914Z",
     "start_time": "2021-09-06T21:10:02.670589Z"
    }
   },
   "outputs": [
    {
     "data": {
      "image/png": "[encoded data removed]",
      "text/plain": [
       "<Figure size 1080x360 with 1 Axes>"
      ]
     },
     "metadata": {},
     "output_type": "display_data"
    }
   ],
   "source": [
    "ax = sns.countplot(x=\"Age\", data=df_customers, palette=\"rocket\")\n",
    "ax.set_xticklabels(ax.get_xticklabels(), rotation=90)\n",
    "display()"
   ]
  },
  {
   "cell_type": "markdown",
   "id": "efae610c",
   "metadata": {},
   "source": [
    "### - É possível verificar que há pessoas com idade inferior a 18 anos\n",
    "### - A maior distribuição de clientes tem entre 20 e 39 anos"
   ]
  },
  {
   "cell_type": "markdown",
   "id": "6d027481",
   "metadata": {},
   "source": [
    "# PAREI A CORREÇÃO AQUI"
   ]
  },
  {
   "cell_type": "code",
   "execution_count": 828,
   "id": "5191fe9d",
   "metadata": {
    "ExecuteTime": {
     "end_time": "2021-09-06T23:54:11.941589Z",
     "start_time": "2021-09-06T23:54:11.922593Z"
    }
   },
   "outputs": [
    {
     "data": {
      "text/plain": [
       "\"#gráfico de dispersão\\nsns.pairplot(data = df_client, vars=['Age','MonthlyIncome','FinancialInvestmentsValue'])\\nplt.show()\""
      ]
     },
     "execution_count": 828,
     "metadata": {},
     "output_type": "execute_result"
    }
   ],
   "source": [
    "'''#gráfico de dispersão\n",
    "sns.pairplot(data = df_client, vars=['Age','MonthlyIncome','FinancialInvestmentsValue'])\n",
    "plt.show()'''"
   ]
  },
  {
   "cell_type": "markdown",
   "id": "d83da828",
   "metadata": {},
   "source": [
    "___"
   ]
  },
  {
   "cell_type": "markdown",
   "id": "2e5db978",
   "metadata": {
    "ExecuteTime": {
     "end_time": "2021-09-03T03:37:05.796674Z",
     "start_time": "2021-09-03T03:37:05.789707Z"
    }
   },
   "source": [
    "# Unindo os dataframes para enriquecer a base"
   ]
  },
  {
   "cell_type": "code",
   "execution_count": 446,
   "id": "1724754f",
   "metadata": {
    "ExecuteTime": {
     "end_time": "2021-09-06T15:30:35.777307Z",
     "start_time": "2021-09-06T15:30:35.739313Z"
    }
   },
   "outputs": [
    {
     "data": {
      "text/plain": [
       "30"
      ]
     },
     "execution_count": 446,
     "metadata": {},
     "output_type": "execute_result"
    }
   ],
   "source": [
    "df_client['CustomerId'].value_counts().sum()"
   ]
  },
  {
   "cell_type": "code",
   "execution_count": 327,
   "id": "c64223e2",
   "metadata": {
    "ExecuteTime": {
     "end_time": "2021-09-06T13:38:29.637296Z",
     "start_time": "2021-09-06T13:38:29.577302Z"
    }
   },
   "outputs": [
    {
     "data": {
      "text/html": [
       "<div>\n",
       "<style scoped>\n",
       "    .dataframe tbody tr th:only-of-type {\n",
       "        vertical-align: middle;\n",
       "    }\n",
       "\n",
       "    .dataframe tbody tr th {\n",
       "        vertical-align: top;\n",
       "    }\n",
       "\n",
       "    .dataframe thead th {\n",
       "        text-align: right;\n",
       "    }\n",
       "</style>\n",
       "<table border=\"1\" class=\"dataframe\">\n",
       "  <thead>\n",
       "    <tr style=\"text-align: right;\">\n",
       "      <th></th>\n",
       "      <th>CustomerApiid</th>\n",
       "      <th>CustomerId</th>\n",
       "      <th>AUM</th>\n",
       "      <th>RegisterDate</th>\n",
       "      <th>AmountFirstDeposit</th>\n",
       "      <th>TotalDeposits</th>\n",
       "      <th>TotalWithdrawals</th>\n",
       "      <th>MonthlyIncome</th>\n",
       "      <th>FinancialInvestmentsValue</th>\n",
       "      <th>Age</th>\n",
       "      <th>ComputedRiskTolerance</th>\n",
       "      <th>Id</th>\n",
       "      <th>Direction</th>\n",
       "      <th>Amount</th>\n",
       "      <th>OperatedAt</th>\n",
       "    </tr>\n",
       "    <tr>\n",
       "      <th>index</th>\n",
       "      <th></th>\n",
       "      <th></th>\n",
       "      <th></th>\n",
       "      <th></th>\n",
       "      <th></th>\n",
       "      <th></th>\n",
       "      <th></th>\n",
       "      <th></th>\n",
       "      <th></th>\n",
       "      <th></th>\n",
       "      <th></th>\n",
       "      <th></th>\n",
       "      <th></th>\n",
       "      <th></th>\n",
       "      <th></th>\n",
       "    </tr>\n",
       "  </thead>\n",
       "  <tbody>\n",
       "    <tr>\n",
       "      <th>0</th>\n",
       "      <td>597d1f93ad57cd674deb5dfd</td>\n",
       "      <td>64617</td>\n",
       "      <td>65413.030158</td>\n",
       "      <td>2019-01-02 16:58:00</td>\n",
       "      <td>200.0</td>\n",
       "      <td>22</td>\n",
       "      <td>1</td>\n",
       "      <td>8000.00</td>\n",
       "      <td>0.0</td>\n",
       "      <td>37</td>\n",
       "      <td>24.00</td>\n",
       "      <td>1201605</td>\n",
       "      <td>10</td>\n",
       "      <td>2000.000000</td>\n",
       "      <td>2021-01-04 09:31:27</td>\n",
       "    </tr>\n",
       "    <tr>\n",
       "      <th>1</th>\n",
       "      <td>5a04bd4815a605790aff5c77</td>\n",
       "      <td>24431</td>\n",
       "      <td>0.000000</td>\n",
       "      <td>2018-01-02 18:41:09</td>\n",
       "      <td>300.0</td>\n",
       "      <td>14</td>\n",
       "      <td>9</td>\n",
       "      <td>2000.00</td>\n",
       "      <td>0.0</td>\n",
       "      <td>22</td>\n",
       "      <td>13.50</td>\n",
       "      <td>1201889</td>\n",
       "      <td>10</td>\n",
       "      <td>100.000000</td>\n",
       "      <td>2021-01-07 00:00:00</td>\n",
       "    </tr>\n",
       "    <tr>\n",
       "      <th>2</th>\n",
       "      <td>5f562b1a8a70670017ab6457</td>\n",
       "      <td>147955</td>\n",
       "      <td>10841.446485</td>\n",
       "      <td>2020-09-07 12:55:00</td>\n",
       "      <td>200.0</td>\n",
       "      <td>14</td>\n",
       "      <td>0</td>\n",
       "      <td>5236.00</td>\n",
       "      <td>100.0</td>\n",
       "      <td>32</td>\n",
       "      <td>17.50</td>\n",
       "      <td>1191683</td>\n",
       "      <td>10</td>\n",
       "      <td>300.000000</td>\n",
       "      <td>2021-01-04 00:00:00</td>\n",
       "    </tr>\n",
       "    <tr>\n",
       "      <th>3</th>\n",
       "      <td>5b8740c9d345ed000ed4a55c</td>\n",
       "      <td>55461</td>\n",
       "      <td>17797.057930</td>\n",
       "      <td>2018-09-04 13:26:27</td>\n",
       "      <td>8000.0</td>\n",
       "      <td>32</td>\n",
       "      <td>3</td>\n",
       "      <td>20000.00</td>\n",
       "      <td>0.0</td>\n",
       "      <td>59</td>\n",
       "      <td>9.00</td>\n",
       "      <td>1189643</td>\n",
       "      <td>10</td>\n",
       "      <td>1200.000000</td>\n",
       "      <td>2021-01-04 00:00:00</td>\n",
       "    </tr>\n",
       "    <tr>\n",
       "      <th>4</th>\n",
       "      <td>58779257b93e5a4001f73dd5</td>\n",
       "      <td>1605</td>\n",
       "      <td>0.000000</td>\n",
       "      <td>2017-02-09 15:39:26</td>\n",
       "      <td>200.0</td>\n",
       "      <td>9</td>\n",
       "      <td>15</td>\n",
       "      <td>4021.00</td>\n",
       "      <td>0.0</td>\n",
       "      <td>31</td>\n",
       "      <td>15.00</td>\n",
       "      <td>1199301</td>\n",
       "      <td>10</td>\n",
       "      <td>400.000000</td>\n",
       "      <td>2021-01-04 00:00:00</td>\n",
       "    </tr>\n",
       "    <tr>\n",
       "      <th>5</th>\n",
       "      <td>5d5c0fa92ec67600101b1268</td>\n",
       "      <td>94233</td>\n",
       "      <td>15583.410122</td>\n",
       "      <td>2019-08-20 15:27:30</td>\n",
       "      <td>100.0</td>\n",
       "      <td>33</td>\n",
       "      <td>9</td>\n",
       "      <td>0.01</td>\n",
       "      <td>1450.0</td>\n",
       "      <td>25</td>\n",
       "      <td>15.00</td>\n",
       "      <td>1199147</td>\n",
       "      <td>10</td>\n",
       "      <td>500.000000</td>\n",
       "      <td>2021-01-04 00:00:00</td>\n",
       "    </tr>\n",
       "    <tr>\n",
       "      <th>6</th>\n",
       "      <td>5d5c0fa92ec67600101b1268</td>\n",
       "      <td>94233</td>\n",
       "      <td>15583.410122</td>\n",
       "      <td>2019-08-20 15:27:30</td>\n",
       "      <td>100.0</td>\n",
       "      <td>33</td>\n",
       "      <td>9</td>\n",
       "      <td>0.01</td>\n",
       "      <td>1450.0</td>\n",
       "      <td>25</td>\n",
       "      <td>15.00</td>\n",
       "      <td>1199156</td>\n",
       "      <td>10</td>\n",
       "      <td>500.000000</td>\n",
       "      <td>2021-01-04 00:00:00</td>\n",
       "    </tr>\n",
       "    <tr>\n",
       "      <th>7</th>\n",
       "      <td>5f46553c3c2f2b001775afa9</td>\n",
       "      <td>146423</td>\n",
       "      <td>21255.786848</td>\n",
       "      <td>2020-08-26 13:24:54</td>\n",
       "      <td>5000.0</td>\n",
       "      <td>23</td>\n",
       "      <td>0</td>\n",
       "      <td>5000.00</td>\n",
       "      <td>25000.0</td>\n",
       "      <td>39</td>\n",
       "      <td>24.00</td>\n",
       "      <td>1198284</td>\n",
       "      <td>10</td>\n",
       "      <td>600.000000</td>\n",
       "      <td>2021-01-04 00:00:00</td>\n",
       "    </tr>\n",
       "    <tr>\n",
       "      <th>8</th>\n",
       "      <td>5cad50e9e887cd001065ff77</td>\n",
       "      <td>81374</td>\n",
       "      <td>364.888763</td>\n",
       "      <td>2019-06-12 13:05:04</td>\n",
       "      <td>125.0</td>\n",
       "      <td>17</td>\n",
       "      <td>16</td>\n",
       "      <td>3000.00</td>\n",
       "      <td>0.0</td>\n",
       "      <td>33</td>\n",
       "      <td>14.00</td>\n",
       "      <td>1185127</td>\n",
       "      <td>10</td>\n",
       "      <td>142.700000</td>\n",
       "      <td>2021-01-04 00:00:00</td>\n",
       "    </tr>\n",
       "    <tr>\n",
       "      <th>9</th>\n",
       "      <td>5b169d700f55060010282193</td>\n",
       "      <td>44234</td>\n",
       "      <td>118.732548</td>\n",
       "      <td>2018-06-12 14:19:29</td>\n",
       "      <td>100.0</td>\n",
       "      <td>18</td>\n",
       "      <td>5</td>\n",
       "      <td>1000.00</td>\n",
       "      <td>0.0</td>\n",
       "      <td>39</td>\n",
       "      <td>27.00</td>\n",
       "      <td>1199784</td>\n",
       "      <td>10</td>\n",
       "      <td>100.000000</td>\n",
       "      <td>2021-01-04 00:00:00</td>\n",
       "    </tr>\n",
       "    <tr>\n",
       "      <th>10</th>\n",
       "      <td>5b169d700f55060010282193</td>\n",
       "      <td>44234</td>\n",
       "      <td>118.732548</td>\n",
       "      <td>2018-06-12 14:19:29</td>\n",
       "      <td>100.0</td>\n",
       "      <td>18</td>\n",
       "      <td>5</td>\n",
       "      <td>1000.00</td>\n",
       "      <td>0.0</td>\n",
       "      <td>39</td>\n",
       "      <td>27.00</td>\n",
       "      <td>1201252</td>\n",
       "      <td>10</td>\n",
       "      <td>10.000000</td>\n",
       "      <td>2021-01-04 10:01:14</td>\n",
       "    </tr>\n",
       "    <tr>\n",
       "      <th>11</th>\n",
       "      <td>5e0e26482e23270010d3a197</td>\n",
       "      <td>158679</td>\n",
       "      <td>0.171821</td>\n",
       "      <td>2020-12-09 19:01:29</td>\n",
       "      <td>1000.0</td>\n",
       "      <td>64</td>\n",
       "      <td>16</td>\n",
       "      <td>15000000.00</td>\n",
       "      <td>70000.0</td>\n",
       "      <td>32</td>\n",
       "      <td>71.97</td>\n",
       "      <td>1162716</td>\n",
       "      <td>10</td>\n",
       "      <td>109.000000</td>\n",
       "      <td>2021-01-15 16:36:32</td>\n",
       "    </tr>\n",
       "    <tr>\n",
       "      <th>12</th>\n",
       "      <td>5c5042d00e3a070010c53631</td>\n",
       "      <td>153226</td>\n",
       "      <td>201.596616</td>\n",
       "      <td>2020-10-23 12:34:52</td>\n",
       "      <td>200.0</td>\n",
       "      <td>1</td>\n",
       "      <td>0</td>\n",
       "      <td>500.00</td>\n",
       "      <td>400.0</td>\n",
       "      <td>45</td>\n",
       "      <td>4.00</td>\n",
       "      <td>999321</td>\n",
       "      <td>10</td>\n",
       "      <td>200.000000</td>\n",
       "      <td>2021-04-20 09:36:42</td>\n",
       "    </tr>\n",
       "    <tr>\n",
       "      <th>13</th>\n",
       "      <td>5d06913590b267001a6550d8</td>\n",
       "      <td>114148</td>\n",
       "      <td>199.939124</td>\n",
       "      <td>2019-12-02 18:18:26</td>\n",
       "      <td>200.0</td>\n",
       "      <td>15</td>\n",
       "      <td>1</td>\n",
       "      <td>1800.00</td>\n",
       "      <td>100.0</td>\n",
       "      <td>25</td>\n",
       "      <td>15.00</td>\n",
       "      <td>1201043</td>\n",
       "      <td>10</td>\n",
       "      <td>300.000000</td>\n",
       "      <td>2021-01-07 00:00:00</td>\n",
       "    </tr>\n",
       "    <tr>\n",
       "      <th>14</th>\n",
       "      <td>5e17175205211f00106ad08f</td>\n",
       "      <td>122730</td>\n",
       "      <td>14966.327750</td>\n",
       "      <td>2020-02-05 13:11:58</td>\n",
       "      <td>3000.0</td>\n",
       "      <td>35</td>\n",
       "      <td>6</td>\n",
       "      <td>1100.00</td>\n",
       "      <td>0.0</td>\n",
       "      <td>21</td>\n",
       "      <td>25.00</td>\n",
       "      <td>1201339</td>\n",
       "      <td>10</td>\n",
       "      <td>400.000000</td>\n",
       "      <td>2021-01-04 11:08:07</td>\n",
       "    </tr>\n",
       "    <tr>\n",
       "      <th>15</th>\n",
       "      <td>5e17175205211f00106ad08f</td>\n",
       "      <td>122730</td>\n",
       "      <td>14966.327750</td>\n",
       "      <td>2020-02-05 13:11:58</td>\n",
       "      <td>3000.0</td>\n",
       "      <td>35</td>\n",
       "      <td>6</td>\n",
       "      <td>1100.00</td>\n",
       "      <td>0.0</td>\n",
       "      <td>21</td>\n",
       "      <td>25.00</td>\n",
       "      <td>1201346</td>\n",
       "      <td>10</td>\n",
       "      <td>250.000000</td>\n",
       "      <td>2021-01-04 10:14:03</td>\n",
       "    </tr>\n",
       "    <tr>\n",
       "      <th>16</th>\n",
       "      <td>5e17175205211f00106ad08f</td>\n",
       "      <td>122730</td>\n",
       "      <td>14966.327750</td>\n",
       "      <td>2020-02-05 13:11:58</td>\n",
       "      <td>3000.0</td>\n",
       "      <td>35</td>\n",
       "      <td>6</td>\n",
       "      <td>1100.00</td>\n",
       "      <td>0.0</td>\n",
       "      <td>21</td>\n",
       "      <td>25.00</td>\n",
       "      <td>1201348</td>\n",
       "      <td>10</td>\n",
       "      <td>350.000000</td>\n",
       "      <td>2021-01-04 09:37:55</td>\n",
       "    </tr>\n",
       "    <tr>\n",
       "      <th>17</th>\n",
       "      <td>5e17175205211f00106ad08f</td>\n",
       "      <td>122730</td>\n",
       "      <td>14966.327750</td>\n",
       "      <td>2020-02-05 13:11:58</td>\n",
       "      <td>3000.0</td>\n",
       "      <td>35</td>\n",
       "      <td>6</td>\n",
       "      <td>1100.00</td>\n",
       "      <td>0.0</td>\n",
       "      <td>21</td>\n",
       "      <td>25.00</td>\n",
       "      <td>1201349</td>\n",
       "      <td>10</td>\n",
       "      <td>150.000000</td>\n",
       "      <td>2021-01-04 09:42:39</td>\n",
       "    </tr>\n",
       "    <tr>\n",
       "      <th>18</th>\n",
       "      <td>5f3b10d285d46700179dda7f</td>\n",
       "      <td>145424</td>\n",
       "      <td>7915.457451</td>\n",
       "      <td>2020-08-18 11:53:53</td>\n",
       "      <td>16800.0</td>\n",
       "      <td>14</td>\n",
       "      <td>10</td>\n",
       "      <td>2500.00</td>\n",
       "      <td>17000.0</td>\n",
       "      <td>45</td>\n",
       "      <td>12.00</td>\n",
       "      <td>1200158</td>\n",
       "      <td>20</td>\n",
       "      <td>200.000000</td>\n",
       "      <td>2021-01-04 12:08:48</td>\n",
       "    </tr>\n",
       "    <tr>\n",
       "      <th>19</th>\n",
       "      <td>5e17638233bb300010579f70</td>\n",
       "      <td>118701</td>\n",
       "      <td>1430.624843</td>\n",
       "      <td>2020-01-09 18:00:03</td>\n",
       "      <td>150.0</td>\n",
       "      <td>26</td>\n",
       "      <td>9</td>\n",
       "      <td>3000.00</td>\n",
       "      <td>5000.0</td>\n",
       "      <td>67</td>\n",
       "      <td>0.00</td>\n",
       "      <td>1201803</td>\n",
       "      <td>20</td>\n",
       "      <td>720.000000</td>\n",
       "      <td>2021-01-04 12:07:05</td>\n",
       "    </tr>\n",
       "    <tr>\n",
       "      <th>20</th>\n",
       "      <td>5efc7e5b5ebb81001038e9cb</td>\n",
       "      <td>139550</td>\n",
       "      <td>684.301929</td>\n",
       "      <td>2020-07-01 21:15:52</td>\n",
       "      <td>100.0</td>\n",
       "      <td>7</td>\n",
       "      <td>1</td>\n",
       "      <td>6000.00</td>\n",
       "      <td>20000.0</td>\n",
       "      <td>30</td>\n",
       "      <td>23.50</td>\n",
       "      <td>1198365</td>\n",
       "      <td>20</td>\n",
       "      <td>1500.000000</td>\n",
       "      <td>2021-01-04 12:06:18</td>\n",
       "    </tr>\n",
       "    <tr>\n",
       "      <th>21</th>\n",
       "      <td>5a3440e6f3a1691d1f4ddf40</td>\n",
       "      <td>75313</td>\n",
       "      <td>120080.144061</td>\n",
       "      <td>2019-04-22 13:50:58</td>\n",
       "      <td>500.0</td>\n",
       "      <td>39</td>\n",
       "      <td>0</td>\n",
       "      <td>15000.00</td>\n",
       "      <td>0.0</td>\n",
       "      <td>45</td>\n",
       "      <td>27.00</td>\n",
       "      <td>1201562</td>\n",
       "      <td>10</td>\n",
       "      <td>15000.000000</td>\n",
       "      <td>2021-01-04 11:08:44</td>\n",
       "    </tr>\n",
       "    <tr>\n",
       "      <th>22</th>\n",
       "      <td>59e04c758610ac0555c7d910</td>\n",
       "      <td>14180</td>\n",
       "      <td>137.453072</td>\n",
       "      <td>2017-10-13 14:25:59</td>\n",
       "      <td>100.0</td>\n",
       "      <td>31</td>\n",
       "      <td>13</td>\n",
       "      <td>300.00</td>\n",
       "      <td>0.0</td>\n",
       "      <td>26</td>\n",
       "      <td>14.00</td>\n",
       "      <td>1200077</td>\n",
       "      <td>20</td>\n",
       "      <td>5000.000000</td>\n",
       "      <td>2021-01-04 12:05:18</td>\n",
       "    </tr>\n",
       "    <tr>\n",
       "      <th>23</th>\n",
       "      <td>5c6afae279b501001024453e</td>\n",
       "      <td>69620</td>\n",
       "      <td>30179.542498</td>\n",
       "      <td>2019-02-19 13:10:18</td>\n",
       "      <td>25.0</td>\n",
       "      <td>24</td>\n",
       "      <td>1</td>\n",
       "      <td>800.00</td>\n",
       "      <td>0.0</td>\n",
       "      <td>24</td>\n",
       "      <td>12.00</td>\n",
       "      <td>1185650</td>\n",
       "      <td>10</td>\n",
       "      <td>600.000000</td>\n",
       "      <td>2021-01-07 00:00:00</td>\n",
       "    </tr>\n",
       "    <tr>\n",
       "      <th>24</th>\n",
       "      <td>5ae919d02f5817000fe84676</td>\n",
       "      <td>39685</td>\n",
       "      <td>35408.354969</td>\n",
       "      <td>2018-05-02 14:56:22</td>\n",
       "      <td>5000.0</td>\n",
       "      <td>14</td>\n",
       "      <td>7</td>\n",
       "      <td>9500.00</td>\n",
       "      <td>0.0</td>\n",
       "      <td>38</td>\n",
       "      <td>10.00</td>\n",
       "      <td>1197389</td>\n",
       "      <td>10</td>\n",
       "      <td>6000.000000</td>\n",
       "      <td>2021-01-01 00:05:36</td>\n",
       "    </tr>\n",
       "    <tr>\n",
       "      <th>25</th>\n",
       "      <td>5bef5d4e84fe5500109972f8</td>\n",
       "      <td>61993</td>\n",
       "      <td>10566.841197</td>\n",
       "      <td>2018-11-20 12:58:15</td>\n",
       "      <td>100.0</td>\n",
       "      <td>35</td>\n",
       "      <td>4</td>\n",
       "      <td>7000.00</td>\n",
       "      <td>0.0</td>\n",
       "      <td>32</td>\n",
       "      <td>25.00</td>\n",
       "      <td>855233</td>\n",
       "      <td>10</td>\n",
       "      <td>100.000000</td>\n",
       "      <td>2021-03-22 10:46:58</td>\n",
       "    </tr>\n",
       "    <tr>\n",
       "      <th>26</th>\n",
       "      <td>5eebd4120ab3400018e5ff9d</td>\n",
       "      <td>138305</td>\n",
       "      <td>0.000000</td>\n",
       "      <td>2020-06-19 00:42:28</td>\n",
       "      <td>1000.0</td>\n",
       "      <td>9</td>\n",
       "      <td>2</td>\n",
       "      <td>3000.00</td>\n",
       "      <td>12000.0</td>\n",
       "      <td>30</td>\n",
       "      <td>17.50</td>\n",
       "      <td>1199276</td>\n",
       "      <td>20</td>\n",
       "      <td>3167.295414</td>\n",
       "      <td>2021-01-04 12:05:47</td>\n",
       "    </tr>\n",
       "    <tr>\n",
       "      <th>27</th>\n",
       "      <td>5fee1514ba911d001726107f</td>\n",
       "      <td>161334</td>\n",
       "      <td>2285.558437</td>\n",
       "      <td>2020-12-31 18:32:23</td>\n",
       "      <td>2000.0</td>\n",
       "      <td>4</td>\n",
       "      <td>0</td>\n",
       "      <td>3000.00</td>\n",
       "      <td>1000.0</td>\n",
       "      <td>35</td>\n",
       "      <td>24.24</td>\n",
       "      <td>1201345</td>\n",
       "      <td>10</td>\n",
       "      <td>2000.000000</td>\n",
       "      <td>2021-01-04 09:58:58</td>\n",
       "    </tr>\n",
       "    <tr>\n",
       "      <th>28</th>\n",
       "      <td>59de3d388610ac0555c4ef85</td>\n",
       "      <td>38428</td>\n",
       "      <td>849.282670</td>\n",
       "      <td>2018-04-17 12:44:10</td>\n",
       "      <td>300.0</td>\n",
       "      <td>24</td>\n",
       "      <td>2</td>\n",
       "      <td>900.00</td>\n",
       "      <td>0.0</td>\n",
       "      <td>22</td>\n",
       "      <td>13.00</td>\n",
       "      <td>1201908</td>\n",
       "      <td>10</td>\n",
       "      <td>100.000000</td>\n",
       "      <td>2021-01-07 17:45:29</td>\n",
       "    </tr>\n",
       "    <tr>\n",
       "      <th>29</th>\n",
       "      <td>5e51587498024200100ef307</td>\n",
       "      <td>125158</td>\n",
       "      <td>1006.917140</td>\n",
       "      <td>2020-02-26 12:58:55</td>\n",
       "      <td>100.0</td>\n",
       "      <td>9</td>\n",
       "      <td>0</td>\n",
       "      <td>1500.00</td>\n",
       "      <td>3000.0</td>\n",
       "      <td>22</td>\n",
       "      <td>29.00</td>\n",
       "      <td>1184660</td>\n",
       "      <td>10</td>\n",
       "      <td>150.000000</td>\n",
       "      <td>2021-01-05 09:47:06</td>\n",
       "    </tr>\n",
       "  </tbody>\n",
       "</table>\n",
       "</div>"
      ],
      "text/plain": [
       "                  CustomerApiid  CustomerId            AUM  \\\n",
       "index                                                        \n",
       "0      597d1f93ad57cd674deb5dfd       64617   65413.030158   \n",
       "1      5a04bd4815a605790aff5c77       24431       0.000000   \n",
       "2      5f562b1a8a70670017ab6457      147955   10841.446485   \n",
       "3      5b8740c9d345ed000ed4a55c       55461   17797.057930   \n",
       "4      58779257b93e5a4001f73dd5        1605       0.000000   \n",
       "5      5d5c0fa92ec67600101b1268       94233   15583.410122   \n",
       "6      5d5c0fa92ec67600101b1268       94233   15583.410122   \n",
       "7      5f46553c3c2f2b001775afa9      146423   21255.786848   \n",
       "8      5cad50e9e887cd001065ff77       81374     364.888763   \n",
       "9      5b169d700f55060010282193       44234     118.732548   \n",
       "10     5b169d700f55060010282193       44234     118.732548   \n",
       "11     5e0e26482e23270010d3a197      158679       0.171821   \n",
       "12     5c5042d00e3a070010c53631      153226     201.596616   \n",
       "13     5d06913590b267001a6550d8      114148     199.939124   \n",
       "14     5e17175205211f00106ad08f      122730   14966.327750   \n",
       "15     5e17175205211f00106ad08f      122730   14966.327750   \n",
       "16     5e17175205211f00106ad08f      122730   14966.327750   \n",
       "17     5e17175205211f00106ad08f      122730   14966.327750   \n",
       "18     5f3b10d285d46700179dda7f      145424    7915.457451   \n",
       "19     5e17638233bb300010579f70      118701    1430.624843   \n",
       "20     5efc7e5b5ebb81001038e9cb      139550     684.301929   \n",
       "21     5a3440e6f3a1691d1f4ddf40       75313  120080.144061   \n",
       "22     59e04c758610ac0555c7d910       14180     137.453072   \n",
       "23     5c6afae279b501001024453e       69620   30179.542498   \n",
       "24     5ae919d02f5817000fe84676       39685   35408.354969   \n",
       "25     5bef5d4e84fe5500109972f8       61993   10566.841197   \n",
       "26     5eebd4120ab3400018e5ff9d      138305       0.000000   \n",
       "27     5fee1514ba911d001726107f      161334    2285.558437   \n",
       "28     59de3d388610ac0555c4ef85       38428     849.282670   \n",
       "29     5e51587498024200100ef307      125158    1006.917140   \n",
       "\n",
       "             RegisterDate  AmountFirstDeposit  TotalDeposits  \\\n",
       "index                                                          \n",
       "0     2019-01-02 16:58:00               200.0             22   \n",
       "1     2018-01-02 18:41:09               300.0             14   \n",
       "2     2020-09-07 12:55:00               200.0             14   \n",
       "3     2018-09-04 13:26:27              8000.0             32   \n",
       "4     2017-02-09 15:39:26               200.0              9   \n",
       "5     2019-08-20 15:27:30               100.0             33   \n",
       "6     2019-08-20 15:27:30               100.0             33   \n",
       "7     2020-08-26 13:24:54              5000.0             23   \n",
       "8     2019-06-12 13:05:04               125.0             17   \n",
       "9     2018-06-12 14:19:29               100.0             18   \n",
       "10    2018-06-12 14:19:29               100.0             18   \n",
       "11    2020-12-09 19:01:29              1000.0             64   \n",
       "12    2020-10-23 12:34:52               200.0              1   \n",
       "13    2019-12-02 18:18:26               200.0             15   \n",
       "14    2020-02-05 13:11:58              3000.0             35   \n",
       "15    2020-02-05 13:11:58              3000.0             35   \n",
       "16    2020-02-05 13:11:58              3000.0             35   \n",
       "17    2020-02-05 13:11:58              3000.0             35   \n",
       "18    2020-08-18 11:53:53             16800.0             14   \n",
       "19    2020-01-09 18:00:03               150.0             26   \n",
       "20    2020-07-01 21:15:52               100.0              7   \n",
       "21    2019-04-22 13:50:58               500.0             39   \n",
       "22    2017-10-13 14:25:59               100.0             31   \n",
       "23    2019-02-19 13:10:18                25.0             24   \n",
       "24    2018-05-02 14:56:22              5000.0             14   \n",
       "25    2018-11-20 12:58:15               100.0             35   \n",
       "26    2020-06-19 00:42:28              1000.0              9   \n",
       "27    2020-12-31 18:32:23              2000.0              4   \n",
       "28    2018-04-17 12:44:10               300.0             24   \n",
       "29    2020-02-26 12:58:55               100.0              9   \n",
       "\n",
       "       TotalWithdrawals  MonthlyIncome  FinancialInvestmentsValue  Age  \\\n",
       "index                                                                    \n",
       "0                     1        8000.00                        0.0   37   \n",
       "1                     9        2000.00                        0.0   22   \n",
       "2                     0        5236.00                      100.0   32   \n",
       "3                     3       20000.00                        0.0   59   \n",
       "4                    15        4021.00                        0.0   31   \n",
       "5                     9           0.01                     1450.0   25   \n",
       "6                     9           0.01                     1450.0   25   \n",
       "7                     0        5000.00                    25000.0   39   \n",
       "8                    16        3000.00                        0.0   33   \n",
       "9                     5        1000.00                        0.0   39   \n",
       "10                    5        1000.00                        0.0   39   \n",
       "11                   16    15000000.00                    70000.0   32   \n",
       "12                    0         500.00                      400.0   45   \n",
       "13                    1        1800.00                      100.0   25   \n",
       "14                    6        1100.00                        0.0   21   \n",
       "15                    6        1100.00                        0.0   21   \n",
       "16                    6        1100.00                        0.0   21   \n",
       "17                    6        1100.00                        0.0   21   \n",
       "18                   10        2500.00                    17000.0   45   \n",
       "19                    9        3000.00                     5000.0   67   \n",
       "20                    1        6000.00                    20000.0   30   \n",
       "21                    0       15000.00                        0.0   45   \n",
       "22                   13         300.00                        0.0   26   \n",
       "23                    1         800.00                        0.0   24   \n",
       "24                    7        9500.00                        0.0   38   \n",
       "25                    4        7000.00                        0.0   32   \n",
       "26                    2        3000.00                    12000.0   30   \n",
       "27                    0        3000.00                     1000.0   35   \n",
       "28                    2         900.00                        0.0   22   \n",
       "29                    0        1500.00                     3000.0   22   \n",
       "\n",
       "       ComputedRiskTolerance       Id  Direction        Amount  \\\n",
       "index                                                            \n",
       "0                      24.00  1201605         10   2000.000000   \n",
       "1                      13.50  1201889         10    100.000000   \n",
       "2                      17.50  1191683         10    300.000000   \n",
       "3                       9.00  1189643         10   1200.000000   \n",
       "4                      15.00  1199301         10    400.000000   \n",
       "5                      15.00  1199147         10    500.000000   \n",
       "6                      15.00  1199156         10    500.000000   \n",
       "7                      24.00  1198284         10    600.000000   \n",
       "8                      14.00  1185127         10    142.700000   \n",
       "9                      27.00  1199784         10    100.000000   \n",
       "10                     27.00  1201252         10     10.000000   \n",
       "11                     71.97  1162716         10    109.000000   \n",
       "12                      4.00   999321         10    200.000000   \n",
       "13                     15.00  1201043         10    300.000000   \n",
       "14                     25.00  1201339         10    400.000000   \n",
       "15                     25.00  1201346         10    250.000000   \n",
       "16                     25.00  1201348         10    350.000000   \n",
       "17                     25.00  1201349         10    150.000000   \n",
       "18                     12.00  1200158         20    200.000000   \n",
       "19                      0.00  1201803         20    720.000000   \n",
       "20                     23.50  1198365         20   1500.000000   \n",
       "21                     27.00  1201562         10  15000.000000   \n",
       "22                     14.00  1200077         20   5000.000000   \n",
       "23                     12.00  1185650         10    600.000000   \n",
       "24                     10.00  1197389         10   6000.000000   \n",
       "25                     25.00   855233         10    100.000000   \n",
       "26                     17.50  1199276         20   3167.295414   \n",
       "27                     24.24  1201345         10   2000.000000   \n",
       "28                     13.00  1201908         10    100.000000   \n",
       "29                     29.00  1184660         10    150.000000   \n",
       "\n",
       "               OperatedAt  \n",
       "index                      \n",
       "0     2021-01-04 09:31:27  \n",
       "1     2021-01-07 00:00:00  \n",
       "2     2021-01-04 00:00:00  \n",
       "3     2021-01-04 00:00:00  \n",
       "4     2021-01-04 00:00:00  \n",
       "5     2021-01-04 00:00:00  \n",
       "6     2021-01-04 00:00:00  \n",
       "7     2021-01-04 00:00:00  \n",
       "8     2021-01-04 00:00:00  \n",
       "9     2021-01-04 00:00:00  \n",
       "10    2021-01-04 10:01:14  \n",
       "11    2021-01-15 16:36:32  \n",
       "12    2021-04-20 09:36:42  \n",
       "13    2021-01-07 00:00:00  \n",
       "14    2021-01-04 11:08:07  \n",
       "15    2021-01-04 10:14:03  \n",
       "16    2021-01-04 09:37:55  \n",
       "17    2021-01-04 09:42:39  \n",
       "18    2021-01-04 12:08:48  \n",
       "19    2021-01-04 12:07:05  \n",
       "20    2021-01-04 12:06:18  \n",
       "21    2021-01-04 11:08:44  \n",
       "22    2021-01-04 12:05:18  \n",
       "23    2021-01-07 00:00:00  \n",
       "24    2021-01-01 00:05:36  \n",
       "25    2021-03-22 10:46:58  \n",
       "26    2021-01-04 12:05:47  \n",
       "27    2021-01-04 09:58:58  \n",
       "28    2021-01-07 17:45:29  \n",
       "29    2021-01-05 09:47:06  "
      ]
     },
     "execution_count": 327,
     "metadata": {},
     "output_type": "execute_result"
    }
   ],
   "source": [
    "df_client = pd.merge(left = df_customers, right = df_transactions, left_on='CustomerId', right_on = 'CustomerId')\n",
    "\n",
    "df_client.reset_index().set_index('index')\n",
    "df_client.head()"
   ]
  },
  {
   "cell_type": "code",
   "execution_count": 328,
   "id": "b78e2c5f",
   "metadata": {
    "ExecuteTime": {
     "end_time": "2021-09-06T13:38:41.619965Z",
     "start_time": "2021-09-06T13:38:41.588928Z"
    }
   },
   "outputs": [
    {
     "name": "stdout",
     "output_type": "stream",
     "text": [
      "<class 'pandas.core.frame.DataFrame'>\n",
      "Int64Index: 30 entries, 0 to 29\n",
      "Data columns (total 15 columns):\n",
      " #   Column                     Non-Null Count  Dtype         \n",
      "---  ------                     --------------  -----         \n",
      " 0   CustomerApiid              30 non-null     object        \n",
      " 1   CustomerId                 30 non-null     int64         \n",
      " 2   AUM                        30 non-null     float64       \n",
      " 3   RegisterDate               30 non-null     datetime64[ns]\n",
      " 4   AmountFirstDeposit         30 non-null     float64       \n",
      " 5   TotalDeposits              30 non-null     int64         \n",
      " 6   TotalWithdrawals           30 non-null     int64         \n",
      " 7   MonthlyIncome              30 non-null     float64       \n",
      " 8   FinancialInvestmentsValue  30 non-null     float64       \n",
      " 9   Age                        30 non-null     int64         \n",
      " 10  ComputedRiskTolerance      30 non-null     float64       \n",
      " 11  Id                         30 non-null     int64         \n",
      " 12  Direction                  30 non-null     int64         \n",
      " 13  Amount                     30 non-null     float64       \n",
      " 14  OperatedAt                 30 non-null     datetime64[ns]\n",
      "dtypes: datetime64[ns](2), float64(6), int64(6), object(1)\n",
      "memory usage: 3.8+ KB\n"
     ]
    }
   ],
   "source": [
    "df_client.info()"
   ]
  },
  {
   "cell_type": "markdown",
   "id": "d87941c2",
   "metadata": {},
   "source": [
    "##### A união das tabelas Customers e Transactions a partir do identificador único do cliente (\"CustomerId\") resultou em uma base reduzida com apenas 30 linhas. Ao tentar outras formas de união, houve o retorno de muitos dados nulos, sendo que ao dropar, chegaríamos aos mesmos 30 registros finais.\n",
    "##### Desta forma, optou-se por trabalhar com os dados resultantes da junção acima"
   ]
  },
  {
   "cell_type": "markdown",
   "id": "2beec387",
   "metadata": {
    "ExecuteTime": {
     "end_time": "2021-09-06T02:16:12.209847Z",
     "start_time": "2021-09-06T02:16:12.197853Z"
    }
   },
   "source": [
    "___"
   ]
  },
  {
   "cell_type": "markdown",
   "id": "a0b53601",
   "metadata": {},
   "source": [
    "### Valores de entrada por mês/ano"
   ]
  },
  {
   "cell_type": "code",
   "execution_count": 329,
   "id": "06bf439f",
   "metadata": {
    "ExecuteTime": {
     "end_time": "2021-09-06T13:38:46.149344Z",
     "start_time": "2021-09-06T13:38:46.119719Z"
    }
   },
   "outputs": [
    {
     "data": {
      "text/html": [
       "<div>\n",
       "<style scoped>\n",
       "    .dataframe tbody tr th:only-of-type {\n",
       "        vertical-align: middle;\n",
       "    }\n",
       "\n",
       "    .dataframe tbody tr th {\n",
       "        vertical-align: top;\n",
       "    }\n",
       "\n",
       "    .dataframe thead th {\n",
       "        text-align: right;\n",
       "    }\n",
       "</style>\n",
       "<table border=\"1\" class=\"dataframe\">\n",
       "  <thead>\n",
       "    <tr style=\"text-align: right;\">\n",
       "      <th></th>\n",
       "      <th>CustomerApiid</th>\n",
       "      <th>CustomerId</th>\n",
       "      <th>AUM</th>\n",
       "      <th>RegisterDate</th>\n",
       "      <th>AmountFirstDeposit</th>\n",
       "      <th>TotalDeposits</th>\n",
       "      <th>TotalWithdrawals</th>\n",
       "      <th>MonthlyIncome</th>\n",
       "      <th>FinancialInvestmentsValue</th>\n",
       "      <th>Age</th>\n",
       "      <th>ComputedRiskTolerance</th>\n",
       "      <th>Id</th>\n",
       "      <th>Direction</th>\n",
       "      <th>Amount</th>\n",
       "      <th>OperatedAt</th>\n",
       "      <th>Month</th>\n",
       "      <th>Year</th>\n",
       "    </tr>\n",
       "  </thead>\n",
       "  <tbody>\n",
       "    <tr>\n",
       "      <th>0</th>\n",
       "      <td>597d1f93ad57cd674deb5dfd</td>\n",
       "      <td>64617</td>\n",
       "      <td>65413.030158</td>\n",
       "      <td>2019-01-02 16:58:00</td>\n",
       "      <td>200.0</td>\n",
       "      <td>22</td>\n",
       "      <td>1</td>\n",
       "      <td>8000.0</td>\n",
       "      <td>0.0</td>\n",
       "      <td>37</td>\n",
       "      <td>24.0</td>\n",
       "      <td>1201605</td>\n",
       "      <td>10</td>\n",
       "      <td>2000.0</td>\n",
       "      <td>2021-01-04 09:31:27</td>\n",
       "      <td>1</td>\n",
       "      <td>2019</td>\n",
       "    </tr>\n",
       "    <tr>\n",
       "      <th>1</th>\n",
       "      <td>5a04bd4815a605790aff5c77</td>\n",
       "      <td>24431</td>\n",
       "      <td>0.000000</td>\n",
       "      <td>2018-01-02 18:41:09</td>\n",
       "      <td>300.0</td>\n",
       "      <td>14</td>\n",
       "      <td>9</td>\n",
       "      <td>2000.0</td>\n",
       "      <td>0.0</td>\n",
       "      <td>22</td>\n",
       "      <td>13.5</td>\n",
       "      <td>1201889</td>\n",
       "      <td>10</td>\n",
       "      <td>100.0</td>\n",
       "      <td>2021-01-07 00:00:00</td>\n",
       "      <td>1</td>\n",
       "      <td>2018</td>\n",
       "    </tr>\n",
       "    <tr>\n",
       "      <th>2</th>\n",
       "      <td>5f562b1a8a70670017ab6457</td>\n",
       "      <td>147955</td>\n",
       "      <td>10841.446485</td>\n",
       "      <td>2020-09-07 12:55:00</td>\n",
       "      <td>200.0</td>\n",
       "      <td>14</td>\n",
       "      <td>0</td>\n",
       "      <td>5236.0</td>\n",
       "      <td>100.0</td>\n",
       "      <td>32</td>\n",
       "      <td>17.5</td>\n",
       "      <td>1191683</td>\n",
       "      <td>10</td>\n",
       "      <td>300.0</td>\n",
       "      <td>2021-01-04 00:00:00</td>\n",
       "      <td>9</td>\n",
       "      <td>2020</td>\n",
       "    </tr>\n",
       "    <tr>\n",
       "      <th>3</th>\n",
       "      <td>5b8740c9d345ed000ed4a55c</td>\n",
       "      <td>55461</td>\n",
       "      <td>17797.057930</td>\n",
       "      <td>2018-09-04 13:26:27</td>\n",
       "      <td>8000.0</td>\n",
       "      <td>32</td>\n",
       "      <td>3</td>\n",
       "      <td>20000.0</td>\n",
       "      <td>0.0</td>\n",
       "      <td>59</td>\n",
       "      <td>9.0</td>\n",
       "      <td>1189643</td>\n",
       "      <td>10</td>\n",
       "      <td>1200.0</td>\n",
       "      <td>2021-01-04 00:00:00</td>\n",
       "      <td>9</td>\n",
       "      <td>2018</td>\n",
       "    </tr>\n",
       "    <tr>\n",
       "      <th>4</th>\n",
       "      <td>58779257b93e5a4001f73dd5</td>\n",
       "      <td>1605</td>\n",
       "      <td>0.000000</td>\n",
       "      <td>2017-02-09 15:39:26</td>\n",
       "      <td>200.0</td>\n",
       "      <td>9</td>\n",
       "      <td>15</td>\n",
       "      <td>4021.0</td>\n",
       "      <td>0.0</td>\n",
       "      <td>31</td>\n",
       "      <td>15.0</td>\n",
       "      <td>1199301</td>\n",
       "      <td>10</td>\n",
       "      <td>400.0</td>\n",
       "      <td>2021-01-04 00:00:00</td>\n",
       "      <td>2</td>\n",
       "      <td>2017</td>\n",
       "    </tr>\n",
       "  </tbody>\n",
       "</table>\n",
       "</div>"
      ],
      "text/plain": [
       "              CustomerApiid  CustomerId           AUM        RegisterDate  \\\n",
       "0  597d1f93ad57cd674deb5dfd       64617  65413.030158 2019-01-02 16:58:00   \n",
       "1  5a04bd4815a605790aff5c77       24431      0.000000 2018-01-02 18:41:09   \n",
       "2  5f562b1a8a70670017ab6457      147955  10841.446485 2020-09-07 12:55:00   \n",
       "3  5b8740c9d345ed000ed4a55c       55461  17797.057930 2018-09-04 13:26:27   \n",
       "4  58779257b93e5a4001f73dd5        1605      0.000000 2017-02-09 15:39:26   \n",
       "\n",
       "   AmountFirstDeposit  TotalDeposits  TotalWithdrawals  MonthlyIncome  \\\n",
       "0               200.0             22                 1         8000.0   \n",
       "1               300.0             14                 9         2000.0   \n",
       "2               200.0             14                 0         5236.0   \n",
       "3              8000.0             32                 3        20000.0   \n",
       "4               200.0              9                15         4021.0   \n",
       "\n",
       "   FinancialInvestmentsValue  Age  ComputedRiskTolerance       Id  Direction  \\\n",
       "0                        0.0   37                   24.0  1201605         10   \n",
       "1                        0.0   22                   13.5  1201889         10   \n",
       "2                      100.0   32                   17.5  1191683         10   \n",
       "3                        0.0   59                    9.0  1189643         10   \n",
       "4                        0.0   31                   15.0  1199301         10   \n",
       "\n",
       "   Amount          OperatedAt  Month  Year  \n",
       "0  2000.0 2021-01-04 09:31:27      1  2019  \n",
       "1   100.0 2021-01-07 00:00:00      1  2018  \n",
       "2   300.0 2021-01-04 00:00:00      9  2020  \n",
       "3  1200.0 2021-01-04 00:00:00      9  2018  \n",
       "4   400.0 2021-01-04 00:00:00      2  2017  "
      ]
     },
     "execution_count": 329,
     "metadata": {},
     "output_type": "execute_result"
    }
   ],
   "source": [
    "#Criando a coluna Month para guardar o registro de mês de cadastro do cliente\n",
    "\n",
    "df_client['Month'] = pd.to_datetime(df_client['RegisterDate']).dt.month\n",
    "df_client.head()\n",
    "\n",
    "\n",
    "#Criando a coluna Year para guardar o registro de ano de cadastro do cliente\n",
    "\n",
    "df_client['Year'] = pd.to_datetime(df_client['RegisterDate']).dt.year\n",
    "df_client.head()"
   ]
  },
  {
   "cell_type": "code",
   "execution_count": 249,
   "id": "f21211ce",
   "metadata": {
    "ExecuteTime": {
     "end_time": "2021-09-06T04:59:54.072734Z",
     "start_time": "2021-09-06T04:59:54.062705Z"
    }
   },
   "outputs": [
    {
     "data": {
      "text/plain": [
       "\"\\ndf_client2 = pd.merge(left = df_customers, right = df_events, left_on='CustomerApiid', right_on = 'CustomerApiid')\\ndf_client2.head()\\n\""
      ]
     },
     "execution_count": 249,
     "metadata": {},
     "output_type": "execute_result"
    }
   ],
   "source": [
    "'''\n",
    "df_client2 = pd.merge(left = df_customers, right = df_events, left_on='CustomerApiid', right_on = 'CustomerApiid')\n",
    "df_client2.head()\n",
    "'''"
   ]
  },
  {
   "cell_type": "markdown",
   "id": "361b9b24",
   "metadata": {},
   "source": [
    "_____"
   ]
  },
  {
   "cell_type": "code",
   "execution_count": 330,
   "id": "2ddcc7ad",
   "metadata": {
    "ExecuteTime": {
     "end_time": "2021-09-06T13:38:52.744268Z",
     "start_time": "2021-09-06T13:38:52.720270Z"
    }
   },
   "outputs": [
    {
     "data": {
      "text/html": [
       "<div>\n",
       "<style scoped>\n",
       "    .dataframe tbody tr th:only-of-type {\n",
       "        vertical-align: middle;\n",
       "    }\n",
       "\n",
       "    .dataframe tbody tr th {\n",
       "        vertical-align: top;\n",
       "    }\n",
       "\n",
       "    .dataframe thead th {\n",
       "        text-align: right;\n",
       "    }\n",
       "</style>\n",
       "<table border=\"1\" class=\"dataframe\">\n",
       "  <thead>\n",
       "    <tr style=\"text-align: right;\">\n",
       "      <th></th>\n",
       "      <th>Year</th>\n",
       "      <th>CustomerId</th>\n",
       "      <th>AUM</th>\n",
       "      <th>AmountFirstDeposit</th>\n",
       "      <th>TotalDeposits</th>\n",
       "      <th>TotalWithdrawals</th>\n",
       "      <th>MonthlyIncome</th>\n",
       "      <th>FinancialInvestmentsValue</th>\n",
       "      <th>Age</th>\n",
       "      <th>ComputedRiskTolerance</th>\n",
       "      <th>Id</th>\n",
       "      <th>Direction</th>\n",
       "      <th>Amount</th>\n",
       "      <th>Month</th>\n",
       "    </tr>\n",
       "  </thead>\n",
       "  <tbody>\n",
       "    <tr>\n",
       "      <th>0</th>\n",
       "      <td>2017</td>\n",
       "      <td>15785</td>\n",
       "      <td>137.453072</td>\n",
       "      <td>300</td>\n",
       "      <td>40</td>\n",
       "      <td>28</td>\n",
       "      <td>4321.00</td>\n",
       "      <td>0.0</td>\n",
       "      <td>57</td>\n",
       "      <td>29.00</td>\n",
       "      <td>2399378</td>\n",
       "      <td>30</td>\n",
       "      <td>5400.000000</td>\n",
       "      <td>12</td>\n",
       "    </tr>\n",
       "    <tr>\n",
       "      <th>1</th>\n",
       "      <td>2018</td>\n",
       "      <td>308466</td>\n",
       "      <td>64859.001861</td>\n",
       "      <td>13900</td>\n",
       "      <td>155</td>\n",
       "      <td>35</td>\n",
       "      <td>41400.00</td>\n",
       "      <td>0.0</td>\n",
       "      <td>251</td>\n",
       "      <td>124.50</td>\n",
       "      <td>8047098</td>\n",
       "      <td>70</td>\n",
       "      <td>7610.000000</td>\n",
       "      <td>42</td>\n",
       "    </tr>\n",
       "    <tr>\n",
       "      <th>2</th>\n",
       "      <td>2019</td>\n",
       "      <td>593538</td>\n",
       "      <td>247404.364848</td>\n",
       "      <td>1250</td>\n",
       "      <td>183</td>\n",
       "      <td>37</td>\n",
       "      <td>28600.02</td>\n",
       "      <td>3000.0</td>\n",
       "      <td>214</td>\n",
       "      <td>122.00</td>\n",
       "      <td>8373290</td>\n",
       "      <td>70</td>\n",
       "      <td>19042.700000</td>\n",
       "      <td>41</td>\n",
       "    </tr>\n",
       "    <tr>\n",
       "      <th>3</th>\n",
       "      <td>2020</td>\n",
       "      <td>1925675</td>\n",
       "      <td>105487.172571</td>\n",
       "      <td>38550</td>\n",
       "      <td>311</td>\n",
       "      <td>62</td>\n",
       "      <td>15034136.00</td>\n",
       "      <td>153500.0</td>\n",
       "      <td>461</td>\n",
       "      <td>323.71</td>\n",
       "      <td>16542993</td>\n",
       "      <td>180</td>\n",
       "      <td>10096.295414</td>\n",
       "      <td>83</td>\n",
       "    </tr>\n",
       "  </tbody>\n",
       "</table>\n",
       "</div>"
      ],
      "text/plain": [
       "   Year  CustomerId            AUM  AmountFirstDeposit  TotalDeposits  \\\n",
       "0  2017       15785     137.453072                 300             40   \n",
       "1  2018      308466   64859.001861               13900            155   \n",
       "2  2019      593538  247404.364848                1250            183   \n",
       "3  2020     1925675  105487.172571               38550            311   \n",
       "\n",
       "   TotalWithdrawals  MonthlyIncome  FinancialInvestmentsValue  Age  \\\n",
       "0                28        4321.00                        0.0   57   \n",
       "1                35       41400.00                        0.0  251   \n",
       "2                37       28600.02                     3000.0  214   \n",
       "3                62    15034136.00                   153500.0  461   \n",
       "\n",
       "   ComputedRiskTolerance        Id  Direction        Amount  Month  \n",
       "0                  29.00   2399378         30   5400.000000     12  \n",
       "1                 124.50   8047098         70   7610.000000     42  \n",
       "2                 122.00   8373290         70  19042.700000     41  \n",
       "3                 323.71  16542993        180  10096.295414     83  "
      ]
     },
     "execution_count": 330,
     "metadata": {},
     "output_type": "execute_result"
    }
   ],
   "source": [
    "#Agrupamento do valor de entrada por ano\n",
    "\n",
    "df_entrada = df_client.groupby(by=[\"Year\"]).sum('AmountFirstDeposit').reset_index()\n",
    "df_entrada['AmountFirstDeposit'] = df_entrada['AmountFirstDeposit'].astype(int)\n",
    "df_entrada['Year'] = df_entrada['Year'].astype(int)\n",
    "df_entrada"
   ]
  },
  {
   "cell_type": "code",
   "execution_count": 331,
   "id": "63bc9233",
   "metadata": {
    "ExecuteTime": {
     "end_time": "2021-09-06T13:39:16.682169Z",
     "start_time": "2021-09-06T13:39:16.655608Z"
    }
   },
   "outputs": [
    {
     "data": {
      "text/html": [
       "<div>\n",
       "<style scoped>\n",
       "    .dataframe tbody tr th:only-of-type {\n",
       "        vertical-align: middle;\n",
       "    }\n",
       "\n",
       "    .dataframe tbody tr th {\n",
       "        vertical-align: top;\n",
       "    }\n",
       "\n",
       "    .dataframe thead th {\n",
       "        text-align: right;\n",
       "    }\n",
       "</style>\n",
       "<table border=\"1\" class=\"dataframe\">\n",
       "  <thead>\n",
       "    <tr style=\"text-align: right;\">\n",
       "      <th></th>\n",
       "      <th>Year</th>\n",
       "      <th>AmountFirstDeposit</th>\n",
       "    </tr>\n",
       "  </thead>\n",
       "  <tbody>\n",
       "    <tr>\n",
       "      <th>0</th>\n",
       "      <td>2017</td>\n",
       "      <td>300</td>\n",
       "    </tr>\n",
       "    <tr>\n",
       "      <th>1</th>\n",
       "      <td>2018</td>\n",
       "      <td>13900</td>\n",
       "    </tr>\n",
       "    <tr>\n",
       "      <th>2</th>\n",
       "      <td>2019</td>\n",
       "      <td>1250</td>\n",
       "    </tr>\n",
       "    <tr>\n",
       "      <th>3</th>\n",
       "      <td>2020</td>\n",
       "      <td>38550</td>\n",
       "    </tr>\n",
       "  </tbody>\n",
       "</table>\n",
       "</div>"
      ],
      "text/plain": [
       "   Year  AmountFirstDeposit\n",
       "0  2017                 300\n",
       "1  2018               13900\n",
       "2  2019                1250\n",
       "3  2020               38550"
      ]
     },
     "execution_count": 331,
     "metadata": {},
     "output_type": "execute_result"
    }
   ],
   "source": [
    "#Dropando colunas\n",
    "\n",
    "df_entrada = df_entrada.drop(columns=['CustomerId', 'AUM', 'TotalDeposits', 'TotalWithdrawals', 'MonthlyIncome', 'Age', 'FinancialInvestmentsValue', 'ComputedRiskTolerance', 'Id', 'Direction', 'Amount', 'Month'])\n",
    "df_entrada.head()"
   ]
  },
  {
   "cell_type": "code",
   "execution_count": 393,
   "id": "bda57a46",
   "metadata": {
    "ExecuteTime": {
     "end_time": "2021-09-06T14:03:28.617980Z",
     "start_time": "2021-09-06T14:03:28.449847Z"
    }
   },
   "outputs": [
    {
     "data": {
      "image/png": "[encoded data removed]",
      "text/plain": [
       "<Figure size 720x360 with 1 Axes>"
      ]
     },
     "metadata": {
      "needs_background": "light"
     },
     "output_type": "display_data"
    }
   ],
   "source": [
    "plt.figure(figsize=(10,5))\n",
    "sns.histplot(data=df_entrada, x=\"AmountFirstDeposit\")\n",
    "plt.title('Distribuição da variável AmountFirstDeposit')\n",
    "plt.show()"
   ]
  },
  {
   "cell_type": "markdown",
   "id": "6d8130fe",
   "metadata": {},
   "source": [
    "___"
   ]
  },
  {
   "cell_type": "markdown",
   "id": "66228eb1",
   "metadata": {},
   "source": [
    "### Total de saídas"
   ]
  },
  {
   "cell_type": "code",
   "execution_count": 437,
   "id": "e696cc9a",
   "metadata": {
    "ExecuteTime": {
     "end_time": "2021-09-06T14:44:54.436149Z",
     "start_time": "2021-09-06T14:44:54.427185Z"
    },
    "scrolled": true
   },
   "outputs": [],
   "source": [
    "df_saída = df_client[df_client['Direction'] == 20]\n",
    "#df_saída = df_saída['AUM'].sum().round(2)\n",
    "#print(f'o valor total de saídas é R$ {df_saída}')"
   ]
  },
  {
   "cell_type": "code",
   "execution_count": 400,
   "id": "fa212d20",
   "metadata": {
    "ExecuteTime": {
     "end_time": "2021-09-06T14:07:41.647991Z",
     "start_time": "2021-09-06T14:07:41.618639Z"
    }
   },
   "outputs": [
    {
     "data": {
      "text/html": [
       "<div>\n",
       "<style scoped>\n",
       "    .dataframe tbody tr th:only-of-type {\n",
       "        vertical-align: middle;\n",
       "    }\n",
       "\n",
       "    .dataframe tbody tr th {\n",
       "        vertical-align: top;\n",
       "    }\n",
       "\n",
       "    .dataframe thead th {\n",
       "        text-align: right;\n",
       "    }\n",
       "</style>\n",
       "<table border=\"1\" class=\"dataframe\">\n",
       "  <thead>\n",
       "    <tr style=\"text-align: right;\">\n",
       "      <th></th>\n",
       "      <th>CustomerApiid</th>\n",
       "      <th>CustomerId</th>\n",
       "      <th>AUM</th>\n",
       "      <th>RegisterDate</th>\n",
       "      <th>AmountFirstDeposit</th>\n",
       "      <th>TotalDeposits</th>\n",
       "      <th>TotalWithdrawals</th>\n",
       "      <th>MonthlyIncome</th>\n",
       "      <th>FinancialInvestmentsValue</th>\n",
       "      <th>Age</th>\n",
       "      <th>ComputedRiskTolerance</th>\n",
       "      <th>Id</th>\n",
       "      <th>Direction</th>\n",
       "      <th>Amount</th>\n",
       "      <th>OperatedAt</th>\n",
       "      <th>Month</th>\n",
       "      <th>Year</th>\n",
       "    </tr>\n",
       "  </thead>\n",
       "  <tbody>\n",
       "    <tr>\n",
       "      <th>18</th>\n",
       "      <td>5f3b10d285d46700179dda7f</td>\n",
       "      <td>145424</td>\n",
       "      <td>7915</td>\n",
       "      <td>2020-08-18 11:53:53</td>\n",
       "      <td>16800.0</td>\n",
       "      <td>14</td>\n",
       "      <td>10</td>\n",
       "      <td>2500.0</td>\n",
       "      <td>17000.0</td>\n",
       "      <td>45</td>\n",
       "      <td>12.0</td>\n",
       "      <td>1200158</td>\n",
       "      <td>20</td>\n",
       "      <td>200.000000</td>\n",
       "      <td>2021-01-04 12:08:48</td>\n",
       "      <td>8</td>\n",
       "      <td>2020</td>\n",
       "    </tr>\n",
       "    <tr>\n",
       "      <th>19</th>\n",
       "      <td>5e17638233bb300010579f70</td>\n",
       "      <td>118701</td>\n",
       "      <td>1430</td>\n",
       "      <td>2020-01-09 18:00:03</td>\n",
       "      <td>150.0</td>\n",
       "      <td>26</td>\n",
       "      <td>9</td>\n",
       "      <td>3000.0</td>\n",
       "      <td>5000.0</td>\n",
       "      <td>67</td>\n",
       "      <td>0.0</td>\n",
       "      <td>1201803</td>\n",
       "      <td>20</td>\n",
       "      <td>720.000000</td>\n",
       "      <td>2021-01-04 12:07:05</td>\n",
       "      <td>1</td>\n",
       "      <td>2020</td>\n",
       "    </tr>\n",
       "    <tr>\n",
       "      <th>20</th>\n",
       "      <td>5efc7e5b5ebb81001038e9cb</td>\n",
       "      <td>139550</td>\n",
       "      <td>684</td>\n",
       "      <td>2020-07-01 21:15:52</td>\n",
       "      <td>100.0</td>\n",
       "      <td>7</td>\n",
       "      <td>1</td>\n",
       "      <td>6000.0</td>\n",
       "      <td>20000.0</td>\n",
       "      <td>30</td>\n",
       "      <td>23.5</td>\n",
       "      <td>1198365</td>\n",
       "      <td>20</td>\n",
       "      <td>1500.000000</td>\n",
       "      <td>2021-01-04 12:06:18</td>\n",
       "      <td>7</td>\n",
       "      <td>2020</td>\n",
       "    </tr>\n",
       "    <tr>\n",
       "      <th>22</th>\n",
       "      <td>59e04c758610ac0555c7d910</td>\n",
       "      <td>14180</td>\n",
       "      <td>137</td>\n",
       "      <td>2017-10-13 14:25:59</td>\n",
       "      <td>100.0</td>\n",
       "      <td>31</td>\n",
       "      <td>13</td>\n",
       "      <td>300.0</td>\n",
       "      <td>0.0</td>\n",
       "      <td>26</td>\n",
       "      <td>14.0</td>\n",
       "      <td>1200077</td>\n",
       "      <td>20</td>\n",
       "      <td>5000.000000</td>\n",
       "      <td>2021-01-04 12:05:18</td>\n",
       "      <td>10</td>\n",
       "      <td>2017</td>\n",
       "    </tr>\n",
       "    <tr>\n",
       "      <th>26</th>\n",
       "      <td>5eebd4120ab3400018e5ff9d</td>\n",
       "      <td>138305</td>\n",
       "      <td>0</td>\n",
       "      <td>2020-06-19 00:42:28</td>\n",
       "      <td>1000.0</td>\n",
       "      <td>9</td>\n",
       "      <td>2</td>\n",
       "      <td>3000.0</td>\n",
       "      <td>12000.0</td>\n",
       "      <td>30</td>\n",
       "      <td>17.5</td>\n",
       "      <td>1199276</td>\n",
       "      <td>20</td>\n",
       "      <td>3167.295414</td>\n",
       "      <td>2021-01-04 12:05:47</td>\n",
       "      <td>6</td>\n",
       "      <td>2020</td>\n",
       "    </tr>\n",
       "  </tbody>\n",
       "</table>\n",
       "</div>"
      ],
      "text/plain": [
       "               CustomerApiid  CustomerId   AUM        RegisterDate  \\\n",
       "18  5f3b10d285d46700179dda7f      145424  7915 2020-08-18 11:53:53   \n",
       "19  5e17638233bb300010579f70      118701  1430 2020-01-09 18:00:03   \n",
       "20  5efc7e5b5ebb81001038e9cb      139550   684 2020-07-01 21:15:52   \n",
       "22  59e04c758610ac0555c7d910       14180   137 2017-10-13 14:25:59   \n",
       "26  5eebd4120ab3400018e5ff9d      138305     0 2020-06-19 00:42:28   \n",
       "\n",
       "    AmountFirstDeposit  TotalDeposits  TotalWithdrawals  MonthlyIncome  \\\n",
       "18             16800.0             14                10         2500.0   \n",
       "19               150.0             26                 9         3000.0   \n",
       "20               100.0              7                 1         6000.0   \n",
       "22               100.0             31                13          300.0   \n",
       "26              1000.0              9                 2         3000.0   \n",
       "\n",
       "    FinancialInvestmentsValue  Age  ComputedRiskTolerance       Id  Direction  \\\n",
       "18                    17000.0   45                   12.0  1200158         20   \n",
       "19                     5000.0   67                    0.0  1201803         20   \n",
       "20                    20000.0   30                   23.5  1198365         20   \n",
       "22                        0.0   26                   14.0  1200077         20   \n",
       "26                    12000.0   30                   17.5  1199276         20   \n",
       "\n",
       "         Amount          OperatedAt  Month  Year  \n",
       "18   200.000000 2021-01-04 12:08:48      8  2020  \n",
       "19   720.000000 2021-01-04 12:07:05      1  2020  \n",
       "20  1500.000000 2021-01-04 12:06:18      7  2020  \n",
       "22  5000.000000 2021-01-04 12:05:18     10  2017  \n",
       "26  3167.295414 2021-01-04 12:05:47      6  2020  "
      ]
     },
     "metadata": {},
     "output_type": "display_data"
    }
   ],
   "source": [
    "display(df_saída)"
   ]
  },
  {
   "cell_type": "code",
   "execution_count": 386,
   "id": "6c58a629",
   "metadata": {
    "ExecuteTime": {
     "end_time": "2021-09-06T14:00:04.650877Z",
     "start_time": "2021-09-06T14:00:04.635879Z"
    }
   },
   "outputs": [],
   "source": [
    "#df_client['AUM'] = df_client['AUM'].astype(int)"
   ]
  },
  {
   "cell_type": "code",
   "execution_count": 401,
   "id": "cb9469c2",
   "metadata": {
    "ExecuteTime": {
     "end_time": "2021-09-06T14:07:53.023585Z",
     "start_time": "2021-09-06T14:07:52.867487Z"
    }
   },
   "outputs": [
    {
     "data": {
      "image/png": "[encoded data removed]",
      "text/plain": [
       "<Figure size 720x360 with 1 Axes>"
      ]
     },
     "metadata": {
      "needs_background": "light"
     },
     "output_type": "display_data"
    }
   ],
   "source": [
    "plt.figure(figsize=(10,5))\n",
    "sns.histplot(data=df_client, x='AUM')\n",
    "plt.show()"
   ]
  },
  {
   "cell_type": "code",
   "execution_count": 203,
   "id": "4f03be8e",
   "metadata": {
    "ExecuteTime": {
     "end_time": "2021-09-06T04:00:04.068997Z",
     "start_time": "2021-09-06T04:00:04.049990Z"
    },
    "scrolled": true
   },
   "outputs": [
    {
     "ename": "IndexError",
     "evalue": "invalid index to scalar variable.",
     "output_type": "error",
     "traceback": [
      "\u001b[1;31m---------------------------------------------------------------------------\u001b[0m",
      "\u001b[1;31mIndexError\u001b[0m                                Traceback (most recent call last)",
      "\u001b[1;32m<ipython-input-203-3aba3ba24689>\u001b[0m in \u001b[0;36m<module>\u001b[1;34m\u001b[0m\n\u001b[1;32m----> 1\u001b[1;33m \u001b[0mdf_saída\u001b[0m\u001b[1;33m[\u001b[0m\u001b[1;34m'AmountFirstDeposit'\u001b[0m\u001b[1;33m]\u001b[0m \u001b[1;33m=\u001b[0m \u001b[0mdf_saída\u001b[0m\u001b[1;33m[\u001b[0m\u001b[1;34m'AmountFirstDeposit'\u001b[0m\u001b[1;33m]\u001b[0m\u001b[1;33m.\u001b[0m\u001b[0mreset_index\u001b[0m\u001b[1;33m(\u001b[0m\u001b[1;33m)\u001b[0m\u001b[1;33m.\u001b[0m\u001b[0mapplymap\u001b[0m\u001b[1;33m(\u001b[0m\u001b[0mnp\u001b[0m\u001b[1;33m.\u001b[0m\u001b[0mint64\u001b[0m\u001b[1;33m)\u001b[0m\u001b[1;33m\u001b[0m\u001b[1;33m\u001b[0m\u001b[0m\n\u001b[0m\u001b[0;32m      2\u001b[0m \u001b[0mdf_saída\u001b[0m\u001b[1;33m\u001b[0m\u001b[1;33m\u001b[0m\u001b[0m\n\u001b[0;32m      3\u001b[0m \u001b[1;33m\u001b[0m\u001b[0m\n\u001b[0;32m      4\u001b[0m \u001b[1;31m#f[cols] = df[cols].applymap(np.int64)\u001b[0m\u001b[1;33m\u001b[0m\u001b[1;33m\u001b[0m\u001b[1;33m\u001b[0m\u001b[0m\n",
      "\u001b[1;31mIndexError\u001b[0m: invalid index to scalar variable."
     ]
    }
   ],
   "source": [
    "'''df_saída['AmountFirstDeposit'] = df_saída['AmountFirstDeposit'].reset_index().applymap(np.int64)\n",
    "df_saída'''\n"
   ]
  },
  {
   "cell_type": "code",
   "execution_count": 444,
   "id": "5b7dcc08",
   "metadata": {
    "ExecuteTime": {
     "end_time": "2021-09-06T14:46:46.029830Z",
     "start_time": "2021-09-06T14:46:46.017824Z"
    },
    "scrolled": true
   },
   "outputs": [
    {
     "data": {
      "text/html": [
       "<div>\n",
       "<style scoped>\n",
       "    .dataframe tbody tr th:only-of-type {\n",
       "        vertical-align: middle;\n",
       "    }\n",
       "\n",
       "    .dataframe tbody tr th {\n",
       "        vertical-align: top;\n",
       "    }\n",
       "\n",
       "    .dataframe thead th {\n",
       "        text-align: right;\n",
       "    }\n",
       "</style>\n",
       "<table border=\"1\" class=\"dataframe\">\n",
       "  <thead>\n",
       "    <tr style=\"text-align: right;\">\n",
       "      <th></th>\n",
       "      <th>Year</th>\n",
       "      <th>AUM</th>\n",
       "    </tr>\n",
       "  </thead>\n",
       "  <tbody>\n",
       "    <tr>\n",
       "      <th>3</th>\n",
       "      <td>2020</td>\n",
       "      <td>105481</td>\n",
       "    </tr>\n",
       "    <tr>\n",
       "      <th>2</th>\n",
       "      <td>2019</td>\n",
       "      <td>247401</td>\n",
       "    </tr>\n",
       "    <tr>\n",
       "      <th>1</th>\n",
       "      <td>2018</td>\n",
       "      <td>64856</td>\n",
       "    </tr>\n",
       "    <tr>\n",
       "      <th>0</th>\n",
       "      <td>2017</td>\n",
       "      <td>137</td>\n",
       "    </tr>\n",
       "  </tbody>\n",
       "</table>\n",
       "</div>"
      ],
      "text/plain": [
       "   Year     AUM\n",
       "3  2020  105481\n",
       "2  2019  247401\n",
       "1  2018   64856\n",
       "0  2017     137"
      ]
     },
     "execution_count": 444,
     "metadata": {},
     "output_type": "execute_result"
    }
   ],
   "source": [
    "df_saída = df_client[['Year','AUM']].groupby('Year').sum().round(2)\n",
    "df_saída.reset_index(inplace = True)\n",
    "\n",
    "#ordenar por ordem crescente\n",
    "df_saída.sort_values(by = ['Year'], ascending = False, inplace = True)\n",
    "df_saída\n"
   ]
  },
  {
   "cell_type": "code",
   "execution_count": 403,
   "id": "8d397d04",
   "metadata": {
    "ExecuteTime": {
     "end_time": "2021-09-06T14:14:01.069449Z",
     "start_time": "2021-09-06T14:14:01.043218Z"
    }
   },
   "outputs": [
    {
     "data": {
      "text/html": [
       "<div>\n",
       "<style scoped>\n",
       "    .dataframe tbody tr th:only-of-type {\n",
       "        vertical-align: middle;\n",
       "    }\n",
       "\n",
       "    .dataframe tbody tr th {\n",
       "        vertical-align: top;\n",
       "    }\n",
       "\n",
       "    .dataframe thead th {\n",
       "        text-align: right;\n",
       "    }\n",
       "</style>\n",
       "<table border=\"1\" class=\"dataframe\">\n",
       "  <thead>\n",
       "    <tr style=\"text-align: right;\">\n",
       "      <th></th>\n",
       "      <th>CustomerApiid</th>\n",
       "      <th>CustomerId</th>\n",
       "      <th>AUM</th>\n",
       "      <th>RegisterDate</th>\n",
       "      <th>AmountFirstDeposit</th>\n",
       "      <th>TotalDeposits</th>\n",
       "      <th>TotalWithdrawals</th>\n",
       "      <th>MonthlyIncome</th>\n",
       "      <th>FinancialInvestmentsValue</th>\n",
       "      <th>Age</th>\n",
       "      <th>ComputedRiskTolerance</th>\n",
       "      <th>Id</th>\n",
       "      <th>Direction</th>\n",
       "      <th>Amount</th>\n",
       "      <th>OperatedAt</th>\n",
       "      <th>Month</th>\n",
       "      <th>Year</th>\n",
       "    </tr>\n",
       "  </thead>\n",
       "  <tbody>\n",
       "    <tr>\n",
       "      <th>0</th>\n",
       "      <td>597d1f93ad57cd674deb5dfd</td>\n",
       "      <td>64617</td>\n",
       "      <td>65413</td>\n",
       "      <td>2019-01-02 16:58:00</td>\n",
       "      <td>200.0</td>\n",
       "      <td>22</td>\n",
       "      <td>1</td>\n",
       "      <td>8000.0</td>\n",
       "      <td>0.0</td>\n",
       "      <td>37</td>\n",
       "      <td>24.0</td>\n",
       "      <td>1201605</td>\n",
       "      <td>10</td>\n",
       "      <td>2000.0</td>\n",
       "      <td>2021-01-04 09:31:27</td>\n",
       "      <td>1</td>\n",
       "      <td>2019</td>\n",
       "    </tr>\n",
       "    <tr>\n",
       "      <th>1</th>\n",
       "      <td>5a04bd4815a605790aff5c77</td>\n",
       "      <td>24431</td>\n",
       "      <td>0</td>\n",
       "      <td>2018-01-02 18:41:09</td>\n",
       "      <td>300.0</td>\n",
       "      <td>14</td>\n",
       "      <td>9</td>\n",
       "      <td>2000.0</td>\n",
       "      <td>0.0</td>\n",
       "      <td>22</td>\n",
       "      <td>13.5</td>\n",
       "      <td>1201889</td>\n",
       "      <td>10</td>\n",
       "      <td>100.0</td>\n",
       "      <td>2021-01-07 00:00:00</td>\n",
       "      <td>1</td>\n",
       "      <td>2018</td>\n",
       "    </tr>\n",
       "  </tbody>\n",
       "</table>\n",
       "</div>"
      ],
      "text/plain": [
       "              CustomerApiid  CustomerId    AUM        RegisterDate  \\\n",
       "0  597d1f93ad57cd674deb5dfd       64617  65413 2019-01-02 16:58:00   \n",
       "1  5a04bd4815a605790aff5c77       24431      0 2018-01-02 18:41:09   \n",
       "\n",
       "   AmountFirstDeposit  TotalDeposits  TotalWithdrawals  MonthlyIncome  \\\n",
       "0               200.0             22                 1         8000.0   \n",
       "1               300.0             14                 9         2000.0   \n",
       "\n",
       "   FinancialInvestmentsValue  Age  ComputedRiskTolerance       Id  Direction  \\\n",
       "0                        0.0   37                   24.0  1201605         10   \n",
       "1                        0.0   22                   13.5  1201889         10   \n",
       "\n",
       "   Amount          OperatedAt  Month  Year  \n",
       "0  2000.0 2021-01-04 09:31:27      1  2019  \n",
       "1   100.0 2021-01-07 00:00:00      1  2018  "
      ]
     },
     "execution_count": 403,
     "metadata": {},
     "output_type": "execute_result"
    }
   ],
   "source": [
    "df_client.head(2)"
   ]
  },
  {
   "cell_type": "code",
   "execution_count": 415,
   "id": "5c3a70a5",
   "metadata": {
    "ExecuteTime": {
     "end_time": "2021-09-06T14:19:36.006392Z",
     "start_time": "2021-09-06T14:19:35.700905Z"
    }
   },
   "outputs": [
    {
     "data": {
      "image/png": "[encoded data removed]",
      "text/plain": [
       "<Figure size 720x360 with 1 Axes>"
      ]
     },
     "metadata": {
      "needs_background": "light"
     },
     "output_type": "display_data"
    }
   ],
   "source": [
    "'''plt.figure(figsize=(10,5))\n",
    "sns.histplot(data=df_saída['AUM'], x='Year')\n",
    "plt.title('Saídas de Valores ao longo dos anos')\n",
    "plt.show()\n",
    "'''\n",
    "plt.figure(figsize=(10,5))\n",
    "sns.histplot(data=df_saída, x='AUM', bins=20, hue='Year')\n",
    "plt.show()"
   ]
  },
  {
   "cell_type": "code",
   "execution_count": 418,
   "id": "01cbeed2",
   "metadata": {
    "ExecuteTime": {
     "end_time": "2021-09-06T14:24:53.037467Z",
     "start_time": "2021-09-06T14:24:52.894430Z"
    }
   },
   "outputs": [
    {
     "data": {
      "image/png": "[encoded data removed]",
      "text/plain": [
       "<Figure size 720x360 with 1 Axes>"
      ]
     },
     "metadata": {
      "needs_background": "light"
     },
     "output_type": "display_data"
    }
   ],
   "source": [
    "plt.figure(figsize=(10,5))\n",
    "sns.histplot(data=df_client[df_client['Year'] == 2017], x='AUM', kde=True)\n",
    "plt.title('Saídas de Valores no ano de 2017')\n",
    "plt.show()"
   ]
  },
  {
   "cell_type": "code",
   "execution_count": 416,
   "id": "954c0395",
   "metadata": {
    "ExecuteTime": {
     "end_time": "2021-09-06T14:24:12.008993Z",
     "start_time": "2021-09-06T14:24:11.864199Z"
    }
   },
   "outputs": [
    {
     "data": {
      "image/png": "[encoded data removed]",
      "text/plain": [
       "<Figure size 720x360 with 1 Axes>"
      ]
     },
     "metadata": {
      "needs_background": "light"
     },
     "output_type": "display_data"
    }
   ],
   "source": [
    "plt.figure(figsize=(10,5))\n",
    "sns.histplot(data=df_client[df_client['Year'] == 2020], x='AUM', kde=True)\n",
    "plt.title('Saídas de Valores no ano de 2020')\n",
    "plt.show()\n"
   ]
  },
  {
   "cell_type": "code",
   "execution_count": 436,
   "id": "1c44d22d",
   "metadata": {
    "ExecuteTime": {
     "end_time": "2021-09-06T14:44:04.217617Z",
     "start_time": "2021-09-06T14:44:04.200549Z"
    }
   },
   "outputs": [
    {
     "name": "stdout",
     "output_type": "stream",
     "text": [
      "<class 'pandas.core.frame.DataFrame'>\n",
      "Int64Index: 4 entries, 3 to 0\n",
      "Data columns (total 2 columns):\n",
      " #   Column  Non-Null Count  Dtype\n",
      "---  ------  --------------  -----\n",
      " 0   Year    4 non-null      int64\n",
      " 1   AUM     4 non-null      int32\n",
      "dtypes: int32(1), int64(1)\n",
      "memory usage: 252.0 bytes\n"
     ]
    }
   ],
   "source": [
    "df_saída.info()"
   ]
  },
  {
   "cell_type": "code",
   "execution_count": 435,
   "id": "a3e89c83",
   "metadata": {
    "ExecuteTime": {
     "end_time": "2021-09-06T14:43:45.126014Z",
     "start_time": "2021-09-06T14:43:45.082967Z"
    }
   },
   "outputs": [
    {
     "ename": "KeyError",
     "evalue": "'Month'",
     "output_type": "error",
     "traceback": [
      "\u001b[1;31m---------------------------------------------------------------------------\u001b[0m",
      "\u001b[1;31mKeyError\u001b[0m                                  Traceback (most recent call last)",
      "\u001b[1;32m~\\Anaconda3\\lib\\site-packages\\pandas\\core\\indexes\\base.py\u001b[0m in \u001b[0;36mget_loc\u001b[1;34m(self, key, method, tolerance)\u001b[0m\n\u001b[0;32m   3079\u001b[0m             \u001b[1;32mtry\u001b[0m\u001b[1;33m:\u001b[0m\u001b[1;33m\u001b[0m\u001b[1;33m\u001b[0m\u001b[0m\n\u001b[1;32m-> 3080\u001b[1;33m                 \u001b[1;32mreturn\u001b[0m \u001b[0mself\u001b[0m\u001b[1;33m.\u001b[0m\u001b[0m_engine\u001b[0m\u001b[1;33m.\u001b[0m\u001b[0mget_loc\u001b[0m\u001b[1;33m(\u001b[0m\u001b[0mcasted_key\u001b[0m\u001b[1;33m)\u001b[0m\u001b[1;33m\u001b[0m\u001b[1;33m\u001b[0m\u001b[0m\n\u001b[0m\u001b[0;32m   3081\u001b[0m             \u001b[1;32mexcept\u001b[0m \u001b[0mKeyError\u001b[0m \u001b[1;32mas\u001b[0m \u001b[0merr\u001b[0m\u001b[1;33m:\u001b[0m\u001b[1;33m\u001b[0m\u001b[1;33m\u001b[0m\u001b[0m\n",
      "\u001b[1;32mpandas\\_libs\\index.pyx\u001b[0m in \u001b[0;36mpandas._libs.index.IndexEngine.get_loc\u001b[1;34m()\u001b[0m\n",
      "\u001b[1;32mpandas\\_libs\\index.pyx\u001b[0m in \u001b[0;36mpandas._libs.index.IndexEngine.get_loc\u001b[1;34m()\u001b[0m\n",
      "\u001b[1;32mpandas\\_libs\\hashtable_class_helper.pxi\u001b[0m in \u001b[0;36mpandas._libs.hashtable.PyObjectHashTable.get_item\u001b[1;34m()\u001b[0m\n",
      "\u001b[1;32mpandas\\_libs\\hashtable_class_helper.pxi\u001b[0m in \u001b[0;36mpandas._libs.hashtable.PyObjectHashTable.get_item\u001b[1;34m()\u001b[0m\n",
      "\u001b[1;31mKeyError\u001b[0m: 'Month'",
      "\nThe above exception was the direct cause of the following exception:\n",
      "\u001b[1;31mKeyError\u001b[0m                                  Traceback (most recent call last)",
      "\u001b[1;32m<ipython-input-435-1c1779b4fb61>\u001b[0m in \u001b[0;36m<module>\u001b[1;34m\u001b[0m\n\u001b[0;32m     12\u001b[0m \u001b[1;33m\u001b[0m\u001b[0m\n\u001b[0;32m     13\u001b[0m \u001b[1;33m\u001b[0m\u001b[0m\n\u001b[1;32m---> 14\u001b[1;33m \u001b[0mg\u001b[0m \u001b[1;33m=\u001b[0m \u001b[0msns\u001b[0m\u001b[1;33m.\u001b[0m\u001b[0mFacetGrid\u001b[0m\u001b[1;33m(\u001b[0m\u001b[0mdf_saída\u001b[0m\u001b[1;33m,\u001b[0m\u001b[0mcol\u001b[0m\u001b[1;33m=\u001b[0m\u001b[1;34m'Month'\u001b[0m\u001b[1;33m)\u001b[0m\u001b[1;33m\u001b[0m\u001b[1;33m\u001b[0m\u001b[0m\n\u001b[0m\u001b[0;32m     15\u001b[0m \u001b[0mg\u001b[0m \u001b[1;33m=\u001b[0m \u001b[0mg\u001b[0m\u001b[1;33m.\u001b[0m\u001b[0mmap_dataframe\u001b[0m\u001b[1;33m(\u001b[0m\u001b[0msns\u001b[0m\u001b[1;33m.\u001b[0m\u001b[0mbarplot\u001b[0m\u001b[1;33m,\u001b[0m\u001b[1;34m\"Year\"\u001b[0m\u001b[1;33m,\u001b[0m\u001b[1;34m\"AUM\"\u001b[0m\u001b[1;33m,\u001b[0m\u001b[0mhue\u001b[0m\u001b[1;33m=\u001b[0m\u001b[1;34m'AUM'\u001b[0m\u001b[1;33m,\u001b[0m\u001b[0mci\u001b[0m\u001b[1;33m=\u001b[0m\u001b[1;32mNone\u001b[0m\u001b[1;33m,\u001b[0m\u001b[0mpalette\u001b[0m \u001b[1;33m=\u001b[0m \u001b[0msns\u001b[0m\u001b[1;33m.\u001b[0m\u001b[0mcolor_palette\u001b[0m\u001b[1;33m(\u001b[0m\u001b[1;34m\"bright\"\u001b[0m\u001b[1;33m)\u001b[0m\u001b[1;33m)\u001b[0m\u001b[1;33m\u001b[0m\u001b[1;33m\u001b[0m\u001b[0m\n\u001b[0;32m     16\u001b[0m \u001b[1;32mfor\u001b[0m \u001b[0max\u001b[0m \u001b[1;32min\u001b[0m \u001b[0mg\u001b[0m\u001b[1;33m.\u001b[0m\u001b[0maxes\u001b[0m\u001b[1;33m.\u001b[0m\u001b[0mravel\u001b[0m\u001b[1;33m(\u001b[0m\u001b[1;33m)\u001b[0m\u001b[1;33m:\u001b[0m\u001b[1;33m\u001b[0m\u001b[1;33m\u001b[0m\u001b[0m\n",
      "\u001b[1;32m~\\Anaconda3\\lib\\site-packages\\seaborn\\_decorators.py\u001b[0m in \u001b[0;36minner_f\u001b[1;34m(*args, **kwargs)\u001b[0m\n\u001b[0;32m     44\u001b[0m             )\n\u001b[0;32m     45\u001b[0m         \u001b[0mkwargs\u001b[0m\u001b[1;33m.\u001b[0m\u001b[0mupdate\u001b[0m\u001b[1;33m(\u001b[0m\u001b[1;33m{\u001b[0m\u001b[0mk\u001b[0m\u001b[1;33m:\u001b[0m \u001b[0marg\u001b[0m \u001b[1;32mfor\u001b[0m \u001b[0mk\u001b[0m\u001b[1;33m,\u001b[0m \u001b[0marg\u001b[0m \u001b[1;32min\u001b[0m \u001b[0mzip\u001b[0m\u001b[1;33m(\u001b[0m\u001b[0msig\u001b[0m\u001b[1;33m.\u001b[0m\u001b[0mparameters\u001b[0m\u001b[1;33m,\u001b[0m \u001b[0margs\u001b[0m\u001b[1;33m)\u001b[0m\u001b[1;33m}\u001b[0m\u001b[1;33m)\u001b[0m\u001b[1;33m\u001b[0m\u001b[1;33m\u001b[0m\u001b[0m\n\u001b[1;32m---> 46\u001b[1;33m         \u001b[1;32mreturn\u001b[0m \u001b[0mf\u001b[0m\u001b[1;33m(\u001b[0m\u001b[1;33m**\u001b[0m\u001b[0mkwargs\u001b[0m\u001b[1;33m)\u001b[0m\u001b[1;33m\u001b[0m\u001b[1;33m\u001b[0m\u001b[0m\n\u001b[0m\u001b[0;32m     47\u001b[0m     \u001b[1;32mreturn\u001b[0m \u001b[0minner_f\u001b[0m\u001b[1;33m\u001b[0m\u001b[1;33m\u001b[0m\u001b[0m\n\u001b[0;32m     48\u001b[0m \u001b[1;33m\u001b[0m\u001b[0m\n",
      "\u001b[1;32m~\\Anaconda3\\lib\\site-packages\\seaborn\\axisgrid.py\u001b[0m in \u001b[0;36m__init__\u001b[1;34m(self, data, row, col, hue, col_wrap, sharex, sharey, height, aspect, palette, row_order, col_order, hue_order, hue_kws, dropna, legend_out, despine, margin_titles, xlim, ylim, subplot_kws, gridspec_kws, size)\u001b[0m\n\u001b[0;32m    334\u001b[0m             \u001b[0mcol_names\u001b[0m \u001b[1;33m=\u001b[0m \u001b[1;33m[\u001b[0m\u001b[1;33m]\u001b[0m\u001b[1;33m\u001b[0m\u001b[1;33m\u001b[0m\u001b[0m\n\u001b[0;32m    335\u001b[0m         \u001b[1;32melse\u001b[0m\u001b[1;33m:\u001b[0m\u001b[1;33m\u001b[0m\u001b[1;33m\u001b[0m\u001b[0m\n\u001b[1;32m--> 336\u001b[1;33m             \u001b[0mcol_names\u001b[0m \u001b[1;33m=\u001b[0m \u001b[0mcategorical_order\u001b[0m\u001b[1;33m(\u001b[0m\u001b[0mdata\u001b[0m\u001b[1;33m[\u001b[0m\u001b[0mcol\u001b[0m\u001b[1;33m]\u001b[0m\u001b[1;33m,\u001b[0m \u001b[0mcol_order\u001b[0m\u001b[1;33m)\u001b[0m\u001b[1;33m\u001b[0m\u001b[1;33m\u001b[0m\u001b[0m\n\u001b[0m\u001b[0;32m    337\u001b[0m \u001b[1;33m\u001b[0m\u001b[0m\n\u001b[0;32m    338\u001b[0m         \u001b[1;31m# Additional dict of kwarg -> list of values for mapping the hue var\u001b[0m\u001b[1;33m\u001b[0m\u001b[1;33m\u001b[0m\u001b[1;33m\u001b[0m\u001b[0m\n",
      "\u001b[1;32m~\\Anaconda3\\lib\\site-packages\\pandas\\core\\frame.py\u001b[0m in \u001b[0;36m__getitem__\u001b[1;34m(self, key)\u001b[0m\n\u001b[0;32m   3022\u001b[0m             \u001b[1;32mif\u001b[0m \u001b[0mself\u001b[0m\u001b[1;33m.\u001b[0m\u001b[0mcolumns\u001b[0m\u001b[1;33m.\u001b[0m\u001b[0mnlevels\u001b[0m \u001b[1;33m>\u001b[0m \u001b[1;36m1\u001b[0m\u001b[1;33m:\u001b[0m\u001b[1;33m\u001b[0m\u001b[1;33m\u001b[0m\u001b[0m\n\u001b[0;32m   3023\u001b[0m                 \u001b[1;32mreturn\u001b[0m \u001b[0mself\u001b[0m\u001b[1;33m.\u001b[0m\u001b[0m_getitem_multilevel\u001b[0m\u001b[1;33m(\u001b[0m\u001b[0mkey\u001b[0m\u001b[1;33m)\u001b[0m\u001b[1;33m\u001b[0m\u001b[1;33m\u001b[0m\u001b[0m\n\u001b[1;32m-> 3024\u001b[1;33m             \u001b[0mindexer\u001b[0m \u001b[1;33m=\u001b[0m \u001b[0mself\u001b[0m\u001b[1;33m.\u001b[0m\u001b[0mcolumns\u001b[0m\u001b[1;33m.\u001b[0m\u001b[0mget_loc\u001b[0m\u001b[1;33m(\u001b[0m\u001b[0mkey\u001b[0m\u001b[1;33m)\u001b[0m\u001b[1;33m\u001b[0m\u001b[1;33m\u001b[0m\u001b[0m\n\u001b[0m\u001b[0;32m   3025\u001b[0m             \u001b[1;32mif\u001b[0m \u001b[0mis_integer\u001b[0m\u001b[1;33m(\u001b[0m\u001b[0mindexer\u001b[0m\u001b[1;33m)\u001b[0m\u001b[1;33m:\u001b[0m\u001b[1;33m\u001b[0m\u001b[1;33m\u001b[0m\u001b[0m\n\u001b[0;32m   3026\u001b[0m                 \u001b[0mindexer\u001b[0m \u001b[1;33m=\u001b[0m \u001b[1;33m[\u001b[0m\u001b[0mindexer\u001b[0m\u001b[1;33m]\u001b[0m\u001b[1;33m\u001b[0m\u001b[1;33m\u001b[0m\u001b[0m\n",
      "\u001b[1;32m~\\Anaconda3\\lib\\site-packages\\pandas\\core\\indexes\\base.py\u001b[0m in \u001b[0;36mget_loc\u001b[1;34m(self, key, method, tolerance)\u001b[0m\n\u001b[0;32m   3080\u001b[0m                 \u001b[1;32mreturn\u001b[0m \u001b[0mself\u001b[0m\u001b[1;33m.\u001b[0m\u001b[0m_engine\u001b[0m\u001b[1;33m.\u001b[0m\u001b[0mget_loc\u001b[0m\u001b[1;33m(\u001b[0m\u001b[0mcasted_key\u001b[0m\u001b[1;33m)\u001b[0m\u001b[1;33m\u001b[0m\u001b[1;33m\u001b[0m\u001b[0m\n\u001b[0;32m   3081\u001b[0m             \u001b[1;32mexcept\u001b[0m \u001b[0mKeyError\u001b[0m \u001b[1;32mas\u001b[0m \u001b[0merr\u001b[0m\u001b[1;33m:\u001b[0m\u001b[1;33m\u001b[0m\u001b[1;33m\u001b[0m\u001b[0m\n\u001b[1;32m-> 3082\u001b[1;33m                 \u001b[1;32mraise\u001b[0m \u001b[0mKeyError\u001b[0m\u001b[1;33m(\u001b[0m\u001b[0mkey\u001b[0m\u001b[1;33m)\u001b[0m \u001b[1;32mfrom\u001b[0m \u001b[0merr\u001b[0m\u001b[1;33m\u001b[0m\u001b[1;33m\u001b[0m\u001b[0m\n\u001b[0m\u001b[0;32m   3083\u001b[0m \u001b[1;33m\u001b[0m\u001b[0m\n\u001b[0;32m   3084\u001b[0m         \u001b[1;32mif\u001b[0m \u001b[0mtolerance\u001b[0m \u001b[1;32mis\u001b[0m \u001b[1;32mnot\u001b[0m \u001b[1;32mNone\u001b[0m\u001b[1;33m:\u001b[0m\u001b[1;33m\u001b[0m\u001b[1;33m\u001b[0m\u001b[0m\n",
      "\u001b[1;31mKeyError\u001b[0m: 'Month'"
     ]
    }
   ],
   "source": [
    "'''g = sns.FacetGrid(df_saída, col=\"AUM\", row=\"Year\")\n",
    "g.df_saída(sns.histplot, x=\"Year\", binwidth=2, binrange=(0, 60))\n",
    "\n",
    "'''\n",
    "'''df_saída = sns.df_saída(\"tips\")\n",
    "sns.FacetGrid(tips, col=\"time\", row=\"sex\")'''\n",
    "'''\n",
    "            df_saída = sns.FacetGrid(tips, col=\"Year\",  row=\"Year\")\n",
    "            df_saída.map(sns.scatterplot, \"total_bill\", \"tip\")'''\n",
    "\n",
    "\n",
    "\n",
    "\n",
    "g = sns.FacetGrid(df_saída,col='Month')\n",
    "g = g.map_dataframe(sns.barplot,\"Year\",\"AUM\",hue='AUM',ci=None,palette = sns.color_palette(\"bright\"))\n",
    "for ax in g.axes.ravel():\n",
    "    ax.legend()\n",
    "plt.show()"
   ]
  },
  {
   "cell_type": "markdown",
   "id": "baed014e",
   "metadata": {},
   "source": [
    "___"
   ]
  },
  {
   "cell_type": "markdown",
   "id": "9fa5e903",
   "metadata": {},
   "source": [
    "##### Qual público está entrando na warren nos últimos tempos (idade, renda, investimentos)"
   ]
  },
  {
   "cell_type": "code",
   "execution_count": 339,
   "id": "d228aefe",
   "metadata": {
    "ExecuteTime": {
     "end_time": "2021-09-06T13:40:46.989150Z",
     "start_time": "2021-09-06T13:40:35.967081Z"
    }
   },
   "outputs": [
    {
     "ename": "AttributeError",
     "evalue": "module 'matplotlib' has no attribute 'show'",
     "output_type": "error",
     "traceback": [
      "\u001b[1;31m---------------------------------------------------------------------------\u001b[0m",
      "\u001b[1;31mAttributeError\u001b[0m                            Traceback (most recent call last)",
      "\u001b[1;32m<ipython-input-339-d328f29645e3>\u001b[0m in \u001b[0;36m<module>\u001b[1;34m\u001b[0m\n\u001b[0;32m      1\u001b[0m \u001b[1;31m#gráfico de dispersão\u001b[0m\u001b[1;33m\u001b[0m\u001b[1;33m\u001b[0m\u001b[1;33m\u001b[0m\u001b[0m\n\u001b[0;32m      2\u001b[0m \u001b[0msns\u001b[0m\u001b[1;33m.\u001b[0m\u001b[0mpairplot\u001b[0m\u001b[1;33m(\u001b[0m\u001b[0mdata\u001b[0m \u001b[1;33m=\u001b[0m \u001b[0mdf_client\u001b[0m\u001b[1;33m,\u001b[0m \u001b[0mvars\u001b[0m\u001b[1;33m=\u001b[0m\u001b[1;33m[\u001b[0m\u001b[1;34m'Age'\u001b[0m\u001b[1;33m,\u001b[0m\u001b[1;34m'MonthlyIncome'\u001b[0m\u001b[1;33m,\u001b[0m\u001b[1;34m'FinancialInvestmentsValue'\u001b[0m\u001b[1;33m]\u001b[0m\u001b[1;33m)\u001b[0m\u001b[1;33m\u001b[0m\u001b[1;33m\u001b[0m\u001b[0m\n\u001b[1;32m----> 3\u001b[1;33m \u001b[0mplt\u001b[0m\u001b[1;33m.\u001b[0m\u001b[0mshow\u001b[0m\u001b[1;33m(\u001b[0m\u001b[1;33m)\u001b[0m\u001b[1;33m\u001b[0m\u001b[1;33m\u001b[0m\u001b[0m\n\u001b[0m",
      "\u001b[1;31mAttributeError\u001b[0m: module 'matplotlib' has no attribute 'show'"
     ]
    },
    {
     "data": {
      "image/png": "[encoded data removed]",
      "text/plain": [
       "<Figure size 540x540 with 12 Axes>"
      ]
     },
     "metadata": {
      "needs_background": "light"
     },
     "output_type": "display_data"
    }
   ],
   "source": [
    "#gráfico de dispersão\n",
    "sns.pairplot(data = df_client, vars=['Age','MonthlyIncome','FinancialInvestmentsValue'])\n",
    "plt.show()"
   ]
  },
  {
   "cell_type": "code",
   "execution_count": 264,
   "id": "01b25432",
   "metadata": {
    "ExecuteTime": {
     "end_time": "2021-09-06T05:12:30.557232Z",
     "start_time": "2021-09-06T05:12:30.321040Z"
    }
   },
   "outputs": [
    {
     "data": {
      "text/plain": [
       "<seaborn.axisgrid.FacetGrid at 0x15e4b9f2e80>"
      ]
     },
     "execution_count": 264,
     "metadata": {},
     "output_type": "execute_result"
    },
    {
     "data": {
      "image/png": "[encoded data removed]",
      "text/plain": [
       "<Figure size 360x360 with 1 Axes>"
      ]
     },
     "metadata": {
      "needs_background": "light"
     },
     "output_type": "display_data"
    }
   ],
   "source": [
    "\n",
    "'''sns.catplot(x=\"Age\", kind=\"count\", palette='cividis', data=df_client)'''"
   ]
  },
  {
   "cell_type": "code",
   "execution_count": 340,
   "id": "e83b7dfb",
   "metadata": {
    "ExecuteTime": {
     "end_time": "2021-09-06T13:40:56.386581Z",
     "start_time": "2021-09-06T13:40:56.215851Z"
    }
   },
   "outputs": [
    {
     "name": "stderr",
     "output_type": "stream",
     "text": [
      "C:\\Users\\re041273\\Anaconda3\\lib\\site-packages\\seaborn\\distributions.py:2551: FutureWarning: `distplot` is a deprecated function and will be removed in a future version. Please adapt your code to use either `displot` (a figure-level function with similar flexibility) or `histplot` (an axes-level function for histograms).\n",
      "  warnings.warn(msg, FutureWarning)\n"
     ]
    },
    {
     "data": {
      "text/plain": [
       "<AxesSubplot:xlabel='Age', ylabel='Density'>"
      ]
     },
     "execution_count": 340,
     "metadata": {},
     "output_type": "execute_result"
    },
    {
     "data": {
      "image/png": "[encoded data removed]",
      "text/plain": [
       "<Figure size 432x288 with 1 Axes>"
      ]
     },
     "metadata": {
      "needs_background": "light"
     },
     "output_type": "display_data"
    }
   ],
   "source": [
    "#Distribuição das idades\n",
    "sns.distplot(df_client[\"Age\"], hist=True, kde=True, \n",
    "             color = 'olive', \n",
    "             hist_kws={'edgecolor':'black'},\n",
    "             kde_kws={'linewidth': 1})"
   ]
  },
  {
   "cell_type": "code",
   "execution_count": 360,
   "id": "9738e879",
   "metadata": {
    "ExecuteTime": {
     "end_time": "2021-09-06T13:49:06.912359Z",
     "start_time": "2021-09-06T13:49:06.892394Z"
    }
   },
   "outputs": [
    {
     "data": {
      "text/plain": [
       "'ax = df_perfil.plot(x=\"Age\", y=\"MonthlyIncome\", kind=\"bar\")\\ndf.plot(x=\"Age\", y=\"MonthlyIncome\", kind=\"bar\", ax=ax, color=\"C2\")\\ndf.plot(x=\"Age\", y=\"FinancialInvestmentsValue\", kind=\"bar\", ax=ax, color=\"C3\")\\n\\nplt.show()'"
      ]
     },
     "execution_count": 360,
     "metadata": {},
     "output_type": "execute_result"
    }
   ],
   "source": [
    "#['age']['monthlyincome']['financialinvestmentvalue']\n",
    "\n",
    "df_perfil = df_client[['Age','MonthlyIncome','FinancialInvestmentsValue']].reset_index(inplace = True)\n",
    "\n",
    "'''ax = df_perfil.plot(x=\"Age\", y=\"MonthlyIncome\", kind=\"bar\")\n",
    "df.plot(x=\"Age\", y=\"MonthlyIncome\", kind=\"bar\", ax=ax, color=\"C2\")\n",
    "df.plot(x=\"Age\", y=\"FinancialInvestmentsValue\", kind=\"bar\", ax=ax, color=\"C3\")\n",
    "\n",
    "plt.show()'''\n"
   ]
  },
  {
   "cell_type": "code",
   "execution_count": null,
   "id": "1fd07d51",
   "metadata": {},
   "outputs": [],
   "source": [
    "df_perfil = df_client[['Month','AUM']].groupby('Month').sum().round(2)\n",
    "df_saída.reset_index(inplace = True)\n",
    "\n",
    "#ordenar por ordem crescente\n",
    "df_saída.sort_values(by = ['Month'], ascending = False, inplace = True)\n",
    "df_saída\n"
   ]
  },
  {
   "cell_type": "code",
   "execution_count": 362,
   "id": "9dc8ce20",
   "metadata": {
    "ExecuteTime": {
     "end_time": "2021-09-06T13:49:21.126273Z",
     "start_time": "2021-09-06T13:49:21.115278Z"
    }
   },
   "outputs": [
    {
     "data": {
      "text/plain": [
       "None"
      ]
     },
     "metadata": {},
     "output_type": "display_data"
    }
   ],
   "source": [
    "display(df_perfil)"
   ]
  },
  {
   "cell_type": "code",
   "execution_count": 208,
   "id": "69bfd946",
   "metadata": {
    "ExecuteTime": {
     "end_time": "2021-09-06T04:20:04.314862Z",
     "start_time": "2021-09-06T04:20:04.276920Z"
    }
   },
   "outputs": [
    {
     "ename": "KeyError",
     "evalue": "'age'",
     "output_type": "error",
     "traceback": [
      "\u001b[1;31m---------------------------------------------------------------------------\u001b[0m",
      "\u001b[1;31mKeyError\u001b[0m                                  Traceback (most recent call last)",
      "\u001b[1;32m~\\Anaconda3\\lib\\site-packages\\pandas\\core\\indexes\\base.py\u001b[0m in \u001b[0;36mget_loc\u001b[1;34m(self, key, method, tolerance)\u001b[0m\n\u001b[0;32m   3079\u001b[0m             \u001b[1;32mtry\u001b[0m\u001b[1;33m:\u001b[0m\u001b[1;33m\u001b[0m\u001b[1;33m\u001b[0m\u001b[0m\n\u001b[1;32m-> 3080\u001b[1;33m                 \u001b[1;32mreturn\u001b[0m \u001b[0mself\u001b[0m\u001b[1;33m.\u001b[0m\u001b[0m_engine\u001b[0m\u001b[1;33m.\u001b[0m\u001b[0mget_loc\u001b[0m\u001b[1;33m(\u001b[0m\u001b[0mcasted_key\u001b[0m\u001b[1;33m)\u001b[0m\u001b[1;33m\u001b[0m\u001b[1;33m\u001b[0m\u001b[0m\n\u001b[0m\u001b[0;32m   3081\u001b[0m             \u001b[1;32mexcept\u001b[0m \u001b[0mKeyError\u001b[0m \u001b[1;32mas\u001b[0m \u001b[0merr\u001b[0m\u001b[1;33m:\u001b[0m\u001b[1;33m\u001b[0m\u001b[1;33m\u001b[0m\u001b[0m\n",
      "\u001b[1;32mpandas\\_libs\\index.pyx\u001b[0m in \u001b[0;36mpandas._libs.index.IndexEngine.get_loc\u001b[1;34m()\u001b[0m\n",
      "\u001b[1;32mpandas\\_libs\\index.pyx\u001b[0m in \u001b[0;36mpandas._libs.index.IndexEngine.get_loc\u001b[1;34m()\u001b[0m\n",
      "\u001b[1;32mpandas\\_libs\\hashtable_class_helper.pxi\u001b[0m in \u001b[0;36mpandas._libs.hashtable.PyObjectHashTable.get_item\u001b[1;34m()\u001b[0m\n",
      "\u001b[1;32mpandas\\_libs\\hashtable_class_helper.pxi\u001b[0m in \u001b[0;36mpandas._libs.hashtable.PyObjectHashTable.get_item\u001b[1;34m()\u001b[0m\n",
      "\u001b[1;31mKeyError\u001b[0m: 'age'",
      "\nThe above exception was the direct cause of the following exception:\n",
      "\u001b[1;31mKeyError\u001b[0m                                  Traceback (most recent call last)",
      "\u001b[1;32m<ipython-input-208-630fee232e80>\u001b[0m in \u001b[0;36m<module>\u001b[1;34m\u001b[0m\n\u001b[1;32m----> 1\u001b[1;33m \u001b[0mdf_client\u001b[0m\u001b[1;33m[\u001b[0m\u001b[1;34m'age'\u001b[0m\u001b[1;33m]\u001b[0m\u001b[1;33m.\u001b[0m\u001b[0mplot\u001b[0m\u001b[1;33m.\u001b[0m\u001b[0mhist\u001b[0m\u001b[1;33m(\u001b[0m\u001b[0mbins\u001b[0m \u001b[1;33m=\u001b[0m \u001b[1;36m20\u001b[0m\u001b[1;33m,\u001b[0m \u001b[0mtitle\u001b[0m \u001b[1;33m=\u001b[0m \u001b[1;34m'Purchases Quantity Distribution'\u001b[0m\u001b[1;33m)\u001b[0m\u001b[1;33m\u001b[0m\u001b[1;33m\u001b[0m\u001b[0m\n\u001b[0m",
      "\u001b[1;32m~\\Anaconda3\\lib\\site-packages\\pandas\\core\\frame.py\u001b[0m in \u001b[0;36m__getitem__\u001b[1;34m(self, key)\u001b[0m\n\u001b[0;32m   3022\u001b[0m             \u001b[1;32mif\u001b[0m \u001b[0mself\u001b[0m\u001b[1;33m.\u001b[0m\u001b[0mcolumns\u001b[0m\u001b[1;33m.\u001b[0m\u001b[0mnlevels\u001b[0m \u001b[1;33m>\u001b[0m \u001b[1;36m1\u001b[0m\u001b[1;33m:\u001b[0m\u001b[1;33m\u001b[0m\u001b[1;33m\u001b[0m\u001b[0m\n\u001b[0;32m   3023\u001b[0m                 \u001b[1;32mreturn\u001b[0m \u001b[0mself\u001b[0m\u001b[1;33m.\u001b[0m\u001b[0m_getitem_multilevel\u001b[0m\u001b[1;33m(\u001b[0m\u001b[0mkey\u001b[0m\u001b[1;33m)\u001b[0m\u001b[1;33m\u001b[0m\u001b[1;33m\u001b[0m\u001b[0m\n\u001b[1;32m-> 3024\u001b[1;33m             \u001b[0mindexer\u001b[0m \u001b[1;33m=\u001b[0m \u001b[0mself\u001b[0m\u001b[1;33m.\u001b[0m\u001b[0mcolumns\u001b[0m\u001b[1;33m.\u001b[0m\u001b[0mget_loc\u001b[0m\u001b[1;33m(\u001b[0m\u001b[0mkey\u001b[0m\u001b[1;33m)\u001b[0m\u001b[1;33m\u001b[0m\u001b[1;33m\u001b[0m\u001b[0m\n\u001b[0m\u001b[0;32m   3025\u001b[0m             \u001b[1;32mif\u001b[0m \u001b[0mis_integer\u001b[0m\u001b[1;33m(\u001b[0m\u001b[0mindexer\u001b[0m\u001b[1;33m)\u001b[0m\u001b[1;33m:\u001b[0m\u001b[1;33m\u001b[0m\u001b[1;33m\u001b[0m\u001b[0m\n\u001b[0;32m   3026\u001b[0m                 \u001b[0mindexer\u001b[0m \u001b[1;33m=\u001b[0m \u001b[1;33m[\u001b[0m\u001b[0mindexer\u001b[0m\u001b[1;33m]\u001b[0m\u001b[1;33m\u001b[0m\u001b[1;33m\u001b[0m\u001b[0m\n",
      "\u001b[1;32m~\\Anaconda3\\lib\\site-packages\\pandas\\core\\indexes\\base.py\u001b[0m in \u001b[0;36mget_loc\u001b[1;34m(self, key, method, tolerance)\u001b[0m\n\u001b[0;32m   3080\u001b[0m                 \u001b[1;32mreturn\u001b[0m \u001b[0mself\u001b[0m\u001b[1;33m.\u001b[0m\u001b[0m_engine\u001b[0m\u001b[1;33m.\u001b[0m\u001b[0mget_loc\u001b[0m\u001b[1;33m(\u001b[0m\u001b[0mcasted_key\u001b[0m\u001b[1;33m)\u001b[0m\u001b[1;33m\u001b[0m\u001b[1;33m\u001b[0m\u001b[0m\n\u001b[0;32m   3081\u001b[0m             \u001b[1;32mexcept\u001b[0m \u001b[0mKeyError\u001b[0m \u001b[1;32mas\u001b[0m \u001b[0merr\u001b[0m\u001b[1;33m:\u001b[0m\u001b[1;33m\u001b[0m\u001b[1;33m\u001b[0m\u001b[0m\n\u001b[1;32m-> 3082\u001b[1;33m                 \u001b[1;32mraise\u001b[0m \u001b[0mKeyError\u001b[0m\u001b[1;33m(\u001b[0m\u001b[0mkey\u001b[0m\u001b[1;33m)\u001b[0m \u001b[1;32mfrom\u001b[0m \u001b[0merr\u001b[0m\u001b[1;33m\u001b[0m\u001b[1;33m\u001b[0m\u001b[0m\n\u001b[0m\u001b[0;32m   3083\u001b[0m \u001b[1;33m\u001b[0m\u001b[0m\n\u001b[0;32m   3084\u001b[0m         \u001b[1;32mif\u001b[0m \u001b[0mtolerance\u001b[0m \u001b[1;32mis\u001b[0m \u001b[1;32mnot\u001b[0m \u001b[1;32mNone\u001b[0m\u001b[1;33m:\u001b[0m\u001b[1;33m\u001b[0m\u001b[1;33m\u001b[0m\u001b[0m\n",
      "\u001b[1;31mKeyError\u001b[0m: 'age'"
     ]
    }
   ],
   "source": [
    "df_client['age'].plot.hist(bins = 20, title = 'Purchases Quantity Distribution')"
   ]
  },
  {
   "cell_type": "code",
   "execution_count": null,
   "id": "a1bb49f8",
   "metadata": {},
   "outputs": [],
   "source": [
    "#create reference table of item code and its description\n",
    "unique_indexes = data.StockCode.drop_duplicates().index\n",
    "data[['StockCode','Description']].loc[unique_indexes]\n",
    "ref_stock_desc = data[['StockCode','Description']].loc[unique_indexes] #the ref table\n",
    "ref_stock_desc.index = range(len(ref_stock_desc)) #make index as 0,1,...\n",
    "\n",
    "#sum groupby StockCode\n",
    "df_saída = data[['StockCode','Quantity']].groupby('StockCode').sum()\n",
    "df_quant_sold.reset_index(inplace = True)\n",
    "#order descending\n",
    "df_quant_sold.sort_values(by = ['Quantity'], ascending = False, inplace = True)\n",
    "#merge\n",
    "df_quant_sold = df_quant_sold.merge(ref_stock_desc, on = 'StockCode')"
   ]
  },
  {
   "cell_type": "code",
   "execution_count": null,
   "id": "93cf70b6",
   "metadata": {},
   "outputs": [],
   "source": [
    "\n",
    "'''\n",
    "plt.figure(figsize=(10,10))\n",
    "sns.histplot(data=df_transactions, x=\"Amount\")\n",
    "plt.title('Distribuição da variável AmountFirstDeposit')\n",
    "plt.show()\n",
    "'''\n",
    "\n",
    "'''grupos = df_transactions['Month']\n",
    "valores = df_transactions['Amount']\n",
    "plt.barh(grupos, valores)\n",
    "plt.show()'''"
   ]
  },
  {
   "cell_type": "markdown",
   "id": "ae84f57e",
   "metadata": {},
   "source": [
    "# Insigts"
   ]
  },
  {
   "cell_type": "markdown",
   "id": "142d3077",
   "metadata": {},
   "source": [
    "- Calcular transações de entrada por mês:\n",
    "    - desmembrar coluna data criando coluna mês - ok\n",
    "    - plotar gráfico sobre entradas - ok\n",
    "\n",
    "- quais clientes saíram da plataforma? - ok\n",
    "    fazer um agrupamento mensal - ok\n",
    "    plotar gráfico de saída mensal - ok\n",
    "- pegar todos os clientes que saíram ==20 - ok\n",
    "- df de pessoas que saíram\n",
    "- calcular o valor total dos que saíram / e mensal - ok\n",
    "- análises de eventos e clientes com a base reduzida (justificar na célula)\n",
    "\n",
    "\n",
    "DUVIDAS: \n",
    "\n",
    "- como comparar as saídas com os períodos passados?\n",
    "- Qual a previsão para os próximos meses? COMO CALCULAR? FAÇO UMA REGRESSÃO?"
   ]
  },
  {
   "cell_type": "code",
   "execution_count": null,
   "id": "14c40584",
   "metadata": {},
   "outputs": [],
   "source": []
  }
 ],
 "metadata": {
  "hide_input": false,
  "kernelspec": {
   "display_name": "Python 3",
   "language": "python",
   "name": "python3"
  },
  "language_info": {
   "codemirror_mode": {
    "name": "ipython",
    "version": 3
   },
   "file_extension": ".py",
   "mimetype": "text/x-python",
   "name": "python",
   "nbconvert_exporter": "python",
   "pygments_lexer": "ipython3",
   "version": "3.8.8"
  },
  "toc": {
   "base_numbering": 1,
   "nav_menu": {},
   "number_sections": true,
   "sideBar": true,
   "skip_h1_title": false,
   "title_cell": "Table of Contents",
   "title_sidebar": "Contents",
   "toc_cell": false,
   "toc_position": {},
   "toc_section_display": true,
   "toc_window_display": false
  },
  "varInspector": {
   "cols": {
    "lenName": 16,
    "lenType": 16,
    "lenVar": 40
   },
   "kernels_config": {
    "python": {
     "delete_cmd_postfix": "",
     "delete_cmd_prefix": "del ",
     "library": "var_list.py",
     "varRefreshCmd": "print(var_dic_list())"
    },
    "r": {
     "delete_cmd_postfix": ") ",
     "delete_cmd_prefix": "rm(",
     "library": "var_list.r",
     "varRefreshCmd": "cat(var_dic_list()) "
    }
   },
   "types_to_exclude": [
    "module",
    "function",
    "builtin_function_or_method",
    "instance",
    "_Feature"
   ],
   "window_display": false
  }
 },
 "nbformat": 4,
 "nbformat_minor": 5
}
