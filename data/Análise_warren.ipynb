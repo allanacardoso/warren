{
 "cells": [
  {
   "cell_type": "markdown",
   "id": "a3106661",
   "metadata": {
    "ExecuteTime": {
     "end_time": "2021-09-03T02:48:25.524350Z",
     "start_time": "2021-09-03T02:48:25.511349Z"
    }
   },
   "source": [
    "# Importando as libs"
   ]
  },
  {
   "cell_type": "code",
   "execution_count": 1,
   "id": "d7e7194a",
   "metadata": {
    "ExecuteTime": {
     "end_time": "2021-09-03T15:36:40.854423Z",
     "start_time": "2021-09-03T15:36:38.256623Z"
    }
   },
   "outputs": [
    {
     "name": "stdout",
     "output_type": "stream",
     "text": [
      "Requirement already satisfied: pandasql in c:\\users\\re041273\\anaconda3\\lib\\site-packages (0.7.3)\n",
      "Requirement already satisfied: pandas in c:\\users\\re041273\\anaconda3\\lib\\site-packages (from pandasql) (1.2.4)\n",
      "Requirement already satisfied: sqlalchemy in c:\\users\\re041273\\anaconda3\\lib\\site-packages (from pandasql) (1.4.7)\n",
      "Requirement already satisfied: numpy in c:\\users\\re041273\\anaconda3\\lib\\site-packages (from pandasql) (1.20.1)\n",
      "Requirement already satisfied: pytz>=2017.3 in c:\\users\\re041273\\anaconda3\\lib\\site-packages (from pandas->pandasql) (2021.1)\n",
      "Requirement already satisfied: python-dateutil>=2.7.3 in c:\\users\\re041273\\anaconda3\\lib\\site-packages (from pandas->pandasql) (2.8.1)\n",
      "Requirement already satisfied: six>=1.5 in c:\\users\\re041273\\anaconda3\\lib\\site-packages (from python-dateutil>=2.7.3->pandas->pandasql) (1.15.0)\n",
      "Requirement already satisfied: greenlet!=0.4.17 in c:\\users\\re041273\\anaconda3\\lib\\site-packages (from sqlalchemy->pandasql) (1.0.0)\n"
     ]
    }
   ],
   "source": [
    "!pip install pandasql"
   ]
  },
  {
   "cell_type": "code",
   "execution_count": 2,
   "id": "fd5755b9",
   "metadata": {
    "ExecuteTime": {
     "end_time": "2021-09-03T15:36:41.980583Z",
     "start_time": "2021-09-03T15:36:40.856071Z"
    }
   },
   "outputs": [],
   "source": [
    "import pandas as pd\n",
    "from pandasql import sqldf\n",
    "from datetime import datetime"
   ]
  },
  {
   "cell_type": "markdown",
   "id": "96a61a9b",
   "metadata": {},
   "source": [
    "# Leitura dos arquivos"
   ]
  },
  {
   "cell_type": "code",
   "execution_count": 75,
   "id": "461d7ab8",
   "metadata": {
    "ExecuteTime": {
     "end_time": "2021-09-03T16:31:01.043783Z",
     "start_time": "2021-09-03T16:31:01.013737Z"
    }
   },
   "outputs": [],
   "source": [
    "#Tabela Customers\n",
    "df_customers = pd.read_csv(\"Customers.csv\")\n",
    "\n",
    "#Tabela Events\n",
    "df_events = pd.read_csv(\"Events.csv\")\n",
    "\n",
    "#Tabela Transactions\n",
    "df_transactions = pd.read_csv(\"Transactions.csv\")"
   ]
  },
  {
   "cell_type": "markdown",
   "id": "4cca7f65",
   "metadata": {},
   "source": [
    "# Tabela Customers"
   ]
  },
  {
   "cell_type": "code",
   "execution_count": 76,
   "id": "04ae5cb7",
   "metadata": {
    "ExecuteTime": {
     "end_time": "2021-09-03T16:31:03.632619Z",
     "start_time": "2021-09-03T16:31:03.606356Z"
    },
    "scrolled": true
   },
   "outputs": [
    {
     "data": {
      "text/html": [
       "<div>\n",
       "<style scoped>\n",
       "    .dataframe tbody tr th:only-of-type {\n",
       "        vertical-align: middle;\n",
       "    }\n",
       "\n",
       "    .dataframe tbody tr th {\n",
       "        vertical-align: top;\n",
       "    }\n",
       "\n",
       "    .dataframe thead th {\n",
       "        text-align: right;\n",
       "    }\n",
       "</style>\n",
       "<table border=\"1\" class=\"dataframe\">\n",
       "  <thead>\n",
       "    <tr style=\"text-align: right;\">\n",
       "      <th></th>\n",
       "      <th>CustomerApiid</th>\n",
       "      <th>CustomerId</th>\n",
       "      <th>AUM</th>\n",
       "      <th>RegisterDate</th>\n",
       "      <th>AmountFirstDeposit</th>\n",
       "      <th>TotalDeposits</th>\n",
       "      <th>TotalWithdrawals</th>\n",
       "      <th>MonthlyIncome</th>\n",
       "      <th>FinancialInvestmentsValue</th>\n",
       "      <th>Age</th>\n",
       "      <th>ComputedRiskTolerance</th>\n",
       "    </tr>\n",
       "  </thead>\n",
       "  <tbody>\n",
       "    <tr>\n",
       "      <th>0</th>\n",
       "      <td>60a7d0011363ea0011d0eb80</td>\n",
       "      <td>192260</td>\n",
       "      <td>601.525833</td>\n",
       "      <td>2021-06-10 21:23:31</td>\n",
       "      <td>100.013269</td>\n",
       "      <td>5</td>\n",
       "      <td>0</td>\n",
       "      <td>250.0</td>\n",
       "      <td>3000.0</td>\n",
       "      <td>14</td>\n",
       "      <td>22.22</td>\n",
       "    </tr>\n",
       "    <tr>\n",
       "      <th>1</th>\n",
       "      <td>60c77e1ffdaebd001875353e</td>\n",
       "      <td>192853</td>\n",
       "      <td>1798.831206</td>\n",
       "      <td>2021-06-14 16:13:56</td>\n",
       "      <td>300.048411</td>\n",
       "      <td>2</td>\n",
       "      <td>0</td>\n",
       "      <td>8000.0</td>\n",
       "      <td>180000.0</td>\n",
       "      <td>35</td>\n",
       "      <td>77.78</td>\n",
       "    </tr>\n",
       "    <tr>\n",
       "      <th>2</th>\n",
       "      <td>588f45ae0a760bb65b380afa</td>\n",
       "      <td>11897</td>\n",
       "      <td>1621.043680</td>\n",
       "      <td>2017-09-14 12:08:06</td>\n",
       "      <td>2500.000000</td>\n",
       "      <td>13</td>\n",
       "      <td>2</td>\n",
       "      <td>4500.0</td>\n",
       "      <td>0.0</td>\n",
       "      <td>32</td>\n",
       "      <td>17.00</td>\n",
       "    </tr>\n",
       "    <tr>\n",
       "      <th>3</th>\n",
       "      <td>5915d73623d4b1881694e11e</td>\n",
       "      <td>12583</td>\n",
       "      <td>78643.814178</td>\n",
       "      <td>2017-09-25 15:44:40</td>\n",
       "      <td>2005.000000</td>\n",
       "      <td>37</td>\n",
       "      <td>7</td>\n",
       "      <td>18000.0</td>\n",
       "      <td>120000.0</td>\n",
       "      <td>34</td>\n",
       "      <td>69.17</td>\n",
       "    </tr>\n",
       "    <tr>\n",
       "      <th>4</th>\n",
       "      <td>591f5f3b3daa47c6488bce3f</td>\n",
       "      <td>5564</td>\n",
       "      <td>422.691159</td>\n",
       "      <td>2017-05-22 18:38:05</td>\n",
       "      <td>2000.000000</td>\n",
       "      <td>23</td>\n",
       "      <td>7</td>\n",
       "      <td>2000.0</td>\n",
       "      <td>45000.0</td>\n",
       "      <td>29</td>\n",
       "      <td>0.00</td>\n",
       "    </tr>\n",
       "  </tbody>\n",
       "</table>\n",
       "</div>"
      ],
      "text/plain": [
       "              CustomerApiid  CustomerId           AUM         RegisterDate  \\\n",
       "0  60a7d0011363ea0011d0eb80      192260    601.525833  2021-06-10 21:23:31   \n",
       "1  60c77e1ffdaebd001875353e      192853   1798.831206  2021-06-14 16:13:56   \n",
       "2  588f45ae0a760bb65b380afa       11897   1621.043680  2017-09-14 12:08:06   \n",
       "3  5915d73623d4b1881694e11e       12583  78643.814178  2017-09-25 15:44:40   \n",
       "4  591f5f3b3daa47c6488bce3f        5564    422.691159  2017-05-22 18:38:05   \n",
       "\n",
       "   AmountFirstDeposit  TotalDeposits  TotalWithdrawals  MonthlyIncome  \\\n",
       "0          100.013269              5                 0          250.0   \n",
       "1          300.048411              2                 0         8000.0   \n",
       "2         2500.000000             13                 2         4500.0   \n",
       "3         2005.000000             37                 7        18000.0   \n",
       "4         2000.000000             23                 7         2000.0   \n",
       "\n",
       "   FinancialInvestmentsValue  Age  ComputedRiskTolerance  \n",
       "0                     3000.0   14                  22.22  \n",
       "1                   180000.0   35                  77.78  \n",
       "2                        0.0   32                  17.00  \n",
       "3                   120000.0   34                  69.17  \n",
       "4                    45000.0   29                   0.00  "
      ]
     },
     "execution_count": 76,
     "metadata": {},
     "output_type": "execute_result"
    }
   ],
   "source": [
    "df_customers.head()"
   ]
  },
  {
   "cell_type": "code",
   "execution_count": 77,
   "id": "2f3591f4",
   "metadata": {
    "ExecuteTime": {
     "end_time": "2021-09-03T16:31:06.099922Z",
     "start_time": "2021-09-03T16:31:06.093934Z"
    }
   },
   "outputs": [
    {
     "data": {
      "text/plain": [
       "(1000, 11)"
      ]
     },
     "execution_count": 77,
     "metadata": {},
     "output_type": "execute_result"
    }
   ],
   "source": [
    "#Verificando linhas e colunas\n",
    "df_customers.shape"
   ]
  },
  {
   "cell_type": "code",
   "execution_count": 80,
   "id": "4ce8cc45",
   "metadata": {
    "ExecuteTime": {
     "end_time": "2021-09-03T16:32:32.557836Z",
     "start_time": "2021-09-03T16:32:32.533831Z"
    }
   },
   "outputs": [
    {
     "name": "stdout",
     "output_type": "stream",
     "text": [
      "<class 'pandas.core.frame.DataFrame'>\n",
      "RangeIndex: 1000 entries, 0 to 999\n",
      "Data columns (total 11 columns):\n",
      " #   Column                     Non-Null Count  Dtype         \n",
      "---  ------                     --------------  -----         \n",
      " 0   CustomerApiid              1000 non-null   object        \n",
      " 1   CustomerId                 1000 non-null   int64         \n",
      " 2   AUM                        1000 non-null   float64       \n",
      " 3   RegisterDate               1000 non-null   datetime64[ns]\n",
      " 4   AmountFirstDeposit         1000 non-null   float64       \n",
      " 5   TotalDeposits              1000 non-null   int64         \n",
      " 6   TotalWithdrawals           1000 non-null   int64         \n",
      " 7   MonthlyIncome              1000 non-null   float64       \n",
      " 8   FinancialInvestmentsValue  1000 non-null   float64       \n",
      " 9   Age                        1000 non-null   int64         \n",
      " 10  ComputedRiskTolerance      1000 non-null   float64       \n",
      "dtypes: datetime64[ns](1), float64(5), int64(4), object(1)\n",
      "memory usage: 86.1+ KB\n"
     ]
    }
   ],
   "source": [
    "df_customers.info()"
   ]
  },
  {
   "cell_type": "code",
   "execution_count": 81,
   "id": "8dc2e73b",
   "metadata": {
    "ExecuteTime": {
     "end_time": "2021-09-03T16:32:35.447004Z",
     "start_time": "2021-09-03T16:32:35.420961Z"
    }
   },
   "outputs": [
    {
     "name": "stdout",
     "output_type": "stream",
     "text": [
      "CustomerApiid                        object\n",
      "CustomerId                            int64\n",
      "AUM                                 float64\n",
      "RegisterDate                 datetime64[ns]\n",
      "AmountFirstDeposit                  float64\n",
      "TotalDeposits                         int64\n",
      "TotalWithdrawals                      int64\n",
      "MonthlyIncome                       float64\n",
      "FinancialInvestmentsValue           float64\n",
      "Age                                   int64\n",
      "ComputedRiskTolerance               float64\n",
      "dtype: object\n"
     ]
    }
   ],
   "source": [
    "#Convertendo a coluna de 'RegisterDate' para datetime\n",
    "\n",
    "df_customers['RegisterDate'] = pd.to_datetime(df_customers['RegisterDate'], format='%Y-%m-%d %H:%M:%S')\n",
    "print(df_customers.dtypes)"
   ]
  },
  {
   "cell_type": "markdown",
   "id": "aea624b3",
   "metadata": {},
   "source": [
    "# Tabela Events"
   ]
  },
  {
   "cell_type": "code",
   "execution_count": 82,
   "id": "7ad7e21e",
   "metadata": {
    "ExecuteTime": {
     "end_time": "2021-09-03T16:32:40.722205Z",
     "start_time": "2021-09-03T16:32:40.711246Z"
    }
   },
   "outputs": [
    {
     "data": {
      "text/html": [
       "<div>\n",
       "<style scoped>\n",
       "    .dataframe tbody tr th:only-of-type {\n",
       "        vertical-align: middle;\n",
       "    }\n",
       "\n",
       "    .dataframe tbody tr th {\n",
       "        vertical-align: top;\n",
       "    }\n",
       "\n",
       "    .dataframe thead th {\n",
       "        text-align: right;\n",
       "    }\n",
       "</style>\n",
       "<table border=\"1\" class=\"dataframe\">\n",
       "  <thead>\n",
       "    <tr style=\"text-align: right;\">\n",
       "      <th></th>\n",
       "      <th>EventDate</th>\n",
       "      <th>Platform</th>\n",
       "      <th>CustomerApiid</th>\n",
       "    </tr>\n",
       "  </thead>\n",
       "  <tbody>\n",
       "    <tr>\n",
       "      <th>0</th>\n",
       "      <td>20210112</td>\n",
       "      <td>IOS</td>\n",
       "      <td>5eb045b00d281d0010993b19</td>\n",
       "    </tr>\n",
       "    <tr>\n",
       "      <th>1</th>\n",
       "      <td>20210112</td>\n",
       "      <td>IOS</td>\n",
       "      <td>5d54036d7a4e2a00129ac685</td>\n",
       "    </tr>\n",
       "    <tr>\n",
       "      <th>2</th>\n",
       "      <td>20210112</td>\n",
       "      <td>IOS</td>\n",
       "      <td>5f160ad08df61f00175d4a94</td>\n",
       "    </tr>\n",
       "    <tr>\n",
       "      <th>3</th>\n",
       "      <td>20210112</td>\n",
       "      <td>IOS</td>\n",
       "      <td>5e1f7e25a6a96a0010ee1545</td>\n",
       "    </tr>\n",
       "    <tr>\n",
       "      <th>4</th>\n",
       "      <td>20210112</td>\n",
       "      <td>IOS</td>\n",
       "      <td>5e66a9a9e7bbca00119eb5fc</td>\n",
       "    </tr>\n",
       "  </tbody>\n",
       "</table>\n",
       "</div>"
      ],
      "text/plain": [
       "   EventDate Platform             CustomerApiid\n",
       "0   20210112      IOS  5eb045b00d281d0010993b19\n",
       "1   20210112      IOS  5d54036d7a4e2a00129ac685\n",
       "2   20210112      IOS  5f160ad08df61f00175d4a94\n",
       "3   20210112      IOS  5e1f7e25a6a96a0010ee1545\n",
       "4   20210112      IOS  5e66a9a9e7bbca00119eb5fc"
      ]
     },
     "execution_count": 82,
     "metadata": {},
     "output_type": "execute_result"
    }
   ],
   "source": [
    "df_events.head()"
   ]
  },
  {
   "cell_type": "code",
   "execution_count": 84,
   "id": "f04566fe",
   "metadata": {
    "ExecuteTime": {
     "end_time": "2021-09-03T16:32:44.842671Z",
     "start_time": "2021-09-03T16:32:44.822673Z"
    }
   },
   "outputs": [
    {
     "data": {
      "text/plain": [
       "(1000, 3)"
      ]
     },
     "execution_count": 84,
     "metadata": {},
     "output_type": "execute_result"
    }
   ],
   "source": [
    "df_events.shape"
   ]
  },
  {
   "cell_type": "code",
   "execution_count": 83,
   "id": "075f540c",
   "metadata": {
    "ExecuteTime": {
     "end_time": "2021-09-03T16:32:43.062839Z",
     "start_time": "2021-09-03T16:32:43.046847Z"
    }
   },
   "outputs": [
    {
     "name": "stdout",
     "output_type": "stream",
     "text": [
      "<class 'pandas.core.frame.DataFrame'>\n",
      "RangeIndex: 1000 entries, 0 to 999\n",
      "Data columns (total 3 columns):\n",
      " #   Column         Non-Null Count  Dtype \n",
      "---  ------         --------------  ----- \n",
      " 0   EventDate      1000 non-null   int64 \n",
      " 1   Platform       1000 non-null   object\n",
      " 2   CustomerApiid  1000 non-null   object\n",
      "dtypes: int64(1), object(2)\n",
      "memory usage: 23.6+ KB\n"
     ]
    }
   ],
   "source": [
    "df_events.info()"
   ]
  },
  {
   "cell_type": "code",
   "execution_count": 85,
   "id": "696ad436",
   "metadata": {
    "ExecuteTime": {
     "end_time": "2021-09-03T16:32:48.653115Z",
     "start_time": "2021-09-03T16:32:48.645082Z"
    }
   },
   "outputs": [
    {
     "name": "stdout",
     "output_type": "stream",
     "text": [
      "EventDate        datetime64[ns]\n",
      "Platform                 object\n",
      "CustomerApiid            object\n",
      "dtype: object\n"
     ]
    }
   ],
   "source": [
    "#Convertendo a coluna de 'EventDate' para datetime\n",
    "\n",
    "df_events['EventDate'] = pd.to_datetime(df_events['EventDate'], format='%Y%m%d')\n",
    "print(df_events.dtypes)"
   ]
  },
  {
   "cell_type": "markdown",
   "id": "9f23dfc8",
   "metadata": {},
   "source": [
    "# Tabela Transactions"
   ]
  },
  {
   "cell_type": "code",
   "execution_count": 86,
   "id": "5090996a",
   "metadata": {
    "ExecuteTime": {
     "end_time": "2021-09-03T16:32:50.541721Z",
     "start_time": "2021-09-03T16:32:50.533723Z"
    }
   },
   "outputs": [
    {
     "data": {
      "text/html": [
       "<div>\n",
       "<style scoped>\n",
       "    .dataframe tbody tr th:only-of-type {\n",
       "        vertical-align: middle;\n",
       "    }\n",
       "\n",
       "    .dataframe tbody tr th {\n",
       "        vertical-align: top;\n",
       "    }\n",
       "\n",
       "    .dataframe thead th {\n",
       "        text-align: right;\n",
       "    }\n",
       "</style>\n",
       "<table border=\"1\" class=\"dataframe\">\n",
       "  <thead>\n",
       "    <tr style=\"text-align: right;\">\n",
       "      <th></th>\n",
       "      <th>Id</th>\n",
       "      <th>Direction</th>\n",
       "      <th>Amount</th>\n",
       "      <th>CustomerId</th>\n",
       "      <th>OperatedAt</th>\n",
       "    </tr>\n",
       "  </thead>\n",
       "  <tbody>\n",
       "    <tr>\n",
       "      <th>0</th>\n",
       "      <td>456538</td>\n",
       "      <td>10</td>\n",
       "      <td>200.00</td>\n",
       "      <td>64319</td>\n",
       "      <td>2021-05-03 09:40:42</td>\n",
       "    </tr>\n",
       "    <tr>\n",
       "      <th>1</th>\n",
       "      <td>475487</td>\n",
       "      <td>20</td>\n",
       "      <td>108.82</td>\n",
       "      <td>98336</td>\n",
       "      <td>2021-05-11 00:00:00</td>\n",
       "    </tr>\n",
       "    <tr>\n",
       "      <th>2</th>\n",
       "      <td>623919</td>\n",
       "      <td>10</td>\n",
       "      <td>1000.00</td>\n",
       "      <td>129337</td>\n",
       "      <td>2021-01-19 12:32:37</td>\n",
       "    </tr>\n",
       "    <tr>\n",
       "      <th>3</th>\n",
       "      <td>664611</td>\n",
       "      <td>10</td>\n",
       "      <td>1.00</td>\n",
       "      <td>2443</td>\n",
       "      <td>2021-06-09 13:57:21</td>\n",
       "    </tr>\n",
       "    <tr>\n",
       "      <th>4</th>\n",
       "      <td>670787</td>\n",
       "      <td>10</td>\n",
       "      <td>100.00</td>\n",
       "      <td>73726</td>\n",
       "      <td>2021-05-27 09:52:18</td>\n",
       "    </tr>\n",
       "  </tbody>\n",
       "</table>\n",
       "</div>"
      ],
      "text/plain": [
       "       Id  Direction   Amount  CustomerId           OperatedAt\n",
       "0  456538         10   200.00       64319  2021-05-03 09:40:42\n",
       "1  475487         20   108.82       98336  2021-05-11 00:00:00\n",
       "2  623919         10  1000.00      129337  2021-01-19 12:32:37\n",
       "3  664611         10     1.00        2443  2021-06-09 13:57:21\n",
       "4  670787         10   100.00       73726  2021-05-27 09:52:18"
      ]
     },
     "execution_count": 86,
     "metadata": {},
     "output_type": "execute_result"
    }
   ],
   "source": [
    "df_transactions.head()"
   ]
  },
  {
   "cell_type": "code",
   "execution_count": 87,
   "id": "d4082089",
   "metadata": {
    "ExecuteTime": {
     "end_time": "2021-09-03T16:32:52.307194Z",
     "start_time": "2021-09-03T16:32:52.279193Z"
    }
   },
   "outputs": [
    {
     "name": "stdout",
     "output_type": "stream",
     "text": [
      "<class 'pandas.core.frame.DataFrame'>\n",
      "RangeIndex: 1000 entries, 0 to 999\n",
      "Data columns (total 5 columns):\n",
      " #   Column      Non-Null Count  Dtype  \n",
      "---  ------      --------------  -----  \n",
      " 0   Id          1000 non-null   int64  \n",
      " 1   Direction   1000 non-null   int64  \n",
      " 2   Amount      1000 non-null   float64\n",
      " 3   CustomerId  1000 non-null   int64  \n",
      " 4   OperatedAt  1000 non-null   object \n",
      "dtypes: float64(1), int64(3), object(1)\n",
      "memory usage: 39.2+ KB\n"
     ]
    }
   ],
   "source": [
    "df_transactions.info()"
   ]
  },
  {
   "cell_type": "code",
   "execution_count": 88,
   "id": "73f43043",
   "metadata": {
    "ExecuteTime": {
     "end_time": "2021-09-03T16:32:56.328150Z",
     "start_time": "2021-09-03T16:32:56.319150Z"
    }
   },
   "outputs": [
    {
     "name": "stdout",
     "output_type": "stream",
     "text": [
      "Id                     int64\n",
      "Direction              int64\n",
      "Amount               float64\n",
      "CustomerId             int64\n",
      "OperatedAt    datetime64[ns]\n",
      "dtype: object\n"
     ]
    }
   ],
   "source": [
    "df_transactions['OperatedAt'] = pd.to_datetime(df_transactions['OperatedAt'], format='%Y-%m-%d %H:%M:%S')\n",
    "print(df_transactions.dtypes)"
   ]
  },
  {
   "cell_type": "markdown",
   "id": "2e5db978",
   "metadata": {
    "ExecuteTime": {
     "end_time": "2021-09-03T03:37:05.796674Z",
     "start_time": "2021-09-03T03:37:05.789707Z"
    }
   },
   "source": [
    "# Unindo os dataframes para enriquecer a base"
   ]
  },
  {
   "cell_type": "code",
   "execution_count": 89,
   "id": "51017ad8",
   "metadata": {
    "ExecuteTime": {
     "end_time": "2021-09-03T16:32:59.999330Z",
     "start_time": "2021-09-03T16:32:59.971367Z"
    }
   },
   "outputs": [
    {
     "data": {
      "text/html": [
       "<div>\n",
       "<style scoped>\n",
       "    .dataframe tbody tr th:only-of-type {\n",
       "        vertical-align: middle;\n",
       "    }\n",
       "\n",
       "    .dataframe tbody tr th {\n",
       "        vertical-align: top;\n",
       "    }\n",
       "\n",
       "    .dataframe thead th {\n",
       "        text-align: right;\n",
       "    }\n",
       "</style>\n",
       "<table border=\"1\" class=\"dataframe\">\n",
       "  <thead>\n",
       "    <tr style=\"text-align: right;\">\n",
       "      <th></th>\n",
       "      <th>CustomerApiid</th>\n",
       "      <th>CustomerId</th>\n",
       "      <th>AUM</th>\n",
       "      <th>RegisterDate</th>\n",
       "      <th>AmountFirstDeposit</th>\n",
       "      <th>TotalDeposits</th>\n",
       "      <th>TotalWithdrawals</th>\n",
       "      <th>MonthlyIncome</th>\n",
       "      <th>FinancialInvestmentsValue</th>\n",
       "      <th>Age</th>\n",
       "      <th>ComputedRiskTolerance</th>\n",
       "      <th>Id</th>\n",
       "      <th>Direction</th>\n",
       "      <th>Amount</th>\n",
       "      <th>OperatedAt</th>\n",
       "    </tr>\n",
       "  </thead>\n",
       "  <tbody>\n",
       "    <tr>\n",
       "      <th>0</th>\n",
       "      <td>597d1f93ad57cd674deb5dfd</td>\n",
       "      <td>64617</td>\n",
       "      <td>65413.030158</td>\n",
       "      <td>2019-01-02 16:58:00</td>\n",
       "      <td>200.0</td>\n",
       "      <td>22</td>\n",
       "      <td>1</td>\n",
       "      <td>8000.0</td>\n",
       "      <td>0.0</td>\n",
       "      <td>37</td>\n",
       "      <td>24.0</td>\n",
       "      <td>1201605</td>\n",
       "      <td>10</td>\n",
       "      <td>2000.0</td>\n",
       "      <td>2021-01-04 09:31:27</td>\n",
       "    </tr>\n",
       "    <tr>\n",
       "      <th>1</th>\n",
       "      <td>5a04bd4815a605790aff5c77</td>\n",
       "      <td>24431</td>\n",
       "      <td>0.000000</td>\n",
       "      <td>2018-01-02 18:41:09</td>\n",
       "      <td>300.0</td>\n",
       "      <td>14</td>\n",
       "      <td>9</td>\n",
       "      <td>2000.0</td>\n",
       "      <td>0.0</td>\n",
       "      <td>22</td>\n",
       "      <td>13.5</td>\n",
       "      <td>1201889</td>\n",
       "      <td>10</td>\n",
       "      <td>100.0</td>\n",
       "      <td>2021-01-07 00:00:00</td>\n",
       "    </tr>\n",
       "    <tr>\n",
       "      <th>2</th>\n",
       "      <td>5f562b1a8a70670017ab6457</td>\n",
       "      <td>147955</td>\n",
       "      <td>10841.446485</td>\n",
       "      <td>2020-09-07 12:55:00</td>\n",
       "      <td>200.0</td>\n",
       "      <td>14</td>\n",
       "      <td>0</td>\n",
       "      <td>5236.0</td>\n",
       "      <td>100.0</td>\n",
       "      <td>32</td>\n",
       "      <td>17.5</td>\n",
       "      <td>1191683</td>\n",
       "      <td>10</td>\n",
       "      <td>300.0</td>\n",
       "      <td>2021-01-04 00:00:00</td>\n",
       "    </tr>\n",
       "    <tr>\n",
       "      <th>3</th>\n",
       "      <td>5b8740c9d345ed000ed4a55c</td>\n",
       "      <td>55461</td>\n",
       "      <td>17797.057930</td>\n",
       "      <td>2018-09-04 13:26:27</td>\n",
       "      <td>8000.0</td>\n",
       "      <td>32</td>\n",
       "      <td>3</td>\n",
       "      <td>20000.0</td>\n",
       "      <td>0.0</td>\n",
       "      <td>59</td>\n",
       "      <td>9.0</td>\n",
       "      <td>1189643</td>\n",
       "      <td>10</td>\n",
       "      <td>1200.0</td>\n",
       "      <td>2021-01-04 00:00:00</td>\n",
       "    </tr>\n",
       "    <tr>\n",
       "      <th>4</th>\n",
       "      <td>58779257b93e5a4001f73dd5</td>\n",
       "      <td>1605</td>\n",
       "      <td>0.000000</td>\n",
       "      <td>2017-02-09 15:39:26</td>\n",
       "      <td>200.0</td>\n",
       "      <td>9</td>\n",
       "      <td>15</td>\n",
       "      <td>4021.0</td>\n",
       "      <td>0.0</td>\n",
       "      <td>31</td>\n",
       "      <td>15.0</td>\n",
       "      <td>1199301</td>\n",
       "      <td>10</td>\n",
       "      <td>400.0</td>\n",
       "      <td>2021-01-04 00:00:00</td>\n",
       "    </tr>\n",
       "  </tbody>\n",
       "</table>\n",
       "</div>"
      ],
      "text/plain": [
       "              CustomerApiid  CustomerId           AUM        RegisterDate  \\\n",
       "0  597d1f93ad57cd674deb5dfd       64617  65413.030158 2019-01-02 16:58:00   \n",
       "1  5a04bd4815a605790aff5c77       24431      0.000000 2018-01-02 18:41:09   \n",
       "2  5f562b1a8a70670017ab6457      147955  10841.446485 2020-09-07 12:55:00   \n",
       "3  5b8740c9d345ed000ed4a55c       55461  17797.057930 2018-09-04 13:26:27   \n",
       "4  58779257b93e5a4001f73dd5        1605      0.000000 2017-02-09 15:39:26   \n",
       "\n",
       "   AmountFirstDeposit  TotalDeposits  TotalWithdrawals  MonthlyIncome  \\\n",
       "0               200.0             22                 1         8000.0   \n",
       "1               300.0             14                 9         2000.0   \n",
       "2               200.0             14                 0         5236.0   \n",
       "3              8000.0             32                 3        20000.0   \n",
       "4               200.0              9                15         4021.0   \n",
       "\n",
       "   FinancialInvestmentsValue  Age  ComputedRiskTolerance       Id  Direction  \\\n",
       "0                        0.0   37                   24.0  1201605         10   \n",
       "1                        0.0   22                   13.5  1201889         10   \n",
       "2                      100.0   32                   17.5  1191683         10   \n",
       "3                        0.0   59                    9.0  1189643         10   \n",
       "4                        0.0   31                   15.0  1199301         10   \n",
       "\n",
       "   Amount          OperatedAt  \n",
       "0  2000.0 2021-01-04 09:31:27  \n",
       "1   100.0 2021-01-07 00:00:00  \n",
       "2   300.0 2021-01-04 00:00:00  \n",
       "3  1200.0 2021-01-04 00:00:00  \n",
       "4   400.0 2021-01-04 00:00:00  "
      ]
     },
     "execution_count": 89,
     "metadata": {},
     "output_type": "execute_result"
    }
   ],
   "source": [
    "df_client = pd.merge(df_customers, df_transactions, on='CustomerId', how='inner')\n",
    "df_client.head()"
   ]
  },
  {
   "cell_type": "code",
   "execution_count": 90,
   "id": "b78e2c5f",
   "metadata": {
    "ExecuteTime": {
     "end_time": "2021-09-03T16:33:19.109953Z",
     "start_time": "2021-09-03T16:33:19.092957Z"
    }
   },
   "outputs": [
    {
     "name": "stdout",
     "output_type": "stream",
     "text": [
      "<class 'pandas.core.frame.DataFrame'>\n",
      "Int64Index: 30 entries, 0 to 29\n",
      "Data columns (total 15 columns):\n",
      " #   Column                     Non-Null Count  Dtype         \n",
      "---  ------                     --------------  -----         \n",
      " 0   CustomerApiid              30 non-null     object        \n",
      " 1   CustomerId                 30 non-null     int64         \n",
      " 2   AUM                        30 non-null     float64       \n",
      " 3   RegisterDate               30 non-null     datetime64[ns]\n",
      " 4   AmountFirstDeposit         30 non-null     float64       \n",
      " 5   TotalDeposits              30 non-null     int64         \n",
      " 6   TotalWithdrawals           30 non-null     int64         \n",
      " 7   MonthlyIncome              30 non-null     float64       \n",
      " 8   FinancialInvestmentsValue  30 non-null     float64       \n",
      " 9   Age                        30 non-null     int64         \n",
      " 10  ComputedRiskTolerance      30 non-null     float64       \n",
      " 11  Id                         30 non-null     int64         \n",
      " 12  Direction                  30 non-null     int64         \n",
      " 13  Amount                     30 non-null     float64       \n",
      " 14  OperatedAt                 30 non-null     datetime64[ns]\n",
      "dtypes: datetime64[ns](2), float64(6), int64(6), object(1)\n",
      "memory usage: 3.8+ KB\n"
     ]
    }
   ],
   "source": [
    "df_client.info()"
   ]
  },
  {
   "cell_type": "code",
   "execution_count": 33,
   "id": "af615545",
   "metadata": {
    "ExecuteTime": {
     "end_time": "2021-09-03T15:54:37.838760Z",
     "start_time": "2021-09-03T15:54:37.819758Z"
    }
   },
   "outputs": [],
   "source": [
    "#Dropando a coluna de index\n",
    "df_client = df_client.drop(columns=['index'])"
   ]
  },
  {
   "cell_type": "code",
   "execution_count": 17,
   "id": "f8b62b63",
   "metadata": {
    "ExecuteTime": {
     "end_time": "2021-09-03T15:36:42.345556Z",
     "start_time": "2021-09-03T15:36:42.333575Z"
    }
   },
   "outputs": [
    {
     "name": "stdout",
     "output_type": "stream",
     "text": [
      "o valor total de entrada é 35850.0\n"
     ]
    }
   ],
   "source": [
    "'''df_entrada = df_client[df_client['Direction'] == 10]\n",
    "df_entrada = df_entrada['AmountFirstDeposit'].sum()\n",
    "print(f'o valor total de entrada é {df_entrada}')'''"
   ]
  },
  {
   "cell_type": "code",
   "execution_count": 47,
   "id": "3ceb4e6d",
   "metadata": {
    "ExecuteTime": {
     "end_time": "2021-09-03T16:07:55.650578Z",
     "start_time": "2021-09-03T16:07:55.613616Z"
    }
   },
   "outputs": [
    {
     "data": {
      "text/html": [
       "<div>\n",
       "<style scoped>\n",
       "    .dataframe tbody tr th:only-of-type {\n",
       "        vertical-align: middle;\n",
       "    }\n",
       "\n",
       "    .dataframe tbody tr th {\n",
       "        vertical-align: top;\n",
       "    }\n",
       "\n",
       "    .dataframe thead th {\n",
       "        text-align: right;\n",
       "    }\n",
       "</style>\n",
       "<table border=\"1\" class=\"dataframe\">\n",
       "  <thead>\n",
       "    <tr style=\"text-align: right;\">\n",
       "      <th></th>\n",
       "      <th>CustomerApiid</th>\n",
       "      <th>CustomerId</th>\n",
       "      <th>AUM</th>\n",
       "      <th>RegisterDate</th>\n",
       "      <th>AmountFirstDeposit</th>\n",
       "      <th>TotalDeposits</th>\n",
       "      <th>TotalWithdrawals</th>\n",
       "      <th>MonthlyIncome</th>\n",
       "      <th>FinancialInvestmentsValue</th>\n",
       "      <th>Age</th>\n",
       "      <th>ComputedRiskTolerance</th>\n",
       "      <th>Id</th>\n",
       "      <th>Direction</th>\n",
       "      <th>Amount</th>\n",
       "      <th>OperatedAt</th>\n",
       "      <th>Month</th>\n",
       "    </tr>\n",
       "  </thead>\n",
       "  <tbody>\n",
       "    <tr>\n",
       "      <th>0</th>\n",
       "      <td>60a7d0011363ea0011d0eb80</td>\n",
       "      <td>192260</td>\n",
       "      <td>601.525833</td>\n",
       "      <td>2021-06-10 21:23:31</td>\n",
       "      <td>100.013269</td>\n",
       "      <td>5.0</td>\n",
       "      <td>0.0</td>\n",
       "      <td>250.0</td>\n",
       "      <td>3000.0</td>\n",
       "      <td>14.0</td>\n",
       "      <td>22.22</td>\n",
       "      <td>NaN</td>\n",
       "      <td>NaN</td>\n",
       "      <td>NaN</td>\n",
       "      <td>NaT</td>\n",
       "      <td>6.0</td>\n",
       "    </tr>\n",
       "    <tr>\n",
       "      <th>1</th>\n",
       "      <td>60c77e1ffdaebd001875353e</td>\n",
       "      <td>192853</td>\n",
       "      <td>1798.831206</td>\n",
       "      <td>2021-06-14 16:13:56</td>\n",
       "      <td>300.048411</td>\n",
       "      <td>2.0</td>\n",
       "      <td>0.0</td>\n",
       "      <td>8000.0</td>\n",
       "      <td>180000.0</td>\n",
       "      <td>35.0</td>\n",
       "      <td>77.78</td>\n",
       "      <td>NaN</td>\n",
       "      <td>NaN</td>\n",
       "      <td>NaN</td>\n",
       "      <td>NaT</td>\n",
       "      <td>6.0</td>\n",
       "    </tr>\n",
       "    <tr>\n",
       "      <th>2</th>\n",
       "      <td>588f45ae0a760bb65b380afa</td>\n",
       "      <td>11897</td>\n",
       "      <td>1621.043680</td>\n",
       "      <td>2017-09-14 12:08:06</td>\n",
       "      <td>2500.000000</td>\n",
       "      <td>13.0</td>\n",
       "      <td>2.0</td>\n",
       "      <td>4500.0</td>\n",
       "      <td>0.0</td>\n",
       "      <td>32.0</td>\n",
       "      <td>17.00</td>\n",
       "      <td>NaN</td>\n",
       "      <td>NaN</td>\n",
       "      <td>NaN</td>\n",
       "      <td>NaT</td>\n",
       "      <td>9.0</td>\n",
       "    </tr>\n",
       "    <tr>\n",
       "      <th>3</th>\n",
       "      <td>5915d73623d4b1881694e11e</td>\n",
       "      <td>12583</td>\n",
       "      <td>78643.814178</td>\n",
       "      <td>2017-09-25 15:44:40</td>\n",
       "      <td>2005.000000</td>\n",
       "      <td>37.0</td>\n",
       "      <td>7.0</td>\n",
       "      <td>18000.0</td>\n",
       "      <td>120000.0</td>\n",
       "      <td>34.0</td>\n",
       "      <td>69.17</td>\n",
       "      <td>NaN</td>\n",
       "      <td>NaN</td>\n",
       "      <td>NaN</td>\n",
       "      <td>NaT</td>\n",
       "      <td>9.0</td>\n",
       "    </tr>\n",
       "    <tr>\n",
       "      <th>4</th>\n",
       "      <td>591f5f3b3daa47c6488bce3f</td>\n",
       "      <td>5564</td>\n",
       "      <td>422.691159</td>\n",
       "      <td>2017-05-22 18:38:05</td>\n",
       "      <td>2000.000000</td>\n",
       "      <td>23.0</td>\n",
       "      <td>7.0</td>\n",
       "      <td>2000.0</td>\n",
       "      <td>45000.0</td>\n",
       "      <td>29.0</td>\n",
       "      <td>0.00</td>\n",
       "      <td>NaN</td>\n",
       "      <td>NaN</td>\n",
       "      <td>NaN</td>\n",
       "      <td>NaT</td>\n",
       "      <td>5.0</td>\n",
       "    </tr>\n",
       "  </tbody>\n",
       "</table>\n",
       "</div>"
      ],
      "text/plain": [
       "              CustomerApiid  CustomerId           AUM        RegisterDate  \\\n",
       "0  60a7d0011363ea0011d0eb80      192260    601.525833 2021-06-10 21:23:31   \n",
       "1  60c77e1ffdaebd001875353e      192853   1798.831206 2021-06-14 16:13:56   \n",
       "2  588f45ae0a760bb65b380afa       11897   1621.043680 2017-09-14 12:08:06   \n",
       "3  5915d73623d4b1881694e11e       12583  78643.814178 2017-09-25 15:44:40   \n",
       "4  591f5f3b3daa47c6488bce3f        5564    422.691159 2017-05-22 18:38:05   \n",
       "\n",
       "   AmountFirstDeposit  TotalDeposits  TotalWithdrawals  MonthlyIncome  \\\n",
       "0          100.013269            5.0               0.0          250.0   \n",
       "1          300.048411            2.0               0.0         8000.0   \n",
       "2         2500.000000           13.0               2.0         4500.0   \n",
       "3         2005.000000           37.0               7.0        18000.0   \n",
       "4         2000.000000           23.0               7.0         2000.0   \n",
       "\n",
       "   FinancialInvestmentsValue   Age  ComputedRiskTolerance  Id  Direction  \\\n",
       "0                     3000.0  14.0                  22.22 NaN        NaN   \n",
       "1                   180000.0  35.0                  77.78 NaN        NaN   \n",
       "2                        0.0  32.0                  17.00 NaN        NaN   \n",
       "3                   120000.0  34.0                  69.17 NaN        NaN   \n",
       "4                    45000.0  29.0                   0.00 NaN        NaN   \n",
       "\n",
       "   Amount OperatedAt  Month  \n",
       "0     NaN        NaT    6.0  \n",
       "1     NaN        NaT    6.0  \n",
       "2     NaN        NaT    9.0  \n",
       "3     NaN        NaT    9.0  \n",
       "4     NaN        NaT    5.0  "
      ]
     },
     "execution_count": 47,
     "metadata": {},
     "output_type": "execute_result"
    }
   ],
   "source": [
    "#Criando a coluna Month\n",
    "df_client['Month'] = pd.to_datetime(df_client['RegisterDate']).dt.month\n",
    "df_client.head()"
   ]
  },
  {
   "cell_type": "markdown",
   "id": "903e1e25",
   "metadata": {},
   "source": [
    "- Calcular transações de entrada por mês:\n",
    "    desmembrar coluna data criando coluna mês\n",
    "    plotar gráfico sobre entradas\n",
    "\n",
    "- quais clientes saíram da plataforma?\n",
    "    fazer um agrupamento mensal\n",
    "    plotar gráfico de saída mensal\n",
    "    "
   ]
  },
  {
   "cell_type": "code",
   "execution_count": 62,
   "id": "82ee52ff",
   "metadata": {
    "ExecuteTime": {
     "end_time": "2021-09-03T16:14:28.631046Z",
     "start_time": "2021-09-03T16:14:28.611080Z"
    }
   },
   "outputs": [
    {
     "data": {
      "text/plain": [
       "0       6.0\n",
       "1       6.0\n",
       "2       9.0\n",
       "3       9.0\n",
       "4       5.0\n",
       "       ... \n",
       "1970    NaN\n",
       "1971    NaN\n",
       "1972    NaN\n",
       "1973    NaN\n",
       "1974    NaN\n",
       "Name: Month, Length: 1975, dtype: float64"
      ]
     },
     "execution_count": 62,
     "metadata": {},
     "output_type": "execute_result"
    }
   ],
   "source": [
    "#df_client['Month'] = pd.to_numeric(df_client['Month'])\n",
    "\n",
    "pd.to_numeric(df_client['Month'], downcast='integer')"
   ]
  },
  {
   "cell_type": "code",
   "execution_count": 65,
   "id": "a39d4e35",
   "metadata": {
    "ExecuteTime": {
     "end_time": "2021-09-03T16:16:04.278319Z",
     "start_time": "2021-09-03T16:16:04.264315Z"
    }
   },
   "outputs": [
    {
     "name": "stdout",
     "output_type": "stream",
     "text": [
      "<class 'pandas.core.frame.DataFrame'>\n",
      "RangeIndex: 1975 entries, 0 to 1974\n",
      "Data columns (total 16 columns):\n",
      " #   Column                     Non-Null Count  Dtype         \n",
      "---  ------                     --------------  -----         \n",
      " 0   CustomerApiid              1005 non-null   object        \n",
      " 1   CustomerId                 1975 non-null   int64         \n",
      " 2   AUM                        1005 non-null   float64       \n",
      " 3   RegisterDate               1005 non-null   datetime64[ns]\n",
      " 4   AmountFirstDeposit         1005 non-null   float64       \n",
      " 5   TotalDeposits              1005 non-null   float64       \n",
      " 6   TotalWithdrawals           1005 non-null   float64       \n",
      " 7   MonthlyIncome              1005 non-null   float64       \n",
      " 8   FinancialInvestmentsValue  1005 non-null   float64       \n",
      " 9   Age                        1005 non-null   float64       \n",
      " 10  ComputedRiskTolerance      1005 non-null   float64       \n",
      " 11  Id                         1000 non-null   float64       \n",
      " 12  Direction                  1000 non-null   float64       \n",
      " 13  Amount                     1000 non-null   float64       \n",
      " 14  OperatedAt                 1000 non-null   datetime64[ns]\n",
      " 15  Month                      1005 non-null   float64       \n",
      "dtypes: datetime64[ns](2), float64(12), int64(1), object(1)\n",
      "memory usage: 247.0+ KB\n"
     ]
    }
   ],
   "source": [
    "df_client.info()"
   ]
  },
  {
   "cell_type": "code",
   "execution_count": 68,
   "id": "1776ca99",
   "metadata": {
    "ExecuteTime": {
     "end_time": "2021-09-03T16:24:16.469314Z",
     "start_time": "2021-09-03T16:24:16.439311Z"
    }
   },
   "outputs": [
    {
     "data": {
      "text/html": [
       "<div>\n",
       "<style scoped>\n",
       "    .dataframe tbody tr th:only-of-type {\n",
       "        vertical-align: middle;\n",
       "    }\n",
       "\n",
       "    .dataframe tbody tr th {\n",
       "        vertical-align: top;\n",
       "    }\n",
       "\n",
       "    .dataframe thead th {\n",
       "        text-align: right;\n",
       "    }\n",
       "</style>\n",
       "<table border=\"1\" class=\"dataframe\">\n",
       "  <thead>\n",
       "    <tr style=\"text-align: right;\">\n",
       "      <th></th>\n",
       "      <th>CustomerApiid</th>\n",
       "      <th>CustomerId</th>\n",
       "      <th>AUM</th>\n",
       "      <th>RegisterDate</th>\n",
       "      <th>AmountFirstDeposit</th>\n",
       "      <th>TotalDeposits</th>\n",
       "      <th>TotalWithdrawals</th>\n",
       "      <th>MonthlyIncome</th>\n",
       "      <th>FinancialInvestmentsValue</th>\n",
       "      <th>Age</th>\n",
       "      <th>ComputedRiskTolerance</th>\n",
       "      <th>Id</th>\n",
       "      <th>Direction</th>\n",
       "      <th>Amount</th>\n",
       "      <th>OperatedAt</th>\n",
       "      <th>Month</th>\n",
       "    </tr>\n",
       "  </thead>\n",
       "  <tbody>\n",
       "    <tr>\n",
       "      <th>1970</th>\n",
       "      <td>NaN</td>\n",
       "      <td>20312</td>\n",
       "      <td>NaN</td>\n",
       "      <td>NaT</td>\n",
       "      <td>NaN</td>\n",
       "      <td>NaN</td>\n",
       "      <td>NaN</td>\n",
       "      <td>NaN</td>\n",
       "      <td>NaN</td>\n",
       "      <td>NaN</td>\n",
       "      <td>NaN</td>\n",
       "      <td>1201964.0</td>\n",
       "      <td>20.0</td>\n",
       "      <td>3052.63</td>\n",
       "      <td>2021-01-11 11:59:57</td>\n",
       "      <td>NaN</td>\n",
       "    </tr>\n",
       "  </tbody>\n",
       "</table>\n",
       "</div>"
      ],
      "text/plain": [
       "     CustomerApiid  CustomerId  AUM RegisterDate  AmountFirstDeposit  \\\n",
       "1970           NaN       20312  NaN          NaT                 NaN   \n",
       "\n",
       "      TotalDeposits  TotalWithdrawals  MonthlyIncome  \\\n",
       "1970            NaN               NaN            NaN   \n",
       "\n",
       "      FinancialInvestmentsValue  Age  ComputedRiskTolerance         Id  \\\n",
       "1970                        NaN  NaN                    NaN  1201964.0   \n",
       "\n",
       "      Direction   Amount          OperatedAt  Month  \n",
       "1970       20.0  3052.63 2021-01-11 11:59:57    NaN  "
      ]
     },
     "execution_count": 68,
     "metadata": {},
     "output_type": "execute_result"
    }
   ],
   "source": [
    "df_client[df_client['CustomerId'] == 20312]"
   ]
  },
  {
   "cell_type": "code",
   "execution_count": 69,
   "id": "2240cd3d",
   "metadata": {
    "ExecuteTime": {
     "end_time": "2021-09-03T16:25:06.846324Z",
     "start_time": "2021-09-03T16:25:06.832195Z"
    }
   },
   "outputs": [
    {
     "data": {
      "text/html": [
       "<div>\n",
       "<style scoped>\n",
       "    .dataframe tbody tr th:only-of-type {\n",
       "        vertical-align: middle;\n",
       "    }\n",
       "\n",
       "    .dataframe tbody tr th {\n",
       "        vertical-align: top;\n",
       "    }\n",
       "\n",
       "    .dataframe thead th {\n",
       "        text-align: right;\n",
       "    }\n",
       "</style>\n",
       "<table border=\"1\" class=\"dataframe\">\n",
       "  <thead>\n",
       "    <tr style=\"text-align: right;\">\n",
       "      <th></th>\n",
       "      <th>Id</th>\n",
       "      <th>Direction</th>\n",
       "      <th>Amount</th>\n",
       "      <th>CustomerId</th>\n",
       "      <th>OperatedAt</th>\n",
       "    </tr>\n",
       "  </thead>\n",
       "  <tbody>\n",
       "    <tr>\n",
       "      <th>995</th>\n",
       "      <td>1201964</td>\n",
       "      <td>20</td>\n",
       "      <td>3052.63</td>\n",
       "      <td>20312</td>\n",
       "      <td>2021-01-11 11:59:57</td>\n",
       "    </tr>\n",
       "  </tbody>\n",
       "</table>\n",
       "</div>"
      ],
      "text/plain": [
       "          Id  Direction   Amount  CustomerId          OperatedAt\n",
       "995  1201964         20  3052.63       20312 2021-01-11 11:59:57"
      ]
     },
     "execution_count": 69,
     "metadata": {},
     "output_type": "execute_result"
    }
   ],
   "source": [
    "df_transactions[df_transactions['CustomerId'] == 20312]"
   ]
  },
  {
   "cell_type": "code",
   "execution_count": 72,
   "id": "3ef1c33a",
   "metadata": {
    "ExecuteTime": {
     "end_time": "2021-09-03T16:27:13.606365Z",
     "start_time": "2021-09-03T16:27:13.583368Z"
    }
   },
   "outputs": [
    {
     "data": {
      "text/html": [
       "<div>\n",
       "<style scoped>\n",
       "    .dataframe tbody tr th:only-of-type {\n",
       "        vertical-align: middle;\n",
       "    }\n",
       "\n",
       "    .dataframe tbody tr th {\n",
       "        vertical-align: top;\n",
       "    }\n",
       "\n",
       "    .dataframe thead th {\n",
       "        text-align: right;\n",
       "    }\n",
       "</style>\n",
       "<table border=\"1\" class=\"dataframe\">\n",
       "  <thead>\n",
       "    <tr style=\"text-align: right;\">\n",
       "      <th></th>\n",
       "      <th>CustomerApiid</th>\n",
       "      <th>CustomerId</th>\n",
       "      <th>AUM</th>\n",
       "      <th>RegisterDate</th>\n",
       "      <th>AmountFirstDeposit</th>\n",
       "      <th>TotalDeposits</th>\n",
       "      <th>TotalWithdrawals</th>\n",
       "      <th>MonthlyIncome</th>\n",
       "      <th>FinancialInvestmentsValue</th>\n",
       "      <th>Age</th>\n",
       "      <th>ComputedRiskTolerance</th>\n",
       "    </tr>\n",
       "  </thead>\n",
       "  <tbody>\n",
       "  </tbody>\n",
       "</table>\n",
       "</div>"
      ],
      "text/plain": [
       "Empty DataFrame\n",
       "Columns: [CustomerApiid, CustomerId, AUM, RegisterDate, AmountFirstDeposit, TotalDeposits, TotalWithdrawals, MonthlyIncome, FinancialInvestmentsValue, Age, ComputedRiskTolerance]\n",
       "Index: []"
      ]
     },
     "execution_count": 72,
     "metadata": {},
     "output_type": "execute_result"
    }
   ],
   "source": [
    "df_customers[df_customers['CustomerId'] == 20312]"
   ]
  },
  {
   "cell_type": "code",
   "execution_count": 74,
   "id": "6b2c6750",
   "metadata": {
    "ExecuteTime": {
     "end_time": "2021-09-03T16:27:37.484210Z",
     "start_time": "2021-09-03T16:27:37.463247Z"
    }
   },
   "outputs": [
    {
     "data": {
      "text/plain": [
       "149080    1\n",
       "101754    1\n",
       "124252    1\n",
       "30045     1\n",
       "145424    1\n",
       "         ..\n",
       "168650    1\n",
       "127691    1\n",
       "88780     1\n",
       "79500     1\n",
       "106495    1\n",
       "Name: CustomerId, Length: 1000, dtype: int64"
      ]
     },
     "execution_count": 74,
     "metadata": {},
     "output_type": "execute_result"
    }
   ],
   "source": [
    "df_customers['CustomerId'].value_counts()"
   ]
  },
  {
   "cell_type": "code",
   "execution_count": null,
   "id": "f21211ce",
   "metadata": {},
   "outputs": [],
   "source": []
  }
 ],
 "metadata": {
  "hide_input": false,
  "kernelspec": {
   "display_name": "Python 3",
   "language": "python",
   "name": "python3"
  },
  "language_info": {
   "codemirror_mode": {
    "name": "ipython",
    "version": 3
   },
   "file_extension": ".py",
   "mimetype": "text/x-python",
   "name": "python",
   "nbconvert_exporter": "python",
   "pygments_lexer": "ipython3",
   "version": "3.8.8"
  },
  "toc": {
   "base_numbering": 1,
   "nav_menu": {},
   "number_sections": true,
   "sideBar": true,
   "skip_h1_title": false,
   "title_cell": "Table of Contents",
   "title_sidebar": "Contents",
   "toc_cell": false,
   "toc_position": {},
   "toc_section_display": true,
   "toc_window_display": false
  },
  "varInspector": {
   "cols": {
    "lenName": 16,
    "lenType": 16,
    "lenVar": 40
   },
   "kernels_config": {
    "python": {
     "delete_cmd_postfix": "",
     "delete_cmd_prefix": "del ",
     "library": "var_list.py",
     "varRefreshCmd": "print(var_dic_list())"
    },
    "r": {
     "delete_cmd_postfix": ") ",
     "delete_cmd_prefix": "rm(",
     "library": "var_list.r",
     "varRefreshCmd": "cat(var_dic_list()) "
    }
   },
   "types_to_exclude": [
    "module",
    "function",
    "builtin_function_or_method",
    "instance",
    "_Feature"
   ],
   "window_display": false
  }
 },
 "nbformat": 4,
 "nbformat_minor": 5
}
