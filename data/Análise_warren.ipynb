{
 "cells": [
  {
   "cell_type": "markdown",
   "id": "a3106661",
   "metadata": {
    "ExecuteTime": {
     "end_time": "2021-09-03T02:48:25.524350Z",
     "start_time": "2021-09-03T02:48:25.511349Z"
    }
   },
   "source": [
    "# Importando as libs"
   ]
  },
  {
   "cell_type": "code",
   "execution_count": 275,
   "id": "d7e7194a",
   "metadata": {
    "ExecuteTime": {
     "end_time": "2021-09-06T13:18:26.083766Z",
     "start_time": "2021-09-06T13:18:22.585909Z"
    }
   },
   "outputs": [
    {
     "name": "stdout",
     "output_type": "stream",
     "text": [
      "Requirement already satisfied: pandasql in c:\\users\\re041273\\anaconda3\\lib\\site-packages (0.7.3)\n",
      "Requirement already satisfied: pandas in c:\\users\\re041273\\anaconda3\\lib\\site-packages (from pandasql) (1.2.4)\n",
      "Requirement already satisfied: numpy in c:\\users\\re041273\\anaconda3\\lib\\site-packages (from pandasql) (1.20.1)\n",
      "Requirement already satisfied: sqlalchemy in c:\\users\\re041273\\anaconda3\\lib\\site-packages (from pandasql) (1.4.7)\n",
      "Requirement already satisfied: pytz>=2017.3 in c:\\users\\re041273\\anaconda3\\lib\\site-packages (from pandas->pandasql) (2021.1)\n",
      "Requirement already satisfied: python-dateutil>=2.7.3 in c:\\users\\re041273\\anaconda3\\lib\\site-packages (from pandas->pandasql) (2.8.1)\n",
      "Requirement already satisfied: six>=1.5 in c:\\users\\re041273\\anaconda3\\lib\\site-packages (from python-dateutil>=2.7.3->pandas->pandasql) (1.15.0)\n",
      "Requirement already satisfied: greenlet!=0.4.17 in c:\\users\\re041273\\anaconda3\\lib\\site-packages (from sqlalchemy->pandasql) (1.0.0)\n"
     ]
    }
   ],
   "source": [
    "!pip install pandasql"
   ]
  },
  {
   "cell_type": "code",
   "execution_count": 310,
   "id": "fd5755b9",
   "metadata": {
    "ExecuteTime": {
     "end_time": "2021-09-06T13:33:32.504367Z",
     "start_time": "2021-09-06T13:33:32.497382Z"
    }
   },
   "outputs": [],
   "source": [
    "import pandas as pd\n",
    "from pandasql import sqldf\n",
    "from datetime import datetime\n",
    "import seaborn as sns\n",
    "#import matplotlib as plt\n",
    "import matplotlib.pyplot as plt\n",
    "import numpy as np"
   ]
  },
  {
   "cell_type": "markdown",
   "id": "96a61a9b",
   "metadata": {},
   "source": [
    "# Leitura dos arquivos"
   ]
  },
  {
   "cell_type": "code",
   "execution_count": 474,
   "id": "461d7ab8",
   "metadata": {
    "ExecuteTime": {
     "end_time": "2021-09-06T15:57:10.277641Z",
     "start_time": "2021-09-06T15:57:10.243257Z"
    }
   },
   "outputs": [],
   "source": [
    "#Tabela Customers\n",
    "df_customers = pd.read_csv(\"Customers.csv\")\n",
    "\n",
    "#Tabela Events\n",
    "df_events = pd.read_csv(\"Events.csv\")\n",
    "\n",
    "#Tabela Transactions\n",
    "df_transactions = pd.read_csv(\"Transactions.csv\")"
   ]
  },
  {
   "cell_type": "markdown",
   "id": "4cca7f65",
   "metadata": {},
   "source": [
    "# Tabela Customers"
   ]
  },
  {
   "cell_type": "code",
   "execution_count": 312,
   "id": "04ae5cb7",
   "metadata": {
    "ExecuteTime": {
     "end_time": "2021-09-06T13:33:34.706472Z",
     "start_time": "2021-09-06T13:33:34.688482Z"
    },
    "scrolled": true
   },
   "outputs": [
    {
     "data": {
      "text/html": [
       "<div>\n",
       "<style scoped>\n",
       "    .dataframe tbody tr th:only-of-type {\n",
       "        vertical-align: middle;\n",
       "    }\n",
       "\n",
       "    .dataframe tbody tr th {\n",
       "        vertical-align: top;\n",
       "    }\n",
       "\n",
       "    .dataframe thead th {\n",
       "        text-align: right;\n",
       "    }\n",
       "</style>\n",
       "<table border=\"1\" class=\"dataframe\">\n",
       "  <thead>\n",
       "    <tr style=\"text-align: right;\">\n",
       "      <th></th>\n",
       "      <th>CustomerApiid</th>\n",
       "      <th>CustomerId</th>\n",
       "      <th>AUM</th>\n",
       "      <th>RegisterDate</th>\n",
       "      <th>AmountFirstDeposit</th>\n",
       "      <th>TotalDeposits</th>\n",
       "      <th>TotalWithdrawals</th>\n",
       "      <th>MonthlyIncome</th>\n",
       "      <th>FinancialInvestmentsValue</th>\n",
       "      <th>Age</th>\n",
       "      <th>ComputedRiskTolerance</th>\n",
       "    </tr>\n",
       "  </thead>\n",
       "  <tbody>\n",
       "    <tr>\n",
       "      <th>0</th>\n",
       "      <td>60a7d0011363ea0011d0eb80</td>\n",
       "      <td>192260</td>\n",
       "      <td>601.525833</td>\n",
       "      <td>2021-06-10 21:23:31</td>\n",
       "      <td>100.013269</td>\n",
       "      <td>5</td>\n",
       "      <td>0</td>\n",
       "      <td>250.0</td>\n",
       "      <td>3000.0</td>\n",
       "      <td>14</td>\n",
       "      <td>22.22</td>\n",
       "    </tr>\n",
       "    <tr>\n",
       "      <th>1</th>\n",
       "      <td>60c77e1ffdaebd001875353e</td>\n",
       "      <td>192853</td>\n",
       "      <td>1798.831206</td>\n",
       "      <td>2021-06-14 16:13:56</td>\n",
       "      <td>300.048411</td>\n",
       "      <td>2</td>\n",
       "      <td>0</td>\n",
       "      <td>8000.0</td>\n",
       "      <td>180000.0</td>\n",
       "      <td>35</td>\n",
       "      <td>77.78</td>\n",
       "    </tr>\n",
       "    <tr>\n",
       "      <th>2</th>\n",
       "      <td>588f45ae0a760bb65b380afa</td>\n",
       "      <td>11897</td>\n",
       "      <td>1621.043680</td>\n",
       "      <td>2017-09-14 12:08:06</td>\n",
       "      <td>2500.000000</td>\n",
       "      <td>13</td>\n",
       "      <td>2</td>\n",
       "      <td>4500.0</td>\n",
       "      <td>0.0</td>\n",
       "      <td>32</td>\n",
       "      <td>17.00</td>\n",
       "    </tr>\n",
       "    <tr>\n",
       "      <th>3</th>\n",
       "      <td>5915d73623d4b1881694e11e</td>\n",
       "      <td>12583</td>\n",
       "      <td>78643.814178</td>\n",
       "      <td>2017-09-25 15:44:40</td>\n",
       "      <td>2005.000000</td>\n",
       "      <td>37</td>\n",
       "      <td>7</td>\n",
       "      <td>18000.0</td>\n",
       "      <td>120000.0</td>\n",
       "      <td>34</td>\n",
       "      <td>69.17</td>\n",
       "    </tr>\n",
       "    <tr>\n",
       "      <th>4</th>\n",
       "      <td>591f5f3b3daa47c6488bce3f</td>\n",
       "      <td>5564</td>\n",
       "      <td>422.691159</td>\n",
       "      <td>2017-05-22 18:38:05</td>\n",
       "      <td>2000.000000</td>\n",
       "      <td>23</td>\n",
       "      <td>7</td>\n",
       "      <td>2000.0</td>\n",
       "      <td>45000.0</td>\n",
       "      <td>29</td>\n",
       "      <td>0.00</td>\n",
       "    </tr>\n",
       "  </tbody>\n",
       "</table>\n",
       "</div>"
      ],
      "text/plain": [
       "              CustomerApiid  CustomerId           AUM         RegisterDate  \\\n",
       "0  60a7d0011363ea0011d0eb80      192260    601.525833  2021-06-10 21:23:31   \n",
       "1  60c77e1ffdaebd001875353e      192853   1798.831206  2021-06-14 16:13:56   \n",
       "2  588f45ae0a760bb65b380afa       11897   1621.043680  2017-09-14 12:08:06   \n",
       "3  5915d73623d4b1881694e11e       12583  78643.814178  2017-09-25 15:44:40   \n",
       "4  591f5f3b3daa47c6488bce3f        5564    422.691159  2017-05-22 18:38:05   \n",
       "\n",
       "   AmountFirstDeposit  TotalDeposits  TotalWithdrawals  MonthlyIncome  \\\n",
       "0          100.013269              5                 0          250.0   \n",
       "1          300.048411              2                 0         8000.0   \n",
       "2         2500.000000             13                 2         4500.0   \n",
       "3         2005.000000             37                 7        18000.0   \n",
       "4         2000.000000             23                 7         2000.0   \n",
       "\n",
       "   FinancialInvestmentsValue  Age  ComputedRiskTolerance  \n",
       "0                     3000.0   14                  22.22  \n",
       "1                   180000.0   35                  77.78  \n",
       "2                        0.0   32                  17.00  \n",
       "3                   120000.0   34                  69.17  \n",
       "4                    45000.0   29                   0.00  "
      ]
     },
     "execution_count": 312,
     "metadata": {},
     "output_type": "execute_result"
    }
   ],
   "source": [
    "df_customers.head()"
   ]
  },
  {
   "cell_type": "code",
   "execution_count": 675,
   "id": "b73b0b1f",
   "metadata": {
    "ExecuteTime": {
     "end_time": "2021-09-06T21:37:46.849007Z",
     "start_time": "2021-09-06T21:37:46.830047Z"
    }
   },
   "outputs": [
    {
     "data": {
      "text/html": [
       "<div>\n",
       "<style scoped>\n",
       "    .dataframe tbody tr th:only-of-type {\n",
       "        vertical-align: middle;\n",
       "    }\n",
       "\n",
       "    .dataframe tbody tr th {\n",
       "        vertical-align: top;\n",
       "    }\n",
       "\n",
       "    .dataframe thead th {\n",
       "        text-align: right;\n",
       "    }\n",
       "</style>\n",
       "<table border=\"1\" class=\"dataframe\">\n",
       "  <thead>\n",
       "    <tr style=\"text-align: right;\">\n",
       "      <th></th>\n",
       "      <th>CustomerApiid</th>\n",
       "      <th>CustomerId</th>\n",
       "      <th>AUM</th>\n",
       "      <th>RegisterDate</th>\n",
       "      <th>AmountFirstDeposit</th>\n",
       "      <th>TotalDeposits</th>\n",
       "      <th>TotalWithdrawals</th>\n",
       "      <th>MonthlyIncome</th>\n",
       "      <th>FinancialInvestmentsValue</th>\n",
       "      <th>Age</th>\n",
       "      <th>ComputedRiskTolerance</th>\n",
       "    </tr>\n",
       "  </thead>\n",
       "  <tbody>\n",
       "    <tr>\n",
       "      <th>997</th>\n",
       "      <td>5fc5378f7734810010efeaf5</td>\n",
       "      <td>157300</td>\n",
       "      <td>6635.921337</td>\n",
       "      <td>2020-12-01 14:16:51</td>\n",
       "      <td>1004.29</td>\n",
       "      <td>13</td>\n",
       "      <td>1</td>\n",
       "      <td>1398</td>\n",
       "      <td>2800.0</td>\n",
       "      <td>22</td>\n",
       "      <td>14.5</td>\n",
       "    </tr>\n",
       "    <tr>\n",
       "      <th>998</th>\n",
       "      <td>5d13603af71a7c00103c0f32</td>\n",
       "      <td>84593</td>\n",
       "      <td>140.934195</td>\n",
       "      <td>2019-07-05 13:52:24</td>\n",
       "      <td>2400.00</td>\n",
       "      <td>1</td>\n",
       "      <td>1</td>\n",
       "      <td>12000</td>\n",
       "      <td>0.0</td>\n",
       "      <td>33</td>\n",
       "      <td>14.0</td>\n",
       "    </tr>\n",
       "    <tr>\n",
       "      <th>999</th>\n",
       "      <td>5f6a22bed0c1c00011fc91e0</td>\n",
       "      <td>149918</td>\n",
       "      <td>321.246212</td>\n",
       "      <td>2020-09-22 21:55:55</td>\n",
       "      <td>100.00</td>\n",
       "      <td>5</td>\n",
       "      <td>1</td>\n",
       "      <td>600</td>\n",
       "      <td>1182.0</td>\n",
       "      <td>21</td>\n",
       "      <td>16.0</td>\n",
       "    </tr>\n",
       "  </tbody>\n",
       "</table>\n",
       "</div>"
      ],
      "text/plain": [
       "                CustomerApiid  CustomerId          AUM         RegisterDate  \\\n",
       "997  5fc5378f7734810010efeaf5      157300  6635.921337  2020-12-01 14:16:51   \n",
       "998  5d13603af71a7c00103c0f32       84593   140.934195  2019-07-05 13:52:24   \n",
       "999  5f6a22bed0c1c00011fc91e0      149918   321.246212  2020-09-22 21:55:55   \n",
       "\n",
       "     AmountFirstDeposit  TotalDeposits  TotalWithdrawals  MonthlyIncome  \\\n",
       "997             1004.29             13                 1           1398   \n",
       "998             2400.00              1                 1          12000   \n",
       "999              100.00              5                 1            600   \n",
       "\n",
       "     FinancialInvestmentsValue  Age  ComputedRiskTolerance  \n",
       "997                     2800.0   22                   14.5  \n",
       "998                        0.0   33                   14.0  \n",
       "999                     1182.0   21                   16.0  "
      ]
     },
     "execution_count": 675,
     "metadata": {},
     "output_type": "execute_result"
    }
   ],
   "source": [
    "#Dataset Tail\n",
    "df_customers.tail(3)"
   ]
  },
  {
   "cell_type": "code",
   "execution_count": 313,
   "id": "2f3591f4",
   "metadata": {
    "ExecuteTime": {
     "end_time": "2021-09-06T13:33:35.103101Z",
     "start_time": "2021-09-06T13:33:35.088107Z"
    }
   },
   "outputs": [
    {
     "data": {
      "text/plain": [
       "(1000, 11)"
      ]
     },
     "execution_count": 313,
     "metadata": {},
     "output_type": "execute_result"
    }
   ],
   "source": [
    "#Verificando linhas e colunas\n",
    "df_customers.shape"
   ]
  },
  {
   "cell_type": "code",
   "execution_count": 677,
   "id": "4ce8cc45",
   "metadata": {
    "ExecuteTime": {
     "end_time": "2021-09-06T21:38:23.434767Z",
     "start_time": "2021-09-06T21:38:23.427731Z"
    }
   },
   "outputs": [
    {
     "data": {
      "text/plain": [
       "['CustomerApiid',\n",
       " 'CustomerId',\n",
       " 'AUM',\n",
       " 'RegisterDate',\n",
       " 'AmountFirstDeposit',\n",
       " 'TotalDeposits',\n",
       " 'TotalWithdrawals',\n",
       " 'MonthlyIncome',\n",
       " 'FinancialInvestmentsValue',\n",
       " 'Age',\n",
       " 'ComputedRiskTolerance']"
      ]
     },
     "execution_count": 677,
     "metadata": {},
     "output_type": "execute_result"
    }
   ],
   "source": [
    "#Listagem das features\n",
    "list(df_customers)"
   ]
  },
  {
   "cell_type": "code",
   "execution_count": 678,
   "id": "726f6c47",
   "metadata": {
    "ExecuteTime": {
     "end_time": "2021-09-06T21:39:18.063783Z",
     "start_time": "2021-09-06T21:39:18.034771Z"
    }
   },
   "outputs": [
    {
     "data": {
      "text/html": [
       "<div>\n",
       "<style scoped>\n",
       "    .dataframe tbody tr th:only-of-type {\n",
       "        vertical-align: middle;\n",
       "    }\n",
       "\n",
       "    .dataframe tbody tr th {\n",
       "        vertical-align: top;\n",
       "    }\n",
       "\n",
       "    .dataframe thead th {\n",
       "        text-align: right;\n",
       "    }\n",
       "</style>\n",
       "<table border=\"1\" class=\"dataframe\">\n",
       "  <thead>\n",
       "    <tr style=\"text-align: right;\">\n",
       "      <th></th>\n",
       "      <th>% Missing Data</th>\n",
       "    </tr>\n",
       "  </thead>\n",
       "  <tbody>\n",
       "    <tr>\n",
       "      <th>CustomerApiid</th>\n",
       "      <td>0.0</td>\n",
       "    </tr>\n",
       "    <tr>\n",
       "      <th>CustomerId</th>\n",
       "      <td>0.0</td>\n",
       "    </tr>\n",
       "    <tr>\n",
       "      <th>AUM</th>\n",
       "      <td>0.0</td>\n",
       "    </tr>\n",
       "    <tr>\n",
       "      <th>RegisterDate</th>\n",
       "      <td>0.0</td>\n",
       "    </tr>\n",
       "    <tr>\n",
       "      <th>AmountFirstDeposit</th>\n",
       "      <td>0.0</td>\n",
       "    </tr>\n",
       "  </tbody>\n",
       "</table>\n",
       "</div>"
      ],
      "text/plain": [
       "                    % Missing Data\n",
       "CustomerApiid                  0.0\n",
       "CustomerId                     0.0\n",
       "AUM                            0.0\n",
       "RegisterDate                   0.0\n",
       "AmountFirstDeposit             0.0"
      ]
     },
     "execution_count": 678,
     "metadata": {},
     "output_type": "execute_result"
    }
   ],
   "source": [
    "pd.DataFrame(round(df_customers.isnull().mean().sort_values(ascending=False),3), columns=['% Missing Data']).head()"
   ]
  },
  {
   "cell_type": "code",
   "execution_count": 683,
   "id": "85eb2adb",
   "metadata": {
    "ExecuteTime": {
     "end_time": "2021-09-06T21:49:00.648092Z",
     "start_time": "2021-09-06T21:49:00.608792Z"
    }
   },
   "outputs": [
    {
     "data": {
      "text/html": [
       "<div>\n",
       "<style scoped>\n",
       "    .dataframe tbody tr th:only-of-type {\n",
       "        vertical-align: middle;\n",
       "    }\n",
       "\n",
       "    .dataframe tbody tr th {\n",
       "        vertical-align: top;\n",
       "    }\n",
       "\n",
       "    .dataframe thead th {\n",
       "        text-align: right;\n",
       "    }\n",
       "</style>\n",
       "<table border=\"1\" class=\"dataframe\">\n",
       "  <thead>\n",
       "    <tr style=\"text-align: right;\">\n",
       "      <th></th>\n",
       "      <th>count</th>\n",
       "      <th>mean</th>\n",
       "      <th>std</th>\n",
       "      <th>min</th>\n",
       "      <th>25%</th>\n",
       "      <th>50%</th>\n",
       "      <th>75%</th>\n",
       "      <th>max</th>\n",
       "    </tr>\n",
       "  </thead>\n",
       "  <tbody>\n",
       "    <tr>\n",
       "      <th>CustomerId</th>\n",
       "      <td>1000.0</td>\n",
       "      <td>113653.85</td>\n",
       "      <td>55113.27</td>\n",
       "      <td>44.0</td>\n",
       "      <td>69583.00</td>\n",
       "      <td>123887.50</td>\n",
       "      <td>161280.00</td>\n",
       "      <td>197630.00</td>\n",
       "    </tr>\n",
       "    <tr>\n",
       "      <th>AUM</th>\n",
       "      <td>1000.0</td>\n",
       "      <td>91684.64</td>\n",
       "      <td>731956.82</td>\n",
       "      <td>0.0</td>\n",
       "      <td>100.01</td>\n",
       "      <td>3877.40</td>\n",
       "      <td>21399.47</td>\n",
       "      <td>15097244.38</td>\n",
       "    </tr>\n",
       "    <tr>\n",
       "      <th>AmountFirstDeposit</th>\n",
       "      <td>1000.0</td>\n",
       "      <td>25710.74</td>\n",
       "      <td>273690.80</td>\n",
       "      <td>1.0</td>\n",
       "      <td>120.00</td>\n",
       "      <td>847.94</td>\n",
       "      <td>4849.75</td>\n",
       "      <td>8000373.45</td>\n",
       "    </tr>\n",
       "    <tr>\n",
       "      <th>TotalDeposits</th>\n",
       "      <td>1000.0</td>\n",
       "      <td>18.88</td>\n",
       "      <td>24.28</td>\n",
       "      <td>1.0</td>\n",
       "      <td>4.00</td>\n",
       "      <td>11.00</td>\n",
       "      <td>23.25</td>\n",
       "      <td>224.00</td>\n",
       "    </tr>\n",
       "    <tr>\n",
       "      <th>TotalWithdrawals</th>\n",
       "      <td>1000.0</td>\n",
       "      <td>3.74</td>\n",
       "      <td>6.58</td>\n",
       "      <td>0.0</td>\n",
       "      <td>0.00</td>\n",
       "      <td>1.50</td>\n",
       "      <td>5.00</td>\n",
       "      <td>86.00</td>\n",
       "    </tr>\n",
       "    <tr>\n",
       "      <th>MonthlyIncome</th>\n",
       "      <td>1000.0</td>\n",
       "      <td>32588.98</td>\n",
       "      <td>513055.90</td>\n",
       "      <td>0.0</td>\n",
       "      <td>2000.00</td>\n",
       "      <td>4000.00</td>\n",
       "      <td>8000.00</td>\n",
       "      <td>15000000.00</td>\n",
       "    </tr>\n",
       "    <tr>\n",
       "      <th>FinancialInvestmentsValue</th>\n",
       "      <td>1000.0</td>\n",
       "      <td>117110.86</td>\n",
       "      <td>577946.53</td>\n",
       "      <td>0.0</td>\n",
       "      <td>0.00</td>\n",
       "      <td>1000.00</td>\n",
       "      <td>30000.00</td>\n",
       "      <td>11000000.00</td>\n",
       "    </tr>\n",
       "    <tr>\n",
       "      <th>Age</th>\n",
       "      <td>1000.0</td>\n",
       "      <td>33.49</td>\n",
       "      <td>11.30</td>\n",
       "      <td>0.0</td>\n",
       "      <td>26.00</td>\n",
       "      <td>31.00</td>\n",
       "      <td>38.00</td>\n",
       "      <td>90.00</td>\n",
       "    </tr>\n",
       "    <tr>\n",
       "      <th>ComputedRiskTolerance</th>\n",
       "      <td>1000.0</td>\n",
       "      <td>24.07</td>\n",
       "      <td>15.30</td>\n",
       "      <td>0.0</td>\n",
       "      <td>14.00</td>\n",
       "      <td>20.00</td>\n",
       "      <td>27.00</td>\n",
       "      <td>96.30</td>\n",
       "    </tr>\n",
       "  </tbody>\n",
       "</table>\n",
       "</div>"
      ],
      "text/plain": [
       "                            count       mean        std   min       25%  \\\n",
       "CustomerId                 1000.0  113653.85   55113.27  44.0  69583.00   \n",
       "AUM                        1000.0   91684.64  731956.82   0.0    100.01   \n",
       "AmountFirstDeposit         1000.0   25710.74  273690.80   1.0    120.00   \n",
       "TotalDeposits              1000.0      18.88      24.28   1.0      4.00   \n",
       "TotalWithdrawals           1000.0       3.74       6.58   0.0      0.00   \n",
       "MonthlyIncome              1000.0   32588.98  513055.90   0.0   2000.00   \n",
       "FinancialInvestmentsValue  1000.0  117110.86  577946.53   0.0      0.00   \n",
       "Age                        1000.0      33.49      11.30   0.0     26.00   \n",
       "ComputedRiskTolerance      1000.0      24.07      15.30   0.0     14.00   \n",
       "\n",
       "                                 50%        75%          max  \n",
       "CustomerId                 123887.50  161280.00    197630.00  \n",
       "AUM                          3877.40   21399.47  15097244.38  \n",
       "AmountFirstDeposit            847.94    4849.75   8000373.45  \n",
       "TotalDeposits                  11.00      23.25       224.00  \n",
       "TotalWithdrawals                1.50       5.00        86.00  \n",
       "MonthlyIncome                4000.00    8000.00  15000000.00  \n",
       "FinancialInvestmentsValue    1000.00   30000.00  11000000.00  \n",
       "Age                            31.00      38.00        90.00  \n",
       "ComputedRiskTolerance          20.00      27.00        96.30  "
      ]
     },
     "execution_count": 683,
     "metadata": {},
     "output_type": "execute_result"
    }
   ],
   "source": [
    "#Descrição das features numéricas\n",
    "round(df_customers.describe().T, 2)"
   ]
  },
  {
   "cell_type": "markdown",
   "id": "28ed1bfa",
   "metadata": {},
   "source": [
    "- Olhando para o resumo de valores, podemos ver que existem pessoas com idade igual a zero e abaixo dos 18 anos. Há ainda, pessoas com renda mensal zerada e declaração de valores investidos zerada ou muito altos. Os outliers serão analisados na próxima sessão\n"
   ]
  },
  {
   "cell_type": "code",
   "execution_count": 684,
   "id": "a4b7d0eb",
   "metadata": {
    "ExecuteTime": {
     "end_time": "2021-09-06T21:49:17.143025Z",
     "start_time": "2021-09-06T21:49:17.112990Z"
    }
   },
   "outputs": [
    {
     "name": "stdout",
     "output_type": "stream",
     "text": [
      "<class 'pandas.core.frame.DataFrame'>\n",
      "RangeIndex: 1000 entries, 0 to 999\n",
      "Data columns (total 11 columns):\n",
      " #   Column                     Non-Null Count  Dtype  \n",
      "---  ------                     --------------  -----  \n",
      " 0   CustomerApiid              1000 non-null   object \n",
      " 1   CustomerId                 1000 non-null   int64  \n",
      " 2   AUM                        1000 non-null   float64\n",
      " 3   RegisterDate               1000 non-null   object \n",
      " 4   AmountFirstDeposit         1000 non-null   float64\n",
      " 5   TotalDeposits              1000 non-null   int64  \n",
      " 6   TotalWithdrawals           1000 non-null   int64  \n",
      " 7   MonthlyIncome              1000 non-null   int32  \n",
      " 8   FinancialInvestmentsValue  1000 non-null   float64\n",
      " 9   Age                        1000 non-null   int64  \n",
      " 10  ComputedRiskTolerance      1000 non-null   float64\n",
      "dtypes: float64(4), int32(1), int64(4), object(2)\n",
      "memory usage: 82.2+ KB\n"
     ]
    }
   ],
   "source": [
    "df_customers.info()"
   ]
  },
  {
   "cell_type": "code",
   "execution_count": 685,
   "id": "8dc2e73b",
   "metadata": {
    "ExecuteTime": {
     "end_time": "2021-09-06T21:49:21.564543Z",
     "start_time": "2021-09-06T21:49:21.539580Z"
    }
   },
   "outputs": [
    {
     "name": "stdout",
     "output_type": "stream",
     "text": [
      "CustomerApiid                        object\n",
      "CustomerId                            int64\n",
      "AUM                                 float64\n",
      "RegisterDate                 datetime64[ns]\n",
      "AmountFirstDeposit                  float64\n",
      "TotalDeposits                         int64\n",
      "TotalWithdrawals                      int64\n",
      "MonthlyIncome                         int32\n",
      "FinancialInvestmentsValue           float64\n",
      "Age                                   int64\n",
      "ComputedRiskTolerance               float64\n",
      "dtype: object\n"
     ]
    }
   ],
   "source": [
    "#Convertendo a coluna de 'RegisterDate' para datetime\n",
    "\n",
    "df_customers['RegisterDate'] = pd.to_datetime(df_customers['RegisterDate'], format='%Y-%m-%d %H:%M:%S')\n",
    "print(df_customers.dtypes)"
   ]
  },
  {
   "cell_type": "code",
   "execution_count": 686,
   "id": "46bc0d83",
   "metadata": {
    "ExecuteTime": {
     "end_time": "2021-09-06T21:51:28.052314Z",
     "start_time": "2021-09-06T21:51:28.040274Z"
    }
   },
   "outputs": [],
   "source": [
    "#Convertendo a coluna de 'AUM' para int\n",
    "df_customers['AUM'] = df_customers['AUM'].astype(int)"
   ]
  },
  {
   "cell_type": "markdown",
   "id": "aea624b3",
   "metadata": {},
   "source": [
    "# Tabela Events"
   ]
  },
  {
   "cell_type": "code",
   "execution_count": 318,
   "id": "7ad7e21e",
   "metadata": {
    "ExecuteTime": {
     "end_time": "2021-09-06T13:33:38.645161Z",
     "start_time": "2021-09-06T13:33:38.632163Z"
    }
   },
   "outputs": [
    {
     "data": {
      "text/html": [
       "<div>\n",
       "<style scoped>\n",
       "    .dataframe tbody tr th:only-of-type {\n",
       "        vertical-align: middle;\n",
       "    }\n",
       "\n",
       "    .dataframe tbody tr th {\n",
       "        vertical-align: top;\n",
       "    }\n",
       "\n",
       "    .dataframe thead th {\n",
       "        text-align: right;\n",
       "    }\n",
       "</style>\n",
       "<table border=\"1\" class=\"dataframe\">\n",
       "  <thead>\n",
       "    <tr style=\"text-align: right;\">\n",
       "      <th></th>\n",
       "      <th>EventDate</th>\n",
       "      <th>Platform</th>\n",
       "      <th>CustomerApiid</th>\n",
       "    </tr>\n",
       "  </thead>\n",
       "  <tbody>\n",
       "    <tr>\n",
       "      <th>0</th>\n",
       "      <td>20210112</td>\n",
       "      <td>IOS</td>\n",
       "      <td>5eb045b00d281d0010993b19</td>\n",
       "    </tr>\n",
       "    <tr>\n",
       "      <th>1</th>\n",
       "      <td>20210112</td>\n",
       "      <td>IOS</td>\n",
       "      <td>5d54036d7a4e2a00129ac685</td>\n",
       "    </tr>\n",
       "    <tr>\n",
       "      <th>2</th>\n",
       "      <td>20210112</td>\n",
       "      <td>IOS</td>\n",
       "      <td>5f160ad08df61f00175d4a94</td>\n",
       "    </tr>\n",
       "    <tr>\n",
       "      <th>3</th>\n",
       "      <td>20210112</td>\n",
       "      <td>IOS</td>\n",
       "      <td>5e1f7e25a6a96a0010ee1545</td>\n",
       "    </tr>\n",
       "    <tr>\n",
       "      <th>4</th>\n",
       "      <td>20210112</td>\n",
       "      <td>IOS</td>\n",
       "      <td>5e66a9a9e7bbca00119eb5fc</td>\n",
       "    </tr>\n",
       "  </tbody>\n",
       "</table>\n",
       "</div>"
      ],
      "text/plain": [
       "   EventDate Platform             CustomerApiid\n",
       "0   20210112      IOS  5eb045b00d281d0010993b19\n",
       "1   20210112      IOS  5d54036d7a4e2a00129ac685\n",
       "2   20210112      IOS  5f160ad08df61f00175d4a94\n",
       "3   20210112      IOS  5e1f7e25a6a96a0010ee1545\n",
       "4   20210112      IOS  5e66a9a9e7bbca00119eb5fc"
      ]
     },
     "execution_count": 318,
     "metadata": {},
     "output_type": "execute_result"
    }
   ],
   "source": [
    "df_events.head()"
   ]
  },
  {
   "cell_type": "code",
   "execution_count": 319,
   "id": "f04566fe",
   "metadata": {
    "ExecuteTime": {
     "end_time": "2021-09-06T13:33:39.086867Z",
     "start_time": "2021-09-06T13:33:39.077834Z"
    }
   },
   "outputs": [
    {
     "data": {
      "text/plain": [
       "(1000, 3)"
      ]
     },
     "execution_count": 319,
     "metadata": {},
     "output_type": "execute_result"
    }
   ],
   "source": [
    "df_events.shape"
   ]
  },
  {
   "cell_type": "code",
   "execution_count": 320,
   "id": "075f540c",
   "metadata": {
    "ExecuteTime": {
     "end_time": "2021-09-06T13:33:39.495247Z",
     "start_time": "2021-09-06T13:33:39.472189Z"
    }
   },
   "outputs": [
    {
     "name": "stdout",
     "output_type": "stream",
     "text": [
      "<class 'pandas.core.frame.DataFrame'>\n",
      "RangeIndex: 1000 entries, 0 to 999\n",
      "Data columns (total 3 columns):\n",
      " #   Column         Non-Null Count  Dtype \n",
      "---  ------         --------------  ----- \n",
      " 0   EventDate      1000 non-null   int64 \n",
      " 1   Platform       1000 non-null   object\n",
      " 2   CustomerApiid  1000 non-null   object\n",
      "dtypes: int64(1), object(2)\n",
      "memory usage: 23.6+ KB\n"
     ]
    }
   ],
   "source": [
    "df_events.info()"
   ]
  },
  {
   "cell_type": "code",
   "execution_count": 321,
   "id": "696ad436",
   "metadata": {
    "ExecuteTime": {
     "end_time": "2021-09-06T13:33:40.105429Z",
     "start_time": "2021-09-06T13:33:40.088407Z"
    }
   },
   "outputs": [
    {
     "name": "stdout",
     "output_type": "stream",
     "text": [
      "EventDate        datetime64[ns]\n",
      "Platform                 object\n",
      "CustomerApiid            object\n",
      "dtype: object\n"
     ]
    }
   ],
   "source": [
    "#Convertendo a coluna de 'EventDate' para datetime\n",
    "\n",
    "df_events['EventDate'] = pd.to_datetime(df_events['EventDate'], format='%Y%m%d')\n",
    "print(df_events.dtypes)"
   ]
  },
  {
   "cell_type": "markdown",
   "id": "9f23dfc8",
   "metadata": {},
   "source": [
    "# Tabela Transactions"
   ]
  },
  {
   "cell_type": "code",
   "execution_count": 497,
   "id": "7f3c245b",
   "metadata": {
    "ExecuteTime": {
     "end_time": "2021-09-06T16:19:49.157507Z",
     "start_time": "2021-09-06T16:19:49.141479Z"
    }
   },
   "outputs": [],
   "source": [
    "df_transactions = pd.read_csv(\"Transactions.csv\")"
   ]
  },
  {
   "cell_type": "code",
   "execution_count": 499,
   "id": "d4082089",
   "metadata": {
    "ExecuteTime": {
     "end_time": "2021-09-06T16:19:52.850931Z",
     "start_time": "2021-09-06T16:19:52.823970Z"
    }
   },
   "outputs": [
    {
     "name": "stdout",
     "output_type": "stream",
     "text": [
      "<class 'pandas.core.frame.DataFrame'>\n",
      "Int64Index: 1000 entries, 260 to 99\n",
      "Data columns (total 5 columns):\n",
      " #   Column      Non-Null Count  Dtype  \n",
      "---  ------      --------------  -----  \n",
      " 0   Id          1000 non-null   int64  \n",
      " 1   Direction   1000 non-null   int64  \n",
      " 2   Amount      1000 non-null   float64\n",
      " 3   CustomerId  1000 non-null   int64  \n",
      " 4   OperatedAt  1000 non-null   object \n",
      "dtypes: float64(1), int64(3), object(1)\n",
      "memory usage: 46.9+ KB\n"
     ]
    }
   ],
   "source": [
    "df_transactions.info()"
   ]
  },
  {
   "cell_type": "code",
   "execution_count": 534,
   "id": "aabcfb35",
   "metadata": {
    "ExecuteTime": {
     "end_time": "2021-09-06T16:44:38.384617Z",
     "start_time": "2021-09-06T16:44:38.355657Z"
    }
   },
   "outputs": [
    {
     "data": {
      "text/html": [
       "<div>\n",
       "<style scoped>\n",
       "    .dataframe tbody tr th:only-of-type {\n",
       "        vertical-align: middle;\n",
       "    }\n",
       "\n",
       "    .dataframe tbody tr th {\n",
       "        vertical-align: top;\n",
       "    }\n",
       "\n",
       "    .dataframe thead th {\n",
       "        text-align: right;\n",
       "    }\n",
       "</style>\n",
       "<table border=\"1\" class=\"dataframe\">\n",
       "  <thead>\n",
       "    <tr style=\"text-align: right;\">\n",
       "      <th></th>\n",
       "      <th>count</th>\n",
       "      <th>mean</th>\n",
       "      <th>std</th>\n",
       "      <th>min</th>\n",
       "      <th>25%</th>\n",
       "      <th>50%</th>\n",
       "      <th>75%</th>\n",
       "      <th>max</th>\n",
       "    </tr>\n",
       "  </thead>\n",
       "  <tbody>\n",
       "    <tr>\n",
       "      <th>Id</th>\n",
       "      <td>1000.0</td>\n",
       "      <td>1.180722e+06</td>\n",
       "      <td>73083.958545</td>\n",
       "      <td>456538.0</td>\n",
       "      <td>1.192801e+06</td>\n",
       "      <td>1199063.5</td>\n",
       "      <td>1201338.25</td>\n",
       "      <td>1.201975e+06</td>\n",
       "    </tr>\n",
       "    <tr>\n",
       "      <th>Direction</th>\n",
       "      <td>1000.0</td>\n",
       "      <td>1.188000e+01</td>\n",
       "      <td>3.909077</td>\n",
       "      <td>10.0</td>\n",
       "      <td>1.000000e+01</td>\n",
       "      <td>10.0</td>\n",
       "      <td>10.00</td>\n",
       "      <td>2.000000e+01</td>\n",
       "    </tr>\n",
       "    <tr>\n",
       "      <th>Amount</th>\n",
       "      <td>1000.0</td>\n",
       "      <td>2.357222e+03</td>\n",
       "      <td>9808.965386</td>\n",
       "      <td>1.0</td>\n",
       "      <td>1.695555e+02</td>\n",
       "      <td>500.0</td>\n",
       "      <td>1200.00</td>\n",
       "      <td>1.579400e+05</td>\n",
       "    </tr>\n",
       "    <tr>\n",
       "      <th>CustomerId</th>\n",
       "      <td>1000.0</td>\n",
       "      <td>9.357191e+04</td>\n",
       "      <td>48098.081659</td>\n",
       "      <td>22.0</td>\n",
       "      <td>5.196000e+04</td>\n",
       "      <td>101758.5</td>\n",
       "      <td>136931.25</td>\n",
       "      <td>1.614100e+05</td>\n",
       "    </tr>\n",
       "    <tr>\n",
       "      <th>Month</th>\n",
       "      <td>1000.0</td>\n",
       "      <td>1.143000e+00</td>\n",
       "      <td>0.705016</td>\n",
       "      <td>1.0</td>\n",
       "      <td>1.000000e+00</td>\n",
       "      <td>1.0</td>\n",
       "      <td>1.00</td>\n",
       "      <td>7.000000e+00</td>\n",
       "    </tr>\n",
       "    <tr>\n",
       "      <th>Year</th>\n",
       "      <td>1000.0</td>\n",
       "      <td>2.021000e+03</td>\n",
       "      <td>0.000000</td>\n",
       "      <td>2021.0</td>\n",
       "      <td>2.021000e+03</td>\n",
       "      <td>2021.0</td>\n",
       "      <td>2021.00</td>\n",
       "      <td>2.021000e+03</td>\n",
       "    </tr>\n",
       "  </tbody>\n",
       "</table>\n",
       "</div>"
      ],
      "text/plain": [
       "             count          mean           std       min           25%  \\\n",
       "Id          1000.0  1.180722e+06  73083.958545  456538.0  1.192801e+06   \n",
       "Direction   1000.0  1.188000e+01      3.909077      10.0  1.000000e+01   \n",
       "Amount      1000.0  2.357222e+03   9808.965386       1.0  1.695555e+02   \n",
       "CustomerId  1000.0  9.357191e+04  48098.081659      22.0  5.196000e+04   \n",
       "Month       1000.0  1.143000e+00      0.705016       1.0  1.000000e+00   \n",
       "Year        1000.0  2.021000e+03      0.000000    2021.0  2.021000e+03   \n",
       "\n",
       "                  50%         75%           max  \n",
       "Id          1199063.5  1201338.25  1.201975e+06  \n",
       "Direction        10.0       10.00  2.000000e+01  \n",
       "Amount          500.0     1200.00  1.579400e+05  \n",
       "CustomerId   101758.5   136931.25  1.614100e+05  \n",
       "Month             1.0        1.00  7.000000e+00  \n",
       "Year           2021.0     2021.00  2.021000e+03  "
      ]
     },
     "execution_count": 534,
     "metadata": {},
     "output_type": "execute_result"
    }
   ],
   "source": [
    "df_transactions.describe().T"
   ]
  },
  {
   "cell_type": "markdown",
   "id": "be89d2d9",
   "metadata": {},
   "source": [
    "#### A trabela Transactions possui registros apenas do ano de 2021 entre os meses de janeiro (01)  a julho (07)"
   ]
  },
  {
   "cell_type": "code",
   "execution_count": 500,
   "id": "73f43043",
   "metadata": {
    "ExecuteTime": {
     "end_time": "2021-09-06T16:20:00.413930Z",
     "start_time": "2021-09-06T16:20:00.400934Z"
    }
   },
   "outputs": [
    {
     "name": "stdout",
     "output_type": "stream",
     "text": [
      "Id                     int64\n",
      "Direction              int64\n",
      "Amount               float64\n",
      "CustomerId             int64\n",
      "OperatedAt    datetime64[ns]\n",
      "dtype: object\n"
     ]
    }
   ],
   "source": [
    "#Convertendo a coluna de 'OperatedAt' para datetime\n",
    "\n",
    "df_transactions['OperatedAt'] = pd.to_datetime(df_transactions['OperatedAt'], format='%Y-%m-%d %H:%M:%S')\n",
    "print(df_transactions.dtypes)"
   ]
  },
  {
   "cell_type": "code",
   "execution_count": 501,
   "id": "aa2c272b",
   "metadata": {
    "ExecuteTime": {
     "end_time": "2021-09-06T16:20:11.220755Z",
     "start_time": "2021-09-06T16:20:11.178758Z"
    }
   },
   "outputs": [
    {
     "data": {
      "text/html": [
       "<div>\n",
       "<style scoped>\n",
       "    .dataframe tbody tr th:only-of-type {\n",
       "        vertical-align: middle;\n",
       "    }\n",
       "\n",
       "    .dataframe tbody tr th {\n",
       "        vertical-align: top;\n",
       "    }\n",
       "\n",
       "    .dataframe thead th {\n",
       "        text-align: right;\n",
       "    }\n",
       "</style>\n",
       "<table border=\"1\" class=\"dataframe\">\n",
       "  <thead>\n",
       "    <tr style=\"text-align: right;\">\n",
       "      <th></th>\n",
       "      <th>Id</th>\n",
       "      <th>Direction</th>\n",
       "      <th>Amount</th>\n",
       "      <th>CustomerId</th>\n",
       "      <th>OperatedAt</th>\n",
       "      <th>Month</th>\n",
       "      <th>Year</th>\n",
       "    </tr>\n",
       "  </thead>\n",
       "  <tbody>\n",
       "    <tr>\n",
       "      <th>260</th>\n",
       "      <td>1193306</td>\n",
       "      <td>10</td>\n",
       "      <td>12800.00</td>\n",
       "      <td>12431</td>\n",
       "      <td>2021-01-01 00:00:30</td>\n",
       "      <td>1</td>\n",
       "      <td>2021</td>\n",
       "    </tr>\n",
       "    <tr>\n",
       "      <th>573</th>\n",
       "      <td>1200034</td>\n",
       "      <td>10</td>\n",
       "      <td>20000.00</td>\n",
       "      <td>117985</td>\n",
       "      <td>2021-01-01 00:01:33</td>\n",
       "      <td>1</td>\n",
       "      <td>2021</td>\n",
       "    </tr>\n",
       "    <tr>\n",
       "      <th>452</th>\n",
       "      <td>1198402</td>\n",
       "      <td>10</td>\n",
       "      <td>50.00</td>\n",
       "      <td>95724</td>\n",
       "      <td>2021-01-01 00:02:08</td>\n",
       "      <td>1</td>\n",
       "      <td>2021</td>\n",
       "    </tr>\n",
       "    <tr>\n",
       "      <th>521</th>\n",
       "      <td>1199295</td>\n",
       "      <td>10</td>\n",
       "      <td>200.00</td>\n",
       "      <td>136323</td>\n",
       "      <td>2021-01-01 00:02:35</td>\n",
       "      <td>1</td>\n",
       "      <td>2021</td>\n",
       "    </tr>\n",
       "    <tr>\n",
       "      <th>486</th>\n",
       "      <td>1198878</td>\n",
       "      <td>10</td>\n",
       "      <td>2000.00</td>\n",
       "      <td>138207</td>\n",
       "      <td>2021-01-01 00:02:58</td>\n",
       "      <td>1</td>\n",
       "      <td>2021</td>\n",
       "    </tr>\n",
       "    <tr>\n",
       "      <th>442</th>\n",
       "      <td>1198295</td>\n",
       "      <td>10</td>\n",
       "      <td>300.00</td>\n",
       "      <td>116255</td>\n",
       "      <td>2021-01-01 00:04:00</td>\n",
       "      <td>1</td>\n",
       "      <td>2021</td>\n",
       "    </tr>\n",
       "    <tr>\n",
       "      <th>346</th>\n",
       "      <td>1195804</td>\n",
       "      <td>10</td>\n",
       "      <td>100.00</td>\n",
       "      <td>16655</td>\n",
       "      <td>2021-01-01 00:04:16</td>\n",
       "      <td>1</td>\n",
       "      <td>2021</td>\n",
       "    </tr>\n",
       "    <tr>\n",
       "      <th>467</th>\n",
       "      <td>1198751</td>\n",
       "      <td>10</td>\n",
       "      <td>600.00</td>\n",
       "      <td>86678</td>\n",
       "      <td>2021-01-01 00:04:44</td>\n",
       "      <td>1</td>\n",
       "      <td>2021</td>\n",
       "    </tr>\n",
       "    <tr>\n",
       "      <th>408</th>\n",
       "      <td>1197389</td>\n",
       "      <td>10</td>\n",
       "      <td>6000.00</td>\n",
       "      <td>39685</td>\n",
       "      <td>2021-01-01 00:05:36</td>\n",
       "      <td>1</td>\n",
       "      <td>2021</td>\n",
       "    </tr>\n",
       "    <tr>\n",
       "      <th>555</th>\n",
       "      <td>1199823</td>\n",
       "      <td>10</td>\n",
       "      <td>50.00</td>\n",
       "      <td>148881</td>\n",
       "      <td>2021-01-01 00:05:41</td>\n",
       "      <td>1</td>\n",
       "      <td>2021</td>\n",
       "    </tr>\n",
       "    <tr>\n",
       "      <th>511</th>\n",
       "      <td>1199242</td>\n",
       "      <td>10</td>\n",
       "      <td>100.00</td>\n",
       "      <td>160459</td>\n",
       "      <td>2021-01-01 00:06:29</td>\n",
       "      <td>1</td>\n",
       "      <td>2021</td>\n",
       "    </tr>\n",
       "    <tr>\n",
       "      <th>418</th>\n",
       "      <td>1197689</td>\n",
       "      <td>10</td>\n",
       "      <td>2000.00</td>\n",
       "      <td>42584</td>\n",
       "      <td>2021-01-01 00:06:35</td>\n",
       "      <td>1</td>\n",
       "      <td>2021</td>\n",
       "    </tr>\n",
       "    <tr>\n",
       "      <th>574</th>\n",
       "      <td>1200035</td>\n",
       "      <td>10</td>\n",
       "      <td>60.00</td>\n",
       "      <td>161264</td>\n",
       "      <td>2021-01-01 00:06:59</td>\n",
       "      <td>1</td>\n",
       "      <td>2021</td>\n",
       "    </tr>\n",
       "    <tr>\n",
       "      <th>410</th>\n",
       "      <td>1197485</td>\n",
       "      <td>10</td>\n",
       "      <td>3000.00</td>\n",
       "      <td>145308</td>\n",
       "      <td>2021-01-01 00:09:08</td>\n",
       "      <td>1</td>\n",
       "      <td>2021</td>\n",
       "    </tr>\n",
       "    <tr>\n",
       "      <th>512</th>\n",
       "      <td>1199251</td>\n",
       "      <td>10</td>\n",
       "      <td>1000.00</td>\n",
       "      <td>143672</td>\n",
       "      <td>2021-01-01 00:10:19</td>\n",
       "      <td>1</td>\n",
       "      <td>2021</td>\n",
       "    </tr>\n",
       "    <tr>\n",
       "      <th>480</th>\n",
       "      <td>1198834</td>\n",
       "      <td>10</td>\n",
       "      <td>4000.00</td>\n",
       "      <td>54389</td>\n",
       "      <td>2021-01-01 00:11:02</td>\n",
       "      <td>1</td>\n",
       "      <td>2021</td>\n",
       "    </tr>\n",
       "    <tr>\n",
       "      <th>275</th>\n",
       "      <td>1193714</td>\n",
       "      <td>10</td>\n",
       "      <td>300.00</td>\n",
       "      <td>112578</td>\n",
       "      <td>2021-01-01 00:11:09</td>\n",
       "      <td>1</td>\n",
       "      <td>2021</td>\n",
       "    </tr>\n",
       "    <tr>\n",
       "      <th>595</th>\n",
       "      <td>1200126</td>\n",
       "      <td>10</td>\n",
       "      <td>2458.72</td>\n",
       "      <td>40100</td>\n",
       "      <td>2021-01-01 00:11:14</td>\n",
       "      <td>1</td>\n",
       "      <td>2021</td>\n",
       "    </tr>\n",
       "    <tr>\n",
       "      <th>597</th>\n",
       "      <td>1200135</td>\n",
       "      <td>10</td>\n",
       "      <td>1000.00</td>\n",
       "      <td>139072</td>\n",
       "      <td>2021-01-01 00:11:36</td>\n",
       "      <td>1</td>\n",
       "      <td>2021</td>\n",
       "    </tr>\n",
       "    <tr>\n",
       "      <th>588</th>\n",
       "      <td>1200096</td>\n",
       "      <td>10</td>\n",
       "      <td>1000.00</td>\n",
       "      <td>148581</td>\n",
       "      <td>2021-01-01 00:11:49</td>\n",
       "      <td>1</td>\n",
       "      <td>2021</td>\n",
       "    </tr>\n",
       "  </tbody>\n",
       "</table>\n",
       "</div>"
      ],
      "text/plain": [
       "          Id  Direction    Amount  CustomerId          OperatedAt  Month  Year\n",
       "260  1193306         10  12800.00       12431 2021-01-01 00:00:30      1  2021\n",
       "573  1200034         10  20000.00      117985 2021-01-01 00:01:33      1  2021\n",
       "452  1198402         10     50.00       95724 2021-01-01 00:02:08      1  2021\n",
       "521  1199295         10    200.00      136323 2021-01-01 00:02:35      1  2021\n",
       "486  1198878         10   2000.00      138207 2021-01-01 00:02:58      1  2021\n",
       "442  1198295         10    300.00      116255 2021-01-01 00:04:00      1  2021\n",
       "346  1195804         10    100.00       16655 2021-01-01 00:04:16      1  2021\n",
       "467  1198751         10    600.00       86678 2021-01-01 00:04:44      1  2021\n",
       "408  1197389         10   6000.00       39685 2021-01-01 00:05:36      1  2021\n",
       "555  1199823         10     50.00      148881 2021-01-01 00:05:41      1  2021\n",
       "511  1199242         10    100.00      160459 2021-01-01 00:06:29      1  2021\n",
       "418  1197689         10   2000.00       42584 2021-01-01 00:06:35      1  2021\n",
       "574  1200035         10     60.00      161264 2021-01-01 00:06:59      1  2021\n",
       "410  1197485         10   3000.00      145308 2021-01-01 00:09:08      1  2021\n",
       "512  1199251         10   1000.00      143672 2021-01-01 00:10:19      1  2021\n",
       "480  1198834         10   4000.00       54389 2021-01-01 00:11:02      1  2021\n",
       "275  1193714         10    300.00      112578 2021-01-01 00:11:09      1  2021\n",
       "595  1200126         10   2458.72       40100 2021-01-01 00:11:14      1  2021\n",
       "597  1200135         10   1000.00      139072 2021-01-01 00:11:36      1  2021\n",
       "588  1200096         10   1000.00      148581 2021-01-01 00:11:49      1  2021"
      ]
     },
     "execution_count": 501,
     "metadata": {},
     "output_type": "execute_result"
    }
   ],
   "source": [
    "#Criando a coluna Month para guardar o registro de mês\n",
    "df_transactions['Month'] = pd.to_datetime(df_transactions['OperatedAt']).dt.month\n",
    "\n",
    "\n",
    "#Criando a coluna Year para guardar o registro de ano\n",
    "df_transactions['Year'] = pd.to_datetime(df_transactions['OperatedAt']).dt.year\n",
    "\n",
    "#Ordenando as transações por data\n",
    "df_transactions.sort_values(by=['Month', 'Year'], inplace=True, ascending=True)\n",
    "df_transactions.head()"
   ]
  },
  {
   "cell_type": "markdown",
   "id": "b10a6997",
   "metadata": {},
   "source": [
    "___"
   ]
  },
  {
   "cell_type": "markdown",
   "id": "1b6d6255",
   "metadata": {},
   "source": [
    "### Verificando o montante de Saídas"
   ]
  },
  {
   "cell_type": "code",
   "execution_count": 536,
   "id": "884032cc",
   "metadata": {
    "ExecuteTime": {
     "end_time": "2021-09-06T16:47:03.973325Z",
     "start_time": "2021-09-06T16:47:03.955287Z"
    }
   },
   "outputs": [
    {
     "name": "stdout",
     "output_type": "stream",
     "text": [
      "867867.13\n"
     ]
    }
   ],
   "source": [
    "df_out = df_transactions[df_transactions['Direction'] == 20]\n",
    "print(df_out['Amount'].sum().round(2))"
   ]
  },
  {
   "cell_type": "markdown",
   "id": "05283268",
   "metadata": {},
   "source": [
    "###### O montante de saídas em 2021 foi de 867.867,13\n",
    "###### - Esse valor está em real?"
   ]
  },
  {
   "cell_type": "code",
   "execution_count": 525,
   "id": "1278c187",
   "metadata": {
    "ExecuteTime": {
     "end_time": "2021-09-06T16:35:58.355468Z",
     "start_time": "2021-09-06T16:35:58.167020Z"
    }
   },
   "outputs": [
    {
     "data": {
      "image/png": "[encoded data removed]",
      "text/plain": [
       "<Figure size 720x720 with 1 Axes>"
      ]
     },
     "metadata": {},
     "output_type": "display_data"
    }
   ],
   "source": [
    "# Criando o ambiente do gráfico \n",
    "sns.set_style(\"white\")\n",
    "plt.figure(figsize=(10, 10))\n",
    "plt.title('Dispersão de Saídas em 2021')\n",
    "\n",
    "# Gráfico de Dispersão\n",
    "g = sns.scatterplot(x=\"Amount\", y=\"Month\", \n",
    "                    data=df_out)\n",
    "plt.show()"
   ]
  },
  {
   "cell_type": "code",
   "execution_count": 546,
   "id": "cf760cf7",
   "metadata": {
    "ExecuteTime": {
     "end_time": "2021-09-06T17:16:36.907646Z",
     "start_time": "2021-09-06T17:16:36.701394Z"
    }
   },
   "outputs": [
    {
     "data": {
      "image/png": "[encoded data removed]",
      "text/plain": [
       "<Figure size 720x360 with 1 Axes>"
      ]
     },
     "metadata": {},
     "output_type": "display_data"
    }
   ],
   "source": [
    "plt.figure(figsize=(10,5))\n",
    "sns.histplot(data=df_out, x='Amount', bins=20, kde=True)\n",
    "plt.title('Volume de Saídas em 2021')\n",
    "plt.show()"
   ]
  },
  {
   "cell_type": "markdown",
   "id": "36e2afc4",
   "metadata": {},
   "source": [
    "#### Nota-se que não houve retiradas de grandes volumes no ano de 2021, contudo há registros de saídas com valores acima de 20.000"
   ]
  },
  {
   "cell_type": "markdown",
   "id": "f4c7b1d4",
   "metadata": {},
   "source": [
    "## Montante de Entradas\n"
   ]
  },
  {
   "cell_type": "code",
   "execution_count": 537,
   "id": "aca23e30",
   "metadata": {
    "ExecuteTime": {
     "end_time": "2021-09-06T16:51:29.294282Z",
     "start_time": "2021-09-06T16:51:29.280248Z"
    }
   },
   "outputs": [
    {
     "name": "stdout",
     "output_type": "stream",
     "text": [
      "1489354.96\n"
     ]
    }
   ],
   "source": [
    "df_in = df_transactions[df_transactions['Direction'] == 10]\n",
    "print(df_in['Amount'].sum().round(2))"
   ]
  },
  {
   "cell_type": "markdown",
   "id": "b58e97eb",
   "metadata": {
    "ExecuteTime": {
     "end_time": "2021-09-06T16:51:57.443141Z",
     "start_time": "2021-09-06T16:51:57.432147Z"
    }
   },
   "source": [
    "###### O montante de saídas em 2021 foi de 1.489.354,96\n",
    "###### - Esse valor está em real?"
   ]
  },
  {
   "cell_type": "code",
   "execution_count": 539,
   "id": "3f1b8594",
   "metadata": {
    "ExecuteTime": {
     "end_time": "2021-09-06T16:52:40.863271Z",
     "start_time": "2021-09-06T16:52:40.683639Z"
    }
   },
   "outputs": [
    {
     "data": {
      "image/png": "[encoded data removed]",
      "text/plain": [
       "<Figure size 720x720 with 1 Axes>"
      ]
     },
     "metadata": {},
     "output_type": "display_data"
    }
   ],
   "source": [
    "# Criando o ambiente do gráfico \n",
    "sns.set_style(\"white\")\n",
    "plt.figure(figsize=(10, 10))\n",
    "plt.title('Dispersão de Entradas em 2021')\n",
    "\n",
    "# Gráfico de Dispersão\n",
    "g = sns.scatterplot(x=\"Amount\", y=\"Month\", \n",
    "                    data=df_in)\n",
    "plt.show()"
   ]
  },
  {
   "cell_type": "code",
   "execution_count": 548,
   "id": "66d19d78",
   "metadata": {
    "ExecuteTime": {
     "end_time": "2021-09-06T17:16:52.953725Z",
     "start_time": "2021-09-06T17:16:52.758154Z"
    }
   },
   "outputs": [
    {
     "data": {
      "image/png": "[encoded data removed]",
      "text/plain": [
       "<Figure size 720x360 with 1 Axes>"
      ]
     },
     "metadata": {},
     "output_type": "display_data"
    }
   ],
   "source": [
    "plt.figure(figsize=(10,5))\n",
    "sns.histplot(data=df_in, x='Amount', bins=20, kde=True)\n",
    "plt.title('Volume de Saídas em 2021')\n",
    "plt.show()"
   ]
  },
  {
   "cell_type": "markdown",
   "id": "c04c8637",
   "metadata": {},
   "source": [
    "___"
   ]
  },
  {
   "cell_type": "code",
   "execution_count": 550,
   "id": "1581f0e6",
   "metadata": {
    "ExecuteTime": {
     "end_time": "2021-09-06T17:17:13.735159Z",
     "start_time": "2021-09-06T17:17:13.723125Z"
    }
   },
   "outputs": [
    {
     "data": {
      "text/html": [
       "<div>\n",
       "<style scoped>\n",
       "    .dataframe tbody tr th:only-of-type {\n",
       "        vertical-align: middle;\n",
       "    }\n",
       "\n",
       "    .dataframe tbody tr th {\n",
       "        vertical-align: top;\n",
       "    }\n",
       "\n",
       "    .dataframe thead th {\n",
       "        text-align: right;\n",
       "    }\n",
       "</style>\n",
       "<table border=\"1\" class=\"dataframe\">\n",
       "  <thead>\n",
       "    <tr style=\"text-align: right;\">\n",
       "      <th></th>\n",
       "      <th>Id</th>\n",
       "      <th>Direction</th>\n",
       "      <th>Amount</th>\n",
       "      <th>CustomerId</th>\n",
       "      <th>OperatedAt</th>\n",
       "      <th>Month</th>\n",
       "      <th>Year</th>\n",
       "    </tr>\n",
       "  </thead>\n",
       "  <tbody>\n",
       "    <tr>\n",
       "      <th>260</th>\n",
       "      <td>1193306</td>\n",
       "      <td>10</td>\n",
       "      <td>12800.0</td>\n",
       "      <td>12431</td>\n",
       "      <td>2021-01-01 00:00:30</td>\n",
       "      <td>1</td>\n",
       "      <td>2021</td>\n",
       "    </tr>\n",
       "    <tr>\n",
       "      <th>573</th>\n",
       "      <td>1200034</td>\n",
       "      <td>10</td>\n",
       "      <td>20000.0</td>\n",
       "      <td>117985</td>\n",
       "      <td>2021-01-01 00:01:33</td>\n",
       "      <td>1</td>\n",
       "      <td>2021</td>\n",
       "    </tr>\n",
       "  </tbody>\n",
       "</table>\n",
       "</div>"
      ],
      "text/plain": [
       "          Id  Direction   Amount  CustomerId          OperatedAt  Month  Year\n",
       "260  1193306         10  12800.0       12431 2021-01-01 00:00:30      1  2021\n",
       "573  1200034         10  20000.0      117985 2021-01-01 00:01:33      1  2021"
      ]
     },
     "execution_count": 550,
     "metadata": {},
     "output_type": "execute_result"
    }
   ],
   "source": [
    "df_in.head(2)"
   ]
  },
  {
   "cell_type": "markdown",
   "id": "ee5c8408",
   "metadata": {},
   "source": [
    "___\n"
   ]
  },
  {
   "cell_type": "markdown",
   "id": "9a213b9e",
   "metadata": {},
   "source": [
    "# Perfil do Público"
   ]
  },
  {
   "cell_type": "markdown",
   "id": "c63b2547",
   "metadata": {},
   "source": [
    "### O perfil do público da Warren trata-se, em sua maioria, de pessoas cuja idade está entre 20 e 40 anos, a renda mensal mais expressiva está abaixo de 10.000 reais e a declaração do total de bens investidos está abaixo dos 25.000 reais"
   ]
  },
  {
   "cell_type": "code",
   "execution_count": 829,
   "id": "eb99c8a1",
   "metadata": {
    "ExecuteTime": {
     "end_time": "2021-09-07T00:02:48.821327Z",
     "start_time": "2021-09-07T00:02:48.801291Z"
    }
   },
   "outputs": [
    {
     "data": {
      "text/html": [
       "<div>\n",
       "<style scoped>\n",
       "    .dataframe tbody tr th:only-of-type {\n",
       "        vertical-align: middle;\n",
       "    }\n",
       "\n",
       "    .dataframe tbody tr th {\n",
       "        vertical-align: top;\n",
       "    }\n",
       "\n",
       "    .dataframe thead th {\n",
       "        text-align: right;\n",
       "    }\n",
       "</style>\n",
       "<table border=\"1\" class=\"dataframe\">\n",
       "  <thead>\n",
       "    <tr style=\"text-align: right;\">\n",
       "      <th></th>\n",
       "      <th>CustomerApiid</th>\n",
       "      <th>CustomerId</th>\n",
       "      <th>AUM</th>\n",
       "      <th>RegisterDate</th>\n",
       "      <th>AmountFirstDeposit</th>\n",
       "      <th>TotalDeposits</th>\n",
       "      <th>TotalWithdrawals</th>\n",
       "      <th>MonthlyIncome</th>\n",
       "      <th>FinancialInvestmentsValue</th>\n",
       "      <th>Age</th>\n",
       "      <th>ComputedRiskTolerance</th>\n",
       "    </tr>\n",
       "  </thead>\n",
       "  <tbody>\n",
       "    <tr>\n",
       "      <th>0</th>\n",
       "      <td>60a7d0011363ea0011d0eb80</td>\n",
       "      <td>192260</td>\n",
       "      <td>601</td>\n",
       "      <td>2021-06-10 21:23:31</td>\n",
       "      <td>100.013269</td>\n",
       "      <td>5</td>\n",
       "      <td>0</td>\n",
       "      <td>250</td>\n",
       "      <td>3000.0</td>\n",
       "      <td>14</td>\n",
       "      <td>22.22</td>\n",
       "    </tr>\n",
       "    <tr>\n",
       "      <th>1</th>\n",
       "      <td>60c77e1ffdaebd001875353e</td>\n",
       "      <td>192853</td>\n",
       "      <td>1798</td>\n",
       "      <td>2021-06-14 16:13:56</td>\n",
       "      <td>300.048411</td>\n",
       "      <td>2</td>\n",
       "      <td>0</td>\n",
       "      <td>8000</td>\n",
       "      <td>180000.0</td>\n",
       "      <td>35</td>\n",
       "      <td>77.78</td>\n",
       "    </tr>\n",
       "    <tr>\n",
       "      <th>2</th>\n",
       "      <td>588f45ae0a760bb65b380afa</td>\n",
       "      <td>11897</td>\n",
       "      <td>1621</td>\n",
       "      <td>2017-09-14 12:08:06</td>\n",
       "      <td>2500.000000</td>\n",
       "      <td>13</td>\n",
       "      <td>2</td>\n",
       "      <td>4500</td>\n",
       "      <td>0.0</td>\n",
       "      <td>32</td>\n",
       "      <td>17.00</td>\n",
       "    </tr>\n",
       "    <tr>\n",
       "      <th>3</th>\n",
       "      <td>5915d73623d4b1881694e11e</td>\n",
       "      <td>12583</td>\n",
       "      <td>78643</td>\n",
       "      <td>2017-09-25 15:44:40</td>\n",
       "      <td>2005.000000</td>\n",
       "      <td>37</td>\n",
       "      <td>7</td>\n",
       "      <td>18000</td>\n",
       "      <td>120000.0</td>\n",
       "      <td>34</td>\n",
       "      <td>69.17</td>\n",
       "    </tr>\n",
       "    <tr>\n",
       "      <th>4</th>\n",
       "      <td>591f5f3b3daa47c6488bce3f</td>\n",
       "      <td>5564</td>\n",
       "      <td>422</td>\n",
       "      <td>2017-05-22 18:38:05</td>\n",
       "      <td>2000.000000</td>\n",
       "      <td>23</td>\n",
       "      <td>7</td>\n",
       "      <td>2000</td>\n",
       "      <td>45000.0</td>\n",
       "      <td>29</td>\n",
       "      <td>0.00</td>\n",
       "    </tr>\n",
       "  </tbody>\n",
       "</table>\n",
       "</div>"
      ],
      "text/plain": [
       "              CustomerApiid  CustomerId    AUM        RegisterDate  \\\n",
       "0  60a7d0011363ea0011d0eb80      192260    601 2021-06-10 21:23:31   \n",
       "1  60c77e1ffdaebd001875353e      192853   1798 2021-06-14 16:13:56   \n",
       "2  588f45ae0a760bb65b380afa       11897   1621 2017-09-14 12:08:06   \n",
       "3  5915d73623d4b1881694e11e       12583  78643 2017-09-25 15:44:40   \n",
       "4  591f5f3b3daa47c6488bce3f        5564    422 2017-05-22 18:38:05   \n",
       "\n",
       "   AmountFirstDeposit  TotalDeposits  TotalWithdrawals  MonthlyIncome  \\\n",
       "0          100.013269              5                 0            250   \n",
       "1          300.048411              2                 0           8000   \n",
       "2         2500.000000             13                 2           4500   \n",
       "3         2005.000000             37                 7          18000   \n",
       "4         2000.000000             23                 7           2000   \n",
       "\n",
       "   FinancialInvestmentsValue  Age  ComputedRiskTolerance  \n",
       "0                     3000.0   14                  22.22  \n",
       "1                   180000.0   35                  77.78  \n",
       "2                        0.0   32                  17.00  \n",
       "3                   120000.0   34                  69.17  \n",
       "4                    45000.0   29                   0.00  "
      ]
     },
     "execution_count": 829,
     "metadata": {},
     "output_type": "execute_result"
    }
   ],
   "source": [
    "#Tabela Customers\n",
    "df_customers.head()"
   ]
  },
  {
   "cell_type": "markdown",
   "id": "7a996ef9",
   "metadata": {},
   "source": [
    "### Idade"
   ]
  },
  {
   "cell_type": "code",
   "execution_count": 689,
   "id": "bad51c2d",
   "metadata": {
    "ExecuteTime": {
     "end_time": "2021-09-06T21:54:02.245678Z",
     "start_time": "2021-09-06T21:54:02.237716Z"
    }
   },
   "outputs": [
    {
     "data": {
      "text/plain": [
       "30    67\n",
       "25    56\n",
       "33    55\n",
       "29    49\n",
       "28    49\n",
       "      ..\n",
       "69     1\n",
       "17     1\n",
       "6      1\n",
       "15     1\n",
       "90     1\n",
       "Name: Age, Length: 65, dtype: int64"
      ]
     },
     "execution_count": 689,
     "metadata": {},
     "output_type": "execute_result"
    }
   ],
   "source": [
    "df_customers['Age'].value_counts()"
   ]
  },
  {
   "cell_type": "code",
   "execution_count": 690,
   "id": "107e3d01",
   "metadata": {
    "ExecuteTime": {
     "end_time": "2021-09-06T21:54:07.992324Z",
     "start_time": "2021-09-06T21:54:07.679780Z"
    }
   },
   "outputs": [
    {
     "data": {
      "image/png": "[encoded data removed]",
      "text/plain": [
       "<Figure size 720x360 with 1 Axes>"
      ]
     },
     "metadata": {},
     "output_type": "display_data"
    }
   ],
   "source": [
    "# Criando o ambiente do gráfico \n",
    "sns.set_style(\"white\")\n",
    "plt.figure(figsize=(10, 5))\n",
    "\n",
    "# Gráfico de Dispersão\n",
    "g = sns.scatterplot(x=\"MonthlyIncome\", y=\"Age\", \n",
    "                    data=df_customers)\n",
    "plt.show()"
   ]
  },
  {
   "cell_type": "code",
   "execution_count": 751,
   "id": "602b7d6b",
   "metadata": {
    "ExecuteTime": {
     "end_time": "2021-09-06T23:03:59.249578Z",
     "start_time": "2021-09-06T23:03:58.932207Z"
    }
   },
   "outputs": [
    {
     "data": {
      "text/plain": [
       "<AxesSubplot:title={'center':'Idades'}, ylabel='Frequency'>"
      ]
     },
     "execution_count": 751,
     "metadata": {},
     "output_type": "execute_result"
    },
    {
     "data": {
      "image/png": "[encoded data removed]",
      "text/plain": [
       "<Figure size 1080x360 with 1 Axes>"
      ]
     },
     "metadata": {},
     "output_type": "display_data"
    }
   ],
   "source": [
    "df_customers[['Age']].plot.hist(bins = 20, title = 'Idades')"
   ]
  },
  {
   "cell_type": "markdown",
   "id": "eb0f031a",
   "metadata": {
    "ExecuteTime": {
     "end_time": "2021-09-06T22:08:12.019400Z",
     "start_time": "2021-09-06T22:08:12.000407Z"
    }
   },
   "source": [
    "#### Existem registros de pessoas com idade menor do que 18 anos. Optou-se por dropar entendendo que estes dados podem ser considerador outliers uma vez que para ser um investidor no Brasil, a idade mínima é de 18 anos"
   ]
  },
  {
   "cell_type": "code",
   "execution_count": 775,
   "id": "e1ef6182",
   "metadata": {
    "ExecuteTime": {
     "end_time": "2021-09-06T23:14:23.227010Z",
     "start_time": "2021-09-06T23:14:23.217882Z"
    }
   },
   "outputs": [],
   "source": [
    "#Dropando registros de idade menor que 18 anos\n",
    "df_profile = df_customers[df_customers['Age'] > 18]"
   ]
  },
  {
   "cell_type": "code",
   "execution_count": 777,
   "id": "c82d7d78",
   "metadata": {
    "ExecuteTime": {
     "end_time": "2021-09-06T23:14:42.611694Z",
     "start_time": "2021-09-06T23:14:42.266730Z"
    }
   },
   "outputs": [
    {
     "data": {
      "text/plain": [
       "<AxesSubplot:title={'center':'Idades'}, ylabel='Frequency'>"
      ]
     },
     "execution_count": 777,
     "metadata": {},
     "output_type": "execute_result"
    },
    {
     "data": {
      "image/png": "[encoded data removed]",
      "text/plain": [
       "<Figure size 1080x360 with 1 Axes>"
      ]
     },
     "metadata": {},
     "output_type": "display_data"
    }
   ],
   "source": [
    "df_profile[['Age']].plot.hist(bins = 20, title = 'Idades')"
   ]
  },
  {
   "cell_type": "markdown",
   "id": "98252536",
   "metadata": {},
   "source": [
    "## Renda Mensal"
   ]
  },
  {
   "cell_type": "code",
   "execution_count": 778,
   "id": "b527d16f",
   "metadata": {
    "ExecuteTime": {
     "end_time": "2021-09-06T23:14:47.884753Z",
     "start_time": "2021-09-06T23:14:47.865752Z"
    }
   },
   "outputs": [
    {
     "data": {
      "text/html": [
       "<div>\n",
       "<style scoped>\n",
       "    .dataframe tbody tr th:only-of-type {\n",
       "        vertical-align: middle;\n",
       "    }\n",
       "\n",
       "    .dataframe tbody tr th {\n",
       "        vertical-align: top;\n",
       "    }\n",
       "\n",
       "    .dataframe thead th {\n",
       "        text-align: right;\n",
       "    }\n",
       "</style>\n",
       "<table border=\"1\" class=\"dataframe\">\n",
       "  <thead>\n",
       "    <tr style=\"text-align: right;\">\n",
       "      <th></th>\n",
       "      <th>CustomerApiid</th>\n",
       "      <th>CustomerId</th>\n",
       "      <th>AUM</th>\n",
       "      <th>RegisterDate</th>\n",
       "      <th>AmountFirstDeposit</th>\n",
       "      <th>TotalDeposits</th>\n",
       "      <th>TotalWithdrawals</th>\n",
       "      <th>MonthlyIncome</th>\n",
       "      <th>FinancialInvestmentsValue</th>\n",
       "      <th>Age</th>\n",
       "      <th>ComputedRiskTolerance</th>\n",
       "    </tr>\n",
       "  </thead>\n",
       "  <tbody>\n",
       "    <tr>\n",
       "      <th>1</th>\n",
       "      <td>60c77e1ffdaebd001875353e</td>\n",
       "      <td>192853</td>\n",
       "      <td>1798</td>\n",
       "      <td>2021-06-14 16:13:56</td>\n",
       "      <td>300.048411</td>\n",
       "      <td>2</td>\n",
       "      <td>0</td>\n",
       "      <td>8000</td>\n",
       "      <td>180000.0</td>\n",
       "      <td>35</td>\n",
       "      <td>77.78</td>\n",
       "    </tr>\n",
       "    <tr>\n",
       "      <th>2</th>\n",
       "      <td>588f45ae0a760bb65b380afa</td>\n",
       "      <td>11897</td>\n",
       "      <td>1621</td>\n",
       "      <td>2017-09-14 12:08:06</td>\n",
       "      <td>2500.000000</td>\n",
       "      <td>13</td>\n",
       "      <td>2</td>\n",
       "      <td>4500</td>\n",
       "      <td>0.0</td>\n",
       "      <td>32</td>\n",
       "      <td>17.00</td>\n",
       "    </tr>\n",
       "    <tr>\n",
       "      <th>3</th>\n",
       "      <td>5915d73623d4b1881694e11e</td>\n",
       "      <td>12583</td>\n",
       "      <td>78643</td>\n",
       "      <td>2017-09-25 15:44:40</td>\n",
       "      <td>2005.000000</td>\n",
       "      <td>37</td>\n",
       "      <td>7</td>\n",
       "      <td>18000</td>\n",
       "      <td>120000.0</td>\n",
       "      <td>34</td>\n",
       "      <td>69.17</td>\n",
       "    </tr>\n",
       "    <tr>\n",
       "      <th>4</th>\n",
       "      <td>591f5f3b3daa47c6488bce3f</td>\n",
       "      <td>5564</td>\n",
       "      <td>422</td>\n",
       "      <td>2017-05-22 18:38:05</td>\n",
       "      <td>2000.000000</td>\n",
       "      <td>23</td>\n",
       "      <td>7</td>\n",
       "      <td>2000</td>\n",
       "      <td>45000.0</td>\n",
       "      <td>29</td>\n",
       "      <td>0.00</td>\n",
       "    </tr>\n",
       "    <tr>\n",
       "      <th>5</th>\n",
       "      <td>5966a3dc3d3c271d31a9e17f</td>\n",
       "      <td>7597</td>\n",
       "      <td>1703</td>\n",
       "      <td>2017-07-13 15:11:03</td>\n",
       "      <td>1000.000000</td>\n",
       "      <td>52</td>\n",
       "      <td>30</td>\n",
       "      <td>8800</td>\n",
       "      <td>0.0</td>\n",
       "      <td>31</td>\n",
       "      <td>15.50</td>\n",
       "    </tr>\n",
       "  </tbody>\n",
       "</table>\n",
       "</div>"
      ],
      "text/plain": [
       "              CustomerApiid  CustomerId    AUM        RegisterDate  \\\n",
       "1  60c77e1ffdaebd001875353e      192853   1798 2021-06-14 16:13:56   \n",
       "2  588f45ae0a760bb65b380afa       11897   1621 2017-09-14 12:08:06   \n",
       "3  5915d73623d4b1881694e11e       12583  78643 2017-09-25 15:44:40   \n",
       "4  591f5f3b3daa47c6488bce3f        5564    422 2017-05-22 18:38:05   \n",
       "5  5966a3dc3d3c271d31a9e17f        7597   1703 2017-07-13 15:11:03   \n",
       "\n",
       "   AmountFirstDeposit  TotalDeposits  TotalWithdrawals  MonthlyIncome  \\\n",
       "1          300.048411              2                 0           8000   \n",
       "2         2500.000000             13                 2           4500   \n",
       "3         2005.000000             37                 7          18000   \n",
       "4         2000.000000             23                 7           2000   \n",
       "5         1000.000000             52                30           8800   \n",
       "\n",
       "   FinancialInvestmentsValue  Age  ComputedRiskTolerance  \n",
       "1                   180000.0   35                  77.78  \n",
       "2                        0.0   32                  17.00  \n",
       "3                   120000.0   34                  69.17  \n",
       "4                    45000.0   29                   0.00  \n",
       "5                        0.0   31                  15.50  "
      ]
     },
     "execution_count": 778,
     "metadata": {},
     "output_type": "execute_result"
    }
   ],
   "source": [
    "df_profile.head()"
   ]
  },
  {
   "cell_type": "code",
   "execution_count": 779,
   "id": "d32e03a0",
   "metadata": {
    "ExecuteTime": {
     "end_time": "2021-09-06T23:14:50.231112Z",
     "start_time": "2021-09-06T23:14:50.223108Z"
    }
   },
   "outputs": [
    {
     "data": {
      "text/plain": [
       "5000     66\n",
       "10000    52\n",
       "3000     51\n",
       "2000     44\n",
       "4000     42\n",
       "         ..\n",
       "26000     1\n",
       "360       1\n",
       "2401      1\n",
       "1520      1\n",
       "17400     1\n",
       "Name: MonthlyIncome, Length: 191, dtype: int64"
      ]
     },
     "execution_count": 779,
     "metadata": {},
     "output_type": "execute_result"
    }
   ],
   "source": [
    "df_profile['MonthlyIncome'].value_counts()"
   ]
  },
  {
   "cell_type": "code",
   "execution_count": 780,
   "id": "a440e146",
   "metadata": {
    "ExecuteTime": {
     "end_time": "2021-09-06T23:14:52.717717Z",
     "start_time": "2021-09-06T23:14:52.387248Z"
    }
   },
   "outputs": [
    {
     "data": {
      "text/plain": [
       "<AxesSubplot:title={'center':'Renda mensal'}, ylabel='Frequency'>"
      ]
     },
     "execution_count": 780,
     "metadata": {},
     "output_type": "execute_result"
    },
    {
     "data": {
      "image/png": "[encoded data removed]",
      "text/plain": [
       "<Figure size 1080x360 with 1 Axes>"
      ]
     },
     "metadata": {},
     "output_type": "display_data"
    }
   ],
   "source": [
    "df_profile[['MonthlyIncome']].plot.hist(bins = 20, title = 'Renda mensal')"
   ]
  },
  {
   "cell_type": "code",
   "execution_count": 781,
   "id": "397a8d3f",
   "metadata": {
    "ExecuteTime": {
     "end_time": "2021-09-06T23:14:56.614734Z",
     "start_time": "2021-09-06T23:14:56.279732Z"
    }
   },
   "outputs": [
    {
     "data": {
      "text/plain": [
       "<AxesSubplot:ylabel='Frequency'>"
      ]
     },
     "execution_count": 781,
     "metadata": {},
     "output_type": "execute_result"
    },
    {
     "data": {
      "image/png": "[encoded data removed]",
      "text/plain": [
       "<Figure size 1080x360 with 1 Axes>"
      ]
     },
     "metadata": {},
     "output_type": "display_data"
    }
   ],
   "source": [
    "#Filtro por renda mensal maior que 0 e menor que R$ 50.000\n",
    "df_profile[(df_profile['MonthlyIncome'] > 0) & (df_profile['MonthlyIncome'] <= 50000)]['MonthlyIncome'].plot(kind='hist', bins=50)"
   ]
  },
  {
   "cell_type": "markdown",
   "id": "d35a4038",
   "metadata": {},
   "source": [
    "#### Pessoas com renda mensal até 50 mil reais investem no Warren. Contudo, há uma incidência menor para perfis com salários acima de 20 mil reais"
   ]
  },
  {
   "cell_type": "code",
   "execution_count": 791,
   "id": "bf238b97",
   "metadata": {
    "ExecuteTime": {
     "end_time": "2021-09-06T23:21:15.162584Z",
     "start_time": "2021-09-06T23:21:15.148544Z"
    }
   },
   "outputs": [],
   "source": [
    "#Limpeza da base removendo os outliers para feature de renda mensal\n",
    "df_profile = df_customers[(df_customers['MonthlyIncome'] > 0) & (df_customers['MonthlyIncome'] <= 50000)]"
   ]
  },
  {
   "cell_type": "markdown",
   "id": "56e4eba9",
   "metadata": {},
   "source": [
    "## Valor declarado que o cliente tem investido"
   ]
  },
  {
   "cell_type": "code",
   "execution_count": 799,
   "id": "5a97dade",
   "metadata": {
    "ExecuteTime": {
     "end_time": "2021-09-06T23:25:21.760418Z",
     "start_time": "2021-09-06T23:25:21.438374Z"
    }
   },
   "outputs": [
    {
     "data": {
      "text/plain": [
       "<AxesSubplot:title={'center':'Valor Investido'}, ylabel='Frequency'>"
      ]
     },
     "execution_count": 799,
     "metadata": {},
     "output_type": "execute_result"
    },
    {
     "data": {
      "image/png": "[encoded data removed]",
      "text/plain": [
       "<Figure size 1080x360 with 1 Axes>"
      ]
     },
     "metadata": {},
     "output_type": "display_data"
    }
   ],
   "source": [
    "df_profile[['FinancialInvestmentsValue']].plot.hist(bins = 20, title = 'Valor Investido')"
   ]
  },
  {
   "cell_type": "code",
   "execution_count": 797,
   "id": "a143a9a0",
   "metadata": {
    "ExecuteTime": {
     "end_time": "2021-09-06T23:24:56.602965Z",
     "start_time": "2021-09-06T23:24:56.587968Z"
    }
   },
   "outputs": [],
   "source": [
    "df_profile = df_customers[df_customers['FinancialInvestmentsValue'] > 0]"
   ]
  },
  {
   "cell_type": "code",
   "execution_count": 813,
   "id": "54c4b65e",
   "metadata": {
    "ExecuteTime": {
     "end_time": "2021-09-06T23:28:41.307714Z",
     "start_time": "2021-09-06T23:28:40.955182Z"
    }
   },
   "outputs": [
    {
     "data": {
      "text/plain": [
       "<AxesSubplot:ylabel='Frequency'>"
      ]
     },
     "execution_count": 813,
     "metadata": {},
     "output_type": "execute_result"
    },
    {
     "data": {
      "image/png": "[encoded data removed]",
      "text/plain": [
       "<Figure size 1080x360 with 1 Axes>"
      ]
     },
     "metadata": {},
     "output_type": "display_data"
    }
   ],
   "source": [
    "df_profile[(df_profile['FinancialInvestmentsValue'] > 0) & (df_profile['FinancialInvestmentsValue'] <= 200000)]['FinancialInvestmentsValue'].plot(kind='hist', bins=50)"
   ]
  },
  {
   "cell_type": "markdown",
   "id": "9ef1c6c4",
   "metadata": {},
   "source": [
    "##### Seguindo no perfil das pessoas investidoras, nota-se que a maioria possui menos de 25.000 reais em investimentos"
   ]
  },
  {
   "cell_type": "code",
   "execution_count": 817,
   "id": "bc887f01",
   "metadata": {
    "ExecuteTime": {
     "end_time": "2021-09-06T23:32:26.262715Z",
     "start_time": "2021-09-06T23:32:26.256677Z"
    }
   },
   "outputs": [],
   "source": [
    "#Removendo outliers para maior granularidade\n",
    "df_profile = df_profile[(df_profile['FinancialInvestmentsValue'] > 0) & (df_profile['FinancialInvestmentsValue'] <= 200000)]\n"
   ]
  },
  {
   "cell_type": "code",
   "execution_count": 818,
   "id": "4f0e0de0",
   "metadata": {
    "ExecuteTime": {
     "end_time": "2021-09-06T23:32:28.547795Z",
     "start_time": "2021-09-06T23:32:28.146489Z"
    }
   },
   "outputs": [
    {
     "data": {
      "text/plain": [
       "<AxesSubplot:title={'center':'Valor Investido'}, ylabel='Frequency'>"
      ]
     },
     "execution_count": 818,
     "metadata": {},
     "output_type": "execute_result"
    },
    {
     "data": {
      "image/png": "[encoded data removed]",
      "text/plain": [
       "<Figure size 1080x360 with 1 Axes>"
      ]
     },
     "metadata": {},
     "output_type": "display_data"
    }
   ],
   "source": [
    "df_profile[['FinancialInvestmentsValue']].plot.hist(bins = 50, title = 'Valor Investido')"
   ]
  },
  {
   "cell_type": "markdown",
   "id": "6efbcf68",
   "metadata": {},
   "source": [
    "___"
   ]
  },
  {
   "cell_type": "code",
   "execution_count": 862,
   "id": "24341e68",
   "metadata": {
    "ExecuteTime": {
     "end_time": "2021-09-07T01:04:57.595132Z",
     "start_time": "2021-09-07T01:04:57.562130Z"
    }
   },
   "outputs": [
    {
     "data": {
      "text/html": [
       "<div>\n",
       "<style scoped>\n",
       "    .dataframe tbody tr th:only-of-type {\n",
       "        vertical-align: middle;\n",
       "    }\n",
       "\n",
       "    .dataframe tbody tr th {\n",
       "        vertical-align: top;\n",
       "    }\n",
       "\n",
       "    .dataframe thead th {\n",
       "        text-align: right;\n",
       "    }\n",
       "</style>\n",
       "<table border=\"1\" class=\"dataframe\">\n",
       "  <thead>\n",
       "    <tr style=\"text-align: right;\">\n",
       "      <th></th>\n",
       "      <th>CustomerApiid</th>\n",
       "      <th>CustomerId</th>\n",
       "      <th>AUM</th>\n",
       "      <th>RegisterDate</th>\n",
       "      <th>AmountFirstDeposit</th>\n",
       "      <th>TotalDeposits</th>\n",
       "      <th>TotalWithdrawals</th>\n",
       "      <th>MonthlyIncome</th>\n",
       "      <th>FinancialInvestmentsValue</th>\n",
       "      <th>Age</th>\n",
       "      <th>ComputedRiskTolerance</th>\n",
       "      <th>Id</th>\n",
       "      <th>Direction</th>\n",
       "      <th>Amount</th>\n",
       "      <th>OperatedAt</th>\n",
       "      <th>Month</th>\n",
       "      <th>Year</th>\n",
       "    </tr>\n",
       "  </thead>\n",
       "  <tbody>\n",
       "    <tr>\n",
       "      <th>0</th>\n",
       "      <td>5f562b1a8a70670017ab6457</td>\n",
       "      <td>147955</td>\n",
       "      <td>10841</td>\n",
       "      <td>2020-09-07 12:55:00</td>\n",
       "      <td>200.0</td>\n",
       "      <td>14</td>\n",
       "      <td>0</td>\n",
       "      <td>5236</td>\n",
       "      <td>100.0</td>\n",
       "      <td>32</td>\n",
       "      <td>17.50</td>\n",
       "      <td>1191683</td>\n",
       "      <td>10</td>\n",
       "      <td>300.0</td>\n",
       "      <td>2021-01-04 00:00:00</td>\n",
       "      <td>1</td>\n",
       "      <td>2021</td>\n",
       "    </tr>\n",
       "    <tr>\n",
       "      <th>1</th>\n",
       "      <td>5d5c0fa92ec67600101b1268</td>\n",
       "      <td>94233</td>\n",
       "      <td>15583</td>\n",
       "      <td>2019-08-20 15:27:30</td>\n",
       "      <td>100.0</td>\n",
       "      <td>33</td>\n",
       "      <td>9</td>\n",
       "      <td>0</td>\n",
       "      <td>1450.0</td>\n",
       "      <td>25</td>\n",
       "      <td>15.00</td>\n",
       "      <td>1199156</td>\n",
       "      <td>10</td>\n",
       "      <td>500.0</td>\n",
       "      <td>2021-01-04 00:00:00</td>\n",
       "      <td>1</td>\n",
       "      <td>2021</td>\n",
       "    </tr>\n",
       "    <tr>\n",
       "      <th>2</th>\n",
       "      <td>5d5c0fa92ec67600101b1268</td>\n",
       "      <td>94233</td>\n",
       "      <td>15583</td>\n",
       "      <td>2019-08-20 15:27:30</td>\n",
       "      <td>100.0</td>\n",
       "      <td>33</td>\n",
       "      <td>9</td>\n",
       "      <td>0</td>\n",
       "      <td>1450.0</td>\n",
       "      <td>25</td>\n",
       "      <td>15.00</td>\n",
       "      <td>1199147</td>\n",
       "      <td>10</td>\n",
       "      <td>500.0</td>\n",
       "      <td>2021-01-04 00:00:00</td>\n",
       "      <td>1</td>\n",
       "      <td>2021</td>\n",
       "    </tr>\n",
       "    <tr>\n",
       "      <th>3</th>\n",
       "      <td>5f46553c3c2f2b001775afa9</td>\n",
       "      <td>146423</td>\n",
       "      <td>21255</td>\n",
       "      <td>2020-08-26 13:24:54</td>\n",
       "      <td>5000.0</td>\n",
       "      <td>23</td>\n",
       "      <td>0</td>\n",
       "      <td>5000</td>\n",
       "      <td>25000.0</td>\n",
       "      <td>39</td>\n",
       "      <td>24.00</td>\n",
       "      <td>1198284</td>\n",
       "      <td>10</td>\n",
       "      <td>600.0</td>\n",
       "      <td>2021-01-04 00:00:00</td>\n",
       "      <td>1</td>\n",
       "      <td>2021</td>\n",
       "    </tr>\n",
       "    <tr>\n",
       "      <th>4</th>\n",
       "      <td>5e0e26482e23270010d3a197</td>\n",
       "      <td>158679</td>\n",
       "      <td>0</td>\n",
       "      <td>2020-12-09 19:01:29</td>\n",
       "      <td>1000.0</td>\n",
       "      <td>64</td>\n",
       "      <td>16</td>\n",
       "      <td>15000000</td>\n",
       "      <td>70000.0</td>\n",
       "      <td>32</td>\n",
       "      <td>71.97</td>\n",
       "      <td>1162716</td>\n",
       "      <td>10</td>\n",
       "      <td>109.0</td>\n",
       "      <td>2021-01-15 16:36:32</td>\n",
       "      <td>1</td>\n",
       "      <td>2021</td>\n",
       "    </tr>\n",
       "  </tbody>\n",
       "</table>\n",
       "</div>"
      ],
      "text/plain": [
       "              CustomerApiid  CustomerId    AUM        RegisterDate  \\\n",
       "0  5f562b1a8a70670017ab6457      147955  10841 2020-09-07 12:55:00   \n",
       "1  5d5c0fa92ec67600101b1268       94233  15583 2019-08-20 15:27:30   \n",
       "2  5d5c0fa92ec67600101b1268       94233  15583 2019-08-20 15:27:30   \n",
       "3  5f46553c3c2f2b001775afa9      146423  21255 2020-08-26 13:24:54   \n",
       "4  5e0e26482e23270010d3a197      158679      0 2020-12-09 19:01:29   \n",
       "\n",
       "   AmountFirstDeposit  TotalDeposits  TotalWithdrawals  MonthlyIncome  \\\n",
       "0               200.0             14                 0           5236   \n",
       "1               100.0             33                 9              0   \n",
       "2               100.0             33                 9              0   \n",
       "3              5000.0             23                 0           5000   \n",
       "4              1000.0             64                16       15000000   \n",
       "\n",
       "   FinancialInvestmentsValue  Age  ComputedRiskTolerance       Id  Direction  \\\n",
       "0                      100.0   32                  17.50  1191683         10   \n",
       "1                     1450.0   25                  15.00  1199156         10   \n",
       "2                     1450.0   25                  15.00  1199147         10   \n",
       "3                    25000.0   39                  24.00  1198284         10   \n",
       "4                    70000.0   32                  71.97  1162716         10   \n",
       "\n",
       "   Amount          OperatedAt  Month  Year  \n",
       "0   300.0 2021-01-04 00:00:00      1  2021  \n",
       "1   500.0 2021-01-04 00:00:00      1  2021  \n",
       "2   500.0 2021-01-04 00:00:00      1  2021  \n",
       "3   600.0 2021-01-04 00:00:00      1  2021  \n",
       "4   109.0 2021-01-15 16:36:32      1  2021  "
      ]
     },
     "execution_count": 862,
     "metadata": {},
     "output_type": "execute_result"
    }
   ],
   "source": [
    "# Unindo os dataframes para enriquecer a base\n",
    "df_client = pd.merge(left = df_profile, right = df_transactions, left_on='CustomerId', right_on = 'CustomerId')\n",
    "\n",
    "df_client.reset_index().set_index('index')\n",
    "df_client.head()"
   ]
  },
  {
   "cell_type": "code",
   "execution_count": 863,
   "id": "a9df4e25",
   "metadata": {
    "ExecuteTime": {
     "end_time": "2021-09-07T01:04:59.404586Z",
     "start_time": "2021-09-07T01:04:59.385661Z"
    }
   },
   "outputs": [
    {
     "name": "stdout",
     "output_type": "stream",
     "text": [
      "<class 'pandas.core.frame.DataFrame'>\n",
      "Int64Index: 13 entries, 0 to 12\n",
      "Data columns (total 17 columns):\n",
      " #   Column                     Non-Null Count  Dtype         \n",
      "---  ------                     --------------  -----         \n",
      " 0   CustomerApiid              13 non-null     object        \n",
      " 1   CustomerId                 13 non-null     int64         \n",
      " 2   AUM                        13 non-null     int32         \n",
      " 3   RegisterDate               13 non-null     datetime64[ns]\n",
      " 4   AmountFirstDeposit         13 non-null     float64       \n",
      " 5   TotalDeposits              13 non-null     int64         \n",
      " 6   TotalWithdrawals           13 non-null     int64         \n",
      " 7   MonthlyIncome              13 non-null     int32         \n",
      " 8   FinancialInvestmentsValue  13 non-null     float64       \n",
      " 9   Age                        13 non-null     int64         \n",
      " 10  ComputedRiskTolerance      13 non-null     float64       \n",
      " 11  Id                         13 non-null     int64         \n",
      " 12  Direction                  13 non-null     int64         \n",
      " 13  Amount                     13 non-null     float64       \n",
      " 14  OperatedAt                 13 non-null     datetime64[ns]\n",
      " 15  Month                      13 non-null     int64         \n",
      " 16  Year                       13 non-null     int64         \n",
      "dtypes: datetime64[ns](2), float64(4), int32(2), int64(8), object(1)\n",
      "memory usage: 1.7+ KB\n"
     ]
    }
   ],
   "source": [
    "df_client.info()"
   ]
  },
  {
   "cell_type": "code",
   "execution_count": null,
   "id": "8b468afe",
   "metadata": {},
   "outputs": [],
   "source": [
    "#gráfico de dispersão\n",
    "sns.pairplot(data = df_profile, vars=['Age','MonthlyIncome','FinancialInvestmentsValue'])\n",
    "plt.show()"
   ]
  },
  {
   "cell_type": "markdown",
   "id": "d969b350",
   "metadata": {},
   "source": [
    "### Cálculo de correlação"
   ]
  },
  {
   "cell_type": "code",
   "execution_count": 826,
   "id": "2dbf1d46",
   "metadata": {
    "ExecuteTime": {
     "end_time": "2021-09-06T23:53:17.958269Z",
     "start_time": "2021-09-06T23:53:17.924591Z"
    }
   },
   "outputs": [
    {
     "data": {
      "text/html": [
       "<div>\n",
       "<style scoped>\n",
       "    .dataframe tbody tr th:only-of-type {\n",
       "        vertical-align: middle;\n",
       "    }\n",
       "\n",
       "    .dataframe tbody tr th {\n",
       "        vertical-align: top;\n",
       "    }\n",
       "\n",
       "    .dataframe thead th {\n",
       "        text-align: right;\n",
       "    }\n",
       "</style>\n",
       "<table border=\"1\" class=\"dataframe\">\n",
       "  <thead>\n",
       "    <tr style=\"text-align: right;\">\n",
       "      <th></th>\n",
       "      <th>CustomerId</th>\n",
       "      <th>AUM</th>\n",
       "      <th>AmountFirstDeposit</th>\n",
       "      <th>TotalDeposits</th>\n",
       "      <th>TotalWithdrawals</th>\n",
       "      <th>MonthlyIncome</th>\n",
       "      <th>FinancialInvestmentsValue</th>\n",
       "      <th>Age</th>\n",
       "      <th>ComputedRiskTolerance</th>\n",
       "    </tr>\n",
       "  </thead>\n",
       "  <tbody>\n",
       "    <tr>\n",
       "      <th>CustomerId</th>\n",
       "      <td>1.000</td>\n",
       "      <td>-0.085</td>\n",
       "      <td>0.044</td>\n",
       "      <td>-0.539</td>\n",
       "      <td>-0.341</td>\n",
       "      <td>0.023</td>\n",
       "      <td>-0.050</td>\n",
       "      <td>0.068</td>\n",
       "      <td>0.183</td>\n",
       "    </tr>\n",
       "    <tr>\n",
       "      <th>AUM</th>\n",
       "      <td>-0.085</td>\n",
       "      <td>1.000</td>\n",
       "      <td>0.804</td>\n",
       "      <td>0.371</td>\n",
       "      <td>0.156</td>\n",
       "      <td>-0.012</td>\n",
       "      <td>0.305</td>\n",
       "      <td>0.214</td>\n",
       "      <td>0.041</td>\n",
       "    </tr>\n",
       "    <tr>\n",
       "      <th>AmountFirstDeposit</th>\n",
       "      <td>0.044</td>\n",
       "      <td>0.804</td>\n",
       "      <td>1.000</td>\n",
       "      <td>0.169</td>\n",
       "      <td>0.060</td>\n",
       "      <td>-0.007</td>\n",
       "      <td>0.186</td>\n",
       "      <td>0.237</td>\n",
       "      <td>0.022</td>\n",
       "    </tr>\n",
       "    <tr>\n",
       "      <th>TotalDeposits</th>\n",
       "      <td>-0.539</td>\n",
       "      <td>0.371</td>\n",
       "      <td>0.169</td>\n",
       "      <td>1.000</td>\n",
       "      <td>0.453</td>\n",
       "      <td>0.094</td>\n",
       "      <td>0.178</td>\n",
       "      <td>0.008</td>\n",
       "      <td>0.004</td>\n",
       "    </tr>\n",
       "    <tr>\n",
       "      <th>TotalWithdrawals</th>\n",
       "      <td>-0.341</td>\n",
       "      <td>0.156</td>\n",
       "      <td>0.060</td>\n",
       "      <td>0.453</td>\n",
       "      <td>1.000</td>\n",
       "      <td>0.100</td>\n",
       "      <td>0.011</td>\n",
       "      <td>-0.033</td>\n",
       "      <td>-0.103</td>\n",
       "    </tr>\n",
       "    <tr>\n",
       "      <th>MonthlyIncome</th>\n",
       "      <td>0.023</td>\n",
       "      <td>-0.012</td>\n",
       "      <td>-0.007</td>\n",
       "      <td>0.094</td>\n",
       "      <td>0.100</td>\n",
       "      <td>1.000</td>\n",
       "      <td>0.040</td>\n",
       "      <td>0.020</td>\n",
       "      <td>0.120</td>\n",
       "    </tr>\n",
       "    <tr>\n",
       "      <th>FinancialInvestmentsValue</th>\n",
       "      <td>-0.050</td>\n",
       "      <td>0.305</td>\n",
       "      <td>0.186</td>\n",
       "      <td>0.178</td>\n",
       "      <td>0.011</td>\n",
       "      <td>0.040</td>\n",
       "      <td>1.000</td>\n",
       "      <td>0.303</td>\n",
       "      <td>0.245</td>\n",
       "    </tr>\n",
       "    <tr>\n",
       "      <th>Age</th>\n",
       "      <td>0.068</td>\n",
       "      <td>0.214</td>\n",
       "      <td>0.237</td>\n",
       "      <td>0.008</td>\n",
       "      <td>-0.033</td>\n",
       "      <td>0.020</td>\n",
       "      <td>0.303</td>\n",
       "      <td>1.000</td>\n",
       "      <td>0.035</td>\n",
       "    </tr>\n",
       "    <tr>\n",
       "      <th>ComputedRiskTolerance</th>\n",
       "      <td>0.183</td>\n",
       "      <td>0.041</td>\n",
       "      <td>0.022</td>\n",
       "      <td>0.004</td>\n",
       "      <td>-0.103</td>\n",
       "      <td>0.120</td>\n",
       "      <td>0.245</td>\n",
       "      <td>0.035</td>\n",
       "      <td>1.000</td>\n",
       "    </tr>\n",
       "  </tbody>\n",
       "</table>\n",
       "</div>"
      ],
      "text/plain": [
       "                           CustomerId    AUM  AmountFirstDeposit  \\\n",
       "CustomerId                      1.000 -0.085               0.044   \n",
       "AUM                            -0.085  1.000               0.804   \n",
       "AmountFirstDeposit              0.044  0.804               1.000   \n",
       "TotalDeposits                  -0.539  0.371               0.169   \n",
       "TotalWithdrawals               -0.341  0.156               0.060   \n",
       "MonthlyIncome                   0.023 -0.012              -0.007   \n",
       "FinancialInvestmentsValue      -0.050  0.305               0.186   \n",
       "Age                             0.068  0.214               0.237   \n",
       "ComputedRiskTolerance           0.183  0.041               0.022   \n",
       "\n",
       "                           TotalDeposits  TotalWithdrawals  MonthlyIncome  \\\n",
       "CustomerId                        -0.539            -0.341          0.023   \n",
       "AUM                                0.371             0.156         -0.012   \n",
       "AmountFirstDeposit                 0.169             0.060         -0.007   \n",
       "TotalDeposits                      1.000             0.453          0.094   \n",
       "TotalWithdrawals                   0.453             1.000          0.100   \n",
       "MonthlyIncome                      0.094             0.100          1.000   \n",
       "FinancialInvestmentsValue          0.178             0.011          0.040   \n",
       "Age                                0.008            -0.033          0.020   \n",
       "ComputedRiskTolerance              0.004            -0.103          0.120   \n",
       "\n",
       "                           FinancialInvestmentsValue    Age  \\\n",
       "CustomerId                                    -0.050  0.068   \n",
       "AUM                                            0.305  0.214   \n",
       "AmountFirstDeposit                             0.186  0.237   \n",
       "TotalDeposits                                  0.178  0.008   \n",
       "TotalWithdrawals                               0.011 -0.033   \n",
       "MonthlyIncome                                  0.040  0.020   \n",
       "FinancialInvestmentsValue                      1.000  0.303   \n",
       "Age                                            0.303  1.000   \n",
       "ComputedRiskTolerance                          0.245  0.035   \n",
       "\n",
       "                           ComputedRiskTolerance  \n",
       "CustomerId                                 0.183  \n",
       "AUM                                        0.041  \n",
       "AmountFirstDeposit                         0.022  \n",
       "TotalDeposits                              0.004  \n",
       "TotalWithdrawals                          -0.103  \n",
       "MonthlyIncome                              0.120  \n",
       "FinancialInvestmentsValue                  0.245  \n",
       "Age                                        0.035  \n",
       "ComputedRiskTolerance                      1.000  "
      ]
     },
     "execution_count": 826,
     "metadata": {},
     "output_type": "execute_result"
    }
   ],
   "source": [
    "round(df_profile.corr(), 3)"
   ]
  },
  {
   "cell_type": "code",
   "execution_count": 827,
   "id": "0e76d518",
   "metadata": {
    "ExecuteTime": {
     "end_time": "2021-09-06T23:53:25.731178Z",
     "start_time": "2021-09-06T23:53:24.737515Z"
    }
   },
   "outputs": [
    {
     "data": {
      "text/plain": [
       "<AxesSubplot:>"
      ]
     },
     "execution_count": 827,
     "metadata": {},
     "output_type": "execute_result"
    },
    {
     "data": {
      "image/png": "[encoded data removed]",
      "text/plain": [
       "<Figure size 576x576 with 2 Axes>"
      ]
     },
     "metadata": {},
     "output_type": "display_data"
    }
   ],
   "source": [
    "plt.figure(figsize=(8,8))\n",
    "sns.heatmap(df_profile.corr(), annot=True, square=True)\n",
    "\n",
    "#annot traz os números - annotation\n",
    "#square=True torna o gráfico quadrado\n"
   ]
  },
  {
   "cell_type": "code",
   "execution_count": 724,
   "id": "7802fa57",
   "metadata": {
    "ExecuteTime": {
     "end_time": "2021-09-06T22:16:39.284444Z",
     "start_time": "2021-09-06T22:16:39.265402Z"
    }
   },
   "outputs": [
    {
     "data": {
      "text/plain": [
       "\"df_profile.sort_values(by=['Age'], inplace=True, ascending=True)\\ndf_profile.reset_index(inplace=True)\\ndf_profile.head()\""
      ]
     },
     "execution_count": 724,
     "metadata": {},
     "output_type": "execute_result"
    }
   ],
   "source": [
    "'''df_profile.sort_values(by=['Age'], inplace=True, ascending=True)\n",
    "df_profile.reset_index(inplace=True)\n",
    "df_profile.head()'''"
   ]
  },
  {
   "cell_type": "code",
   "execution_count": 897,
   "id": "bf6f857d",
   "metadata": {
    "ExecuteTime": {
     "end_time": "2021-09-07T01:34:56.856561Z",
     "start_time": "2021-09-07T01:34:56.847543Z"
    }
   },
   "outputs": [
    {
     "data": {
      "text/plain": [
       "'ax = sns.countplot(x=\"Age\", data=df_profile, palette=\"rocket\")\\nax.set_xticklabels(ax.get_xticklabels(), rotation=90)\\ndisplay()'"
      ]
     },
     "execution_count": 897,
     "metadata": {},
     "output_type": "execute_result"
    }
   ],
   "source": [
    "'''ax = sns.countplot(x=\"Age\", data=df_profile, palette=\"rocket\")\n",
    "ax.set_xticklabels(ax.get_xticklabels(), rotation=90)\n",
    "display()'''"
   ]
  },
  {
   "cell_type": "code",
   "execution_count": 898,
   "id": "93df451f",
   "metadata": {
    "ExecuteTime": {
     "end_time": "2021-09-07T01:35:01.277140Z",
     "start_time": "2021-09-07T01:35:01.273105Z"
    }
   },
   "outputs": [
    {
     "data": {
      "text/plain": [
       "'ax = sns.countplot(x=\"Age\", data=df_customers, palette=\"rocket\")\\nax.set_xticklabels(ax.get_xticklabels(), rotation=90)\\ndisplay()'"
      ]
     },
     "execution_count": 898,
     "metadata": {},
     "output_type": "execute_result"
    }
   ],
   "source": [
    "'''ax = sns.countplot(x=\"Age\", data=df_customers, palette=\"rocket\")\n",
    "ax.set_xticklabels(ax.get_xticklabels(), rotation=90)\n",
    "display()'''"
   ]
  },
  {
   "cell_type": "markdown",
   "id": "bda62a7a",
   "metadata": {},
   "source": [
    "___"
   ]
  },
  {
   "cell_type": "markdown",
   "id": "8cdf463f",
   "metadata": {},
   "source": [
    "# Insigts"
   ]
  },
  {
   "cell_type": "markdown",
   "id": "e9ad7459",
   "metadata": {},
   "source": [
    "- Calcular transações de entrada por mês:\n",
    "    - desmembrar coluna data criando coluna mês - ok\n",
    "    - plotar gráfico sobre entradas - ok\n",
    "\n",
    "- quais clientes saíram da plataforma? - ok\n",
    "    fazer um agrupamento mensal - ok\n",
    "    plotar gráfico de saída mensal - ok\n",
    "- pegar todos os clientes que saíram ==20 - ok\n",
    "- df de pessoas que saíram\n",
    "- calcular o valor total dos que saíram / e mensal - ok\n",
    "- análises de eventos e clientes com a base reduzida (justificar na célula)\n",
    "\n",
    "\n",
    "DUVIDAS: \n",
    "\n",
    "- como comparar as saídas com os períodos passados?\n",
    "- Qual a previsão para os próximos meses? COMO CALCULAR? FAÇO UMA REGRESSÃO?"
   ]
  },
  {
   "cell_type": "markdown",
   "id": "17f75589",
   "metadata": {},
   "source": [
    "## Como cada público impacta na arrecadação?\n",
    "- como fazer este cálculo a partir da data, quantidade de operações e valores"
   ]
  },
  {
   "cell_type": "code",
   "execution_count": 921,
   "id": "cc4ac89a",
   "metadata": {
    "ExecuteTime": {
     "end_time": "2021-09-08T02:02:26.925188Z",
     "start_time": "2021-09-08T02:02:26.875468Z"
    }
   },
   "outputs": [
    {
     "data": {
      "text/html": [
       "<div>\n",
       "<style scoped>\n",
       "    .dataframe tbody tr th:only-of-type {\n",
       "        vertical-align: middle;\n",
       "    }\n",
       "\n",
       "    .dataframe tbody tr th {\n",
       "        vertical-align: top;\n",
       "    }\n",
       "\n",
       "    .dataframe thead th {\n",
       "        text-align: right;\n",
       "    }\n",
       "</style>\n",
       "<table border=\"1\" class=\"dataframe\">\n",
       "  <thead>\n",
       "    <tr style=\"text-align: right;\">\n",
       "      <th></th>\n",
       "      <th>CustomerApiid</th>\n",
       "      <th>CustomerId</th>\n",
       "      <th>AUM</th>\n",
       "      <th>RegisterDate</th>\n",
       "      <th>AmountFirstDeposit</th>\n",
       "      <th>TotalDeposits</th>\n",
       "      <th>TotalWithdrawals</th>\n",
       "      <th>MonthlyIncome</th>\n",
       "      <th>FinancialInvestmentsValue</th>\n",
       "      <th>Age</th>\n",
       "      <th>ComputedRiskTolerance</th>\n",
       "      <th>Id</th>\n",
       "      <th>Direction</th>\n",
       "      <th>Amount</th>\n",
       "      <th>OperatedAt</th>\n",
       "      <th>Month</th>\n",
       "      <th>Year</th>\n",
       "    </tr>\n",
       "  </thead>\n",
       "  <tbody>\n",
       "    <tr>\n",
       "      <th>0</th>\n",
       "      <td>60a7d0011363ea0011d0eb80</td>\n",
       "      <td>192260</td>\n",
       "      <td>601.0</td>\n",
       "      <td>2021-06-10 21:23:31</td>\n",
       "      <td>100.013269</td>\n",
       "      <td>5.0</td>\n",
       "      <td>0.0</td>\n",
       "      <td>250.0</td>\n",
       "      <td>3000.0</td>\n",
       "      <td>14.0</td>\n",
       "      <td>22.22</td>\n",
       "      <td>NaN</td>\n",
       "      <td>NaN</td>\n",
       "      <td>NaN</td>\n",
       "      <td>NaT</td>\n",
       "      <td>NaN</td>\n",
       "      <td>NaN</td>\n",
       "    </tr>\n",
       "    <tr>\n",
       "      <th>1</th>\n",
       "      <td>60c77e1ffdaebd001875353e</td>\n",
       "      <td>192853</td>\n",
       "      <td>1798.0</td>\n",
       "      <td>2021-06-14 16:13:56</td>\n",
       "      <td>300.048411</td>\n",
       "      <td>2.0</td>\n",
       "      <td>0.0</td>\n",
       "      <td>8000.0</td>\n",
       "      <td>180000.0</td>\n",
       "      <td>35.0</td>\n",
       "      <td>77.78</td>\n",
       "      <td>NaN</td>\n",
       "      <td>NaN</td>\n",
       "      <td>NaN</td>\n",
       "      <td>NaT</td>\n",
       "      <td>NaN</td>\n",
       "      <td>NaN</td>\n",
       "    </tr>\n",
       "    <tr>\n",
       "      <th>2</th>\n",
       "      <td>588f45ae0a760bb65b380afa</td>\n",
       "      <td>11897</td>\n",
       "      <td>1621.0</td>\n",
       "      <td>2017-09-14 12:08:06</td>\n",
       "      <td>2500.000000</td>\n",
       "      <td>13.0</td>\n",
       "      <td>2.0</td>\n",
       "      <td>4500.0</td>\n",
       "      <td>0.0</td>\n",
       "      <td>32.0</td>\n",
       "      <td>17.00</td>\n",
       "      <td>NaN</td>\n",
       "      <td>NaN</td>\n",
       "      <td>NaN</td>\n",
       "      <td>NaT</td>\n",
       "      <td>NaN</td>\n",
       "      <td>NaN</td>\n",
       "    </tr>\n",
       "    <tr>\n",
       "      <th>3</th>\n",
       "      <td>5915d73623d4b1881694e11e</td>\n",
       "      <td>12583</td>\n",
       "      <td>78643.0</td>\n",
       "      <td>2017-09-25 15:44:40</td>\n",
       "      <td>2005.000000</td>\n",
       "      <td>37.0</td>\n",
       "      <td>7.0</td>\n",
       "      <td>18000.0</td>\n",
       "      <td>120000.0</td>\n",
       "      <td>34.0</td>\n",
       "      <td>69.17</td>\n",
       "      <td>NaN</td>\n",
       "      <td>NaN</td>\n",
       "      <td>NaN</td>\n",
       "      <td>NaT</td>\n",
       "      <td>NaN</td>\n",
       "      <td>NaN</td>\n",
       "    </tr>\n",
       "    <tr>\n",
       "      <th>4</th>\n",
       "      <td>591f5f3b3daa47c6488bce3f</td>\n",
       "      <td>5564</td>\n",
       "      <td>422.0</td>\n",
       "      <td>2017-05-22 18:38:05</td>\n",
       "      <td>2000.000000</td>\n",
       "      <td>23.0</td>\n",
       "      <td>7.0</td>\n",
       "      <td>2000.0</td>\n",
       "      <td>45000.0</td>\n",
       "      <td>29.0</td>\n",
       "      <td>0.00</td>\n",
       "      <td>NaN</td>\n",
       "      <td>NaN</td>\n",
       "      <td>NaN</td>\n",
       "      <td>NaT</td>\n",
       "      <td>NaN</td>\n",
       "      <td>NaN</td>\n",
       "    </tr>\n",
       "  </tbody>\n",
       "</table>\n",
       "</div>"
      ],
      "text/plain": [
       "              CustomerApiid  CustomerId      AUM        RegisterDate  \\\n",
       "0  60a7d0011363ea0011d0eb80      192260    601.0 2021-06-10 21:23:31   \n",
       "1  60c77e1ffdaebd001875353e      192853   1798.0 2021-06-14 16:13:56   \n",
       "2  588f45ae0a760bb65b380afa       11897   1621.0 2017-09-14 12:08:06   \n",
       "3  5915d73623d4b1881694e11e       12583  78643.0 2017-09-25 15:44:40   \n",
       "4  591f5f3b3daa47c6488bce3f        5564    422.0 2017-05-22 18:38:05   \n",
       "\n",
       "   AmountFirstDeposit  TotalDeposits  TotalWithdrawals  MonthlyIncome  \\\n",
       "0          100.013269            5.0               0.0          250.0   \n",
       "1          300.048411            2.0               0.0         8000.0   \n",
       "2         2500.000000           13.0               2.0         4500.0   \n",
       "3         2005.000000           37.0               7.0        18000.0   \n",
       "4         2000.000000           23.0               7.0         2000.0   \n",
       "\n",
       "   FinancialInvestmentsValue   Age  ComputedRiskTolerance  Id  Direction  \\\n",
       "0                     3000.0  14.0                  22.22 NaN        NaN   \n",
       "1                   180000.0  35.0                  77.78 NaN        NaN   \n",
       "2                        0.0  32.0                  17.00 NaN        NaN   \n",
       "3                   120000.0  34.0                  69.17 NaN        NaN   \n",
       "4                    45000.0  29.0                   0.00 NaN        NaN   \n",
       "\n",
       "   Amount OperatedAt  Month  Year  \n",
       "0     NaN        NaT    NaN   NaN  \n",
       "1     NaN        NaT    NaN   NaN  \n",
       "2     NaN        NaT    NaN   NaN  \n",
       "3     NaN        NaT    NaN   NaN  \n",
       "4     NaN        NaT    NaN   NaN  "
      ]
     },
     "execution_count": 921,
     "metadata": {},
     "output_type": "execute_result"
    }
   ],
   "source": [
    "df_client2 = pd.merge(df_customers, df_transactions, how = 'outer')\n",
    "\n",
    "df_client2.reset_index(drop=True, inplace=True)\n",
    "df_client2.head()\n"
   ]
  },
  {
   "cell_type": "code",
   "execution_count": 922,
   "id": "63129256",
   "metadata": {
    "ExecuteTime": {
     "end_time": "2021-09-08T02:02:30.552337Z",
     "start_time": "2021-09-08T02:02:30.522710Z"
    }
   },
   "outputs": [
    {
     "name": "stdout",
     "output_type": "stream",
     "text": [
      "<class 'pandas.core.frame.DataFrame'>\n",
      "RangeIndex: 1975 entries, 0 to 1974\n",
      "Data columns (total 17 columns):\n",
      " #   Column                     Non-Null Count  Dtype         \n",
      "---  ------                     --------------  -----         \n",
      " 0   CustomerApiid              1005 non-null   object        \n",
      " 1   CustomerId                 1975 non-null   int64         \n",
      " 2   AUM                        1005 non-null   float64       \n",
      " 3   RegisterDate               1005 non-null   datetime64[ns]\n",
      " 4   AmountFirstDeposit         1005 non-null   float64       \n",
      " 5   TotalDeposits              1005 non-null   float64       \n",
      " 6   TotalWithdrawals           1005 non-null   float64       \n",
      " 7   MonthlyIncome              1005 non-null   float64       \n",
      " 8   FinancialInvestmentsValue  1005 non-null   float64       \n",
      " 9   Age                        1005 non-null   float64       \n",
      " 10  ComputedRiskTolerance      1005 non-null   float64       \n",
      " 11  Id                         1000 non-null   float64       \n",
      " 12  Direction                  1000 non-null   float64       \n",
      " 13  Amount                     1000 non-null   float64       \n",
      " 14  OperatedAt                 1000 non-null   datetime64[ns]\n",
      " 15  Month                      1000 non-null   float64       \n",
      " 16  Year                       1000 non-null   float64       \n",
      "dtypes: datetime64[ns](2), float64(13), int64(1), object(1)\n",
      "memory usage: 262.4+ KB\n"
     ]
    }
   ],
   "source": [
    "df_client2.info()"
   ]
  },
  {
   "cell_type": "code",
   "execution_count": 923,
   "id": "c742451b",
   "metadata": {
    "ExecuteTime": {
     "end_time": "2021-09-08T02:02:33.378992Z",
     "start_time": "2021-09-08T02:02:33.356885Z"
    }
   },
   "outputs": [],
   "source": [
    "#Agrupamento por faixa de idade tendo como referência os relatórios do IBGE\n",
    "\n",
    "df_client2['Age'] = df_client2['Age'].apply(lambda x: '0-18' if x >= 0 and x <= 18\n",
    "                                                else('20-24' if x <= 24\n",
    "                                                else('25-29' if x <= 29\n",
    "                                                else('30-34' if x <= 34\n",
    "                                                else('35-39' if x <= 39\n",
    "                                                else('40-44' if x <= 44\n",
    "                                                else('45-49' if x <= 49\n",
    "                                                else('50-54' if x <= 54\n",
    "                                                else('55-59' if x <= 59\n",
    "                                                else('60-69' if x <= 69\n",
    "                                                else('70+' if x >= 70\n",
    "                                                else(x))))))))))))\n"
   ]
  },
  {
   "cell_type": "code",
   "execution_count": 924,
   "id": "0dedb3a1",
   "metadata": {
    "ExecuteTime": {
     "end_time": "2021-09-08T02:02:35.062905Z",
     "start_time": "2021-09-08T02:02:35.044909Z"
    }
   },
   "outputs": [
    {
     "data": {
      "text/plain": [
       "25-29    247\n",
       "30-34    234\n",
       "20-24    151\n",
       "35-39    144\n",
       "40-44     74\n",
       "45-49     39\n",
       "55-59     33\n",
       "60-69     29\n",
       "50-54     26\n",
       "0-18      19\n",
       "70+        9\n",
       "Name: Age, dtype: int64"
      ]
     },
     "execution_count": 924,
     "metadata": {},
     "output_type": "execute_result"
    }
   ],
   "source": [
    "df_client2['Age'].value_counts()"
   ]
  },
  {
   "cell_type": "code",
   "execution_count": 960,
   "id": "42e7c913",
   "metadata": {
    "ExecuteTime": {
     "end_time": "2021-09-08T02:21:44.011453Z",
     "start_time": "2021-09-08T02:21:43.998454Z"
    }
   },
   "outputs": [
    {
     "name": "stdout",
     "output_type": "stream",
     "text": [
      "Média de depósitos por cliente: 18.937313432835822\n"
     ]
    }
   ],
   "source": [
    "#Média de depósitos por cliente\n",
    "print('Média de depósitos por cliente:', df_client2['TotalDeposits'].mean())"
   ]
  },
  {
   "cell_type": "code",
   "execution_count": 941,
   "id": "54def341",
   "metadata": {
    "ExecuteTime": {
     "end_time": "2021-09-08T02:11:50.177984Z",
     "start_time": "2021-09-08T02:11:49.395038Z"
    }
   },
   "outputs": [
    {
     "data": {
      "image/png": "[encoded data removed]",
      "text/plain": [
       "<Figure size 720x720 with 1 Axes>"
      ]
     },
     "metadata": {},
     "output_type": "display_data"
    }
   ],
   "source": [
    "sns.set_style(\"white\")\n",
    "plt.figure(figsize=(10, 10))\n",
    "plt.title('Dispersão de Saídas em 2021')\n",
    "\n",
    "# Gráfico de Dispersão\n",
    "g = sns.scatterplot(x=\"TotalDeposits\", y=\"Month\", \n",
    "                    data=df_client2)\n",
    "plt.show()"
   ]
  },
  {
   "cell_type": "markdown",
   "id": "16ddb975",
   "metadata": {},
   "source": [
    "#### A média de depósitos por cliente vai sofrendo alterações ao longo do tempo. Contudo, é possível observar uma maior ocorrência durante o mês de Janeiro de 2021 para aqueles que fizeram até 40 depósitos neste período. "
   ]
  },
  {
   "cell_type": "code",
   "execution_count": 963,
   "id": "21da00bb",
   "metadata": {
    "ExecuteTime": {
     "end_time": "2021-09-08T02:25:23.509691Z",
     "start_time": "2021-09-08T02:25:23.499934Z"
    }
   },
   "outputs": [],
   "source": [
    "df_retirada = df_client2[df_client2['Direction'] == 20]\n",
    "df_retirada.reset_index(drop=True, inplace=True)"
   ]
  },
  {
   "cell_type": "code",
   "execution_count": 964,
   "id": "7eee9ccc",
   "metadata": {
    "ExecuteTime": {
     "end_time": "2021-09-08T02:25:25.590793Z",
     "start_time": "2021-09-08T02:25:25.549472Z"
    }
   },
   "outputs": [
    {
     "data": {
      "text/html": [
       "<div>\n",
       "<style scoped>\n",
       "    .dataframe tbody tr th:only-of-type {\n",
       "        vertical-align: middle;\n",
       "    }\n",
       "\n",
       "    .dataframe tbody tr th {\n",
       "        vertical-align: top;\n",
       "    }\n",
       "\n",
       "    .dataframe thead th {\n",
       "        text-align: right;\n",
       "    }\n",
       "</style>\n",
       "<table border=\"1\" class=\"dataframe\">\n",
       "  <thead>\n",
       "    <tr style=\"text-align: right;\">\n",
       "      <th></th>\n",
       "      <th>CustomerApiid</th>\n",
       "      <th>CustomerId</th>\n",
       "      <th>AUM</th>\n",
       "      <th>RegisterDate</th>\n",
       "      <th>AmountFirstDeposit</th>\n",
       "      <th>TotalDeposits</th>\n",
       "      <th>TotalWithdrawals</th>\n",
       "      <th>MonthlyIncome</th>\n",
       "      <th>FinancialInvestmentsValue</th>\n",
       "      <th>Age</th>\n",
       "      <th>ComputedRiskTolerance</th>\n",
       "      <th>Id</th>\n",
       "      <th>Direction</th>\n",
       "      <th>Amount</th>\n",
       "      <th>OperatedAt</th>\n",
       "      <th>Month</th>\n",
       "      <th>Year</th>\n",
       "    </tr>\n",
       "  </thead>\n",
       "  <tbody>\n",
       "    <tr>\n",
       "      <th>0</th>\n",
       "      <td>5f3b10d285d46700179dda7f</td>\n",
       "      <td>145424</td>\n",
       "      <td>7915.0</td>\n",
       "      <td>2020-08-18 11:53:53</td>\n",
       "      <td>16800.0</td>\n",
       "      <td>14.0</td>\n",
       "      <td>10.0</td>\n",
       "      <td>2500.0</td>\n",
       "      <td>17000.0</td>\n",
       "      <td>45-49</td>\n",
       "      <td>12.0</td>\n",
       "      <td>1200158.0</td>\n",
       "      <td>20.0</td>\n",
       "      <td>200.000000</td>\n",
       "      <td>2021-01-04 12:08:48</td>\n",
       "      <td>1.0</td>\n",
       "      <td>2021.0</td>\n",
       "    </tr>\n",
       "    <tr>\n",
       "      <th>1</th>\n",
       "      <td>5e17638233bb300010579f70</td>\n",
       "      <td>118701</td>\n",
       "      <td>1430.0</td>\n",
       "      <td>2020-01-09 18:00:03</td>\n",
       "      <td>150.0</td>\n",
       "      <td>26.0</td>\n",
       "      <td>9.0</td>\n",
       "      <td>3000.0</td>\n",
       "      <td>5000.0</td>\n",
       "      <td>60-69</td>\n",
       "      <td>0.0</td>\n",
       "      <td>1201803.0</td>\n",
       "      <td>20.0</td>\n",
       "      <td>720.000000</td>\n",
       "      <td>2021-01-04 12:07:05</td>\n",
       "      <td>1.0</td>\n",
       "      <td>2021.0</td>\n",
       "    </tr>\n",
       "    <tr>\n",
       "      <th>2</th>\n",
       "      <td>5efc7e5b5ebb81001038e9cb</td>\n",
       "      <td>139550</td>\n",
       "      <td>684.0</td>\n",
       "      <td>2020-07-01 21:15:52</td>\n",
       "      <td>100.0</td>\n",
       "      <td>7.0</td>\n",
       "      <td>1.0</td>\n",
       "      <td>6000.0</td>\n",
       "      <td>20000.0</td>\n",
       "      <td>30-34</td>\n",
       "      <td>23.5</td>\n",
       "      <td>1198365.0</td>\n",
       "      <td>20.0</td>\n",
       "      <td>1500.000000</td>\n",
       "      <td>2021-01-04 12:06:18</td>\n",
       "      <td>1.0</td>\n",
       "      <td>2021.0</td>\n",
       "    </tr>\n",
       "    <tr>\n",
       "      <th>3</th>\n",
       "      <td>59e04c758610ac0555c7d910</td>\n",
       "      <td>14180</td>\n",
       "      <td>137.0</td>\n",
       "      <td>2017-10-13 14:25:59</td>\n",
       "      <td>100.0</td>\n",
       "      <td>31.0</td>\n",
       "      <td>13.0</td>\n",
       "      <td>300.0</td>\n",
       "      <td>0.0</td>\n",
       "      <td>25-29</td>\n",
       "      <td>14.0</td>\n",
       "      <td>1200077.0</td>\n",
       "      <td>20.0</td>\n",
       "      <td>5000.000000</td>\n",
       "      <td>2021-01-04 12:05:18</td>\n",
       "      <td>1.0</td>\n",
       "      <td>2021.0</td>\n",
       "    </tr>\n",
       "    <tr>\n",
       "      <th>4</th>\n",
       "      <td>5eebd4120ab3400018e5ff9d</td>\n",
       "      <td>138305</td>\n",
       "      <td>0.0</td>\n",
       "      <td>2020-06-19 00:42:28</td>\n",
       "      <td>1000.0</td>\n",
       "      <td>9.0</td>\n",
       "      <td>2.0</td>\n",
       "      <td>3000.0</td>\n",
       "      <td>12000.0</td>\n",
       "      <td>30-34</td>\n",
       "      <td>17.5</td>\n",
       "      <td>1199276.0</td>\n",
       "      <td>20.0</td>\n",
       "      <td>3167.295414</td>\n",
       "      <td>2021-01-04 12:05:47</td>\n",
       "      <td>1.0</td>\n",
       "      <td>2021.0</td>\n",
       "    </tr>\n",
       "    <tr>\n",
       "      <th>...</th>\n",
       "      <td>...</td>\n",
       "      <td>...</td>\n",
       "      <td>...</td>\n",
       "      <td>...</td>\n",
       "      <td>...</td>\n",
       "      <td>...</td>\n",
       "      <td>...</td>\n",
       "      <td>...</td>\n",
       "      <td>...</td>\n",
       "      <td>...</td>\n",
       "      <td>...</td>\n",
       "      <td>...</td>\n",
       "      <td>...</td>\n",
       "      <td>...</td>\n",
       "      <td>...</td>\n",
       "      <td>...</td>\n",
       "      <td>...</td>\n",
       "    </tr>\n",
       "    <tr>\n",
       "      <th>183</th>\n",
       "      <td>NaN</td>\n",
       "      <td>60472</td>\n",
       "      <td>NaN</td>\n",
       "      <td>NaT</td>\n",
       "      <td>NaN</td>\n",
       "      <td>NaN</td>\n",
       "      <td>NaN</td>\n",
       "      <td>NaN</td>\n",
       "      <td>NaN</td>\n",
       "      <td>NaN</td>\n",
       "      <td>NaN</td>\n",
       "      <td>1181600.0</td>\n",
       "      <td>20.0</td>\n",
       "      <td>442.950000</td>\n",
       "      <td>2021-01-11 11:59:39</td>\n",
       "      <td>1.0</td>\n",
       "      <td>2021.0</td>\n",
       "    </tr>\n",
       "    <tr>\n",
       "      <th>184</th>\n",
       "      <td>NaN</td>\n",
       "      <td>20312</td>\n",
       "      <td>NaN</td>\n",
       "      <td>NaT</td>\n",
       "      <td>NaN</td>\n",
       "      <td>NaN</td>\n",
       "      <td>NaN</td>\n",
       "      <td>NaN</td>\n",
       "      <td>NaN</td>\n",
       "      <td>NaN</td>\n",
       "      <td>NaN</td>\n",
       "      <td>1201964.0</td>\n",
       "      <td>20.0</td>\n",
       "      <td>3052.630000</td>\n",
       "      <td>2021-01-11 11:59:57</td>\n",
       "      <td>1.0</td>\n",
       "      <td>2021.0</td>\n",
       "    </tr>\n",
       "    <tr>\n",
       "      <th>185</th>\n",
       "      <td>NaN</td>\n",
       "      <td>80707</td>\n",
       "      <td>NaN</td>\n",
       "      <td>NaT</td>\n",
       "      <td>NaN</td>\n",
       "      <td>NaN</td>\n",
       "      <td>NaN</td>\n",
       "      <td>NaN</td>\n",
       "      <td>NaN</td>\n",
       "      <td>NaN</td>\n",
       "      <td>NaN</td>\n",
       "      <td>1074424.0</td>\n",
       "      <td>20.0</td>\n",
       "      <td>1630.000000</td>\n",
       "      <td>2021-01-19 11:58:53</td>\n",
       "      <td>1.0</td>\n",
       "      <td>2021.0</td>\n",
       "    </tr>\n",
       "    <tr>\n",
       "      <th>186</th>\n",
       "      <td>NaN</td>\n",
       "      <td>82264</td>\n",
       "      <td>NaN</td>\n",
       "      <td>NaT</td>\n",
       "      <td>NaN</td>\n",
       "      <td>NaN</td>\n",
       "      <td>NaN</td>\n",
       "      <td>NaN</td>\n",
       "      <td>NaN</td>\n",
       "      <td>NaN</td>\n",
       "      <td>NaN</td>\n",
       "      <td>1189325.0</td>\n",
       "      <td>20.0</td>\n",
       "      <td>50000.000000</td>\n",
       "      <td>2021-01-26 12:23:34</td>\n",
       "      <td>1.0</td>\n",
       "      <td>2021.0</td>\n",
       "    </tr>\n",
       "    <tr>\n",
       "      <th>187</th>\n",
       "      <td>NaN</td>\n",
       "      <td>98336</td>\n",
       "      <td>NaN</td>\n",
       "      <td>NaT</td>\n",
       "      <td>NaN</td>\n",
       "      <td>NaN</td>\n",
       "      <td>NaN</td>\n",
       "      <td>NaN</td>\n",
       "      <td>NaN</td>\n",
       "      <td>NaN</td>\n",
       "      <td>NaN</td>\n",
       "      <td>475487.0</td>\n",
       "      <td>20.0</td>\n",
       "      <td>108.820000</td>\n",
       "      <td>2021-05-11 00:00:00</td>\n",
       "      <td>5.0</td>\n",
       "      <td>2021.0</td>\n",
       "    </tr>\n",
       "  </tbody>\n",
       "</table>\n",
       "<p>188 rows × 17 columns</p>\n",
       "</div>"
      ],
      "text/plain": [
       "                CustomerApiid  CustomerId     AUM        RegisterDate  \\\n",
       "0    5f3b10d285d46700179dda7f      145424  7915.0 2020-08-18 11:53:53   \n",
       "1    5e17638233bb300010579f70      118701  1430.0 2020-01-09 18:00:03   \n",
       "2    5efc7e5b5ebb81001038e9cb      139550   684.0 2020-07-01 21:15:52   \n",
       "3    59e04c758610ac0555c7d910       14180   137.0 2017-10-13 14:25:59   \n",
       "4    5eebd4120ab3400018e5ff9d      138305     0.0 2020-06-19 00:42:28   \n",
       "..                        ...         ...     ...                 ...   \n",
       "183                       NaN       60472     NaN                 NaT   \n",
       "184                       NaN       20312     NaN                 NaT   \n",
       "185                       NaN       80707     NaN                 NaT   \n",
       "186                       NaN       82264     NaN                 NaT   \n",
       "187                       NaN       98336     NaN                 NaT   \n",
       "\n",
       "     AmountFirstDeposit  TotalDeposits  TotalWithdrawals  MonthlyIncome  \\\n",
       "0               16800.0           14.0              10.0         2500.0   \n",
       "1                 150.0           26.0               9.0         3000.0   \n",
       "2                 100.0            7.0               1.0         6000.0   \n",
       "3                 100.0           31.0              13.0          300.0   \n",
       "4                1000.0            9.0               2.0         3000.0   \n",
       "..                  ...            ...               ...            ...   \n",
       "183                 NaN            NaN               NaN            NaN   \n",
       "184                 NaN            NaN               NaN            NaN   \n",
       "185                 NaN            NaN               NaN            NaN   \n",
       "186                 NaN            NaN               NaN            NaN   \n",
       "187                 NaN            NaN               NaN            NaN   \n",
       "\n",
       "     FinancialInvestmentsValue    Age  ComputedRiskTolerance         Id  \\\n",
       "0                      17000.0  45-49                   12.0  1200158.0   \n",
       "1                       5000.0  60-69                    0.0  1201803.0   \n",
       "2                      20000.0  30-34                   23.5  1198365.0   \n",
       "3                          0.0  25-29                   14.0  1200077.0   \n",
       "4                      12000.0  30-34                   17.5  1199276.0   \n",
       "..                         ...    ...                    ...        ...   \n",
       "183                        NaN    NaN                    NaN  1181600.0   \n",
       "184                        NaN    NaN                    NaN  1201964.0   \n",
       "185                        NaN    NaN                    NaN  1074424.0   \n",
       "186                        NaN    NaN                    NaN  1189325.0   \n",
       "187                        NaN    NaN                    NaN   475487.0   \n",
       "\n",
       "     Direction        Amount          OperatedAt  Month    Year  \n",
       "0         20.0    200.000000 2021-01-04 12:08:48    1.0  2021.0  \n",
       "1         20.0    720.000000 2021-01-04 12:07:05    1.0  2021.0  \n",
       "2         20.0   1500.000000 2021-01-04 12:06:18    1.0  2021.0  \n",
       "3         20.0   5000.000000 2021-01-04 12:05:18    1.0  2021.0  \n",
       "4         20.0   3167.295414 2021-01-04 12:05:47    1.0  2021.0  \n",
       "..         ...           ...                 ...    ...     ...  \n",
       "183       20.0    442.950000 2021-01-11 11:59:39    1.0  2021.0  \n",
       "184       20.0   3052.630000 2021-01-11 11:59:57    1.0  2021.0  \n",
       "185       20.0   1630.000000 2021-01-19 11:58:53    1.0  2021.0  \n",
       "186       20.0  50000.000000 2021-01-26 12:23:34    1.0  2021.0  \n",
       "187       20.0    108.820000 2021-05-11 00:00:00    5.0  2021.0  \n",
       "\n",
       "[188 rows x 17 columns]"
      ]
     },
     "execution_count": 964,
     "metadata": {},
     "output_type": "execute_result"
    }
   ],
   "source": [
    "df_retirada"
   ]
  },
  {
   "cell_type": "markdown",
   "id": "f502a2a1",
   "metadata": {},
   "source": [
    "### Tendo em vista os clientes que retiram o dinheiro da Warren, quantas pessoas zeram suas quantias na Warren? Existe um público dominante?"
   ]
  },
  {
   "cell_type": "code",
   "execution_count": 967,
   "id": "8343deab",
   "metadata": {
    "ExecuteTime": {
     "end_time": "2021-09-08T02:27:53.054402Z",
     "start_time": "2021-09-08T02:27:53.046410Z"
    }
   },
   "outputs": [],
   "source": [
    "#aum valor que o cliente possui na warren\n",
    "#direction 20 para retirada\n",
    "#customerid cliente\n"
   ]
  },
  {
   "cell_type": "code",
   "execution_count": 860,
   "id": "516eb437",
   "metadata": {
    "ExecuteTime": {
     "end_time": "2021-09-07T00:55:24.911168Z",
     "start_time": "2021-09-07T00:55:24.349870Z"
    }
   },
   "outputs": [
    {
     "data": {
      "image/png": "[encoded data removed]",
      "text/plain": [
       "<Figure size 720x360 with 1 Axes>"
      ]
     },
     "metadata": {},
     "output_type": "display_data"
    }
   ],
   "source": [
    "plt.figure(figsize=(10,5))\n",
    "sns.histplot(data=df_client2, x='Amount', bins=20, hue='Age')\n",
    "plt.show()"
   ]
  },
  {
   "cell_type": "code",
   "execution_count": 868,
   "id": "11d9e166",
   "metadata": {
    "ExecuteTime": {
     "end_time": "2021-09-07T01:13:04.276014Z",
     "start_time": "2021-09-07T01:13:03.988509Z"
    }
   },
   "outputs": [
    {
     "data": {
      "image/png": "[encoded data removed]",
      "text/plain": [
       "<Figure size 1080x360 with 1 Axes>"
      ]
     },
     "metadata": {},
     "output_type": "display_data"
    }
   ],
   "source": [
    "ax = sns.countplot(x='Age', data=df_client2, palette = 'rocket')\n",
    "ax.set_xticklabels(ax.get_xticklabels(), rotation = 90)\n",
    "display()"
   ]
  },
  {
   "cell_type": "markdown",
   "id": "6a2ecbc0",
   "metadata": {},
   "source": [
    "### Ao que parece, o público de 20 e 39 anos contribuem expressivamente o crescimento da empresa, sendo que a faixa etária entre 25 e 29 anos tem um número um pouco menos expressivo e entre 20 a 24 anos se encontra o público com maior impacto"
   ]
  },
  {
   "cell_type": "markdown",
   "id": "30d0b290",
   "metadata": {},
   "source": [
    "___"
   ]
  },
  {
   "cell_type": "markdown",
   "id": "66d95cb2",
   "metadata": {},
   "source": [
    "## Quantos depósitos cada cliente faz em média por período de tempo? Essa taxa muda por público?"
   ]
  },
  {
   "cell_type": "code",
   "execution_count": 920,
   "id": "1905fb7e",
   "metadata": {
    "ExecuteTime": {
     "end_time": "2021-09-08T02:01:47.433719Z",
     "start_time": "2021-09-08T02:01:47.403689Z"
    }
   },
   "outputs": [
    {
     "data": {
      "text/html": [
       "<div>\n",
       "<style scoped>\n",
       "    .dataframe tbody tr th:only-of-type {\n",
       "        vertical-align: middle;\n",
       "    }\n",
       "\n",
       "    .dataframe tbody tr th {\n",
       "        vertical-align: top;\n",
       "    }\n",
       "\n",
       "    .dataframe thead th {\n",
       "        text-align: right;\n",
       "    }\n",
       "</style>\n",
       "<table border=\"1\" class=\"dataframe\">\n",
       "  <thead>\n",
       "    <tr style=\"text-align: right;\">\n",
       "      <th></th>\n",
       "      <th>CustomerApiid</th>\n",
       "      <th>CustomerId</th>\n",
       "      <th>AUM</th>\n",
       "      <th>RegisterDate</th>\n",
       "      <th>AmountFirstDeposit</th>\n",
       "      <th>TotalDeposits</th>\n",
       "      <th>TotalWithdrawals</th>\n",
       "      <th>MonthlyIncome</th>\n",
       "      <th>FinancialInvestmentsValue</th>\n",
       "      <th>Age</th>\n",
       "      <th>ComputedRiskTolerance</th>\n",
       "      <th>Id</th>\n",
       "      <th>Direction</th>\n",
       "      <th>Amount</th>\n",
       "      <th>OperatedAt</th>\n",
       "      <th>Month</th>\n",
       "      <th>Year</th>\n",
       "    </tr>\n",
       "  </thead>\n",
       "  <tbody>\n",
       "    <tr>\n",
       "      <th>67</th>\n",
       "      <td>597d1f93ad57cd674deb5dfd</td>\n",
       "      <td>64617</td>\n",
       "      <td>65413.0</td>\n",
       "      <td>2019-01-02 16:58:00</td>\n",
       "      <td>200.0</td>\n",
       "      <td>22.0</td>\n",
       "      <td>1.0</td>\n",
       "      <td>8000.0</td>\n",
       "      <td>0.0</td>\n",
       "      <td>35-39</td>\n",
       "      <td>24.0</td>\n",
       "      <td>1201605.0</td>\n",
       "      <td>10.0</td>\n",
       "      <td>2000.0</td>\n",
       "      <td>2021-01-04 09:31:27</td>\n",
       "      <td>1.0</td>\n",
       "      <td>2021.0</td>\n",
       "    </tr>\n",
       "    <tr>\n",
       "      <th>68</th>\n",
       "      <td>5a04bd4815a605790aff5c77</td>\n",
       "      <td>24431</td>\n",
       "      <td>0.0</td>\n",
       "      <td>2018-01-02 18:41:09</td>\n",
       "      <td>300.0</td>\n",
       "      <td>14.0</td>\n",
       "      <td>9.0</td>\n",
       "      <td>2000.0</td>\n",
       "      <td>0.0</td>\n",
       "      <td>20-24</td>\n",
       "      <td>13.5</td>\n",
       "      <td>1201889.0</td>\n",
       "      <td>10.0</td>\n",
       "      <td>100.0</td>\n",
       "      <td>2021-01-07 00:00:00</td>\n",
       "      <td>1.0</td>\n",
       "      <td>2021.0</td>\n",
       "    </tr>\n",
       "    <tr>\n",
       "      <th>98</th>\n",
       "      <td>5f562b1a8a70670017ab6457</td>\n",
       "      <td>147955</td>\n",
       "      <td>10841.0</td>\n",
       "      <td>2020-09-07 12:55:00</td>\n",
       "      <td>200.0</td>\n",
       "      <td>14.0</td>\n",
       "      <td>0.0</td>\n",
       "      <td>5236.0</td>\n",
       "      <td>100.0</td>\n",
       "      <td>30-34</td>\n",
       "      <td>17.5</td>\n",
       "      <td>1191683.0</td>\n",
       "      <td>10.0</td>\n",
       "      <td>300.0</td>\n",
       "      <td>2021-01-04 00:00:00</td>\n",
       "      <td>1.0</td>\n",
       "      <td>2021.0</td>\n",
       "    </tr>\n",
       "    <tr>\n",
       "      <th>131</th>\n",
       "      <td>5b8740c9d345ed000ed4a55c</td>\n",
       "      <td>55461</td>\n",
       "      <td>17797.0</td>\n",
       "      <td>2018-09-04 13:26:27</td>\n",
       "      <td>8000.0</td>\n",
       "      <td>32.0</td>\n",
       "      <td>3.0</td>\n",
       "      <td>20000.0</td>\n",
       "      <td>0.0</td>\n",
       "      <td>55-59</td>\n",
       "      <td>9.0</td>\n",
       "      <td>1189643.0</td>\n",
       "      <td>10.0</td>\n",
       "      <td>1200.0</td>\n",
       "      <td>2021-01-04 00:00:00</td>\n",
       "      <td>1.0</td>\n",
       "      <td>2021.0</td>\n",
       "    </tr>\n",
       "    <tr>\n",
       "      <th>173</th>\n",
       "      <td>58779257b93e5a4001f73dd5</td>\n",
       "      <td>1605</td>\n",
       "      <td>0.0</td>\n",
       "      <td>2017-02-09 15:39:26</td>\n",
       "      <td>200.0</td>\n",
       "      <td>9.0</td>\n",
       "      <td>15.0</td>\n",
       "      <td>4021.0</td>\n",
       "      <td>0.0</td>\n",
       "      <td>30-34</td>\n",
       "      <td>15.0</td>\n",
       "      <td>1199301.0</td>\n",
       "      <td>10.0</td>\n",
       "      <td>400.0</td>\n",
       "      <td>2021-01-04 00:00:00</td>\n",
       "      <td>1.0</td>\n",
       "      <td>2021.0</td>\n",
       "    </tr>\n",
       "  </tbody>\n",
       "</table>\n",
       "</div>"
      ],
      "text/plain": [
       "                CustomerApiid  CustomerId      AUM        RegisterDate  \\\n",
       "67   597d1f93ad57cd674deb5dfd       64617  65413.0 2019-01-02 16:58:00   \n",
       "68   5a04bd4815a605790aff5c77       24431      0.0 2018-01-02 18:41:09   \n",
       "98   5f562b1a8a70670017ab6457      147955  10841.0 2020-09-07 12:55:00   \n",
       "131  5b8740c9d345ed000ed4a55c       55461  17797.0 2018-09-04 13:26:27   \n",
       "173  58779257b93e5a4001f73dd5        1605      0.0 2017-02-09 15:39:26   \n",
       "\n",
       "     AmountFirstDeposit  TotalDeposits  TotalWithdrawals  MonthlyIncome  \\\n",
       "67                200.0           22.0               1.0         8000.0   \n",
       "68                300.0           14.0               9.0         2000.0   \n",
       "98                200.0           14.0               0.0         5236.0   \n",
       "131              8000.0           32.0               3.0        20000.0   \n",
       "173               200.0            9.0              15.0         4021.0   \n",
       "\n",
       "     FinancialInvestmentsValue    Age  ComputedRiskTolerance         Id  \\\n",
       "67                         0.0  35-39                   24.0  1201605.0   \n",
       "68                         0.0  20-24                   13.5  1201889.0   \n",
       "98                       100.0  30-34                   17.5  1191683.0   \n",
       "131                        0.0  55-59                    9.0  1189643.0   \n",
       "173                        0.0  30-34                   15.0  1199301.0   \n",
       "\n",
       "     Direction  Amount          OperatedAt  Month    Year  \n",
       "67        10.0  2000.0 2021-01-04 09:31:27    1.0  2021.0  \n",
       "68        10.0   100.0 2021-01-07 00:00:00    1.0  2021.0  \n",
       "98        10.0   300.0 2021-01-04 00:00:00    1.0  2021.0  \n",
       "131       10.0  1200.0 2021-01-04 00:00:00    1.0  2021.0  \n",
       "173       10.0   400.0 2021-01-04 00:00:00    1.0  2021.0  "
      ]
     },
     "execution_count": 920,
     "metadata": {},
     "output_type": "execute_result"
    }
   ],
   "source": [
    "df_client2.head()"
   ]
  },
  {
   "cell_type": "code",
   "execution_count": 875,
   "id": "7bbdbb06",
   "metadata": {
    "ExecuteTime": {
     "end_time": "2021-09-07T01:20:46.168175Z",
     "start_time": "2021-09-07T01:20:46.159144Z"
    }
   },
   "outputs": [],
   "source": [
    "df_transactions2.reset_index(inplace=True)"
   ]
  },
  {
   "cell_type": "code",
   "execution_count": 883,
   "id": "230e1238",
   "metadata": {
    "ExecuteTime": {
     "end_time": "2021-09-07T01:24:22.110266Z",
     "start_time": "2021-09-07T01:24:22.086233Z"
    }
   },
   "outputs": [
    {
     "data": {
      "text/html": [
       "<div>\n",
       "<style scoped>\n",
       "    .dataframe tbody tr th:only-of-type {\n",
       "        vertical-align: middle;\n",
       "    }\n",
       "\n",
       "    .dataframe tbody tr th {\n",
       "        vertical-align: top;\n",
       "    }\n",
       "\n",
       "    .dataframe thead th {\n",
       "        text-align: right;\n",
       "    }\n",
       "</style>\n",
       "<table border=\"1\" class=\"dataframe\">\n",
       "  <thead>\n",
       "    <tr style=\"text-align: right;\">\n",
       "      <th></th>\n",
       "      <th>CustomerApiid</th>\n",
       "      <th>CustomerId</th>\n",
       "      <th>AUM</th>\n",
       "      <th>RegisterDate</th>\n",
       "      <th>AmountFirstDeposit</th>\n",
       "      <th>TotalDeposits</th>\n",
       "      <th>TotalWithdrawals</th>\n",
       "      <th>MonthlyIncome</th>\n",
       "      <th>FinancialInvestmentsValue</th>\n",
       "      <th>Age</th>\n",
       "      <th>ComputedRiskTolerance</th>\n",
       "    </tr>\n",
       "  </thead>\n",
       "  <tbody>\n",
       "    <tr>\n",
       "      <th>0</th>\n",
       "      <td>60a7d0011363ea0011d0eb80</td>\n",
       "      <td>192260</td>\n",
       "      <td>601</td>\n",
       "      <td>2021-06-10 21:23:31</td>\n",
       "      <td>100.013269</td>\n",
       "      <td>5</td>\n",
       "      <td>0</td>\n",
       "      <td>250</td>\n",
       "      <td>3000.0</td>\n",
       "      <td>14</td>\n",
       "      <td>22.22</td>\n",
       "    </tr>\n",
       "    <tr>\n",
       "      <th>1</th>\n",
       "      <td>60c77e1ffdaebd001875353e</td>\n",
       "      <td>192853</td>\n",
       "      <td>1798</td>\n",
       "      <td>2021-06-14 16:13:56</td>\n",
       "      <td>300.048411</td>\n",
       "      <td>2</td>\n",
       "      <td>0</td>\n",
       "      <td>8000</td>\n",
       "      <td>180000.0</td>\n",
       "      <td>35</td>\n",
       "      <td>77.78</td>\n",
       "    </tr>\n",
       "    <tr>\n",
       "      <th>2</th>\n",
       "      <td>588f45ae0a760bb65b380afa</td>\n",
       "      <td>11897</td>\n",
       "      <td>1621</td>\n",
       "      <td>2017-09-14 12:08:06</td>\n",
       "      <td>2500.000000</td>\n",
       "      <td>13</td>\n",
       "      <td>2</td>\n",
       "      <td>4500</td>\n",
       "      <td>0.0</td>\n",
       "      <td>32</td>\n",
       "      <td>17.00</td>\n",
       "    </tr>\n",
       "    <tr>\n",
       "      <th>3</th>\n",
       "      <td>5915d73623d4b1881694e11e</td>\n",
       "      <td>12583</td>\n",
       "      <td>78643</td>\n",
       "      <td>2017-09-25 15:44:40</td>\n",
       "      <td>2005.000000</td>\n",
       "      <td>37</td>\n",
       "      <td>7</td>\n",
       "      <td>18000</td>\n",
       "      <td>120000.0</td>\n",
       "      <td>34</td>\n",
       "      <td>69.17</td>\n",
       "    </tr>\n",
       "    <tr>\n",
       "      <th>4</th>\n",
       "      <td>591f5f3b3daa47c6488bce3f</td>\n",
       "      <td>5564</td>\n",
       "      <td>422</td>\n",
       "      <td>2017-05-22 18:38:05</td>\n",
       "      <td>2000.000000</td>\n",
       "      <td>23</td>\n",
       "      <td>7</td>\n",
       "      <td>2000</td>\n",
       "      <td>45000.0</td>\n",
       "      <td>29</td>\n",
       "      <td>0.00</td>\n",
       "    </tr>\n",
       "  </tbody>\n",
       "</table>\n",
       "</div>"
      ],
      "text/plain": [
       "              CustomerApiid  CustomerId    AUM        RegisterDate  \\\n",
       "0  60a7d0011363ea0011d0eb80      192260    601 2021-06-10 21:23:31   \n",
       "1  60c77e1ffdaebd001875353e      192853   1798 2021-06-14 16:13:56   \n",
       "2  588f45ae0a760bb65b380afa       11897   1621 2017-09-14 12:08:06   \n",
       "3  5915d73623d4b1881694e11e       12583  78643 2017-09-25 15:44:40   \n",
       "4  591f5f3b3daa47c6488bce3f        5564    422 2017-05-22 18:38:05   \n",
       "\n",
       "   AmountFirstDeposit  TotalDeposits  TotalWithdrawals  MonthlyIncome  \\\n",
       "0          100.013269              5                 0            250   \n",
       "1          300.048411              2                 0           8000   \n",
       "2         2500.000000             13                 2           4500   \n",
       "3         2005.000000             37                 7          18000   \n",
       "4         2000.000000             23                 7           2000   \n",
       "\n",
       "   FinancialInvestmentsValue  Age  ComputedRiskTolerance  \n",
       "0                     3000.0   14                  22.22  \n",
       "1                   180000.0   35                  77.78  \n",
       "2                        0.0   32                  17.00  \n",
       "3                   120000.0   34                  69.17  \n",
       "4                    45000.0   29                   0.00  "
      ]
     },
     "execution_count": 883,
     "metadata": {},
     "output_type": "execute_result"
    }
   ],
   "source": [
    "df_customers2.head()"
   ]
  },
  {
   "cell_type": "code",
   "execution_count": 896,
   "id": "d287022b",
   "metadata": {
    "ExecuteTime": {
     "end_time": "2021-09-07T01:32:19.290007Z",
     "start_time": "2021-09-07T01:32:19.273414Z"
    }
   },
   "outputs": [
    {
     "data": {
      "text/plain": [
       "18.876"
      ]
     },
     "execution_count": 896,
     "metadata": {},
     "output_type": "execute_result"
    }
   ],
   "source": [
    "df_customers2['TotalDeposits'].mean()"
   ]
  },
  {
   "cell_type": "code",
   "execution_count": 895,
   "id": "78ba4df0",
   "metadata": {
    "ExecuteTime": {
     "end_time": "2021-09-07T01:29:10.058770Z",
     "start_time": "2021-09-07T01:29:09.769030Z"
    }
   },
   "outputs": [
    {
     "data": {
      "image/png": "[encoded data removed]",
      "text/plain": [
       "<Figure size 720x720 with 1 Axes>"
      ]
     },
     "metadata": {},
     "output_type": "display_data"
    }
   ],
   "source": [
    "sns.set_style(\"white\")\n",
    "plt.figure(figsize=(10, 10))\n",
    "plt.title('Dispersão de Saídas em 2021')\n",
    "\n",
    "# Gráfico de Dispersão\n",
    "g = sns.scatterplot(x=\"Age\", y=\"TotalDeposits\", \n",
    "                    data=df_customers2)\n",
    "plt.show()"
   ]
  },
  {
   "cell_type": "code",
   "execution_count": 912,
   "id": "f9450b5c",
   "metadata": {
    "ExecuteTime": {
     "end_time": "2021-09-08T01:49:41.849919Z",
     "start_time": "2021-09-08T01:49:41.831883Z"
    }
   },
   "outputs": [],
   "source": [
    "df_depositos = df_transactions"
   ]
  },
  {
   "cell_type": "code",
   "execution_count": 913,
   "id": "93f84b47",
   "metadata": {
    "ExecuteTime": {
     "end_time": "2021-09-08T01:49:43.304850Z",
     "start_time": "2021-09-08T01:49:43.293820Z"
    }
   },
   "outputs": [
    {
     "data": {
      "text/plain": [
       "80912     9\n",
       "160362    9\n",
       "111744    7\n",
       "96836     6\n",
       "51305     5\n",
       "         ..\n",
       "82827     1\n",
       "159152    1\n",
       "56210     1\n",
       "136083    1\n",
       "44093     1\n",
       "Name: CustomerId, Length: 815, dtype: int64"
      ]
     },
     "execution_count": 913,
     "metadata": {},
     "output_type": "execute_result"
    }
   ],
   "source": [
    "df_depositos['CustomerId'].value_counts()"
   ]
  },
  {
   "cell_type": "code",
   "execution_count": null,
   "id": "7daca5c9",
   "metadata": {},
   "outputs": [],
   "source": [
    "# Direction, CustomerId, Month"
   ]
  },
  {
   "cell_type": "code",
   "execution_count": 914,
   "id": "e6c89c90",
   "metadata": {
    "ExecuteTime": {
     "end_time": "2021-09-08T01:49:45.526212Z",
     "start_time": "2021-09-08T01:49:45.501174Z"
    }
   },
   "outputs": [
    {
     "data": {
      "text/html": [
       "<div>\n",
       "<style scoped>\n",
       "    .dataframe tbody tr th:only-of-type {\n",
       "        vertical-align: middle;\n",
       "    }\n",
       "\n",
       "    .dataframe tbody tr th {\n",
       "        vertical-align: top;\n",
       "    }\n",
       "\n",
       "    .dataframe thead th {\n",
       "        text-align: right;\n",
       "    }\n",
       "</style>\n",
       "<table border=\"1\" class=\"dataframe\">\n",
       "  <thead>\n",
       "    <tr style=\"text-align: right;\">\n",
       "      <th></th>\n",
       "      <th>Id</th>\n",
       "      <th>Direction</th>\n",
       "      <th>Amount</th>\n",
       "      <th>CustomerId</th>\n",
       "      <th>OperatedAt</th>\n",
       "      <th>Month</th>\n",
       "      <th>Year</th>\n",
       "    </tr>\n",
       "  </thead>\n",
       "  <tbody>\n",
       "    <tr>\n",
       "      <th>260</th>\n",
       "      <td>1193306</td>\n",
       "      <td>10</td>\n",
       "      <td>12800.0</td>\n",
       "      <td>12431</td>\n",
       "      <td>2021-01-01 00:00:30</td>\n",
       "      <td>1</td>\n",
       "      <td>2021</td>\n",
       "    </tr>\n",
       "    <tr>\n",
       "      <th>573</th>\n",
       "      <td>1200034</td>\n",
       "      <td>10</td>\n",
       "      <td>20000.0</td>\n",
       "      <td>117985</td>\n",
       "      <td>2021-01-01 00:01:33</td>\n",
       "      <td>1</td>\n",
       "      <td>2021</td>\n",
       "    </tr>\n",
       "    <tr>\n",
       "      <th>452</th>\n",
       "      <td>1198402</td>\n",
       "      <td>10</td>\n",
       "      <td>50.0</td>\n",
       "      <td>95724</td>\n",
       "      <td>2021-01-01 00:02:08</td>\n",
       "      <td>1</td>\n",
       "      <td>2021</td>\n",
       "    </tr>\n",
       "    <tr>\n",
       "      <th>521</th>\n",
       "      <td>1199295</td>\n",
       "      <td>10</td>\n",
       "      <td>200.0</td>\n",
       "      <td>136323</td>\n",
       "      <td>2021-01-01 00:02:35</td>\n",
       "      <td>1</td>\n",
       "      <td>2021</td>\n",
       "    </tr>\n",
       "    <tr>\n",
       "      <th>486</th>\n",
       "      <td>1198878</td>\n",
       "      <td>10</td>\n",
       "      <td>2000.0</td>\n",
       "      <td>138207</td>\n",
       "      <td>2021-01-01 00:02:58</td>\n",
       "      <td>1</td>\n",
       "      <td>2021</td>\n",
       "    </tr>\n",
       "  </tbody>\n",
       "</table>\n",
       "</div>"
      ],
      "text/plain": [
       "          Id  Direction   Amount  CustomerId          OperatedAt  Month  Year\n",
       "260  1193306         10  12800.0       12431 2021-01-01 00:00:30      1  2021\n",
       "573  1200034         10  20000.0      117985 2021-01-01 00:01:33      1  2021\n",
       "452  1198402         10     50.0       95724 2021-01-01 00:02:08      1  2021\n",
       "521  1199295         10    200.0      136323 2021-01-01 00:02:35      1  2021\n",
       "486  1198878         10   2000.0      138207 2021-01-01 00:02:58      1  2021"
      ]
     },
     "execution_count": 914,
     "metadata": {},
     "output_type": "execute_result"
    }
   ],
   "source": [
    "df_depositos = df_depositos[df_depositos['Direction'] == 10]\n",
    "df_depositos.head()"
   ]
  },
  {
   "cell_type": "code",
   "execution_count": 915,
   "id": "b9b8e9e2",
   "metadata": {
    "ExecuteTime": {
     "end_time": "2021-09-08T01:49:52.830316Z",
     "start_time": "2021-09-08T01:49:52.821286Z"
    }
   },
   "outputs": [],
   "source": [
    "df_depositos.reset_index(drop=True, inplace=True)"
   ]
  },
  {
   "cell_type": "code",
   "execution_count": 916,
   "id": "4d9ab6ae",
   "metadata": {
    "ExecuteTime": {
     "end_time": "2021-09-08T01:49:54.348817Z",
     "start_time": "2021-09-08T01:49:54.325780Z"
    }
   },
   "outputs": [
    {
     "data": {
      "text/html": [
       "<div>\n",
       "<style scoped>\n",
       "    .dataframe tbody tr th:only-of-type {\n",
       "        vertical-align: middle;\n",
       "    }\n",
       "\n",
       "    .dataframe tbody tr th {\n",
       "        vertical-align: top;\n",
       "    }\n",
       "\n",
       "    .dataframe thead th {\n",
       "        text-align: right;\n",
       "    }\n",
       "</style>\n",
       "<table border=\"1\" class=\"dataframe\">\n",
       "  <thead>\n",
       "    <tr style=\"text-align: right;\">\n",
       "      <th></th>\n",
       "      <th>Id</th>\n",
       "      <th>Direction</th>\n",
       "      <th>Amount</th>\n",
       "      <th>CustomerId</th>\n",
       "      <th>OperatedAt</th>\n",
       "      <th>Month</th>\n",
       "      <th>Year</th>\n",
       "    </tr>\n",
       "  </thead>\n",
       "  <tbody>\n",
       "    <tr>\n",
       "      <th>0</th>\n",
       "      <td>1193306</td>\n",
       "      <td>10</td>\n",
       "      <td>12800.0</td>\n",
       "      <td>12431</td>\n",
       "      <td>2021-01-01 00:00:30</td>\n",
       "      <td>1</td>\n",
       "      <td>2021</td>\n",
       "    </tr>\n",
       "    <tr>\n",
       "      <th>1</th>\n",
       "      <td>1200034</td>\n",
       "      <td>10</td>\n",
       "      <td>20000.0</td>\n",
       "      <td>117985</td>\n",
       "      <td>2021-01-01 00:01:33</td>\n",
       "      <td>1</td>\n",
       "      <td>2021</td>\n",
       "    </tr>\n",
       "    <tr>\n",
       "      <th>2</th>\n",
       "      <td>1198402</td>\n",
       "      <td>10</td>\n",
       "      <td>50.0</td>\n",
       "      <td>95724</td>\n",
       "      <td>2021-01-01 00:02:08</td>\n",
       "      <td>1</td>\n",
       "      <td>2021</td>\n",
       "    </tr>\n",
       "    <tr>\n",
       "      <th>3</th>\n",
       "      <td>1199295</td>\n",
       "      <td>10</td>\n",
       "      <td>200.0</td>\n",
       "      <td>136323</td>\n",
       "      <td>2021-01-01 00:02:35</td>\n",
       "      <td>1</td>\n",
       "      <td>2021</td>\n",
       "    </tr>\n",
       "    <tr>\n",
       "      <th>4</th>\n",
       "      <td>1198878</td>\n",
       "      <td>10</td>\n",
       "      <td>2000.0</td>\n",
       "      <td>138207</td>\n",
       "      <td>2021-01-01 00:02:58</td>\n",
       "      <td>1</td>\n",
       "      <td>2021</td>\n",
       "    </tr>\n",
       "  </tbody>\n",
       "</table>\n",
       "</div>"
      ],
      "text/plain": [
       "        Id  Direction   Amount  CustomerId          OperatedAt  Month  Year\n",
       "0  1193306         10  12800.0       12431 2021-01-01 00:00:30      1  2021\n",
       "1  1200034         10  20000.0      117985 2021-01-01 00:01:33      1  2021\n",
       "2  1198402         10     50.0       95724 2021-01-01 00:02:08      1  2021\n",
       "3  1199295         10    200.0      136323 2021-01-01 00:02:35      1  2021\n",
       "4  1198878         10   2000.0      138207 2021-01-01 00:02:58      1  2021"
      ]
     },
     "execution_count": 916,
     "metadata": {},
     "output_type": "execute_result"
    }
   ],
   "source": [
    "df_depositos.head()"
   ]
  },
  {
   "cell_type": "code",
   "execution_count": 919,
   "id": "229c1a03",
   "metadata": {
    "ExecuteTime": {
     "end_time": "2021-09-08T01:52:28.596830Z",
     "start_time": "2021-09-08T01:52:28.573838Z"
    }
   },
   "outputs": [
    {
     "data": {
      "text/plain": [
       "94377.21375186846"
      ]
     },
     "execution_count": 919,
     "metadata": {},
     "output_type": "execute_result"
    }
   ],
   "source": [
    "df_depositos['CustomerId'].unique().mean()"
   ]
  },
  {
   "cell_type": "code",
   "execution_count": null,
   "id": "3802b17c",
   "metadata": {},
   "outputs": [],
   "source": []
  }
 ],
 "metadata": {
  "hide_input": false,
  "kernelspec": {
   "display_name": "Python 3",
   "language": "python",
   "name": "python3"
  },
  "language_info": {
   "codemirror_mode": {
    "name": "ipython",
    "version": 3
   },
   "file_extension": ".py",
   "mimetype": "text/x-python",
   "name": "python",
   "nbconvert_exporter": "python",
   "pygments_lexer": "ipython3",
   "version": "3.8.8"
  },
  "toc": {
   "base_numbering": 1,
   "nav_menu": {},
   "number_sections": true,
   "sideBar": true,
   "skip_h1_title": false,
   "title_cell": "Table of Contents",
   "title_sidebar": "Contents",
   "toc_cell": false,
   "toc_position": {},
   "toc_section_display": true,
   "toc_window_display": false
  },
  "varInspector": {
   "cols": {
    "lenName": 16,
    "lenType": 16,
    "lenVar": 40
   },
   "kernels_config": {
    "python": {
     "delete_cmd_postfix": "",
     "delete_cmd_prefix": "del ",
     "library": "var_list.py",
     "varRefreshCmd": "print(var_dic_list())"
    },
    "r": {
     "delete_cmd_postfix": ") ",
     "delete_cmd_prefix": "rm(",
     "library": "var_list.r",
     "varRefreshCmd": "cat(var_dic_list()) "
    }
   },
   "types_to_exclude": [
    "module",
    "function",
    "builtin_function_or_method",
    "instance",
    "_Feature"
   ],
   "window_display": false
  }
 },
 "nbformat": 4,
 "nbformat_minor": 5
}
