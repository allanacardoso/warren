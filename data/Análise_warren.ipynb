{
 "cells": [
  {
   "cell_type": "markdown",
   "id": "a3106661",
   "metadata": {
    "ExecuteTime": {
     "end_time": "2021-09-03T02:48:25.524350Z",
     "start_time": "2021-09-03T02:48:25.511349Z"
    }
   },
   "source": [
    "# Importando as libs"
   ]
  },
  {
   "cell_type": "code",
   "execution_count": 36,
   "id": "d7e7194a",
   "metadata": {
    "ExecuteTime": {
     "end_time": "2021-09-06T01:08:05.620927Z",
     "start_time": "2021-09-06T01:08:01.819968Z"
    }
   },
   "outputs": [
    {
     "name": "stdout",
     "output_type": "stream",
     "text": [
      "Requirement already satisfied: pandasql in c:\\users\\re041273\\anaconda3\\lib\\site-packages (0.7.3)\n",
      "Requirement already satisfied: pandas in c:\\users\\re041273\\anaconda3\\lib\\site-packages (from pandasql) (1.2.4)\n",
      "Requirement already satisfied: numpy in c:\\users\\re041273\\anaconda3\\lib\\site-packages (from pandasql) (1.20.1)\n",
      "Requirement already satisfied: sqlalchemy in c:\\users\\re041273\\anaconda3\\lib\\site-packages (from pandasql) (1.4.7)\n",
      "Requirement already satisfied: pytz>=2017.3 in c:\\users\\re041273\\anaconda3\\lib\\site-packages (from pandas->pandasql) (2021.1)\n",
      "Requirement already satisfied: python-dateutil>=2.7.3 in c:\\users\\re041273\\anaconda3\\lib\\site-packages (from pandas->pandasql) (2.8.1)\n",
      "Requirement already satisfied: six>=1.5 in c:\\users\\re041273\\anaconda3\\lib\\site-packages (from python-dateutil>=2.7.3->pandas->pandasql) (1.15.0)\n",
      "Requirement already satisfied: greenlet!=0.4.17 in c:\\users\\re041273\\anaconda3\\lib\\site-packages (from sqlalchemy->pandasql) (1.0.0)\n"
     ]
    }
   ],
   "source": [
    "!pip install pandasql"
   ]
  },
  {
   "cell_type": "code",
   "execution_count": 2,
   "id": "fd5755b9",
   "metadata": {
    "ExecuteTime": {
     "end_time": "2021-09-03T19:51:04.733402Z",
     "start_time": "2021-09-03T19:51:03.917363Z"
    }
   },
   "outputs": [],
   "source": [
    "import pandas as pd\n",
    "from pandasql import sqldf\n",
    "from datetime import datetime"
   ]
  },
  {
   "cell_type": "code",
   "execution_count": 111,
   "id": "4d5cf80e",
   "metadata": {
    "ExecuteTime": {
     "end_time": "2021-09-06T02:15:56.667638Z",
     "start_time": "2021-09-06T02:15:56.662634Z"
    }
   },
   "outputs": [],
   "source": [
    "import matplotlib as plt"
   ]
  },
  {
   "cell_type": "markdown",
   "id": "96a61a9b",
   "metadata": {},
   "source": [
    "# Leitura dos arquivos"
   ]
  },
  {
   "cell_type": "code",
   "execution_count": 112,
   "id": "461d7ab8",
   "metadata": {
    "ExecuteTime": {
     "end_time": "2021-09-06T02:16:00.199399Z",
     "start_time": "2021-09-06T02:16:00.178385Z"
    }
   },
   "outputs": [],
   "source": [
    "#Tabela Customers\n",
    "df_customers = pd.read_csv(\"Customers.csv\")\n",
    "\n",
    "#Tabela Events\n",
    "df_events = pd.read_csv(\"Events.csv\")\n",
    "\n",
    "#Tabela Transactions\n",
    "df_transactions = pd.read_csv(\"Transactions.csv\")"
   ]
  },
  {
   "cell_type": "markdown",
   "id": "4cca7f65",
   "metadata": {},
   "source": [
    "# Tabela Customers"
   ]
  },
  {
   "cell_type": "code",
   "execution_count": 113,
   "id": "04ae5cb7",
   "metadata": {
    "ExecuteTime": {
     "end_time": "2021-09-06T02:16:02.142635Z",
     "start_time": "2021-09-06T02:16:02.125635Z"
    },
    "scrolled": true
   },
   "outputs": [
    {
     "data": {
      "text/html": [
       "<div>\n",
       "<style scoped>\n",
       "    .dataframe tbody tr th:only-of-type {\n",
       "        vertical-align: middle;\n",
       "    }\n",
       "\n",
       "    .dataframe tbody tr th {\n",
       "        vertical-align: top;\n",
       "    }\n",
       "\n",
       "    .dataframe thead th {\n",
       "        text-align: right;\n",
       "    }\n",
       "</style>\n",
       "<table border=\"1\" class=\"dataframe\">\n",
       "  <thead>\n",
       "    <tr style=\"text-align: right;\">\n",
       "      <th></th>\n",
       "      <th>CustomerApiid</th>\n",
       "      <th>CustomerId</th>\n",
       "      <th>AUM</th>\n",
       "      <th>RegisterDate</th>\n",
       "      <th>AmountFirstDeposit</th>\n",
       "      <th>TotalDeposits</th>\n",
       "      <th>TotalWithdrawals</th>\n",
       "      <th>MonthlyIncome</th>\n",
       "      <th>FinancialInvestmentsValue</th>\n",
       "      <th>Age</th>\n",
       "      <th>ComputedRiskTolerance</th>\n",
       "    </tr>\n",
       "  </thead>\n",
       "  <tbody>\n",
       "    <tr>\n",
       "      <th>0</th>\n",
       "      <td>60a7d0011363ea0011d0eb80</td>\n",
       "      <td>192260</td>\n",
       "      <td>601.525833</td>\n",
       "      <td>2021-06-10 21:23:31</td>\n",
       "      <td>100.013269</td>\n",
       "      <td>5</td>\n",
       "      <td>0</td>\n",
       "      <td>250.0</td>\n",
       "      <td>3000.0</td>\n",
       "      <td>14</td>\n",
       "      <td>22.22</td>\n",
       "    </tr>\n",
       "    <tr>\n",
       "      <th>1</th>\n",
       "      <td>60c77e1ffdaebd001875353e</td>\n",
       "      <td>192853</td>\n",
       "      <td>1798.831206</td>\n",
       "      <td>2021-06-14 16:13:56</td>\n",
       "      <td>300.048411</td>\n",
       "      <td>2</td>\n",
       "      <td>0</td>\n",
       "      <td>8000.0</td>\n",
       "      <td>180000.0</td>\n",
       "      <td>35</td>\n",
       "      <td>77.78</td>\n",
       "    </tr>\n",
       "    <tr>\n",
       "      <th>2</th>\n",
       "      <td>588f45ae0a760bb65b380afa</td>\n",
       "      <td>11897</td>\n",
       "      <td>1621.043680</td>\n",
       "      <td>2017-09-14 12:08:06</td>\n",
       "      <td>2500.000000</td>\n",
       "      <td>13</td>\n",
       "      <td>2</td>\n",
       "      <td>4500.0</td>\n",
       "      <td>0.0</td>\n",
       "      <td>32</td>\n",
       "      <td>17.00</td>\n",
       "    </tr>\n",
       "    <tr>\n",
       "      <th>3</th>\n",
       "      <td>5915d73623d4b1881694e11e</td>\n",
       "      <td>12583</td>\n",
       "      <td>78643.814178</td>\n",
       "      <td>2017-09-25 15:44:40</td>\n",
       "      <td>2005.000000</td>\n",
       "      <td>37</td>\n",
       "      <td>7</td>\n",
       "      <td>18000.0</td>\n",
       "      <td>120000.0</td>\n",
       "      <td>34</td>\n",
       "      <td>69.17</td>\n",
       "    </tr>\n",
       "    <tr>\n",
       "      <th>4</th>\n",
       "      <td>591f5f3b3daa47c6488bce3f</td>\n",
       "      <td>5564</td>\n",
       "      <td>422.691159</td>\n",
       "      <td>2017-05-22 18:38:05</td>\n",
       "      <td>2000.000000</td>\n",
       "      <td>23</td>\n",
       "      <td>7</td>\n",
       "      <td>2000.0</td>\n",
       "      <td>45000.0</td>\n",
       "      <td>29</td>\n",
       "      <td>0.00</td>\n",
       "    </tr>\n",
       "  </tbody>\n",
       "</table>\n",
       "</div>"
      ],
      "text/plain": [
       "              CustomerApiid  CustomerId           AUM         RegisterDate  \\\n",
       "0  60a7d0011363ea0011d0eb80      192260    601.525833  2021-06-10 21:23:31   \n",
       "1  60c77e1ffdaebd001875353e      192853   1798.831206  2021-06-14 16:13:56   \n",
       "2  588f45ae0a760bb65b380afa       11897   1621.043680  2017-09-14 12:08:06   \n",
       "3  5915d73623d4b1881694e11e       12583  78643.814178  2017-09-25 15:44:40   \n",
       "4  591f5f3b3daa47c6488bce3f        5564    422.691159  2017-05-22 18:38:05   \n",
       "\n",
       "   AmountFirstDeposit  TotalDeposits  TotalWithdrawals  MonthlyIncome  \\\n",
       "0          100.013269              5                 0          250.0   \n",
       "1          300.048411              2                 0         8000.0   \n",
       "2         2500.000000             13                 2         4500.0   \n",
       "3         2005.000000             37                 7        18000.0   \n",
       "4         2000.000000             23                 7         2000.0   \n",
       "\n",
       "   FinancialInvestmentsValue  Age  ComputedRiskTolerance  \n",
       "0                     3000.0   14                  22.22  \n",
       "1                   180000.0   35                  77.78  \n",
       "2                        0.0   32                  17.00  \n",
       "3                   120000.0   34                  69.17  \n",
       "4                    45000.0   29                   0.00  "
      ]
     },
     "execution_count": 113,
     "metadata": {},
     "output_type": "execute_result"
    }
   ],
   "source": [
    "df_customers.head()"
   ]
  },
  {
   "cell_type": "code",
   "execution_count": 114,
   "id": "2f3591f4",
   "metadata": {
    "ExecuteTime": {
     "end_time": "2021-09-06T02:16:02.453927Z",
     "start_time": "2021-09-06T02:16:02.434926Z"
    }
   },
   "outputs": [
    {
     "data": {
      "text/plain": [
       "(1000, 11)"
      ]
     },
     "execution_count": 114,
     "metadata": {},
     "output_type": "execute_result"
    }
   ],
   "source": [
    "#Verificando linhas e colunas\n",
    "df_customers.shape"
   ]
  },
  {
   "cell_type": "raw",
   "id": "3e684c35-18a3-4481-ad0d-325881877ddb",
   "metadata": {},
   "source": [
    "df_customers"
   ]
  },
  {
   "cell_type": "code",
   "execution_count": 115,
   "id": "4ce8cc45",
   "metadata": {
    "ExecuteTime": {
     "end_time": "2021-09-06T02:16:03.293940Z",
     "start_time": "2021-09-06T02:16:03.277047Z"
    }
   },
   "outputs": [
    {
     "name": "stdout",
     "output_type": "stream",
     "text": [
      "<class 'pandas.core.frame.DataFrame'>\n",
      "RangeIndex: 1000 entries, 0 to 999\n",
      "Data columns (total 11 columns):\n",
      " #   Column                     Non-Null Count  Dtype  \n",
      "---  ------                     --------------  -----  \n",
      " 0   CustomerApiid              1000 non-null   object \n",
      " 1   CustomerId                 1000 non-null   int64  \n",
      " 2   AUM                        1000 non-null   float64\n",
      " 3   RegisterDate               1000 non-null   object \n",
      " 4   AmountFirstDeposit         1000 non-null   float64\n",
      " 5   TotalDeposits              1000 non-null   int64  \n",
      " 6   TotalWithdrawals           1000 non-null   int64  \n",
      " 7   MonthlyIncome              1000 non-null   float64\n",
      " 8   FinancialInvestmentsValue  1000 non-null   float64\n",
      " 9   Age                        1000 non-null   int64  \n",
      " 10  ComputedRiskTolerance      1000 non-null   float64\n",
      "dtypes: float64(5), int64(4), object(2)\n",
      "memory usage: 86.1+ KB\n"
     ]
    }
   ],
   "source": [
    "df_customers.info()"
   ]
  },
  {
   "cell_type": "markdown",
   "id": "5eeebb7c",
   "metadata": {},
   "source": [
    "##### A tabela Customers não contém dados nulos"
   ]
  },
  {
   "cell_type": "code",
   "execution_count": 116,
   "id": "8d8d391c",
   "metadata": {
    "ExecuteTime": {
     "end_time": "2021-09-06T02:16:04.059683Z",
     "start_time": "2021-09-06T02:16:04.021658Z"
    }
   },
   "outputs": [
    {
     "data": {
      "text/html": [
       "<div>\n",
       "<style scoped>\n",
       "    .dataframe tbody tr th:only-of-type {\n",
       "        vertical-align: middle;\n",
       "    }\n",
       "\n",
       "    .dataframe tbody tr th {\n",
       "        vertical-align: top;\n",
       "    }\n",
       "\n",
       "    .dataframe thead th {\n",
       "        text-align: right;\n",
       "    }\n",
       "</style>\n",
       "<table border=\"1\" class=\"dataframe\">\n",
       "  <thead>\n",
       "    <tr style=\"text-align: right;\">\n",
       "      <th></th>\n",
       "      <th>count</th>\n",
       "      <th>mean</th>\n",
       "      <th>std</th>\n",
       "      <th>min</th>\n",
       "      <th>25%</th>\n",
       "      <th>50%</th>\n",
       "      <th>75%</th>\n",
       "      <th>max</th>\n",
       "    </tr>\n",
       "  </thead>\n",
       "  <tbody>\n",
       "    <tr>\n",
       "      <th>CustomerId</th>\n",
       "      <td>1000.0</td>\n",
       "      <td>113653.852000</td>\n",
       "      <td>55113.274917</td>\n",
       "      <td>44.0</td>\n",
       "      <td>69583.000000</td>\n",
       "      <td>123887.500000</td>\n",
       "      <td>161280.000000</td>\n",
       "      <td>1.976300e+05</td>\n",
       "    </tr>\n",
       "    <tr>\n",
       "      <th>AUM</th>\n",
       "      <td>1000.0</td>\n",
       "      <td>91684.637534</td>\n",
       "      <td>731956.818917</td>\n",
       "      <td>0.0</td>\n",
       "      <td>100.012157</td>\n",
       "      <td>3877.396861</td>\n",
       "      <td>21399.469655</td>\n",
       "      <td>1.509724e+07</td>\n",
       "    </tr>\n",
       "    <tr>\n",
       "      <th>AmountFirstDeposit</th>\n",
       "      <td>1000.0</td>\n",
       "      <td>25710.737689</td>\n",
       "      <td>273690.796700</td>\n",
       "      <td>1.0</td>\n",
       "      <td>120.000000</td>\n",
       "      <td>847.944318</td>\n",
       "      <td>4849.750000</td>\n",
       "      <td>8.000373e+06</td>\n",
       "    </tr>\n",
       "    <tr>\n",
       "      <th>TotalDeposits</th>\n",
       "      <td>1000.0</td>\n",
       "      <td>18.876000</td>\n",
       "      <td>24.280283</td>\n",
       "      <td>1.0</td>\n",
       "      <td>4.000000</td>\n",
       "      <td>11.000000</td>\n",
       "      <td>23.250000</td>\n",
       "      <td>2.240000e+02</td>\n",
       "    </tr>\n",
       "    <tr>\n",
       "      <th>TotalWithdrawals</th>\n",
       "      <td>1000.0</td>\n",
       "      <td>3.735000</td>\n",
       "      <td>6.583017</td>\n",
       "      <td>0.0</td>\n",
       "      <td>0.000000</td>\n",
       "      <td>1.500000</td>\n",
       "      <td>5.000000</td>\n",
       "      <td>8.600000e+01</td>\n",
       "    </tr>\n",
       "    <tr>\n",
       "      <th>MonthlyIncome</th>\n",
       "      <td>1000.0</td>\n",
       "      <td>32588.987080</td>\n",
       "      <td>513055.898063</td>\n",
       "      <td>0.0</td>\n",
       "      <td>2000.000000</td>\n",
       "      <td>4000.000000</td>\n",
       "      <td>8000.000000</td>\n",
       "      <td>1.500000e+07</td>\n",
       "    </tr>\n",
       "    <tr>\n",
       "      <th>FinancialInvestmentsValue</th>\n",
       "      <td>1000.0</td>\n",
       "      <td>117110.857000</td>\n",
       "      <td>577946.534151</td>\n",
       "      <td>0.0</td>\n",
       "      <td>0.000000</td>\n",
       "      <td>1000.000000</td>\n",
       "      <td>30000.000000</td>\n",
       "      <td>1.100000e+07</td>\n",
       "    </tr>\n",
       "    <tr>\n",
       "      <th>Age</th>\n",
       "      <td>1000.0</td>\n",
       "      <td>33.492000</td>\n",
       "      <td>11.302641</td>\n",
       "      <td>0.0</td>\n",
       "      <td>26.000000</td>\n",
       "      <td>31.000000</td>\n",
       "      <td>38.000000</td>\n",
       "      <td>9.000000e+01</td>\n",
       "    </tr>\n",
       "    <tr>\n",
       "      <th>ComputedRiskTolerance</th>\n",
       "      <td>1000.0</td>\n",
       "      <td>24.072160</td>\n",
       "      <td>15.301873</td>\n",
       "      <td>0.0</td>\n",
       "      <td>14.000000</td>\n",
       "      <td>20.000000</td>\n",
       "      <td>27.000000</td>\n",
       "      <td>9.630000e+01</td>\n",
       "    </tr>\n",
       "  </tbody>\n",
       "</table>\n",
       "</div>"
      ],
      "text/plain": [
       "                            count           mean            std   min  \\\n",
       "CustomerId                 1000.0  113653.852000   55113.274917  44.0   \n",
       "AUM                        1000.0   91684.637534  731956.818917   0.0   \n",
       "AmountFirstDeposit         1000.0   25710.737689  273690.796700   1.0   \n",
       "TotalDeposits              1000.0      18.876000      24.280283   1.0   \n",
       "TotalWithdrawals           1000.0       3.735000       6.583017   0.0   \n",
       "MonthlyIncome              1000.0   32588.987080  513055.898063   0.0   \n",
       "FinancialInvestmentsValue  1000.0  117110.857000  577946.534151   0.0   \n",
       "Age                        1000.0      33.492000      11.302641   0.0   \n",
       "ComputedRiskTolerance      1000.0      24.072160      15.301873   0.0   \n",
       "\n",
       "                                    25%            50%            75%  \\\n",
       "CustomerId                 69583.000000  123887.500000  161280.000000   \n",
       "AUM                          100.012157    3877.396861   21399.469655   \n",
       "AmountFirstDeposit           120.000000     847.944318    4849.750000   \n",
       "TotalDeposits                  4.000000      11.000000      23.250000   \n",
       "TotalWithdrawals               0.000000       1.500000       5.000000   \n",
       "MonthlyIncome               2000.000000    4000.000000    8000.000000   \n",
       "FinancialInvestmentsValue      0.000000    1000.000000   30000.000000   \n",
       "Age                           26.000000      31.000000      38.000000   \n",
       "ComputedRiskTolerance         14.000000      20.000000      27.000000   \n",
       "\n",
       "                                    max  \n",
       "CustomerId                 1.976300e+05  \n",
       "AUM                        1.509724e+07  \n",
       "AmountFirstDeposit         8.000373e+06  \n",
       "TotalDeposits              2.240000e+02  \n",
       "TotalWithdrawals           8.600000e+01  \n",
       "MonthlyIncome              1.500000e+07  \n",
       "FinancialInvestmentsValue  1.100000e+07  \n",
       "Age                        9.000000e+01  \n",
       "ComputedRiskTolerance      9.630000e+01  "
      ]
     },
     "execution_count": 116,
     "metadata": {},
     "output_type": "execute_result"
    }
   ],
   "source": [
    "df_customers.describe().T"
   ]
  },
  {
   "cell_type": "code",
   "execution_count": 117,
   "id": "fa2b5ae3",
   "metadata": {
    "ExecuteTime": {
     "end_time": "2021-09-06T02:16:04.405161Z",
     "start_time": "2021-09-06T02:16:04.382122Z"
    }
   },
   "outputs": [
    {
     "data": {
      "text/html": [
       "<div>\n",
       "<style scoped>\n",
       "    .dataframe tbody tr th:only-of-type {\n",
       "        vertical-align: middle;\n",
       "    }\n",
       "\n",
       "    .dataframe tbody tr th {\n",
       "        vertical-align: top;\n",
       "    }\n",
       "\n",
       "    .dataframe thead th {\n",
       "        text-align: right;\n",
       "    }\n",
       "</style>\n",
       "<table border=\"1\" class=\"dataframe\">\n",
       "  <thead>\n",
       "    <tr style=\"text-align: right;\">\n",
       "      <th></th>\n",
       "      <th>CustomerApiid</th>\n",
       "      <th>CustomerId</th>\n",
       "      <th>AUM</th>\n",
       "      <th>RegisterDate</th>\n",
       "      <th>AmountFirstDeposit</th>\n",
       "      <th>TotalDeposits</th>\n",
       "      <th>TotalWithdrawals</th>\n",
       "      <th>MonthlyIncome</th>\n",
       "      <th>FinancialInvestmentsValue</th>\n",
       "      <th>Age</th>\n",
       "      <th>ComputedRiskTolerance</th>\n",
       "    </tr>\n",
       "  </thead>\n",
       "  <tbody>\n",
       "    <tr>\n",
       "      <th>0</th>\n",
       "      <td>60a7d0011363ea0011d0eb80</td>\n",
       "      <td>192260</td>\n",
       "      <td>601.525833</td>\n",
       "      <td>2021-06-10 21:23:31</td>\n",
       "      <td>100.013269</td>\n",
       "      <td>5</td>\n",
       "      <td>0</td>\n",
       "      <td>250.0</td>\n",
       "      <td>3000.0</td>\n",
       "      <td>14</td>\n",
       "      <td>22.22</td>\n",
       "    </tr>\n",
       "    <tr>\n",
       "      <th>1</th>\n",
       "      <td>60c77e1ffdaebd001875353e</td>\n",
       "      <td>192853</td>\n",
       "      <td>1798.831206</td>\n",
       "      <td>2021-06-14 16:13:56</td>\n",
       "      <td>300.048411</td>\n",
       "      <td>2</td>\n",
       "      <td>0</td>\n",
       "      <td>8000.0</td>\n",
       "      <td>180000.0</td>\n",
       "      <td>35</td>\n",
       "      <td>77.78</td>\n",
       "    </tr>\n",
       "    <tr>\n",
       "      <th>2</th>\n",
       "      <td>588f45ae0a760bb65b380afa</td>\n",
       "      <td>11897</td>\n",
       "      <td>1621.043680</td>\n",
       "      <td>2017-09-14 12:08:06</td>\n",
       "      <td>2500.000000</td>\n",
       "      <td>13</td>\n",
       "      <td>2</td>\n",
       "      <td>4500.0</td>\n",
       "      <td>0.0</td>\n",
       "      <td>32</td>\n",
       "      <td>17.00</td>\n",
       "    </tr>\n",
       "    <tr>\n",
       "      <th>3</th>\n",
       "      <td>5915d73623d4b1881694e11e</td>\n",
       "      <td>12583</td>\n",
       "      <td>78643.814178</td>\n",
       "      <td>2017-09-25 15:44:40</td>\n",
       "      <td>2005.000000</td>\n",
       "      <td>37</td>\n",
       "      <td>7</td>\n",
       "      <td>18000.0</td>\n",
       "      <td>120000.0</td>\n",
       "      <td>34</td>\n",
       "      <td>69.17</td>\n",
       "    </tr>\n",
       "    <tr>\n",
       "      <th>4</th>\n",
       "      <td>591f5f3b3daa47c6488bce3f</td>\n",
       "      <td>5564</td>\n",
       "      <td>422.691159</td>\n",
       "      <td>2017-05-22 18:38:05</td>\n",
       "      <td>2000.000000</td>\n",
       "      <td>23</td>\n",
       "      <td>7</td>\n",
       "      <td>2000.0</td>\n",
       "      <td>45000.0</td>\n",
       "      <td>29</td>\n",
       "      <td>0.00</td>\n",
       "    </tr>\n",
       "  </tbody>\n",
       "</table>\n",
       "</div>"
      ],
      "text/plain": [
       "              CustomerApiid  CustomerId           AUM         RegisterDate  \\\n",
       "0  60a7d0011363ea0011d0eb80      192260    601.525833  2021-06-10 21:23:31   \n",
       "1  60c77e1ffdaebd001875353e      192853   1798.831206  2021-06-14 16:13:56   \n",
       "2  588f45ae0a760bb65b380afa       11897   1621.043680  2017-09-14 12:08:06   \n",
       "3  5915d73623d4b1881694e11e       12583  78643.814178  2017-09-25 15:44:40   \n",
       "4  591f5f3b3daa47c6488bce3f        5564    422.691159  2017-05-22 18:38:05   \n",
       "\n",
       "   AmountFirstDeposit  TotalDeposits  TotalWithdrawals  MonthlyIncome  \\\n",
       "0          100.013269              5                 0          250.0   \n",
       "1          300.048411              2                 0         8000.0   \n",
       "2         2500.000000             13                 2         4500.0   \n",
       "3         2005.000000             37                 7        18000.0   \n",
       "4         2000.000000             23                 7         2000.0   \n",
       "\n",
       "   FinancialInvestmentsValue  Age  ComputedRiskTolerance  \n",
       "0                     3000.0   14                  22.22  \n",
       "1                   180000.0   35                  77.78  \n",
       "2                        0.0   32                  17.00  \n",
       "3                   120000.0   34                  69.17  \n",
       "4                    45000.0   29                   0.00  "
      ]
     },
     "execution_count": 117,
     "metadata": {},
     "output_type": "execute_result"
    }
   ],
   "source": [
    "df_customers.head()"
   ]
  },
  {
   "cell_type": "code",
   "execution_count": 118,
   "id": "8dc2e73b",
   "metadata": {
    "ExecuteTime": {
     "end_time": "2021-09-06T02:16:04.808245Z",
     "start_time": "2021-09-06T02:16:04.789245Z"
    }
   },
   "outputs": [
    {
     "name": "stdout",
     "output_type": "stream",
     "text": [
      "CustomerApiid                        object\n",
      "CustomerId                            int64\n",
      "AUM                                 float64\n",
      "RegisterDate                 datetime64[ns]\n",
      "AmountFirstDeposit                  float64\n",
      "TotalDeposits                         int64\n",
      "TotalWithdrawals                      int64\n",
      "MonthlyIncome                       float64\n",
      "FinancialInvestmentsValue           float64\n",
      "Age                                   int64\n",
      "ComputedRiskTolerance               float64\n",
      "dtype: object\n"
     ]
    }
   ],
   "source": [
    "#Convertendo a coluna de 'RegisterDate' para datetime\n",
    "\n",
    "df_customers['RegisterDate'] = pd.to_datetime(df_customers['RegisterDate'], format='%Y-%m-%d %H:%M:%S')\n",
    "print(df_customers.dtypes)"
   ]
  },
  {
   "cell_type": "markdown",
   "id": "aea624b3",
   "metadata": {},
   "source": [
    "# Tabela Events"
   ]
  },
  {
   "cell_type": "code",
   "execution_count": 119,
   "id": "7ad7e21e",
   "metadata": {
    "ExecuteTime": {
     "end_time": "2021-09-06T02:16:05.576962Z",
     "start_time": "2021-09-06T02:16:05.556983Z"
    }
   },
   "outputs": [
    {
     "data": {
      "text/html": [
       "<div>\n",
       "<style scoped>\n",
       "    .dataframe tbody tr th:only-of-type {\n",
       "        vertical-align: middle;\n",
       "    }\n",
       "\n",
       "    .dataframe tbody tr th {\n",
       "        vertical-align: top;\n",
       "    }\n",
       "\n",
       "    .dataframe thead th {\n",
       "        text-align: right;\n",
       "    }\n",
       "</style>\n",
       "<table border=\"1\" class=\"dataframe\">\n",
       "  <thead>\n",
       "    <tr style=\"text-align: right;\">\n",
       "      <th></th>\n",
       "      <th>EventDate</th>\n",
       "      <th>Platform</th>\n",
       "      <th>CustomerApiid</th>\n",
       "    </tr>\n",
       "  </thead>\n",
       "  <tbody>\n",
       "    <tr>\n",
       "      <th>0</th>\n",
       "      <td>20210112</td>\n",
       "      <td>IOS</td>\n",
       "      <td>5eb045b00d281d0010993b19</td>\n",
       "    </tr>\n",
       "    <tr>\n",
       "      <th>1</th>\n",
       "      <td>20210112</td>\n",
       "      <td>IOS</td>\n",
       "      <td>5d54036d7a4e2a00129ac685</td>\n",
       "    </tr>\n",
       "    <tr>\n",
       "      <th>2</th>\n",
       "      <td>20210112</td>\n",
       "      <td>IOS</td>\n",
       "      <td>5f160ad08df61f00175d4a94</td>\n",
       "    </tr>\n",
       "    <tr>\n",
       "      <th>3</th>\n",
       "      <td>20210112</td>\n",
       "      <td>IOS</td>\n",
       "      <td>5e1f7e25a6a96a0010ee1545</td>\n",
       "    </tr>\n",
       "    <tr>\n",
       "      <th>4</th>\n",
       "      <td>20210112</td>\n",
       "      <td>IOS</td>\n",
       "      <td>5e66a9a9e7bbca00119eb5fc</td>\n",
       "    </tr>\n",
       "  </tbody>\n",
       "</table>\n",
       "</div>"
      ],
      "text/plain": [
       "   EventDate Platform             CustomerApiid\n",
       "0   20210112      IOS  5eb045b00d281d0010993b19\n",
       "1   20210112      IOS  5d54036d7a4e2a00129ac685\n",
       "2   20210112      IOS  5f160ad08df61f00175d4a94\n",
       "3   20210112      IOS  5e1f7e25a6a96a0010ee1545\n",
       "4   20210112      IOS  5e66a9a9e7bbca00119eb5fc"
      ]
     },
     "execution_count": 119,
     "metadata": {},
     "output_type": "execute_result"
    }
   ],
   "source": [
    "df_events.head()"
   ]
  },
  {
   "cell_type": "code",
   "execution_count": 120,
   "id": "f04566fe",
   "metadata": {
    "ExecuteTime": {
     "end_time": "2021-09-06T02:16:05.922895Z",
     "start_time": "2021-09-06T02:16:05.902861Z"
    }
   },
   "outputs": [
    {
     "data": {
      "text/plain": [
       "(1000, 3)"
      ]
     },
     "execution_count": 120,
     "metadata": {},
     "output_type": "execute_result"
    }
   ],
   "source": [
    "df_events.shape"
   ]
  },
  {
   "cell_type": "code",
   "execution_count": 121,
   "id": "075f540c",
   "metadata": {
    "ExecuteTime": {
     "end_time": "2021-09-06T02:16:06.300379Z",
     "start_time": "2021-09-06T02:16:06.285380Z"
    }
   },
   "outputs": [
    {
     "name": "stdout",
     "output_type": "stream",
     "text": [
      "<class 'pandas.core.frame.DataFrame'>\n",
      "RangeIndex: 1000 entries, 0 to 999\n",
      "Data columns (total 3 columns):\n",
      " #   Column         Non-Null Count  Dtype \n",
      "---  ------         --------------  ----- \n",
      " 0   EventDate      1000 non-null   int64 \n",
      " 1   Platform       1000 non-null   object\n",
      " 2   CustomerApiid  1000 non-null   object\n",
      "dtypes: int64(1), object(2)\n",
      "memory usage: 23.6+ KB\n"
     ]
    }
   ],
   "source": [
    "df_events.info()"
   ]
  },
  {
   "cell_type": "code",
   "execution_count": 122,
   "id": "696ad436",
   "metadata": {
    "ExecuteTime": {
     "end_time": "2021-09-06T02:16:06.705916Z",
     "start_time": "2021-09-06T02:16:06.694881Z"
    }
   },
   "outputs": [
    {
     "name": "stdout",
     "output_type": "stream",
     "text": [
      "EventDate        datetime64[ns]\n",
      "Platform                 object\n",
      "CustomerApiid            object\n",
      "dtype: object\n"
     ]
    }
   ],
   "source": [
    "#Convertendo a coluna de 'EventDate' para datetime\n",
    "\n",
    "df_events['EventDate'] = pd.to_datetime(df_events['EventDate'], format='%Y%m%d')\n",
    "print(df_events.dtypes)"
   ]
  },
  {
   "cell_type": "markdown",
   "id": "9f23dfc8",
   "metadata": {},
   "source": [
    "# Tabela Transactions"
   ]
  },
  {
   "cell_type": "code",
   "execution_count": 123,
   "id": "5090996a",
   "metadata": {
    "ExecuteTime": {
     "end_time": "2021-09-06T02:16:07.470152Z",
     "start_time": "2021-09-06T02:16:07.454163Z"
    }
   },
   "outputs": [
    {
     "data": {
      "text/html": [
       "<div>\n",
       "<style scoped>\n",
       "    .dataframe tbody tr th:only-of-type {\n",
       "        vertical-align: middle;\n",
       "    }\n",
       "\n",
       "    .dataframe tbody tr th {\n",
       "        vertical-align: top;\n",
       "    }\n",
       "\n",
       "    .dataframe thead th {\n",
       "        text-align: right;\n",
       "    }\n",
       "</style>\n",
       "<table border=\"1\" class=\"dataframe\">\n",
       "  <thead>\n",
       "    <tr style=\"text-align: right;\">\n",
       "      <th></th>\n",
       "      <th>Id</th>\n",
       "      <th>Direction</th>\n",
       "      <th>Amount</th>\n",
       "      <th>CustomerId</th>\n",
       "      <th>OperatedAt</th>\n",
       "    </tr>\n",
       "  </thead>\n",
       "  <tbody>\n",
       "    <tr>\n",
       "      <th>0</th>\n",
       "      <td>456538</td>\n",
       "      <td>10</td>\n",
       "      <td>200.00</td>\n",
       "      <td>64319</td>\n",
       "      <td>2021-05-03 09:40:42</td>\n",
       "    </tr>\n",
       "    <tr>\n",
       "      <th>1</th>\n",
       "      <td>475487</td>\n",
       "      <td>20</td>\n",
       "      <td>108.82</td>\n",
       "      <td>98336</td>\n",
       "      <td>2021-05-11 00:00:00</td>\n",
       "    </tr>\n",
       "    <tr>\n",
       "      <th>2</th>\n",
       "      <td>623919</td>\n",
       "      <td>10</td>\n",
       "      <td>1000.00</td>\n",
       "      <td>129337</td>\n",
       "      <td>2021-01-19 12:32:37</td>\n",
       "    </tr>\n",
       "    <tr>\n",
       "      <th>3</th>\n",
       "      <td>664611</td>\n",
       "      <td>10</td>\n",
       "      <td>1.00</td>\n",
       "      <td>2443</td>\n",
       "      <td>2021-06-09 13:57:21</td>\n",
       "    </tr>\n",
       "    <tr>\n",
       "      <th>4</th>\n",
       "      <td>670787</td>\n",
       "      <td>10</td>\n",
       "      <td>100.00</td>\n",
       "      <td>73726</td>\n",
       "      <td>2021-05-27 09:52:18</td>\n",
       "    </tr>\n",
       "  </tbody>\n",
       "</table>\n",
       "</div>"
      ],
      "text/plain": [
       "       Id  Direction   Amount  CustomerId           OperatedAt\n",
       "0  456538         10   200.00       64319  2021-05-03 09:40:42\n",
       "1  475487         20   108.82       98336  2021-05-11 00:00:00\n",
       "2  623919         10  1000.00      129337  2021-01-19 12:32:37\n",
       "3  664611         10     1.00        2443  2021-06-09 13:57:21\n",
       "4  670787         10   100.00       73726  2021-05-27 09:52:18"
      ]
     },
     "execution_count": 123,
     "metadata": {},
     "output_type": "execute_result"
    }
   ],
   "source": [
    "df_transactions.head()"
   ]
  },
  {
   "cell_type": "code",
   "execution_count": 124,
   "id": "d4082089",
   "metadata": {
    "ExecuteTime": {
     "end_time": "2021-09-06T02:16:07.878674Z",
     "start_time": "2021-09-06T02:16:07.862668Z"
    }
   },
   "outputs": [
    {
     "name": "stdout",
     "output_type": "stream",
     "text": [
      "<class 'pandas.core.frame.DataFrame'>\n",
      "RangeIndex: 1000 entries, 0 to 999\n",
      "Data columns (total 5 columns):\n",
      " #   Column      Non-Null Count  Dtype  \n",
      "---  ------      --------------  -----  \n",
      " 0   Id          1000 non-null   int64  \n",
      " 1   Direction   1000 non-null   int64  \n",
      " 2   Amount      1000 non-null   float64\n",
      " 3   CustomerId  1000 non-null   int64  \n",
      " 4   OperatedAt  1000 non-null   object \n",
      "dtypes: float64(1), int64(3), object(1)\n",
      "memory usage: 39.2+ KB\n"
     ]
    }
   ],
   "source": [
    "df_transactions.info()"
   ]
  },
  {
   "cell_type": "code",
   "execution_count": 125,
   "id": "73f43043",
   "metadata": {
    "ExecuteTime": {
     "end_time": "2021-09-06T02:16:08.269869Z",
     "start_time": "2021-09-06T02:16:08.260870Z"
    }
   },
   "outputs": [
    {
     "name": "stdout",
     "output_type": "stream",
     "text": [
      "Id                     int64\n",
      "Direction              int64\n",
      "Amount               float64\n",
      "CustomerId             int64\n",
      "OperatedAt    datetime64[ns]\n",
      "dtype: object\n"
     ]
    }
   ],
   "source": [
    "#Convertendo a coluna de 'OperatedAt' para datetime\n",
    "\n",
    "df_transactions['OperatedAt'] = pd.to_datetime(df_transactions['OperatedAt'], format='%Y-%m-%d %H:%M:%S')\n",
    "print(df_transactions.dtypes)"
   ]
  },
  {
   "cell_type": "markdown",
   "id": "2e5db978",
   "metadata": {
    "ExecuteTime": {
     "end_time": "2021-09-03T03:37:05.796674Z",
     "start_time": "2021-09-03T03:37:05.789707Z"
    }
   },
   "source": [
    "# Unindo os dataframes para enriquecer a base"
   ]
  },
  {
   "cell_type": "code",
   "execution_count": 126,
   "id": "51017ad8",
   "metadata": {
    "ExecuteTime": {
     "end_time": "2021-09-06T02:16:09.156886Z",
     "start_time": "2021-09-06T02:16:09.140862Z"
    }
   },
   "outputs": [
    {
     "data": {
      "text/plain": [
       "\"df_client = pd.merge(df_customers, df_transactions, on='CustomerId', how='left')\\ndf_client.head()\""
      ]
     },
     "execution_count": 126,
     "metadata": {},
     "output_type": "execute_result"
    }
   ],
   "source": [
    "'''df_client = pd.merge(df_customers, df_transactions, on='CustomerId', how='left')\n",
    "df_client.head()'''"
   ]
  },
  {
   "cell_type": "code",
   "execution_count": 127,
   "id": "e84e88c6",
   "metadata": {
    "ExecuteTime": {
     "end_time": "2021-09-06T02:16:09.763972Z",
     "start_time": "2021-09-06T02:16:09.742974Z"
    }
   },
   "outputs": [
    {
     "data": {
      "text/html": [
       "<div>\n",
       "<style scoped>\n",
       "    .dataframe tbody tr th:only-of-type {\n",
       "        vertical-align: middle;\n",
       "    }\n",
       "\n",
       "    .dataframe tbody tr th {\n",
       "        vertical-align: top;\n",
       "    }\n",
       "\n",
       "    .dataframe thead th {\n",
       "        text-align: right;\n",
       "    }\n",
       "</style>\n",
       "<table border=\"1\" class=\"dataframe\">\n",
       "  <thead>\n",
       "    <tr style=\"text-align: right;\">\n",
       "      <th></th>\n",
       "      <th>CustomerApiid</th>\n",
       "      <th>CustomerId</th>\n",
       "      <th>AUM</th>\n",
       "      <th>RegisterDate</th>\n",
       "      <th>AmountFirstDeposit</th>\n",
       "      <th>TotalDeposits</th>\n",
       "      <th>TotalWithdrawals</th>\n",
       "      <th>MonthlyIncome</th>\n",
       "      <th>FinancialInvestmentsValue</th>\n",
       "      <th>Age</th>\n",
       "      <th>ComputedRiskTolerance</th>\n",
       "      <th>Id</th>\n",
       "      <th>Direction</th>\n",
       "      <th>Amount</th>\n",
       "      <th>OperatedAt</th>\n",
       "    </tr>\n",
       "  </thead>\n",
       "  <tbody>\n",
       "    <tr>\n",
       "      <th>0</th>\n",
       "      <td>597d1f93ad57cd674deb5dfd</td>\n",
       "      <td>64617</td>\n",
       "      <td>65413.030158</td>\n",
       "      <td>2019-01-02 16:58:00</td>\n",
       "      <td>200.0</td>\n",
       "      <td>22</td>\n",
       "      <td>1</td>\n",
       "      <td>8000.0</td>\n",
       "      <td>0.0</td>\n",
       "      <td>37</td>\n",
       "      <td>24.0</td>\n",
       "      <td>1201605</td>\n",
       "      <td>10</td>\n",
       "      <td>2000.0</td>\n",
       "      <td>2021-01-04 09:31:27</td>\n",
       "    </tr>\n",
       "    <tr>\n",
       "      <th>1</th>\n",
       "      <td>5a04bd4815a605790aff5c77</td>\n",
       "      <td>24431</td>\n",
       "      <td>0.000000</td>\n",
       "      <td>2018-01-02 18:41:09</td>\n",
       "      <td>300.0</td>\n",
       "      <td>14</td>\n",
       "      <td>9</td>\n",
       "      <td>2000.0</td>\n",
       "      <td>0.0</td>\n",
       "      <td>22</td>\n",
       "      <td>13.5</td>\n",
       "      <td>1201889</td>\n",
       "      <td>10</td>\n",
       "      <td>100.0</td>\n",
       "      <td>2021-01-07 00:00:00</td>\n",
       "    </tr>\n",
       "    <tr>\n",
       "      <th>2</th>\n",
       "      <td>5f562b1a8a70670017ab6457</td>\n",
       "      <td>147955</td>\n",
       "      <td>10841.446485</td>\n",
       "      <td>2020-09-07 12:55:00</td>\n",
       "      <td>200.0</td>\n",
       "      <td>14</td>\n",
       "      <td>0</td>\n",
       "      <td>5236.0</td>\n",
       "      <td>100.0</td>\n",
       "      <td>32</td>\n",
       "      <td>17.5</td>\n",
       "      <td>1191683</td>\n",
       "      <td>10</td>\n",
       "      <td>300.0</td>\n",
       "      <td>2021-01-04 00:00:00</td>\n",
       "    </tr>\n",
       "    <tr>\n",
       "      <th>3</th>\n",
       "      <td>5b8740c9d345ed000ed4a55c</td>\n",
       "      <td>55461</td>\n",
       "      <td>17797.057930</td>\n",
       "      <td>2018-09-04 13:26:27</td>\n",
       "      <td>8000.0</td>\n",
       "      <td>32</td>\n",
       "      <td>3</td>\n",
       "      <td>20000.0</td>\n",
       "      <td>0.0</td>\n",
       "      <td>59</td>\n",
       "      <td>9.0</td>\n",
       "      <td>1189643</td>\n",
       "      <td>10</td>\n",
       "      <td>1200.0</td>\n",
       "      <td>2021-01-04 00:00:00</td>\n",
       "    </tr>\n",
       "    <tr>\n",
       "      <th>4</th>\n",
       "      <td>58779257b93e5a4001f73dd5</td>\n",
       "      <td>1605</td>\n",
       "      <td>0.000000</td>\n",
       "      <td>2017-02-09 15:39:26</td>\n",
       "      <td>200.0</td>\n",
       "      <td>9</td>\n",
       "      <td>15</td>\n",
       "      <td>4021.0</td>\n",
       "      <td>0.0</td>\n",
       "      <td>31</td>\n",
       "      <td>15.0</td>\n",
       "      <td>1199301</td>\n",
       "      <td>10</td>\n",
       "      <td>400.0</td>\n",
       "      <td>2021-01-04 00:00:00</td>\n",
       "    </tr>\n",
       "  </tbody>\n",
       "</table>\n",
       "</div>"
      ],
      "text/plain": [
       "              CustomerApiid  CustomerId           AUM        RegisterDate  \\\n",
       "0  597d1f93ad57cd674deb5dfd       64617  65413.030158 2019-01-02 16:58:00   \n",
       "1  5a04bd4815a605790aff5c77       24431      0.000000 2018-01-02 18:41:09   \n",
       "2  5f562b1a8a70670017ab6457      147955  10841.446485 2020-09-07 12:55:00   \n",
       "3  5b8740c9d345ed000ed4a55c       55461  17797.057930 2018-09-04 13:26:27   \n",
       "4  58779257b93e5a4001f73dd5        1605      0.000000 2017-02-09 15:39:26   \n",
       "\n",
       "   AmountFirstDeposit  TotalDeposits  TotalWithdrawals  MonthlyIncome  \\\n",
       "0               200.0             22                 1         8000.0   \n",
       "1               300.0             14                 9         2000.0   \n",
       "2               200.0             14                 0         5236.0   \n",
       "3              8000.0             32                 3        20000.0   \n",
       "4               200.0              9                15         4021.0   \n",
       "\n",
       "   FinancialInvestmentsValue  Age  ComputedRiskTolerance       Id  Direction  \\\n",
       "0                        0.0   37                   24.0  1201605         10   \n",
       "1                        0.0   22                   13.5  1201889         10   \n",
       "2                      100.0   32                   17.5  1191683         10   \n",
       "3                        0.0   59                    9.0  1189643         10   \n",
       "4                        0.0   31                   15.0  1199301         10   \n",
       "\n",
       "   Amount          OperatedAt  \n",
       "0  2000.0 2021-01-04 09:31:27  \n",
       "1   100.0 2021-01-07 00:00:00  \n",
       "2   300.0 2021-01-04 00:00:00  \n",
       "3  1200.0 2021-01-04 00:00:00  \n",
       "4   400.0 2021-01-04 00:00:00  "
      ]
     },
     "execution_count": 127,
     "metadata": {},
     "output_type": "execute_result"
    }
   ],
   "source": [
    "df_client = pd.merge(left = df_customers, right = df_transactions, left_on='CustomerId', right_on = 'CustomerId')\n",
    "df_client.head()"
   ]
  },
  {
   "cell_type": "code",
   "execution_count": 128,
   "id": "b78e2c5f",
   "metadata": {
    "ExecuteTime": {
     "end_time": "2021-09-06T02:16:10.233074Z",
     "start_time": "2021-09-06T02:16:10.205916Z"
    }
   },
   "outputs": [
    {
     "name": "stdout",
     "output_type": "stream",
     "text": [
      "<class 'pandas.core.frame.DataFrame'>\n",
      "Int64Index: 30 entries, 0 to 29\n",
      "Data columns (total 15 columns):\n",
      " #   Column                     Non-Null Count  Dtype         \n",
      "---  ------                     --------------  -----         \n",
      " 0   CustomerApiid              30 non-null     object        \n",
      " 1   CustomerId                 30 non-null     int64         \n",
      " 2   AUM                        30 non-null     float64       \n",
      " 3   RegisterDate               30 non-null     datetime64[ns]\n",
      " 4   AmountFirstDeposit         30 non-null     float64       \n",
      " 5   TotalDeposits              30 non-null     int64         \n",
      " 6   TotalWithdrawals           30 non-null     int64         \n",
      " 7   MonthlyIncome              30 non-null     float64       \n",
      " 8   FinancialInvestmentsValue  30 non-null     float64       \n",
      " 9   Age                        30 non-null     int64         \n",
      " 10  ComputedRiskTolerance      30 non-null     float64       \n",
      " 11  Id                         30 non-null     int64         \n",
      " 12  Direction                  30 non-null     int64         \n",
      " 13  Amount                     30 non-null     float64       \n",
      " 14  OperatedAt                 30 non-null     datetime64[ns]\n",
      "dtypes: datetime64[ns](2), float64(6), int64(6), object(1)\n",
      "memory usage: 3.8+ KB\n"
     ]
    }
   ],
   "source": [
    "df_client.info()"
   ]
  },
  {
   "cell_type": "markdown",
   "id": "2ab3314f",
   "metadata": {},
   "source": [
    "##### A união das tabelas Customers e Transactions a partir do identificador único do cliente (\"CustomerId\") resultou em uma base reduzida com apenas 30 linhas. Ao tentar outras formas de união, houve o retorno de muitos dados nulos, sendo que ao dropar, chegaríamos aos mesmos 30 registros finais.\n",
    "##### Desta forma, optou-se por trabalhar com os dados resultantes da junção acima"
   ]
  },
  {
   "cell_type": "markdown",
   "id": "25cdad8c",
   "metadata": {
    "ExecuteTime": {
     "end_time": "2021-09-06T02:16:12.209847Z",
     "start_time": "2021-09-06T02:16:12.197853Z"
    }
   },
   "source": [
    "___"
   ]
  },
  {
   "cell_type": "markdown",
   "id": "8e591d0d",
   "metadata": {},
   "source": [
    "### Valores de entrada por mês/ano"
   ]
  },
  {
   "cell_type": "code",
   "execution_count": 130,
   "id": "3ceb4e6d",
   "metadata": {
    "ExecuteTime": {
     "end_time": "2021-09-06T02:16:15.424088Z",
     "start_time": "2021-09-06T02:16:15.405088Z"
    }
   },
   "outputs": [
    {
     "data": {
      "text/html": [
       "<div>\n",
       "<style scoped>\n",
       "    .dataframe tbody tr th:only-of-type {\n",
       "        vertical-align: middle;\n",
       "    }\n",
       "\n",
       "    .dataframe tbody tr th {\n",
       "        vertical-align: top;\n",
       "    }\n",
       "\n",
       "    .dataframe thead th {\n",
       "        text-align: right;\n",
       "    }\n",
       "</style>\n",
       "<table border=\"1\" class=\"dataframe\">\n",
       "  <thead>\n",
       "    <tr style=\"text-align: right;\">\n",
       "      <th></th>\n",
       "      <th>CustomerApiid</th>\n",
       "      <th>CustomerId</th>\n",
       "      <th>AUM</th>\n",
       "      <th>RegisterDate</th>\n",
       "      <th>AmountFirstDeposit</th>\n",
       "      <th>TotalDeposits</th>\n",
       "      <th>TotalWithdrawals</th>\n",
       "      <th>MonthlyIncome</th>\n",
       "      <th>FinancialInvestmentsValue</th>\n",
       "      <th>Age</th>\n",
       "      <th>ComputedRiskTolerance</th>\n",
       "      <th>Id</th>\n",
       "      <th>Direction</th>\n",
       "      <th>Amount</th>\n",
       "      <th>OperatedAt</th>\n",
       "      <th>Month</th>\n",
       "    </tr>\n",
       "  </thead>\n",
       "  <tbody>\n",
       "    <tr>\n",
       "      <th>0</th>\n",
       "      <td>597d1f93ad57cd674deb5dfd</td>\n",
       "      <td>64617</td>\n",
       "      <td>65413.030158</td>\n",
       "      <td>2019-01-02 16:58:00</td>\n",
       "      <td>200.0</td>\n",
       "      <td>22</td>\n",
       "      <td>1</td>\n",
       "      <td>8000.0</td>\n",
       "      <td>0.0</td>\n",
       "      <td>37</td>\n",
       "      <td>24.0</td>\n",
       "      <td>1201605</td>\n",
       "      <td>10</td>\n",
       "      <td>2000.0</td>\n",
       "      <td>2021-01-04 09:31:27</td>\n",
       "      <td>1</td>\n",
       "    </tr>\n",
       "    <tr>\n",
       "      <th>1</th>\n",
       "      <td>5a04bd4815a605790aff5c77</td>\n",
       "      <td>24431</td>\n",
       "      <td>0.000000</td>\n",
       "      <td>2018-01-02 18:41:09</td>\n",
       "      <td>300.0</td>\n",
       "      <td>14</td>\n",
       "      <td>9</td>\n",
       "      <td>2000.0</td>\n",
       "      <td>0.0</td>\n",
       "      <td>22</td>\n",
       "      <td>13.5</td>\n",
       "      <td>1201889</td>\n",
       "      <td>10</td>\n",
       "      <td>100.0</td>\n",
       "      <td>2021-01-07 00:00:00</td>\n",
       "      <td>1</td>\n",
       "    </tr>\n",
       "    <tr>\n",
       "      <th>2</th>\n",
       "      <td>5f562b1a8a70670017ab6457</td>\n",
       "      <td>147955</td>\n",
       "      <td>10841.446485</td>\n",
       "      <td>2020-09-07 12:55:00</td>\n",
       "      <td>200.0</td>\n",
       "      <td>14</td>\n",
       "      <td>0</td>\n",
       "      <td>5236.0</td>\n",
       "      <td>100.0</td>\n",
       "      <td>32</td>\n",
       "      <td>17.5</td>\n",
       "      <td>1191683</td>\n",
       "      <td>10</td>\n",
       "      <td>300.0</td>\n",
       "      <td>2021-01-04 00:00:00</td>\n",
       "      <td>9</td>\n",
       "    </tr>\n",
       "    <tr>\n",
       "      <th>3</th>\n",
       "      <td>5b8740c9d345ed000ed4a55c</td>\n",
       "      <td>55461</td>\n",
       "      <td>17797.057930</td>\n",
       "      <td>2018-09-04 13:26:27</td>\n",
       "      <td>8000.0</td>\n",
       "      <td>32</td>\n",
       "      <td>3</td>\n",
       "      <td>20000.0</td>\n",
       "      <td>0.0</td>\n",
       "      <td>59</td>\n",
       "      <td>9.0</td>\n",
       "      <td>1189643</td>\n",
       "      <td>10</td>\n",
       "      <td>1200.0</td>\n",
       "      <td>2021-01-04 00:00:00</td>\n",
       "      <td>9</td>\n",
       "    </tr>\n",
       "    <tr>\n",
       "      <th>4</th>\n",
       "      <td>58779257b93e5a4001f73dd5</td>\n",
       "      <td>1605</td>\n",
       "      <td>0.000000</td>\n",
       "      <td>2017-02-09 15:39:26</td>\n",
       "      <td>200.0</td>\n",
       "      <td>9</td>\n",
       "      <td>15</td>\n",
       "      <td>4021.0</td>\n",
       "      <td>0.0</td>\n",
       "      <td>31</td>\n",
       "      <td>15.0</td>\n",
       "      <td>1199301</td>\n",
       "      <td>10</td>\n",
       "      <td>400.0</td>\n",
       "      <td>2021-01-04 00:00:00</td>\n",
       "      <td>2</td>\n",
       "    </tr>\n",
       "  </tbody>\n",
       "</table>\n",
       "</div>"
      ],
      "text/plain": [
       "              CustomerApiid  CustomerId           AUM        RegisterDate  \\\n",
       "0  597d1f93ad57cd674deb5dfd       64617  65413.030158 2019-01-02 16:58:00   \n",
       "1  5a04bd4815a605790aff5c77       24431      0.000000 2018-01-02 18:41:09   \n",
       "2  5f562b1a8a70670017ab6457      147955  10841.446485 2020-09-07 12:55:00   \n",
       "3  5b8740c9d345ed000ed4a55c       55461  17797.057930 2018-09-04 13:26:27   \n",
       "4  58779257b93e5a4001f73dd5        1605      0.000000 2017-02-09 15:39:26   \n",
       "\n",
       "   AmountFirstDeposit  TotalDeposits  TotalWithdrawals  MonthlyIncome  \\\n",
       "0               200.0             22                 1         8000.0   \n",
       "1               300.0             14                 9         2000.0   \n",
       "2               200.0             14                 0         5236.0   \n",
       "3              8000.0             32                 3        20000.0   \n",
       "4               200.0              9                15         4021.0   \n",
       "\n",
       "   FinancialInvestmentsValue  Age  ComputedRiskTolerance       Id  Direction  \\\n",
       "0                        0.0   37                   24.0  1201605         10   \n",
       "1                        0.0   22                   13.5  1201889         10   \n",
       "2                      100.0   32                   17.5  1191683         10   \n",
       "3                        0.0   59                    9.0  1189643         10   \n",
       "4                        0.0   31                   15.0  1199301         10   \n",
       "\n",
       "   Amount          OperatedAt  Month  \n",
       "0  2000.0 2021-01-04 09:31:27      1  \n",
       "1   100.0 2021-01-07 00:00:00      1  \n",
       "2   300.0 2021-01-04 00:00:00      9  \n",
       "3  1200.0 2021-01-04 00:00:00      9  \n",
       "4   400.0 2021-01-04 00:00:00      2  "
      ]
     },
     "execution_count": 130,
     "metadata": {},
     "output_type": "execute_result"
    }
   ],
   "source": [
    "#Criando a coluna Month para guardar o registro de mês de cadastro do cliente\n",
    "\n",
    "df_client['Month'] = pd.to_datetime(df_client['RegisterDate']).dt.month\n",
    "df_client.head()\n",
    "\n",
    "\n",
    "#Criando a coluna Year para guardar o registro de ano de cadastro do cliente\n",
    "\n",
    "df_client['Year'] = pd.to_datetime(df_client['RegisterDate']).dt.year\n",
    "df_client.head()"
   ]
  },
  {
   "cell_type": "code",
   "execution_count": 249,
   "id": "f21211ce",
   "metadata": {
    "ExecuteTime": {
     "end_time": "2021-09-06T04:59:54.072734Z",
     "start_time": "2021-09-06T04:59:54.062705Z"
    }
   },
   "outputs": [
    {
     "data": {
      "text/plain": [
       "\"\\ndf_client2 = pd.merge(left = df_customers, right = df_events, left_on='CustomerApiid', right_on = 'CustomerApiid')\\ndf_client2.head()\\n\""
      ]
     },
     "execution_count": 249,
     "metadata": {},
     "output_type": "execute_result"
    }
   ],
   "source": [
    "'''\n",
    "df_client2 = pd.merge(left = df_customers, right = df_events, left_on='CustomerApiid', right_on = 'CustomerApiid')\n",
    "df_client2.head()\n",
    "'''"
   ]
  },
  {
   "cell_type": "markdown",
   "id": "9150c8b3",
   "metadata": {},
   "source": [
    "_____"
   ]
  },
  {
   "cell_type": "code",
   "execution_count": 135,
   "id": "1d7ca9c6",
   "metadata": {
    "ExecuteTime": {
     "end_time": "2021-09-06T02:22:04.817560Z",
     "start_time": "2021-09-06T02:22:04.802528Z"
    }
   },
   "outputs": [
    {
     "ename": "AttributeError",
     "evalue": "'numpy.float64' object has no attribute 'reset_index'",
     "output_type": "error",
     "traceback": [
      "\u001b[1;31m---------------------------------------------------------------------------\u001b[0m",
      "\u001b[1;31mAttributeError\u001b[0m                            Traceback (most recent call last)",
      "\u001b[1;32m<ipython-input-135-c73ac7b20455>\u001b[0m in \u001b[0;36m<module>\u001b[1;34m\u001b[0m\n\u001b[1;32m----> 1\u001b[1;33m \u001b[0mdf_entrada\u001b[0m\u001b[1;33m[\u001b[0m\u001b[1;34m\"AmountFirstDeposit\"\u001b[0m\u001b[1;33m]\u001b[0m \u001b[1;33m=\u001b[0m \u001b[0mdf_client\u001b[0m\u001b[1;33m[\u001b[0m\u001b[1;34m\"AmountFirstDeposit\"\u001b[0m\u001b[1;33m]\u001b[0m\u001b[1;33m.\u001b[0m\u001b[0msum\u001b[0m\u001b[1;33m(\u001b[0m\u001b[1;33m)\u001b[0m\u001b[1;33m.\u001b[0m\u001b[0mreset_index\u001b[0m\u001b[1;33m(\u001b[0m\u001b[1;33m)\u001b[0m\u001b[1;33m\u001b[0m\u001b[1;33m\u001b[0m\u001b[0m\n\u001b[0m",
      "\u001b[1;31mAttributeError\u001b[0m: 'numpy.float64' object has no attribute 'reset_index'"
     ]
    }
   ],
   "source": [
    "'''df_entrada[\"AmountFirstDeposit\"] = df_client[\"AmountFirstDeposit\"].sum().reset_index()'''"
   ]
  },
  {
   "cell_type": "code",
   "execution_count": 244,
   "id": "6711a70e",
   "metadata": {
    "ExecuteTime": {
     "end_time": "2021-09-06T04:55:08.829485Z",
     "start_time": "2021-09-06T04:55:08.809529Z"
    }
   },
   "outputs": [
    {
     "data": {
      "text/html": [
       "<div>\n",
       "<style scoped>\n",
       "    .dataframe tbody tr th:only-of-type {\n",
       "        vertical-align: middle;\n",
       "    }\n",
       "\n",
       "    .dataframe tbody tr th {\n",
       "        vertical-align: top;\n",
       "    }\n",
       "\n",
       "    .dataframe thead th {\n",
       "        text-align: right;\n",
       "    }\n",
       "</style>\n",
       "<table border=\"1\" class=\"dataframe\">\n",
       "  <thead>\n",
       "    <tr style=\"text-align: right;\">\n",
       "      <th></th>\n",
       "      <th>Year</th>\n",
       "      <th>CustomerId</th>\n",
       "      <th>AUM</th>\n",
       "      <th>AmountFirstDeposit</th>\n",
       "      <th>TotalDeposits</th>\n",
       "      <th>TotalWithdrawals</th>\n",
       "      <th>MonthlyIncome</th>\n",
       "      <th>FinancialInvestmentsValue</th>\n",
       "      <th>Age</th>\n",
       "      <th>ComputedRiskTolerance</th>\n",
       "      <th>Id</th>\n",
       "      <th>Direction</th>\n",
       "      <th>Amount</th>\n",
       "      <th>Month</th>\n",
       "    </tr>\n",
       "  </thead>\n",
       "  <tbody>\n",
       "    <tr>\n",
       "      <th>0</th>\n",
       "      <td>2017</td>\n",
       "      <td>15785</td>\n",
       "      <td>137.453072</td>\n",
       "      <td>300</td>\n",
       "      <td>40</td>\n",
       "      <td>28</td>\n",
       "      <td>4321.00</td>\n",
       "      <td>0.0</td>\n",
       "      <td>57</td>\n",
       "      <td>29.00</td>\n",
       "      <td>2399378</td>\n",
       "      <td>30</td>\n",
       "      <td>5400.000000</td>\n",
       "      <td>12</td>\n",
       "    </tr>\n",
       "    <tr>\n",
       "      <th>1</th>\n",
       "      <td>2018</td>\n",
       "      <td>308466</td>\n",
       "      <td>64859.001861</td>\n",
       "      <td>13900</td>\n",
       "      <td>155</td>\n",
       "      <td>35</td>\n",
       "      <td>41400.00</td>\n",
       "      <td>0.0</td>\n",
       "      <td>251</td>\n",
       "      <td>124.50</td>\n",
       "      <td>8047098</td>\n",
       "      <td>70</td>\n",
       "      <td>7610.000000</td>\n",
       "      <td>42</td>\n",
       "    </tr>\n",
       "    <tr>\n",
       "      <th>2</th>\n",
       "      <td>2019</td>\n",
       "      <td>593538</td>\n",
       "      <td>247404.364848</td>\n",
       "      <td>1250</td>\n",
       "      <td>183</td>\n",
       "      <td>37</td>\n",
       "      <td>28600.02</td>\n",
       "      <td>3000.0</td>\n",
       "      <td>214</td>\n",
       "      <td>122.00</td>\n",
       "      <td>8373290</td>\n",
       "      <td>70</td>\n",
       "      <td>19042.700000</td>\n",
       "      <td>41</td>\n",
       "    </tr>\n",
       "    <tr>\n",
       "      <th>3</th>\n",
       "      <td>2020</td>\n",
       "      <td>1925675</td>\n",
       "      <td>105487.172571</td>\n",
       "      <td>38550</td>\n",
       "      <td>311</td>\n",
       "      <td>62</td>\n",
       "      <td>15034136.00</td>\n",
       "      <td>153500.0</td>\n",
       "      <td>461</td>\n",
       "      <td>323.71</td>\n",
       "      <td>16542993</td>\n",
       "      <td>180</td>\n",
       "      <td>10096.295414</td>\n",
       "      <td>83</td>\n",
       "    </tr>\n",
       "  </tbody>\n",
       "</table>\n",
       "</div>"
      ],
      "text/plain": [
       "   Year  CustomerId            AUM  AmountFirstDeposit  TotalDeposits  \\\n",
       "0  2017       15785     137.453072                 300             40   \n",
       "1  2018      308466   64859.001861               13900            155   \n",
       "2  2019      593538  247404.364848                1250            183   \n",
       "3  2020     1925675  105487.172571               38550            311   \n",
       "\n",
       "   TotalWithdrawals  MonthlyIncome  FinancialInvestmentsValue  Age  \\\n",
       "0                28        4321.00                        0.0   57   \n",
       "1                35       41400.00                        0.0  251   \n",
       "2                37       28600.02                     3000.0  214   \n",
       "3                62    15034136.00                   153500.0  461   \n",
       "\n",
       "   ComputedRiskTolerance        Id  Direction        Amount  Month  \n",
       "0                  29.00   2399378         30   5400.000000     12  \n",
       "1                 124.50   8047098         70   7610.000000     42  \n",
       "2                 122.00   8373290         70  19042.700000     41  \n",
       "3                 323.71  16542993        180  10096.295414     83  "
      ]
     },
     "execution_count": 244,
     "metadata": {},
     "output_type": "execute_result"
    }
   ],
   "source": [
    "#Agrupamento do valor de entrada por ano\n",
    "df_entrada = df_client.groupby(by=[\"Year\"]).sum('AmountFirstDeposit').reset_index()\n",
    "df_entrada['AmountFirstDeposit'] = df_entrada['AmountFirstDeposit'].astype(int)\n",
    "df_entrada['Year'] = df_entrada['Year'].astype(int)\n",
    "df_entrada"
   ]
  },
  {
   "cell_type": "code",
   "execution_count": 234,
   "id": "439fb564",
   "metadata": {
    "ExecuteTime": {
     "end_time": "2021-09-06T04:50:18.430675Z",
     "start_time": "2021-09-06T04:50:18.414167Z"
    }
   },
   "outputs": [
    {
     "data": {
      "text/html": [
       "<div>\n",
       "<style scoped>\n",
       "    .dataframe tbody tr th:only-of-type {\n",
       "        vertical-align: middle;\n",
       "    }\n",
       "\n",
       "    .dataframe tbody tr th {\n",
       "        vertical-align: top;\n",
       "    }\n",
       "\n",
       "    .dataframe thead th {\n",
       "        text-align: right;\n",
       "    }\n",
       "</style>\n",
       "<table border=\"1\" class=\"dataframe\">\n",
       "  <thead>\n",
       "    <tr style=\"text-align: right;\">\n",
       "      <th></th>\n",
       "      <th>Year</th>\n",
       "      <th>AmountFirstDeposit</th>\n",
       "    </tr>\n",
       "  </thead>\n",
       "  <tbody>\n",
       "    <tr>\n",
       "      <th>0</th>\n",
       "      <td>2017</td>\n",
       "      <td>300</td>\n",
       "    </tr>\n",
       "    <tr>\n",
       "      <th>1</th>\n",
       "      <td>2018</td>\n",
       "      <td>13900</td>\n",
       "    </tr>\n",
       "    <tr>\n",
       "      <th>2</th>\n",
       "      <td>2019</td>\n",
       "      <td>1250</td>\n",
       "    </tr>\n",
       "    <tr>\n",
       "      <th>3</th>\n",
       "      <td>2020</td>\n",
       "      <td>38550</td>\n",
       "    </tr>\n",
       "  </tbody>\n",
       "</table>\n",
       "</div>"
      ],
      "text/plain": [
       "   Year  AmountFirstDeposit\n",
       "0  2017                 300\n",
       "1  2018               13900\n",
       "2  2019                1250\n",
       "3  2020               38550"
      ]
     },
     "execution_count": 234,
     "metadata": {},
     "output_type": "execute_result"
    }
   ],
   "source": [
    "df_entrada = df_entrada.drop(columns=['CustomerId', 'AUM', 'TotalDeposits', 'TotalWithdrawals', 'MonthlyIncome', 'Age', 'FinancialInvestmentsValue', 'ComputedRiskTolerance', 'Id', 'Direction', 'Amount', 'Month'])\n",
    "df_entrada.head()"
   ]
  },
  {
   "cell_type": "code",
   "execution_count": 237,
   "id": "1c48abb0",
   "metadata": {
    "ExecuteTime": {
     "end_time": "2021-09-06T04:51:44.247273Z",
     "start_time": "2021-09-06T04:51:43.904829Z"
    }
   },
   "outputs": [
    {
     "data": {
      "image/png": "[encoded data removed]",
      "text/plain": [
       "<Figure size 720x360 with 1 Axes>"
      ]
     },
     "metadata": {
      "needs_background": "light"
     },
     "output_type": "display_data"
    }
   ],
   "source": [
    "plt.figure(figsize=(10,5))\n",
    "sns.histplot(data=df_entrada, x=\"AmountFirstDeposit\", kde=True)\n",
    "plt.title('Distribuição da variável AmountFirstDeposit X Ano')\n",
    "plt.show()"
   ]
  },
  {
   "cell_type": "code",
   "execution_count": 259,
   "id": "f66e17db",
   "metadata": {
    "ExecuteTime": {
     "end_time": "2021-09-06T05:05:18.084610Z",
     "start_time": "2021-09-06T05:05:18.070609Z"
    }
   },
   "outputs": [],
   "source": [
    "import seaborn as sns"
   ]
  },
  {
   "cell_type": "code",
   "execution_count": null,
   "id": "1b068389",
   "metadata": {},
   "outputs": [],
   "source": [
    "'''df_entrada = df_client[df_client['Direction'] == 10]\n",
    "df_entrada = df_entrada['AmountFirstDeposit'].sum()\n",
    "print(f'o valor total de entrada é {df_entrada}')'''"
   ]
  },
  {
   "cell_type": "code",
   "execution_count": 186,
   "id": "8271215e",
   "metadata": {
    "ExecuteTime": {
     "end_time": "2021-09-06T03:47:22.240245Z",
     "start_time": "2021-09-06T03:47:22.213289Z"
    }
   },
   "outputs": [
    {
     "ename": "SyntaxError",
     "evalue": "invalid syntax (<ipython-input-186-ffbc80f876c7>, line 2)",
     "output_type": "error",
     "traceback": [
      "\u001b[1;36m  File \u001b[1;32m\"<ipython-input-186-ffbc80f876c7>\"\u001b[1;36m, line \u001b[1;32m2\u001b[0m\n\u001b[1;33m    '''df_entrada[\"AmountFirstDeposit\"] = df_client[\"AmountFirstDeposit\"].sum()\u001b[0m\n\u001b[1;37m       ^\u001b[0m\n\u001b[1;31mSyntaxError\u001b[0m\u001b[1;31m:\u001b[0m invalid syntax\n"
     ]
    }
   ],
   "source": []
  },
  {
   "cell_type": "markdown",
   "id": "2d29abe3",
   "metadata": {
    "ExecuteTime": {
     "end_time": "2021-09-06T03:40:04.982457Z",
     "start_time": "2021-09-06T03:40:04.965459Z"
    }
   },
   "source": [
    "- Calcular transações de entrada por mês:\n",
    "    desmembrar coluna data criando coluna mês - ok\n",
    "    plotar gráfico sobre entradas - não tá rolando\n",
    "\n",
    "- quais clientes saíram da plataforma?\n",
    "    fazer um agrupamento mensal\n",
    "    plotar gráfico de saída mensal\n",
    "- pegar todos os clientes que saíram ==20\n",
    "- df de pessoas que saíram\n",
    "- calcular o valor total dos que saíram / e mensal\n",
    "- análises de eventos e clientes com a base reduzida (justificar na célula)"
   ]
  },
  {
   "cell_type": "markdown",
   "id": "d968258f",
   "metadata": {},
   "source": [
    "___"
   ]
  },
  {
   "cell_type": "markdown",
   "id": "a44a75a2",
   "metadata": {},
   "source": [
    "### Total de saídas"
   ]
  },
  {
   "cell_type": "code",
   "execution_count": 184,
   "id": "679c593c",
   "metadata": {
    "ExecuteTime": {
     "end_time": "2021-09-06T03:46:09.886931Z",
     "start_time": "2021-09-06T03:46:09.875849Z"
    },
    "scrolled": true
   },
   "outputs": [
    {
     "name": "stdout",
     "output_type": "stream",
     "text": [
      "o valor total de saídas é R$ 10167.8372959409\n"
     ]
    }
   ],
   "source": [
    "df_saída = df_client[df_client['Direction'] == 20]\n",
    "df_saída = df_saída['AUM'].sum()\n",
    "print(f'o valor total de saídas é R$ {df_saída}')"
   ]
  },
  {
   "cell_type": "code",
   "execution_count": 215,
   "id": "4601d4c8",
   "metadata": {
    "ExecuteTime": {
     "end_time": "2021-09-06T04:31:43.585917Z",
     "start_time": "2021-09-06T04:31:43.554841Z"
    }
   },
   "outputs": [
    {
     "ename": "KeyError",
     "evalue": "'AUM'",
     "output_type": "error",
     "traceback": [
      "\u001b[1;31m---------------------------------------------------------------------------\u001b[0m",
      "\u001b[1;31mKeyError\u001b[0m                                  Traceback (most recent call last)",
      "\u001b[1;32m~\\Anaconda3\\lib\\site-packages\\pandas\\core\\indexes\\base.py\u001b[0m in \u001b[0;36mget_loc\u001b[1;34m(self, key, method, tolerance)\u001b[0m\n\u001b[0;32m   3079\u001b[0m             \u001b[1;32mtry\u001b[0m\u001b[1;33m:\u001b[0m\u001b[1;33m\u001b[0m\u001b[1;33m\u001b[0m\u001b[0m\n\u001b[1;32m-> 3080\u001b[1;33m                 \u001b[1;32mreturn\u001b[0m \u001b[0mself\u001b[0m\u001b[1;33m.\u001b[0m\u001b[0m_engine\u001b[0m\u001b[1;33m.\u001b[0m\u001b[0mget_loc\u001b[0m\u001b[1;33m(\u001b[0m\u001b[0mcasted_key\u001b[0m\u001b[1;33m)\u001b[0m\u001b[1;33m\u001b[0m\u001b[1;33m\u001b[0m\u001b[0m\n\u001b[0m\u001b[0;32m   3081\u001b[0m             \u001b[1;32mexcept\u001b[0m \u001b[0mKeyError\u001b[0m \u001b[1;32mas\u001b[0m \u001b[0merr\u001b[0m\u001b[1;33m:\u001b[0m\u001b[1;33m\u001b[0m\u001b[1;33m\u001b[0m\u001b[0m\n",
      "\u001b[1;32mpandas\\_libs\\index.pyx\u001b[0m in \u001b[0;36mpandas._libs.index.IndexEngine.get_loc\u001b[1;34m()\u001b[0m\n",
      "\u001b[1;32mpandas\\_libs\\index.pyx\u001b[0m in \u001b[0;36mpandas._libs.index.IndexEngine.get_loc\u001b[1;34m()\u001b[0m\n",
      "\u001b[1;32mpandas\\_libs\\hashtable_class_helper.pxi\u001b[0m in \u001b[0;36mpandas._libs.hashtable.PyObjectHashTable.get_item\u001b[1;34m()\u001b[0m\n",
      "\u001b[1;32mpandas\\_libs\\hashtable_class_helper.pxi\u001b[0m in \u001b[0;36mpandas._libs.hashtable.PyObjectHashTable.get_item\u001b[1;34m()\u001b[0m\n",
      "\u001b[1;31mKeyError\u001b[0m: 'AUM'",
      "\nThe above exception was the direct cause of the following exception:\n",
      "\u001b[1;31mKeyError\u001b[0m                                  Traceback (most recent call last)",
      "\u001b[1;32m<ipython-input-215-fc41e2d3ee65>\u001b[0m in \u001b[0;36m<module>\u001b[1;34m\u001b[0m\n\u001b[0;32m      2\u001b[0m \u001b[1;33m\u001b[0m\u001b[0m\n\u001b[0;32m      3\u001b[0m \u001b[0mplt\u001b[0m\u001b[1;33m.\u001b[0m\u001b[0mfigure\u001b[0m\u001b[1;33m(\u001b[0m\u001b[0mfigsize\u001b[0m\u001b[1;33m=\u001b[0m\u001b[1;33m(\u001b[0m\u001b[1;36m10\u001b[0m\u001b[1;33m,\u001b[0m\u001b[1;36m5\u001b[0m\u001b[1;33m)\u001b[0m\u001b[1;33m)\u001b[0m\u001b[1;33m\u001b[0m\u001b[1;33m\u001b[0m\u001b[0m\n\u001b[1;32m----> 4\u001b[1;33m \u001b[0msns\u001b[0m\u001b[1;33m.\u001b[0m\u001b[0mhistplot\u001b[0m\u001b[1;33m(\u001b[0m\u001b[0mdata\u001b[0m\u001b[1;33m=\u001b[0m\u001b[0mdf_saída\u001b[0m\u001b[1;33m,\u001b[0m \u001b[0mx\u001b[0m\u001b[1;33m=\u001b[0m\u001b[0mdf_saída\u001b[0m\u001b[1;33m[\u001b[0m\u001b[1;34m'AUM'\u001b[0m\u001b[1;33m]\u001b[0m\u001b[1;33m.\u001b[0m\u001b[0msum\u001b[0m\u001b[1;33m(\u001b[0m\u001b[1;33m)\u001b[0m\u001b[1;33m,\u001b[0m \u001b[0mhue\u001b[0m\u001b[1;33m=\u001b[0m\u001b[1;32mTrue\u001b[0m\u001b[1;33m)\u001b[0m\u001b[1;33m\u001b[0m\u001b[1;33m\u001b[0m\u001b[0m\n\u001b[0m\u001b[0;32m      5\u001b[0m \u001b[0mplt\u001b[0m\u001b[1;33m.\u001b[0m\u001b[0mtitle\u001b[0m\u001b[1;33m(\u001b[0m\u001b[1;34m'Total de saídas'\u001b[0m\u001b[1;33m)\u001b[0m\u001b[1;33m\u001b[0m\u001b[1;33m\u001b[0m\u001b[0m\n\u001b[0;32m      6\u001b[0m \u001b[0mplt\u001b[0m\u001b[1;33m.\u001b[0m\u001b[0mshow\u001b[0m\u001b[1;33m(\u001b[0m\u001b[1;33m)\u001b[0m\u001b[1;33m\u001b[0m\u001b[1;33m\u001b[0m\u001b[0m\n",
      "\u001b[1;32m~\\Anaconda3\\lib\\site-packages\\pandas\\core\\frame.py\u001b[0m in \u001b[0;36m__getitem__\u001b[1;34m(self, key)\u001b[0m\n\u001b[0;32m   3022\u001b[0m             \u001b[1;32mif\u001b[0m \u001b[0mself\u001b[0m\u001b[1;33m.\u001b[0m\u001b[0mcolumns\u001b[0m\u001b[1;33m.\u001b[0m\u001b[0mnlevels\u001b[0m \u001b[1;33m>\u001b[0m \u001b[1;36m1\u001b[0m\u001b[1;33m:\u001b[0m\u001b[1;33m\u001b[0m\u001b[1;33m\u001b[0m\u001b[0m\n\u001b[0;32m   3023\u001b[0m                 \u001b[1;32mreturn\u001b[0m \u001b[0mself\u001b[0m\u001b[1;33m.\u001b[0m\u001b[0m_getitem_multilevel\u001b[0m\u001b[1;33m(\u001b[0m\u001b[0mkey\u001b[0m\u001b[1;33m)\u001b[0m\u001b[1;33m\u001b[0m\u001b[1;33m\u001b[0m\u001b[0m\n\u001b[1;32m-> 3024\u001b[1;33m             \u001b[0mindexer\u001b[0m \u001b[1;33m=\u001b[0m \u001b[0mself\u001b[0m\u001b[1;33m.\u001b[0m\u001b[0mcolumns\u001b[0m\u001b[1;33m.\u001b[0m\u001b[0mget_loc\u001b[0m\u001b[1;33m(\u001b[0m\u001b[0mkey\u001b[0m\u001b[1;33m)\u001b[0m\u001b[1;33m\u001b[0m\u001b[1;33m\u001b[0m\u001b[0m\n\u001b[0m\u001b[0;32m   3025\u001b[0m             \u001b[1;32mif\u001b[0m \u001b[0mis_integer\u001b[0m\u001b[1;33m(\u001b[0m\u001b[0mindexer\u001b[0m\u001b[1;33m)\u001b[0m\u001b[1;33m:\u001b[0m\u001b[1;33m\u001b[0m\u001b[1;33m\u001b[0m\u001b[0m\n\u001b[0;32m   3026\u001b[0m                 \u001b[0mindexer\u001b[0m \u001b[1;33m=\u001b[0m \u001b[1;33m[\u001b[0m\u001b[0mindexer\u001b[0m\u001b[1;33m]\u001b[0m\u001b[1;33m\u001b[0m\u001b[1;33m\u001b[0m\u001b[0m\n",
      "\u001b[1;32m~\\Anaconda3\\lib\\site-packages\\pandas\\core\\indexes\\base.py\u001b[0m in \u001b[0;36mget_loc\u001b[1;34m(self, key, method, tolerance)\u001b[0m\n\u001b[0;32m   3080\u001b[0m                 \u001b[1;32mreturn\u001b[0m \u001b[0mself\u001b[0m\u001b[1;33m.\u001b[0m\u001b[0m_engine\u001b[0m\u001b[1;33m.\u001b[0m\u001b[0mget_loc\u001b[0m\u001b[1;33m(\u001b[0m\u001b[0mcasted_key\u001b[0m\u001b[1;33m)\u001b[0m\u001b[1;33m\u001b[0m\u001b[1;33m\u001b[0m\u001b[0m\n\u001b[0;32m   3081\u001b[0m             \u001b[1;32mexcept\u001b[0m \u001b[0mKeyError\u001b[0m \u001b[1;32mas\u001b[0m \u001b[0merr\u001b[0m\u001b[1;33m:\u001b[0m\u001b[1;33m\u001b[0m\u001b[1;33m\u001b[0m\u001b[0m\n\u001b[1;32m-> 3082\u001b[1;33m                 \u001b[1;32mraise\u001b[0m \u001b[0mKeyError\u001b[0m\u001b[1;33m(\u001b[0m\u001b[0mkey\u001b[0m\u001b[1;33m)\u001b[0m \u001b[1;32mfrom\u001b[0m \u001b[0merr\u001b[0m\u001b[1;33m\u001b[0m\u001b[1;33m\u001b[0m\u001b[0m\n\u001b[0m\u001b[0;32m   3083\u001b[0m \u001b[1;33m\u001b[0m\u001b[0m\n\u001b[0;32m   3084\u001b[0m         \u001b[1;32mif\u001b[0m \u001b[0mtolerance\u001b[0m \u001b[1;32mis\u001b[0m \u001b[1;32mnot\u001b[0m \u001b[1;32mNone\u001b[0m\u001b[1;33m:\u001b[0m\u001b[1;33m\u001b[0m\u001b[1;33m\u001b[0m\u001b[0m\n",
      "\u001b[1;31mKeyError\u001b[0m: 'AUM'"
     ]
    },
    {
     "data": {
      "text/plain": [
       "<Figure size 720x360 with 0 Axes>"
      ]
     },
     "metadata": {},
     "output_type": "display_data"
    }
   ],
   "source": [
    "#Não estou conseguindo plotar os gráficos\n",
    "\n",
    "plt.figure(figsize=(10,5))\n",
    "sns.histplot(data=df_saída, x=df_saída['AUM'].sum(), hue=True)\n",
    "plt.title('Total de saídas')\n",
    "plt.show()"
   ]
  },
  {
   "cell_type": "code",
   "execution_count": 203,
   "id": "8a9fbef0",
   "metadata": {
    "ExecuteTime": {
     "end_time": "2021-09-06T04:00:04.068997Z",
     "start_time": "2021-09-06T04:00:04.049990Z"
    },
    "scrolled": true
   },
   "outputs": [
    {
     "ename": "IndexError",
     "evalue": "invalid index to scalar variable.",
     "output_type": "error",
     "traceback": [
      "\u001b[1;31m---------------------------------------------------------------------------\u001b[0m",
      "\u001b[1;31mIndexError\u001b[0m                                Traceback (most recent call last)",
      "\u001b[1;32m<ipython-input-203-3aba3ba24689>\u001b[0m in \u001b[0;36m<module>\u001b[1;34m\u001b[0m\n\u001b[1;32m----> 1\u001b[1;33m \u001b[0mdf_saída\u001b[0m\u001b[1;33m[\u001b[0m\u001b[1;34m'AmountFirstDeposit'\u001b[0m\u001b[1;33m]\u001b[0m \u001b[1;33m=\u001b[0m \u001b[0mdf_saída\u001b[0m\u001b[1;33m[\u001b[0m\u001b[1;34m'AmountFirstDeposit'\u001b[0m\u001b[1;33m]\u001b[0m\u001b[1;33m.\u001b[0m\u001b[0mreset_index\u001b[0m\u001b[1;33m(\u001b[0m\u001b[1;33m)\u001b[0m\u001b[1;33m.\u001b[0m\u001b[0mapplymap\u001b[0m\u001b[1;33m(\u001b[0m\u001b[0mnp\u001b[0m\u001b[1;33m.\u001b[0m\u001b[0mint64\u001b[0m\u001b[1;33m)\u001b[0m\u001b[1;33m\u001b[0m\u001b[1;33m\u001b[0m\u001b[0m\n\u001b[0m\u001b[0;32m      2\u001b[0m \u001b[0mdf_saída\u001b[0m\u001b[1;33m\u001b[0m\u001b[1;33m\u001b[0m\u001b[0m\n\u001b[0;32m      3\u001b[0m \u001b[1;33m\u001b[0m\u001b[0m\n\u001b[0;32m      4\u001b[0m \u001b[1;31m#f[cols] = df[cols].applymap(np.int64)\u001b[0m\u001b[1;33m\u001b[0m\u001b[1;33m\u001b[0m\u001b[1;33m\u001b[0m\u001b[0m\n",
      "\u001b[1;31mIndexError\u001b[0m: invalid index to scalar variable."
     ]
    }
   ],
   "source": [
    "'''df_saída['AmountFirstDeposit'] = df_saída['AmountFirstDeposit'].reset_index().applymap(np.int64)\n",
    "df_saída'''\n"
   ]
  },
  {
   "cell_type": "code",
   "execution_count": 226,
   "id": "bd5d5f4d",
   "metadata": {
    "ExecuteTime": {
     "end_time": "2021-09-06T04:43:41.985265Z",
     "start_time": "2021-09-06T04:43:41.965265Z"
    },
    "scrolled": true
   },
   "outputs": [
    {
     "data": {
      "text/html": [
       "<div>\n",
       "<style scoped>\n",
       "    .dataframe tbody tr th:only-of-type {\n",
       "        vertical-align: middle;\n",
       "    }\n",
       "\n",
       "    .dataframe tbody tr th {\n",
       "        vertical-align: top;\n",
       "    }\n",
       "\n",
       "    .dataframe thead th {\n",
       "        text-align: right;\n",
       "    }\n",
       "</style>\n",
       "<table border=\"1\" class=\"dataframe\">\n",
       "  <thead>\n",
       "    <tr style=\"text-align: right;\">\n",
       "      <th></th>\n",
       "      <th>Month</th>\n",
       "      <th>AUM</th>\n",
       "    </tr>\n",
       "  </thead>\n",
       "  <tbody>\n",
       "    <tr>\n",
       "      <th>10</th>\n",
       "      <td>12</td>\n",
       "      <td>2485.67</td>\n",
       "    </tr>\n",
       "    <tr>\n",
       "      <th>9</th>\n",
       "      <td>11</td>\n",
       "      <td>10566.84</td>\n",
       "    </tr>\n",
       "    <tr>\n",
       "      <th>8</th>\n",
       "      <td>10</td>\n",
       "      <td>339.05</td>\n",
       "    </tr>\n",
       "    <tr>\n",
       "      <th>7</th>\n",
       "      <td>9</td>\n",
       "      <td>28638.50</td>\n",
       "    </tr>\n",
       "    <tr>\n",
       "      <th>6</th>\n",
       "      <td>8</td>\n",
       "      <td>60338.06</td>\n",
       "    </tr>\n",
       "    <tr>\n",
       "      <th>5</th>\n",
       "      <td>7</td>\n",
       "      <td>684.30</td>\n",
       "    </tr>\n",
       "    <tr>\n",
       "      <th>4</th>\n",
       "      <td>6</td>\n",
       "      <td>602.35</td>\n",
       "    </tr>\n",
       "    <tr>\n",
       "      <th>3</th>\n",
       "      <td>5</td>\n",
       "      <td>35408.35</td>\n",
       "    </tr>\n",
       "    <tr>\n",
       "      <th>2</th>\n",
       "      <td>4</td>\n",
       "      <td>120929.43</td>\n",
       "    </tr>\n",
       "    <tr>\n",
       "      <th>1</th>\n",
       "      <td>2</td>\n",
       "      <td>91051.77</td>\n",
       "    </tr>\n",
       "    <tr>\n",
       "      <th>0</th>\n",
       "      <td>1</td>\n",
       "      <td>66843.66</td>\n",
       "    </tr>\n",
       "  </tbody>\n",
       "</table>\n",
       "</div>"
      ],
      "text/plain": [
       "    Month        AUM\n",
       "10     12    2485.67\n",
       "9      11   10566.84\n",
       "8      10     339.05\n",
       "7       9   28638.50\n",
       "6       8   60338.06\n",
       "5       7     684.30\n",
       "4       6     602.35\n",
       "3       5   35408.35\n",
       "2       4  120929.43\n",
       "1       2   91051.77\n",
       "0       1   66843.66"
      ]
     },
     "execution_count": 226,
     "metadata": {},
     "output_type": "execute_result"
    }
   ],
   "source": [
    "df_saída = df_client[['Month','AUM']].groupby('Month').sum().round(2)\n",
    "df_saída.reset_index(inplace = True)\n",
    "\n",
    "#ordenar por ordem crescente\n",
    "df_saída.sort_values(by = ['Month'], ascending = False, inplace = True)\n",
    "df_saída\n"
   ]
  },
  {
   "cell_type": "markdown",
   "id": "56401d56",
   "metadata": {},
   "source": [
    "___"
   ]
  },
  {
   "cell_type": "markdown",
   "id": "484bd5ee",
   "metadata": {},
   "source": [
    "##### Qual público está entrando na warren nos últimos tempos (idade, renda, investimentos)"
   ]
  },
  {
   "cell_type": "code",
   "execution_count": 261,
   "id": "72f16d18",
   "metadata": {
    "ExecuteTime": {
     "end_time": "2021-09-06T05:10:36.557935Z",
     "start_time": "2021-09-06T05:10:26.886351Z"
    }
   },
   "outputs": [
    {
     "data": {
      "image/png": "[encoded data removed]",
      "text/plain": [
       "<Figure size 540x540 with 12 Axes>"
      ]
     },
     "metadata": {
      "needs_background": "light"
     },
     "output_type": "display_data"
    }
   ],
   "source": [
    "#gráfico de dispersão\n",
    "sns.pairplot(data = df_client, vars=['Age','MonthlyIncome','FinancialInvestmentsValue'])\n",
    "plt.show()"
   ]
  },
  {
   "cell_type": "code",
   "execution_count": 264,
   "id": "65dc8354",
   "metadata": {
    "ExecuteTime": {
     "end_time": "2021-09-06T05:12:30.557232Z",
     "start_time": "2021-09-06T05:12:30.321040Z"
    }
   },
   "outputs": [
    {
     "data": {
      "text/plain": [
       "<seaborn.axisgrid.FacetGrid at 0x15e4b9f2e80>"
      ]
     },
     "execution_count": 264,
     "metadata": {},
     "output_type": "execute_result"
    },
    {
     "data": {
      "image/png": "[encoded data removed]",
      "text/plain": [
       "<Figure size 360x360 with 1 Axes>"
      ]
     },
     "metadata": {
      "needs_background": "light"
     },
     "output_type": "display_data"
    }
   ],
   "source": [
    "\n",
    "'''sns.catplot(x=\"Age\", kind=\"count\", palette='cividis', data=df_client)'''"
   ]
  },
  {
   "cell_type": "code",
   "execution_count": 270,
   "id": "23aea798",
   "metadata": {
    "ExecuteTime": {
     "end_time": "2021-09-06T05:14:54.460840Z",
     "start_time": "2021-09-06T05:14:53.683651Z"
    }
   },
   "outputs": [
    {
     "name": "stderr",
     "output_type": "stream",
     "text": [
      "C:\\Users\\re041273\\Anaconda3\\lib\\site-packages\\seaborn\\distributions.py:2551: FutureWarning: `distplot` is a deprecated function and will be removed in a future version. Please adapt your code to use either `displot` (a figure-level function with similar flexibility) or `histplot` (an axes-level function for histograms).\n",
      "  warnings.warn(msg, FutureWarning)\n"
     ]
    },
    {
     "data": {
      "text/plain": [
       "<AxesSubplot:xlabel='Age', ylabel='Density'>"
      ]
     },
     "execution_count": 270,
     "metadata": {},
     "output_type": "execute_result"
    },
    {
     "data": {
      "image/png": "[encoded data removed]",
      "text/plain": [
       "<Figure size 432x288 with 1 Axes>"
      ]
     },
     "metadata": {
      "needs_background": "light"
     },
     "output_type": "display_data"
    }
   ],
   "source": [
    "#Distribuição das idades\n",
    "sns.distplot(df_client[\"Age\"], hist=True, kde=True, \n",
    "             color = 'olive', \n",
    "             hist_kws={'edgecolor':'black'},\n",
    "             kde_kws={'linewidth': 1})"
   ]
  },
  {
   "cell_type": "code",
   "execution_count": 274,
   "id": "bdc7ddcb",
   "metadata": {
    "ExecuteTime": {
     "end_time": "2021-09-06T05:15:58.850212Z",
     "start_time": "2021-09-06T05:15:58.813262Z"
    }
   },
   "outputs": [
    {
     "ename": "TypeError",
     "evalue": "no numeric data to plot",
     "output_type": "error",
     "traceback": [
      "\u001b[1;31m---------------------------------------------------------------------------\u001b[0m",
      "\u001b[1;31mTypeError\u001b[0m                                 Traceback (most recent call last)",
      "\u001b[1;32m<ipython-input-274-971e59099afc>\u001b[0m in \u001b[0;36m<module>\u001b[1;34m\u001b[0m\n\u001b[0;32m      9\u001b[0m \u001b[0mdf_perfil\u001b[0m \u001b[1;33m=\u001b[0m \u001b[0mpd\u001b[0m\u001b[1;33m.\u001b[0m\u001b[0mDataFrame\u001b[0m\u001b[1;33m(\u001b[0m\u001b[0mcolumns\u001b[0m\u001b[1;33m=\u001b[0m\u001b[1;33m[\u001b[0m\u001b[1;34m\"age\"\u001b[0m\u001b[1;33m,\u001b[0m \u001b[1;34m\"monthlyincome\"\u001b[0m\u001b[1;33m,\u001b[0m \u001b[1;34m\"financialinvestmentvalue\"\u001b[0m\u001b[1;33m]\u001b[0m\u001b[1;33m)\u001b[0m\u001b[1;33m\u001b[0m\u001b[1;33m\u001b[0m\u001b[0m\n\u001b[0;32m     10\u001b[0m \u001b[1;33m\u001b[0m\u001b[0m\n\u001b[1;32m---> 11\u001b[1;33m \u001b[0max\u001b[0m \u001b[1;33m=\u001b[0m \u001b[0mdf_perfil\u001b[0m\u001b[1;33m.\u001b[0m\u001b[0mplot\u001b[0m\u001b[1;33m(\u001b[0m\u001b[0mx\u001b[0m\u001b[1;33m=\u001b[0m\u001b[1;34m\"age\"\u001b[0m\u001b[1;33m,\u001b[0m \u001b[0my\u001b[0m\u001b[1;33m=\u001b[0m\u001b[1;34m\"monthlyincome\"\u001b[0m\u001b[1;33m,\u001b[0m \u001b[0mkind\u001b[0m\u001b[1;33m=\u001b[0m\u001b[1;34m\"bar\"\u001b[0m\u001b[1;33m)\u001b[0m\u001b[1;33m\u001b[0m\u001b[1;33m\u001b[0m\u001b[0m\n\u001b[0m\u001b[0;32m     12\u001b[0m \u001b[0mdf\u001b[0m\u001b[1;33m.\u001b[0m\u001b[0mplot\u001b[0m\u001b[1;33m(\u001b[0m\u001b[0mx\u001b[0m\u001b[1;33m=\u001b[0m\u001b[1;34m\"age\"\u001b[0m\u001b[1;33m,\u001b[0m \u001b[0my\u001b[0m\u001b[1;33m=\u001b[0m\u001b[1;34m\"monthlyincome\"\u001b[0m\u001b[1;33m,\u001b[0m \u001b[0mkind\u001b[0m\u001b[1;33m=\u001b[0m\u001b[1;34m\"bar\"\u001b[0m\u001b[1;33m,\u001b[0m \u001b[0max\u001b[0m\u001b[1;33m=\u001b[0m\u001b[0max\u001b[0m\u001b[1;33m,\u001b[0m \u001b[0mcolor\u001b[0m\u001b[1;33m=\u001b[0m\u001b[1;34m\"C2\"\u001b[0m\u001b[1;33m)\u001b[0m\u001b[1;33m\u001b[0m\u001b[1;33m\u001b[0m\u001b[0m\n\u001b[0;32m     13\u001b[0m \u001b[0mdf\u001b[0m\u001b[1;33m.\u001b[0m\u001b[0mplot\u001b[0m\u001b[1;33m(\u001b[0m\u001b[0mx\u001b[0m\u001b[1;33m=\u001b[0m\u001b[1;34m\"age\"\u001b[0m\u001b[1;33m,\u001b[0m \u001b[0my\u001b[0m\u001b[1;33m=\u001b[0m\u001b[1;34m\"financialinvestmentvalue\"\u001b[0m\u001b[1;33m,\u001b[0m \u001b[0mkind\u001b[0m\u001b[1;33m=\u001b[0m\u001b[1;34m\"bar\"\u001b[0m\u001b[1;33m,\u001b[0m \u001b[0max\u001b[0m\u001b[1;33m=\u001b[0m\u001b[0max\u001b[0m\u001b[1;33m,\u001b[0m \u001b[0mcolor\u001b[0m\u001b[1;33m=\u001b[0m\u001b[1;34m\"C3\"\u001b[0m\u001b[1;33m)\u001b[0m\u001b[1;33m\u001b[0m\u001b[1;33m\u001b[0m\u001b[0m\n",
      "\u001b[1;32m~\\Anaconda3\\lib\\site-packages\\pandas\\plotting\\_core.py\u001b[0m in \u001b[0;36m__call__\u001b[1;34m(self, *args, **kwargs)\u001b[0m\n\u001b[0;32m    953\u001b[0m                     \u001b[0mdata\u001b[0m\u001b[1;33m.\u001b[0m\u001b[0mcolumns\u001b[0m \u001b[1;33m=\u001b[0m \u001b[0mlabel_name\u001b[0m\u001b[1;33m\u001b[0m\u001b[1;33m\u001b[0m\u001b[0m\n\u001b[0;32m    954\u001b[0m \u001b[1;33m\u001b[0m\u001b[0m\n\u001b[1;32m--> 955\u001b[1;33m         \u001b[1;32mreturn\u001b[0m \u001b[0mplot_backend\u001b[0m\u001b[1;33m.\u001b[0m\u001b[0mplot\u001b[0m\u001b[1;33m(\u001b[0m\u001b[0mdata\u001b[0m\u001b[1;33m,\u001b[0m \u001b[0mkind\u001b[0m\u001b[1;33m=\u001b[0m\u001b[0mkind\u001b[0m\u001b[1;33m,\u001b[0m \u001b[1;33m**\u001b[0m\u001b[0mkwargs\u001b[0m\u001b[1;33m)\u001b[0m\u001b[1;33m\u001b[0m\u001b[1;33m\u001b[0m\u001b[0m\n\u001b[0m\u001b[0;32m    956\u001b[0m \u001b[1;33m\u001b[0m\u001b[0m\n\u001b[0;32m    957\u001b[0m     \u001b[0m__call__\u001b[0m\u001b[1;33m.\u001b[0m\u001b[0m__doc__\u001b[0m \u001b[1;33m=\u001b[0m \u001b[0m__doc__\u001b[0m\u001b[1;33m\u001b[0m\u001b[1;33m\u001b[0m\u001b[0m\n",
      "\u001b[1;32m~\\Anaconda3\\lib\\site-packages\\pandas\\plotting\\_matplotlib\\__init__.py\u001b[0m in \u001b[0;36mplot\u001b[1;34m(data, kind, **kwargs)\u001b[0m\n\u001b[0;32m     59\u001b[0m             \u001b[0mkwargs\u001b[0m\u001b[1;33m[\u001b[0m\u001b[1;34m\"ax\"\u001b[0m\u001b[1;33m]\u001b[0m \u001b[1;33m=\u001b[0m \u001b[0mgetattr\u001b[0m\u001b[1;33m(\u001b[0m\u001b[0max\u001b[0m\u001b[1;33m,\u001b[0m \u001b[1;34m\"left_ax\"\u001b[0m\u001b[1;33m,\u001b[0m \u001b[0max\u001b[0m\u001b[1;33m)\u001b[0m\u001b[1;33m\u001b[0m\u001b[1;33m\u001b[0m\u001b[0m\n\u001b[0;32m     60\u001b[0m     \u001b[0mplot_obj\u001b[0m \u001b[1;33m=\u001b[0m \u001b[0mPLOT_CLASSES\u001b[0m\u001b[1;33m[\u001b[0m\u001b[0mkind\u001b[0m\u001b[1;33m]\u001b[0m\u001b[1;33m(\u001b[0m\u001b[0mdata\u001b[0m\u001b[1;33m,\u001b[0m \u001b[1;33m**\u001b[0m\u001b[0mkwargs\u001b[0m\u001b[1;33m)\u001b[0m\u001b[1;33m\u001b[0m\u001b[1;33m\u001b[0m\u001b[0m\n\u001b[1;32m---> 61\u001b[1;33m     \u001b[0mplot_obj\u001b[0m\u001b[1;33m.\u001b[0m\u001b[0mgenerate\u001b[0m\u001b[1;33m(\u001b[0m\u001b[1;33m)\u001b[0m\u001b[1;33m\u001b[0m\u001b[1;33m\u001b[0m\u001b[0m\n\u001b[0m\u001b[0;32m     62\u001b[0m     \u001b[0mplot_obj\u001b[0m\u001b[1;33m.\u001b[0m\u001b[0mdraw\u001b[0m\u001b[1;33m(\u001b[0m\u001b[1;33m)\u001b[0m\u001b[1;33m\u001b[0m\u001b[1;33m\u001b[0m\u001b[0m\n\u001b[0;32m     63\u001b[0m     \u001b[1;32mreturn\u001b[0m \u001b[0mplot_obj\u001b[0m\u001b[1;33m.\u001b[0m\u001b[0mresult\u001b[0m\u001b[1;33m\u001b[0m\u001b[1;33m\u001b[0m\u001b[0m\n",
      "\u001b[1;32m~\\Anaconda3\\lib\\site-packages\\pandas\\plotting\\_matplotlib\\core.py\u001b[0m in \u001b[0;36mgenerate\u001b[1;34m(self)\u001b[0m\n\u001b[0;32m    276\u001b[0m     \u001b[1;32mdef\u001b[0m \u001b[0mgenerate\u001b[0m\u001b[1;33m(\u001b[0m\u001b[0mself\u001b[0m\u001b[1;33m)\u001b[0m\u001b[1;33m:\u001b[0m\u001b[1;33m\u001b[0m\u001b[1;33m\u001b[0m\u001b[0m\n\u001b[0;32m    277\u001b[0m         \u001b[0mself\u001b[0m\u001b[1;33m.\u001b[0m\u001b[0m_args_adjust\u001b[0m\u001b[1;33m(\u001b[0m\u001b[1;33m)\u001b[0m\u001b[1;33m\u001b[0m\u001b[1;33m\u001b[0m\u001b[0m\n\u001b[1;32m--> 278\u001b[1;33m         \u001b[0mself\u001b[0m\u001b[1;33m.\u001b[0m\u001b[0m_compute_plot_data\u001b[0m\u001b[1;33m(\u001b[0m\u001b[1;33m)\u001b[0m\u001b[1;33m\u001b[0m\u001b[1;33m\u001b[0m\u001b[0m\n\u001b[0m\u001b[0;32m    279\u001b[0m         \u001b[0mself\u001b[0m\u001b[1;33m.\u001b[0m\u001b[0m_setup_subplots\u001b[0m\u001b[1;33m(\u001b[0m\u001b[1;33m)\u001b[0m\u001b[1;33m\u001b[0m\u001b[1;33m\u001b[0m\u001b[0m\n\u001b[0;32m    280\u001b[0m         \u001b[0mself\u001b[0m\u001b[1;33m.\u001b[0m\u001b[0m_make_plot\u001b[0m\u001b[1;33m(\u001b[0m\u001b[1;33m)\u001b[0m\u001b[1;33m\u001b[0m\u001b[1;33m\u001b[0m\u001b[0m\n",
      "\u001b[1;32m~\\Anaconda3\\lib\\site-packages\\pandas\\plotting\\_matplotlib\\core.py\u001b[0m in \u001b[0;36m_compute_plot_data\u001b[1;34m(self)\u001b[0m\n\u001b[0;32m    439\u001b[0m         \u001b[1;31m# no non-numeric frames or series allowed\u001b[0m\u001b[1;33m\u001b[0m\u001b[1;33m\u001b[0m\u001b[1;33m\u001b[0m\u001b[0m\n\u001b[0;32m    440\u001b[0m         \u001b[1;32mif\u001b[0m \u001b[0mis_empty\u001b[0m\u001b[1;33m:\u001b[0m\u001b[1;33m\u001b[0m\u001b[1;33m\u001b[0m\u001b[0m\n\u001b[1;32m--> 441\u001b[1;33m             \u001b[1;32mraise\u001b[0m \u001b[0mTypeError\u001b[0m\u001b[1;33m(\u001b[0m\u001b[1;34m\"no numeric data to plot\"\u001b[0m\u001b[1;33m)\u001b[0m\u001b[1;33m\u001b[0m\u001b[1;33m\u001b[0m\u001b[0m\n\u001b[0m\u001b[0;32m    442\u001b[0m \u001b[1;33m\u001b[0m\u001b[0m\n\u001b[0;32m    443\u001b[0m         \u001b[0mself\u001b[0m\u001b[1;33m.\u001b[0m\u001b[0mdata\u001b[0m \u001b[1;33m=\u001b[0m \u001b[0mnumeric_data\u001b[0m\u001b[1;33m.\u001b[0m\u001b[0mapply\u001b[0m\u001b[1;33m(\u001b[0m\u001b[0mself\u001b[0m\u001b[1;33m.\u001b[0m\u001b[0m_convert_to_ndarray\u001b[0m\u001b[1;33m)\u001b[0m\u001b[1;33m\u001b[0m\u001b[1;33m\u001b[0m\u001b[0m\n",
      "\u001b[1;31mTypeError\u001b[0m: no numeric data to plot"
     ]
    }
   ],
   "source": [
    "#['age']['monthlyincome']['financialinvestmentvalue']\n",
    "\n",
    "import pandas as pd\n",
    "import matplotlib.pyplot as plt\n",
    "import numpy as np\n",
    "\n",
    "'''y = np.random.rand(10,4)\n",
    "y[:,0]= np.arange(10)'''\n",
    "df_perfil = pd.DataFrame(columns=[\"age\", \"monthlyincome\", \"financialinvestmentvalue\"])\n",
    "\n",
    "ax = df_perfil.plot(x=\"age\", y=\"monthlyincome\", kind=\"bar\")\n",
    "df.plot(x=\"age\", y=\"monthlyincome\", kind=\"bar\", ax=ax, color=\"C2\")\n",
    "df.plot(x=\"age\", y=\"financialinvestmentvalue\", kind=\"bar\", ax=ax, color=\"C3\")\n",
    "\n",
    "plt.show()\n"
   ]
  },
  {
   "cell_type": "code",
   "execution_count": 208,
   "id": "979fd4d4",
   "metadata": {
    "ExecuteTime": {
     "end_time": "2021-09-06T04:20:04.314862Z",
     "start_time": "2021-09-06T04:20:04.276920Z"
    }
   },
   "outputs": [
    {
     "ename": "KeyError",
     "evalue": "'age'",
     "output_type": "error",
     "traceback": [
      "\u001b[1;31m---------------------------------------------------------------------------\u001b[0m",
      "\u001b[1;31mKeyError\u001b[0m                                  Traceback (most recent call last)",
      "\u001b[1;32m~\\Anaconda3\\lib\\site-packages\\pandas\\core\\indexes\\base.py\u001b[0m in \u001b[0;36mget_loc\u001b[1;34m(self, key, method, tolerance)\u001b[0m\n\u001b[0;32m   3079\u001b[0m             \u001b[1;32mtry\u001b[0m\u001b[1;33m:\u001b[0m\u001b[1;33m\u001b[0m\u001b[1;33m\u001b[0m\u001b[0m\n\u001b[1;32m-> 3080\u001b[1;33m                 \u001b[1;32mreturn\u001b[0m \u001b[0mself\u001b[0m\u001b[1;33m.\u001b[0m\u001b[0m_engine\u001b[0m\u001b[1;33m.\u001b[0m\u001b[0mget_loc\u001b[0m\u001b[1;33m(\u001b[0m\u001b[0mcasted_key\u001b[0m\u001b[1;33m)\u001b[0m\u001b[1;33m\u001b[0m\u001b[1;33m\u001b[0m\u001b[0m\n\u001b[0m\u001b[0;32m   3081\u001b[0m             \u001b[1;32mexcept\u001b[0m \u001b[0mKeyError\u001b[0m \u001b[1;32mas\u001b[0m \u001b[0merr\u001b[0m\u001b[1;33m:\u001b[0m\u001b[1;33m\u001b[0m\u001b[1;33m\u001b[0m\u001b[0m\n",
      "\u001b[1;32mpandas\\_libs\\index.pyx\u001b[0m in \u001b[0;36mpandas._libs.index.IndexEngine.get_loc\u001b[1;34m()\u001b[0m\n",
      "\u001b[1;32mpandas\\_libs\\index.pyx\u001b[0m in \u001b[0;36mpandas._libs.index.IndexEngine.get_loc\u001b[1;34m()\u001b[0m\n",
      "\u001b[1;32mpandas\\_libs\\hashtable_class_helper.pxi\u001b[0m in \u001b[0;36mpandas._libs.hashtable.PyObjectHashTable.get_item\u001b[1;34m()\u001b[0m\n",
      "\u001b[1;32mpandas\\_libs\\hashtable_class_helper.pxi\u001b[0m in \u001b[0;36mpandas._libs.hashtable.PyObjectHashTable.get_item\u001b[1;34m()\u001b[0m\n",
      "\u001b[1;31mKeyError\u001b[0m: 'age'",
      "\nThe above exception was the direct cause of the following exception:\n",
      "\u001b[1;31mKeyError\u001b[0m                                  Traceback (most recent call last)",
      "\u001b[1;32m<ipython-input-208-630fee232e80>\u001b[0m in \u001b[0;36m<module>\u001b[1;34m\u001b[0m\n\u001b[1;32m----> 1\u001b[1;33m \u001b[0mdf_client\u001b[0m\u001b[1;33m[\u001b[0m\u001b[1;34m'age'\u001b[0m\u001b[1;33m]\u001b[0m\u001b[1;33m.\u001b[0m\u001b[0mplot\u001b[0m\u001b[1;33m.\u001b[0m\u001b[0mhist\u001b[0m\u001b[1;33m(\u001b[0m\u001b[0mbins\u001b[0m \u001b[1;33m=\u001b[0m \u001b[1;36m20\u001b[0m\u001b[1;33m,\u001b[0m \u001b[0mtitle\u001b[0m \u001b[1;33m=\u001b[0m \u001b[1;34m'Purchases Quantity Distribution'\u001b[0m\u001b[1;33m)\u001b[0m\u001b[1;33m\u001b[0m\u001b[1;33m\u001b[0m\u001b[0m\n\u001b[0m",
      "\u001b[1;32m~\\Anaconda3\\lib\\site-packages\\pandas\\core\\frame.py\u001b[0m in \u001b[0;36m__getitem__\u001b[1;34m(self, key)\u001b[0m\n\u001b[0;32m   3022\u001b[0m             \u001b[1;32mif\u001b[0m \u001b[0mself\u001b[0m\u001b[1;33m.\u001b[0m\u001b[0mcolumns\u001b[0m\u001b[1;33m.\u001b[0m\u001b[0mnlevels\u001b[0m \u001b[1;33m>\u001b[0m \u001b[1;36m1\u001b[0m\u001b[1;33m:\u001b[0m\u001b[1;33m\u001b[0m\u001b[1;33m\u001b[0m\u001b[0m\n\u001b[0;32m   3023\u001b[0m                 \u001b[1;32mreturn\u001b[0m \u001b[0mself\u001b[0m\u001b[1;33m.\u001b[0m\u001b[0m_getitem_multilevel\u001b[0m\u001b[1;33m(\u001b[0m\u001b[0mkey\u001b[0m\u001b[1;33m)\u001b[0m\u001b[1;33m\u001b[0m\u001b[1;33m\u001b[0m\u001b[0m\n\u001b[1;32m-> 3024\u001b[1;33m             \u001b[0mindexer\u001b[0m \u001b[1;33m=\u001b[0m \u001b[0mself\u001b[0m\u001b[1;33m.\u001b[0m\u001b[0mcolumns\u001b[0m\u001b[1;33m.\u001b[0m\u001b[0mget_loc\u001b[0m\u001b[1;33m(\u001b[0m\u001b[0mkey\u001b[0m\u001b[1;33m)\u001b[0m\u001b[1;33m\u001b[0m\u001b[1;33m\u001b[0m\u001b[0m\n\u001b[0m\u001b[0;32m   3025\u001b[0m             \u001b[1;32mif\u001b[0m \u001b[0mis_integer\u001b[0m\u001b[1;33m(\u001b[0m\u001b[0mindexer\u001b[0m\u001b[1;33m)\u001b[0m\u001b[1;33m:\u001b[0m\u001b[1;33m\u001b[0m\u001b[1;33m\u001b[0m\u001b[0m\n\u001b[0;32m   3026\u001b[0m                 \u001b[0mindexer\u001b[0m \u001b[1;33m=\u001b[0m \u001b[1;33m[\u001b[0m\u001b[0mindexer\u001b[0m\u001b[1;33m]\u001b[0m\u001b[1;33m\u001b[0m\u001b[1;33m\u001b[0m\u001b[0m\n",
      "\u001b[1;32m~\\Anaconda3\\lib\\site-packages\\pandas\\core\\indexes\\base.py\u001b[0m in \u001b[0;36mget_loc\u001b[1;34m(self, key, method, tolerance)\u001b[0m\n\u001b[0;32m   3080\u001b[0m                 \u001b[1;32mreturn\u001b[0m \u001b[0mself\u001b[0m\u001b[1;33m.\u001b[0m\u001b[0m_engine\u001b[0m\u001b[1;33m.\u001b[0m\u001b[0mget_loc\u001b[0m\u001b[1;33m(\u001b[0m\u001b[0mcasted_key\u001b[0m\u001b[1;33m)\u001b[0m\u001b[1;33m\u001b[0m\u001b[1;33m\u001b[0m\u001b[0m\n\u001b[0;32m   3081\u001b[0m             \u001b[1;32mexcept\u001b[0m \u001b[0mKeyError\u001b[0m \u001b[1;32mas\u001b[0m \u001b[0merr\u001b[0m\u001b[1;33m:\u001b[0m\u001b[1;33m\u001b[0m\u001b[1;33m\u001b[0m\u001b[0m\n\u001b[1;32m-> 3082\u001b[1;33m                 \u001b[1;32mraise\u001b[0m \u001b[0mKeyError\u001b[0m\u001b[1;33m(\u001b[0m\u001b[0mkey\u001b[0m\u001b[1;33m)\u001b[0m \u001b[1;32mfrom\u001b[0m \u001b[0merr\u001b[0m\u001b[1;33m\u001b[0m\u001b[1;33m\u001b[0m\u001b[0m\n\u001b[0m\u001b[0;32m   3083\u001b[0m \u001b[1;33m\u001b[0m\u001b[0m\n\u001b[0;32m   3084\u001b[0m         \u001b[1;32mif\u001b[0m \u001b[0mtolerance\u001b[0m \u001b[1;32mis\u001b[0m \u001b[1;32mnot\u001b[0m \u001b[1;32mNone\u001b[0m\u001b[1;33m:\u001b[0m\u001b[1;33m\u001b[0m\u001b[1;33m\u001b[0m\u001b[0m\n",
      "\u001b[1;31mKeyError\u001b[0m: 'age'"
     ]
    }
   ],
   "source": [
    "df_client['age'].plot.hist(bins = 20, title = 'Purchases Quantity Distribution')"
   ]
  },
  {
   "cell_type": "code",
   "execution_count": null,
   "id": "f5d98bee",
   "metadata": {},
   "outputs": [],
   "source": [
    "#create reference table of item code and its description\n",
    "unique_indexes = data.StockCode.drop_duplicates().index\n",
    "data[['StockCode','Description']].loc[unique_indexes]\n",
    "ref_stock_desc = data[['StockCode','Description']].loc[unique_indexes] #the ref table\n",
    "ref_stock_desc.index = range(len(ref_stock_desc)) #make index as 0,1,...\n",
    "\n",
    "#sum groupby StockCode\n",
    "df_saída = data[['StockCode','Quantity']].groupby('StockCode').sum()\n",
    "df_quant_sold.reset_index(inplace = True)\n",
    "#order descending\n",
    "df_quant_sold.sort_values(by = ['Quantity'], ascending = False, inplace = True)\n",
    "#merge\n",
    "df_quant_sold = df_quant_sold.merge(ref_stock_desc, on = 'StockCode')"
   ]
  }
 ],
 "metadata": {
  "hide_input": false,
  "kernelspec": {
   "display_name": "Python 3",
   "language": "python",
   "name": "python3"
  },
  "language_info": {
   "codemirror_mode": {
    "name": "ipython",
    "version": 3
   },
   "file_extension": ".py",
   "mimetype": "text/x-python",
   "name": "python",
   "nbconvert_exporter": "python",
   "pygments_lexer": "ipython3",
   "version": "3.8.8"
  },
  "toc": {
   "base_numbering": 1,
   "nav_menu": {},
   "number_sections": true,
   "sideBar": true,
   "skip_h1_title": false,
   "title_cell": "Table of Contents",
   "title_sidebar": "Contents",
   "toc_cell": false,
   "toc_position": {},
   "toc_section_display": true,
   "toc_window_display": false
  },
  "varInspector": {
   "cols": {
    "lenName": 16,
    "lenType": 16,
    "lenVar": 40
   },
   "kernels_config": {
    "python": {
     "delete_cmd_postfix": "",
     "delete_cmd_prefix": "del ",
     "library": "var_list.py",
     "varRefreshCmd": "print(var_dic_list())"
    },
    "r": {
     "delete_cmd_postfix": ") ",
     "delete_cmd_prefix": "rm(",
     "library": "var_list.r",
     "varRefreshCmd": "cat(var_dic_list()) "
    }
   },
   "types_to_exclude": [
    "module",
    "function",
    "builtin_function_or_method",
    "instance",
    "_Feature"
   ],
   "window_display": false
  }
 },
 "nbformat": 4,
 "nbformat_minor": 5
}
